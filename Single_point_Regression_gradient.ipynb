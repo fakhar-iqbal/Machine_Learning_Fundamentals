{
  "nbformat": 4,
  "nbformat_minor": 0,
  "metadata": {
    "colab": {
      "provenance": [],
      "authorship_tag": "ABX9TyNE5dpd4en+dK04yn1Q6Z/1",
      "include_colab_link": true
    },
    "kernelspec": {
      "name": "python3",
      "display_name": "Python 3"
    },
    "language_info": {
      "name": "python"
    }
  },
  "cells": [
    {
      "cell_type": "markdown",
      "metadata": {
        "id": "view-in-github",
        "colab_type": "text"
      },
      "source": [
        "<a href=\"https://colab.research.google.com/github/fakhar-iqbal/Machine_Learning_Fundamentals/blob/main/Single_point_Regression_gradient.ipynb\" target=\"_parent\"><img src=\"https://colab.research.google.com/assets/colab-badge.svg\" alt=\"Open In Colab\"/></a>"
      ]
    },
    {
      "cell_type": "markdown",
      "source": [
        "#**Gradient of single point regression**"
      ],
      "metadata": {
        "id": "9ofa-qtpMF0Y"
      }
    },
    {
      "cell_type": "markdown",
      "source": [
        "## in this notebook, we calcuate the gradient of quadratic cost with respect to  straight line regression model's parameters."
      ],
      "metadata": {
        "id": "GNuNIyyKMSGk"
      }
    },
    {
      "cell_type": "code",
      "execution_count": 1,
      "metadata": {
        "id": "IvUJVdYqKgVm"
      },
      "outputs": [],
      "source": [
        "import torch"
      ]
    },
    {
      "cell_type": "code",
      "source": [
        "xs = torch.tensor([0,1,2,3,4,5,6,7.])\n",
        "ys  = torch.tensor([1.86,1.31,0.62,.33,.09,-.67,-1.23,-1.37])"
      ],
      "metadata": {
        "id": "TjAozzeLMjLr"
      },
      "execution_count": 2,
      "outputs": []
    },
    {
      "cell_type": "markdown",
      "source": [
        "##The slope of line is y= mx+ b"
      ],
      "metadata": {
        "id": "z6jmqzNLNCC9"
      }
    },
    {
      "cell_type": "code",
      "source": [
        "def regression(x,m,b):\n",
        "  return m*x + b"
      ],
      "metadata": {
        "id": "gR4edX14Mzj4"
      },
      "execution_count": 3,
      "outputs": []
    },
    {
      "cell_type": "code",
      "source": [
        "m = torch.tensor([0.9]).requires_grad_()\n",
        "b  = torch.tensor([0.1]).requires_grad_()"
      ],
      "metadata": {
        "id": "pHIbCYPTNK77"
      },
      "execution_count": 4,
      "outputs": []
    },
    {
      "cell_type": "markdown",
      "source": [
        "## to keep partial deriv as simple as possibke, we will go with single instance i in data points"
      ],
      "metadata": {
        "id": "6KhfGnPRN0Wu"
      }
    },
    {
      "cell_type": "code",
      "source": [
        "i=7\n",
        "x = xs[i]\n",
        "y = ys[i]"
      ],
      "metadata": {
        "id": "mPFhS6S7NgOg"
      },
      "execution_count": 5,
      "outputs": []
    },
    {
      "cell_type": "code",
      "source": [
        "x,y"
      ],
      "metadata": {
        "colab": {
          "base_uri": "https://localhost:8080/"
        },
        "id": "JdT94rFRN-oW",
        "outputId": "2185c3a9-4afa-4ad0-fa49-6bf27b50a445"
      },
      "execution_count": 6,
      "outputs": [
        {
          "output_type": "execute_result",
          "data": {
            "text/plain": [
              "(tensor(7.), tensor(-1.3700))"
            ]
          },
          "metadata": {},
          "execution_count": 6
        }
      ]
    },
    {
      "cell_type": "markdown",
      "source": [
        "##**Step1: forward pass**"
      ],
      "metadata": {
        "id": "ZaJggQ0bOMnn"
      }
    },
    {
      "cell_type": "code",
      "source": [
        "yhat = regression(x,m,b)\n",
        "yhat"
      ],
      "metadata": {
        "colab": {
          "base_uri": "https://localhost:8080/"
        },
        "id": "84pnGm2VOAbh",
        "outputId": "0b8a9dc8-23bd-4d22-a34a-a4a892ccca5a"
      },
      "execution_count": 7,
      "outputs": [
        {
          "output_type": "execute_result",
          "data": {
            "text/plain": [
              "tensor([6.4000], grad_fn=<AddBackward0>)"
            ]
          },
          "metadata": {},
          "execution_count": 7
        }
      ]
    },
    {
      "cell_type": "markdown",
      "source": [
        "##**Step2: comparing the cost**"
      ],
      "metadata": {
        "id": "9WqBz7kyP-_g"
      }
    },
    {
      "cell_type": "code",
      "source": [
        "def squared_error(yhat,y):\n",
        "  return (yhat-y)**2"
      ],
      "metadata": {
        "id": "kR-nFuV6OTZo"
      },
      "execution_count": 8,
      "outputs": []
    },
    {
      "cell_type": "code",
      "source": [
        "C = squared_error(yhat,y)\n",
        "C"
      ],
      "metadata": {
        "colab": {
          "base_uri": "https://localhost:8080/"
        },
        "id": "w7Rtrf9jQRpc",
        "outputId": "bed5ddbd-654b-4e02-d8ec-c9f2a42d06de"
      },
      "execution_count": 11,
      "outputs": [
        {
          "output_type": "execute_result",
          "data": {
            "text/plain": [
              "tensor([60.3729], grad_fn=<PowBackward0>)"
            ]
          },
          "metadata": {},
          "execution_count": 11
        }
      ]
    },
    {
      "cell_type": "markdown",
      "source": [
        "##**Step3: Autodiff to calc gradient of C wrt params**"
      ],
      "metadata": {
        "id": "Pc8rVxPoQufT"
      }
    },
    {
      "cell_type": "code",
      "source": [
        "C.backward()"
      ],
      "metadata": {
        "id": "IRIOc9MCQXl0"
      },
      "execution_count": 12,
      "outputs": []
    },
    {
      "cell_type": "code",
      "source": [
        "m.grad"
      ],
      "metadata": {
        "colab": {
          "base_uri": "https://localhost:8080/"
        },
        "id": "8saXA8RlQ3Ar",
        "outputId": "2cec178d-d1ca-4534-fd26-2bf01eb16197"
      },
      "execution_count": 13,
      "outputs": [
        {
          "output_type": "execute_result",
          "data": {
            "text/plain": [
              "tensor([108.7800])"
            ]
          },
          "metadata": {},
          "execution_count": 13
        }
      ]
    },
    {
      "cell_type": "code",
      "source": [
        "b.grad"
      ],
      "metadata": {
        "colab": {
          "base_uri": "https://localhost:8080/"
        },
        "id": "Hu5qoXDNQ9Kh",
        "outputId": "59856572-f121-424a-9228-2f032b7c836c"
      },
      "execution_count": 14,
      "outputs": [
        {
          "output_type": "execute_result",
          "data": {
            "text/plain": [
              "tensor([15.5400])"
            ]
          },
          "metadata": {},
          "execution_count": 14
        }
      ]
    },
    {
      "cell_type": "markdown",
      "source": [
        "$$ \\frac{\\partial C}{\\partial m} = 2x(\\hat{y} - y) $$"
      ],
      "metadata": {
        "id": "yVejPlDvT8T0"
      }
    },
    {
      "cell_type": "code",
      "source": [
        "2 * x * (yhat-y)"
      ],
      "metadata": {
        "colab": {
          "base_uri": "https://localhost:8080/"
        },
        "id": "sQX1pEeJQ9tk",
        "outputId": "0ee30564-46af-411e-ed6e-a8b85ea785f2"
      },
      "execution_count": 15,
      "outputs": [
        {
          "output_type": "execute_result",
          "data": {
            "text/plain": [
              "tensor([108.7800], grad_fn=<MulBackward0>)"
            ]
          },
          "metadata": {},
          "execution_count": 15
        }
      ]
    },
    {
      "cell_type": "markdown",
      "source": [
        "$$ \\frac{\\partial C}{\\partial b} = 2(\\hat{y}-y) $$"
      ],
      "metadata": {
        "id": "1a86l8OpULl-"
      }
    },
    {
      "cell_type": "code",
      "source": [
        "2 * (yhat-y)"
      ],
      "metadata": {
        "colab": {
          "base_uri": "https://localhost:8080/"
        },
        "id": "pMGyipGiUKJZ",
        "outputId": "1c7b78ab-e3ba-41d7-90dd-4331a8d17421"
      },
      "execution_count": 16,
      "outputs": [
        {
          "output_type": "execute_result",
          "data": {
            "text/plain": [
              "tensor([15.5400], grad_fn=<MulBackward0>)"
            ]
          },
          "metadata": {},
          "execution_count": 16
        }
      ]
    },
    {
      "cell_type": "markdown",
      "source": [
        "### The Gradient of Cost, $\\nabla C$"
      ],
      "metadata": {
        "id": "LnkyyctbUpuB"
      }
    },
    {
      "cell_type": "markdown",
      "source": [
        "The gradient of cost, which is symbolized $\\nabla C$ (pronounced \"nabla C\"), is a vector of all the partial derivatives of $C$ with respect to each of the individual model parameters:"
      ],
      "metadata": {
        "id": "8xD-BaA_Uq7A"
      }
    },
    {
      "cell_type": "markdown",
      "source": [
        "$\\nabla C = \\nabla_p C = \\left[ \\frac{\\partial{C}}{\\partial{p_1}}, \\frac{\\partial{C}}{\\partial{p_2}}, \\cdots, \\frac{\\partial{C}}{\\partial{p_n}} \\right]^T $"
      ],
      "metadata": {
        "id": "y9fO-4ooUvNe"
      }
    },
    {
      "cell_type": "markdown",
      "source": [
        "\\In this case, there are only two parameters, $b$ and $m$:"
      ],
      "metadata": {
        "id": "TAfg-NspU8rw"
      }
    },
    {
      "cell_type": "markdown",
      "source": [
        "$\\nabla C = \\left[ \\frac{\\partial{C}}{\\partial{b}}, \\frac{\\partial{C}}{\\partial{m}} \\right]^T $"
      ],
      "metadata": {
        "id": "pmgOBCnwU8m6"
      }
    },
    {
      "cell_type": "code",
      "source": [
        "gradient = torch.tensor([[b.grad.item(),m.grad.item()]]).T"
      ],
      "metadata": {
        "id": "Om4qHz65URLw"
      },
      "execution_count": 17,
      "outputs": []
    },
    {
      "cell_type": "code",
      "source": [
        "gradient"
      ],
      "metadata": {
        "colab": {
          "base_uri": "https://localhost:8080/"
        },
        "id": "tsILW1AtWHTN",
        "outputId": "b68e0690-581d-461a-94f9-91f1bcd3d8bd"
      },
      "execution_count": 18,
      "outputs": [
        {
          "output_type": "execute_result",
          "data": {
            "text/plain": [
              "tensor([[ 15.5400],\n",
              "        [108.7800]])"
            ]
          },
          "metadata": {},
          "execution_count": 18
        }
      ]
    },
    {
      "cell_type": "code",
      "source": [],
      "metadata": {
        "id": "mzrXnrhIWIhZ"
      },
      "execution_count": null,
      "outputs": []
    }
  ]
}