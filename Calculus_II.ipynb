{
  "nbformat": 4,
  "nbformat_minor": 0,
  "metadata": {
    "colab": {
      "provenance": [],
      "authorship_tag": "ABX9TyPRzEwXbaNv2qMmLZBBXoqq",
      "include_colab_link": true
    },
    "kernelspec": {
      "name": "python3",
      "display_name": "Python 3"
    },
    "language_info": {
      "name": "python"
    }
  },
  "cells": [
    {
      "cell_type": "markdown",
      "metadata": {
        "id": "view-in-github",
        "colab_type": "text"
      },
      "source": [
        "<a href=\"https://colab.research.google.com/github/fakhar-iqbal/Machine_Learning_Fundamentals/blob/main/Calculus_II.ipynb\" target=\"_parent\"><img src=\"https://colab.research.google.com/assets/colab-badge.svg\" alt=\"Open In Colab\"/></a>"
      ]
    },
    {
      "cell_type": "markdown",
      "source": [
        "#**Partial Derivatives and Integrals**"
      ],
      "metadata": {
        "id": "Rwu_RZz0FgI1"
      }
    },
    {
      "cell_type": "markdown",
      "source": [
        "#**Gradients applied to Machine Learning**"
      ],
      "metadata": {
        "id": "NytQKIjGF1v2"
      }
    },
    {
      "cell_type": "code",
      "execution_count": null,
      "metadata": {
        "id": "mJtrfWlTFbmL"
      },
      "outputs": [],
      "source": [
        "import numpy as np\n",
        "import matplotlib.pyplot as plt\n",
        "import torch\n",
        "import math"
      ]
    },
    {
      "cell_type": "markdown",
      "source": [
        "#Partial Derivatives of Multivariate Functions"
      ],
      "metadata": {
        "id": "JWcIzvM9GH22"
      }
    },
    {
      "cell_type": "markdown",
      "source": [
        "Define a function $f(x, y)$ for $z = x^2 - y^2$:"
      ],
      "metadata": {
        "id": "MSRIWcAZGoRK"
      }
    },
    {
      "cell_type": "code",
      "source": [
        "def f(mx,my):\n",
        "  return mx**2 - my**2"
      ],
      "metadata": {
        "id": "RSI_eWPuGE4q"
      },
      "execution_count": null,
      "outputs": []
    },
    {
      "cell_type": "markdown",
      "source": [
        "In order to plot Z with varying x"
      ],
      "metadata": {
        "id": "bZqWjwA-GycE"
      }
    },
    {
      "cell_type": "code",
      "source": [
        "xs =  np.linspace(-3,3,1000)"
      ],
      "metadata": {
        "id": "_9aCjMaHGubB"
      },
      "execution_count": null,
      "outputs": []
    },
    {
      "cell_type": "markdown",
      "source": [
        "while holding y as contant"
      ],
      "metadata": {
        "id": "ATtV6VuUG6nc"
      }
    },
    {
      "cell_type": "code",
      "source": [
        "zx = f(xs,0)\n"
      ],
      "metadata": {
        "id": "n5ISJW_rG4R3"
      },
      "execution_count": null,
      "outputs": []
    },
    {
      "cell_type": "code",
      "source": [
        "fig,ax = plt.subplots()\n",
        "plt.axvline(x=0,color='lightgray')\n",
        "plt.axhline(y=0,color='lightgray')\n",
        "\n",
        "plt.xlabel('x')\n",
        "plt.ylabel('z')\n",
        "\n",
        "_ = ax.plot(xs,zx)"
      ],
      "metadata": {
        "colab": {
          "base_uri": "https://localhost:8080/",
          "height": 449
        },
        "id": "-eNunA7tG_qx",
        "outputId": "4fb8ee51-3e1f-440b-9fe5-89c4c6e20ac0"
      },
      "execution_count": null,
      "outputs": [
        {
          "output_type": "display_data",
          "data": {
            "text/plain": [
              "<Figure size 640x480 with 1 Axes>"
            ],
            "image/png": "[encoded data removed]"
          },
          "metadata": {}
        }
      ]
    },
    {
      "cell_type": "markdown",
      "source": [
        "To determine the slope of z wrt x, at a given point, we can use partial derivative. $$ \\frac{\\partial z}{\\partial x} = 2x$$"
      ],
      "metadata": {
        "id": "rP91TwusLsin"
      }
    },
    {
      "cell_type": "code",
      "source": [
        "def delz_delx(mx,my):\n",
        "  return 2 *mx"
      ],
      "metadata": {
        "id": "HZYj6IpwHglW"
      },
      "execution_count": null,
      "outputs": []
    },
    {
      "cell_type": "code",
      "source": [
        "x_samples = [-2,-1,0,1,2]\n"
      ],
      "metadata": {
        "id": "OcPJHQKkL-_M"
      },
      "execution_count": null,
      "outputs": []
    },
    {
      "cell_type": "code",
      "source": [
        "colors = ['red','green','orange','blue','yellow']\n"
      ],
      "metadata": {
        "id": "4ImOhbDTMDjf"
      },
      "execution_count": null,
      "outputs": []
    },
    {
      "cell_type": "code",
      "source": [
        "def points_and_tangents_wrt_x(myxs,mx, myy, fz, fprime, col):\n",
        "  mz = fz(mx,myy)\n",
        "  plt.scatter(mx,mz,c=col,zorder=3)\n",
        "\n",
        "  tangent_m = fprime(mx,myy)   #slope is partial derivtive of f(x,y)\n",
        "  tangent_b = mz - tangent_m*mx   ## Line is z = mx+b, so b = z-mx\n",
        "\n",
        "  tang_line = tangent_m * myxs + tangent_b\n",
        "\n",
        "  plt.plot(myxs,tang_line,c=col,linestyle='dashed',linewidth=0.7,zorder=3)"
      ],
      "metadata": {
        "id": "zC-ROxPBMVkO"
      },
      "execution_count": null,
      "outputs": []
    },
    {
      "cell_type": "code",
      "source": [
        "\n",
        "fig,ax = plt.subplots()\n",
        "\n",
        "plt.axvline(x=0,color='lightgray')\n",
        "plt.axhline(y=0,color='lightgray')\n",
        "\n",
        "for i,x in enumerate(x_samples):\n",
        "  points_and_tangents_wrt_x(xs,x,0,f,delz_delx,colors[i])\n",
        "\n",
        "plt.ylim(-1,9)\n",
        "plt.xlabel('x')\n",
        "plt.ylabel('z',rotation=0)\n",
        "\n",
        "_ = ax.plot(xs,zx)"
      ],
      "metadata": {
        "colab": {
          "base_uri": "https://localhost:8080/",
          "height": 449
        },
        "id": "z8Vjz9tEObVw",
        "outputId": "c97f39aa-3cd3-428d-d7cd-e148b7eadb3d"
      },
      "execution_count": null,
      "outputs": [
        {
          "output_type": "display_data",
          "data": {
            "text/plain": [
              "<Figure size 640x480 with 1 Axes>"
            ],
            "image/png": "[encoded data removed]"
          },
          "metadata": {}
        }
      ]
    },
    {
      "cell_type": "markdown",
      "source": [
        "##This graph shows that the slope of z is twice as x"
      ],
      "metadata": {
        "id": "dUHmk6Q2WO86"
      }
    },
    {
      "cell_type": "markdown",
      "source": [
        "##Now lets plot z wrt y"
      ],
      "metadata": {
        "id": "4e8PlZTnXFzH"
      }
    },
    {
      "cell_type": "code",
      "source": [
        "ys = np.linspace(-3,3,1000)"
      ],
      "metadata": {
        "id": "mAYZqF1zUKc9"
      },
      "execution_count": null,
      "outputs": []
    },
    {
      "cell_type": "code",
      "source": [
        "y_samples= [-2,-1,0,1,2]"
      ],
      "metadata": {
        "id": "zX3aVMydXLx3"
      },
      "execution_count": null,
      "outputs": []
    },
    {
      "cell_type": "code",
      "source": [
        "def f(myx,myy):\n",
        "  return myx**2 - myy**2"
      ],
      "metadata": {
        "id": "YnbzqGshXQMy"
      },
      "execution_count": null,
      "outputs": []
    },
    {
      "cell_type": "code",
      "source": [
        "def delz_dely(mx,my):\n",
        "  return -2 *my\n"
      ],
      "metadata": {
        "id": "TNX2emMVXUt3"
      },
      "execution_count": null,
      "outputs": []
    },
    {
      "cell_type": "code",
      "source": [
        "zy = f(2,ys)"
      ],
      "metadata": {
        "id": "8j-Rb3FIXndh"
      },
      "execution_count": null,
      "outputs": []
    },
    {
      "cell_type": "code",
      "source": [
        "fig,ax = plt.subplots()\n",
        "\n",
        "plt.axvline(x=0,color='lightgray')\n",
        "plt.axhline(y=0,color='lightgray')\n",
        "\n",
        "plt.xlabel('y')\n",
        "plt.ylabel('z')\n",
        "\n",
        "_ = ax.plot(ys,zy)"
      ],
      "metadata": {
        "colab": {
          "base_uri": "https://localhost:8080/",
          "height": 449
        },
        "id": "GXUnMb-0Xr1Y",
        "outputId": "139d18f6-0dd8-445c-e2b4-b708f43593f1"
      },
      "execution_count": null,
      "outputs": [
        {
          "output_type": "display_data",
          "data": {
            "text/plain": [
              "<Figure size 640x480 with 1 Axes>"
            ],
            "image/png": "[encoded data removed]"
          },
          "metadata": {}
        }
      ]
    },
    {
      "cell_type": "code",
      "source": [
        "def points_tang_wrt_y(my_ys,mx,my,f,fprime,col):\n",
        "  mz = f(mx,my)\n",
        "  plt.scatter(my,mz,c=col,zorder=3)\n",
        "\n",
        "  tangent_m = fprime(mx,my)\n",
        "  tangent_b = mz - tangent_m*my\n",
        "  tang_line = tangent_m * my_ys + tangent_b\n",
        "\n",
        "  plt.plot(my_ys,tang_line,c=col,linestyle='dashed',linewidth=0.7,zorder=3)"
      ],
      "metadata": {
        "id": "XnWE20RVYEMM"
      },
      "execution_count": null,
      "outputs": []
    },
    {
      "cell_type": "code",
      "source": [
        "fig,ax = plt.subplots()\n",
        "plt.axvline(x=0,color='lightgray')\n",
        "plt.axhline(y=0,color='lightgray')\n",
        "\n",
        "for i,y in enumerate(y_samples):\n",
        "  points_tang_wrt_y(ys,2,y,f,delz_dely,colors[i])\n",
        "\n",
        "plt.ylim(-5,5)\n",
        "plt.xlabel('y')\n",
        "plt.ylabel('z',rotation=0)\n",
        "_ = ax.plot(ys,zy)"
      ],
      "metadata": {
        "colab": {
          "base_uri": "https://localhost:8080/",
          "height": 449
        },
        "id": "euav6uAXZi3v",
        "outputId": "b1a899ac-e7cf-46ec-dc35-7372eca71242"
      },
      "execution_count": null,
      "outputs": [
        {
          "output_type": "display_data",
          "data": {
            "text/plain": [
              "<Figure size 640x480 with 1 Axes>"
            ],
            "image/png": "[encoded data removed]"
          },
          "metadata": {}
        }
      ]
    },
    {
      "cell_type": "markdown",
      "source": [
        "##Using autodiff for calculating partial derivatives"
      ],
      "metadata": {
        "id": "EJXe3Vc6YjIQ"
      }
    },
    {
      "cell_type": "code",
      "source": [
        "x = torch.tensor(4.).requires_grad_()\n",
        "x"
      ],
      "metadata": {
        "id": "wjDS_uXtaT5w",
        "colab": {
          "base_uri": "https://localhost:8080/"
        },
        "outputId": "378b972a-8da1-4613-bd60-79608907909d"
      },
      "execution_count": null,
      "outputs": [
        {
          "output_type": "execute_result",
          "data": {
            "text/plain": [
              "tensor(4., requires_grad=True)"
            ]
          },
          "metadata": {},
          "execution_count": 41
        }
      ]
    },
    {
      "cell_type": "code",
      "source": [
        "y = torch.tensor(6.).requires_grad_()\n",
        "y"
      ],
      "metadata": {
        "colab": {
          "base_uri": "https://localhost:8080/"
        },
        "id": "q1y2lNh1bKMJ",
        "outputId": "8b3dd89f-83a3-4257-80a8-12e2a1c2b143"
      },
      "execution_count": null,
      "outputs": [
        {
          "output_type": "execute_result",
          "data": {
            "text/plain": [
              "tensor(6., requires_grad=True)"
            ]
          },
          "metadata": {},
          "execution_count": 42
        }
      ]
    },
    {
      "cell_type": "code",
      "source": [
        "z = f(x,y)\n",
        "z"
      ],
      "metadata": {
        "colab": {
          "base_uri": "https://localhost:8080/"
        },
        "id": "zqm6baD7bNPT",
        "outputId": "76b6b3fa-4fb6-4aae-d422-bd1a42d3285e"
      },
      "execution_count": null,
      "outputs": [
        {
          "output_type": "execute_result",
          "data": {
            "text/plain": [
              "tensor(-20., grad_fn=<SubBackward0>)"
            ]
          },
          "metadata": {},
          "execution_count": 43
        }
      ]
    },
    {
      "cell_type": "code",
      "source": [
        "z.backward()   ##autodiff"
      ],
      "metadata": {
        "id": "7a3II-8tbRtL"
      },
      "execution_count": null,
      "outputs": []
    },
    {
      "cell_type": "code",
      "source": [
        "x.grad"
      ],
      "metadata": {
        "colab": {
          "base_uri": "https://localhost:8080/"
        },
        "id": "ac98VZXUbV0c",
        "outputId": "d8faa93b-6720-44fc-acfd-506d68ca4cf0"
      },
      "execution_count": null,
      "outputs": [
        {
          "output_type": "execute_result",
          "data": {
            "text/plain": [
              "tensor(8.)"
            ]
          },
          "metadata": {},
          "execution_count": 45
        }
      ]
    },
    {
      "cell_type": "code",
      "source": [
        "y.grad"
      ],
      "metadata": {
        "colab": {
          "base_uri": "https://localhost:8080/"
        },
        "id": "yC0OU9vObb8H",
        "outputId": "f2ca3304-ff95-45f5-a8a4-b15e7f7ac918"
      },
      "execution_count": null,
      "outputs": [
        {
          "output_type": "execute_result",
          "data": {
            "text/plain": [
              "tensor(-12.)"
            ]
          },
          "metadata": {},
          "execution_count": 46
        }
      ]
    },
    {
      "cell_type": "code",
      "source": [
        "(f(4.0,6.000001) - f(4,6))/0.000001"
      ],
      "metadata": {
        "colab": {
          "base_uri": "https://localhost:8080/"
        },
        "id": "hkUDiAFqH4Z5",
        "outputId": "90089c01-04b6-4804-deb6-713fbf0af2c5"
      },
      "execution_count": null,
      "outputs": [
        {
          "output_type": "execute_result",
          "data": {
            "text/plain": [
              "-12.00000099998988"
            ]
          },
          "metadata": {},
          "execution_count": 50
        }
      ]
    },
    {
      "cell_type": "markdown",
      "source": [
        "#**Partial Derivatives of a Cylinder's VOlume**"
      ],
      "metadata": {
        "id": "njE4F0yqdKDo"
      }
    },
    {
      "cell_type": "code",
      "source": [
        "def vol(r,l):\n",
        "  return math.pi * r**2 * l"
      ],
      "metadata": {
        "id": "VAxjkvW1bcyc"
      },
      "execution_count": null,
      "outputs": []
    },
    {
      "cell_type": "code",
      "source": [
        "#lets say radius is 3\n",
        "r = torch.tensor(3.).requires_grad_()\n",
        "r"
      ],
      "metadata": {
        "colab": {
          "base_uri": "https://localhost:8080/"
        },
        "id": "BX_eo92udVib",
        "outputId": "880517c2-8a6d-47db-f245-e39b2cd2279d"
      },
      "execution_count": null,
      "outputs": [
        {
          "output_type": "execute_result",
          "data": {
            "text/plain": [
              "tensor(3., requires_grad=True)"
            ]
          },
          "metadata": {},
          "execution_count": 26
        }
      ]
    },
    {
      "cell_type": "code",
      "source": [
        "## lets say length l is 5 m\n",
        "l = torch.tensor(5.).requires_grad_()\n",
        "l"
      ],
      "metadata": {
        "colab": {
          "base_uri": "https://localhost:8080/"
        },
        "id": "nLaO2MQ1dcHb",
        "outputId": "670e3e95-5ce0-4f89-831d-41f5f7fa9e45"
      },
      "execution_count": null,
      "outputs": [
        {
          "output_type": "execute_result",
          "data": {
            "text/plain": [
              "tensor(5., requires_grad=True)"
            ]
          },
          "metadata": {},
          "execution_count": 27
        }
      ]
    },
    {
      "cell_type": "code",
      "source": [
        "v = vol(r,l)\n",
        "v"
      ],
      "metadata": {
        "colab": {
          "base_uri": "https://localhost:8080/"
        },
        "id": "1w7lJZNPdi9B",
        "outputId": "50ad2384-8b09-445c-ba9c-eb5ea8db2083"
      },
      "execution_count": null,
      "outputs": [
        {
          "output_type": "execute_result",
          "data": {
            "text/plain": [
              "tensor(141.3717, grad_fn=<MulBackward0>)"
            ]
          },
          "metadata": {},
          "execution_count": 28
        }
      ]
    },
    {
      "cell_type": "code",
      "source": [
        "v.backward()  #calculating partial derivatives with autodiff"
      ],
      "metadata": {
        "id": "QGe75CQ7dp4a"
      },
      "execution_count": null,
      "outputs": []
    },
    {
      "cell_type": "markdown",
      "source": [
        "$$\\frac{\\partial v}{\\partial l} = \\pi r^2$$"
      ],
      "metadata": {
        "id": "RLTvtO0keQCb"
      }
    },
    {
      "cell_type": "code",
      "source": [
        "l.grad  ##this is actually partial derivative of l wrt v."
      ],
      "metadata": {
        "colab": {
          "base_uri": "https://localhost:8080/"
        },
        "id": "P3TrW2gidwhh",
        "outputId": "3c18f6ff-c520-4bc8-d1ae-595d83bbbd9c"
      },
      "execution_count": null,
      "outputs": [
        {
          "output_type": "execute_result",
          "data": {
            "text/plain": [
              "tensor(28.2743)"
            ]
          },
          "metadata": {},
          "execution_count": 30
        }
      ]
    },
    {
      "cell_type": "code",
      "source": [
        "math.pi * r**2"
      ],
      "metadata": {
        "colab": {
          "base_uri": "https://localhost:8080/"
        },
        "id": "xRSfbJzAdxM_",
        "outputId": "005144f5-7a77-421f-b459-71803c1d82c1"
      },
      "execution_count": null,
      "outputs": [
        {
          "output_type": "execute_result",
          "data": {
            "text/plain": [
              "tensor(28.2743, grad_fn=<MulBackward0>)"
            ]
          },
          "metadata": {},
          "execution_count": 31
        }
      ]
    },
    {
      "cell_type": "code",
      "source": [
        "r.grad"
      ],
      "metadata": {
        "colab": {
          "base_uri": "https://localhost:8080/"
        },
        "id": "VS9lz_KheW7y",
        "outputId": "cc0d0f97-212e-40b1-d718-99e988a07966"
      },
      "execution_count": null,
      "outputs": [
        {
          "output_type": "execute_result",
          "data": {
            "text/plain": [
              "tensor(94.2478)"
            ]
          },
          "metadata": {},
          "execution_count": 32
        }
      ]
    },
    {
      "cell_type": "code",
      "source": [
        "2 * math.pi *l*r"
      ],
      "metadata": {
        "colab": {
          "base_uri": "https://localhost:8080/"
        },
        "id": "ko5-Bku3ezRu",
        "outputId": "e9ec87a6-c012-4f4f-9fd9-d0151b6cab8f"
      },
      "execution_count": null,
      "outputs": [
        {
          "output_type": "execute_result",
          "data": {
            "text/plain": [
              "tensor(94.2478, grad_fn=<MulBackward0>)"
            ]
          },
          "metadata": {},
          "execution_count": 33
        }
      ]
    },
    {
      "cell_type": "markdown",
      "source": [
        "## This measn that a change in l by one unit, with r=3, a change is occured in v by 28.27\n",
        "lets prove"
      ],
      "metadata": {
        "id": "bYYB-XTdfF_J"
      }
    },
    {
      "cell_type": "code",
      "source": [
        "vol(3,6)"
      ],
      "metadata": {
        "colab": {
          "base_uri": "https://localhost:8080/"
        },
        "id": "l6G194uFe3SQ",
        "outputId": "6dc0f163-8a83-403e-f313-459c3f6c7084"
      },
      "execution_count": null,
      "outputs": [
        {
          "output_type": "execute_result",
          "data": {
            "text/plain": [
              "169.64600329384882"
            ]
          },
          "metadata": {},
          "execution_count": 34
        }
      ]
    },
    {
      "cell_type": "code",
      "source": [
        "vol(3,6) - vol(3,5)"
      ],
      "metadata": {
        "colab": {
          "base_uri": "https://localhost:8080/"
        },
        "id": "OgUkBB7XfW2u",
        "outputId": "e014f0cd-0ec3-4bce-c049-a40e588b712a"
      },
      "execution_count": null,
      "outputs": [
        {
          "output_type": "execute_result",
          "data": {
            "text/plain": [
              "28.274333882308127"
            ]
          },
          "metadata": {},
          "execution_count": 35
        }
      ]
    },
    {
      "cell_type": "markdown",
      "source": [
        "##Change in r\n",
        "\n",
        "$r$ is included in the partial derivative so adjusting it affects the scale of\n",
        "\n",
        "---\n",
        "\n",
        "its impact on $v$. Although it's our first example in this notebook, it is typical in calculus for the derivative only to apply at an infinitesimally small $\\Delta r$. The smaller the $\\Delta r$, the closer to the true $\\frac{\\partial v}{\\partial r}$. E.g., at $\\Delta r = 1 \\times 10^{-6}$:"
      ],
      "metadata": {
        "id": "zKUhWVCYgjik"
      }
    },
    {
      "cell_type": "code",
      "source": [
        "r.grad"
      ],
      "metadata": {
        "colab": {
          "base_uri": "https://localhost:8080/"
        },
        "id": "qQv2UEGFfasu",
        "outputId": "13184234-8582-474f-88c0-905d8d2c68d5"
      },
      "execution_count": null,
      "outputs": [
        {
          "output_type": "execute_result",
          "data": {
            "text/plain": [
              "tensor(94.2478)"
            ]
          },
          "metadata": {},
          "execution_count": 36
        }
      ]
    },
    {
      "cell_type": "code",
      "source": [
        "vol(3,4)-vol(2,4)"
      ],
      "metadata": {
        "colab": {
          "base_uri": "https://localhost:8080/"
        },
        "id": "Qfo8Fg2XgmVN",
        "outputId": "a89499e2-28f5-476a-ff14-64f0edd95b0e"
      },
      "execution_count": null,
      "outputs": [
        {
          "output_type": "execute_result",
          "data": {
            "text/plain": [
              "62.83185307179586"
            ]
          },
          "metadata": {},
          "execution_count": 37
        }
      ]
    },
    {
      "cell_type": "code",
      "source": [
        "vol(3,4)-vol(2.999999,4)"
      ],
      "metadata": {
        "colab": {
          "base_uri": "https://localhost:8080/"
        },
        "id": "sdMRJXgKgq1Z",
        "outputId": "20ab14ac-4623-42ce-81b3-2e95616d0dc4"
      },
      "execution_count": null,
      "outputs": [
        {
          "output_type": "execute_result",
          "data": {
            "text/plain": [
              "7.539821112345635e-05"
            ]
          },
          "metadata": {},
          "execution_count": 38
        }
      ]
    },
    {
      "cell_type": "code",
      "source": [
        "delta = 1e-6"
      ],
      "metadata": {
        "id": "XMdgYFJ9gyRk"
      },
      "execution_count": null,
      "outputs": []
    },
    {
      "cell_type": "code",
      "source": [
        "(vol(3+delta,5) -vol(3,5))/delta   ###dividing by delta restores the scale"
      ],
      "metadata": {
        "colab": {
          "base_uri": "https://localhost:8080/"
        },
        "id": "ppS_q-ochEMP",
        "outputId": "78a9e859-4b05-41f5-f81f-30b2d155aee6"
      },
      "execution_count": null,
      "outputs": [
        {
          "output_type": "execute_result",
          "data": {
            "text/plain": [
              "94.24779531741478"
            ]
          },
          "metadata": {},
          "execution_count": 40
        }
      ]
    },
    {
      "cell_type": "markdown",
      "source": [
        "#**Integrals**"
      ],
      "metadata": {
        "id": "2ouVJsuzyiqQ"
      }
    },
    {
      "cell_type": "code",
      "source": [
        "from scipy.integrate import quad  ## 'quadrature' = numerical integration (as opposed to symbolic)"
      ],
      "metadata": {
        "id": "PN3YimoLhgXc"
      },
      "execution_count": 1,
      "outputs": []
    },
    {
      "cell_type": "markdown",
      "source": [
        "\n",
        "## From the slides: $$ \\int_1^2 \\frac{x}{2} dx = \\frac{3}{4} $$"
      ],
      "metadata": {
        "id": "i4Q0kxWyzG9z"
      }
    },
    {
      "cell_type": "code",
      "source": [
        "def g(x):\n",
        "  return x/2"
      ],
      "metadata": {
        "id": "Vv6AUfBJzFnA"
      },
      "execution_count": 2,
      "outputs": []
    },
    {
      "cell_type": "code",
      "source": [
        "quad(g,1,2)"
      ],
      "metadata": {
        "colab": {
          "base_uri": "https://localhost:8080/"
        },
        "id": "rpW5D5RPzVFo",
        "outputId": "0fe795cd-e73f-47f6-ec20-ab032b0d2943"
      },
      "execution_count": 3,
      "outputs": [
        {
          "output_type": "execute_result",
          "data": {
            "text/plain": [
              "(0.75, 8.326672684688674e-15)"
            ]
          },
          "metadata": {},
          "execution_count": 3
        }
      ]
    },
    {
      "cell_type": "markdown",
      "source": [
        "### The second output of quad is an estimate of teh absolute error of the integrals, which in this case is essentially zero"
      ],
      "metadata": {
        "id": "5M4b7itVzn9z"
      }
    },
    {
      "cell_type": "code",
      "source": [
        "## exercise\n",
        "\n",
        "def c(x):\n",
        "  return 2*x"
      ],
      "metadata": {
        "id": "GJUGpynGzYMQ"
      },
      "execution_count": 4,
      "outputs": []
    },
    {
      "cell_type": "code",
      "source": [
        "quad(c,3,4)"
      ],
      "metadata": {
        "colab": {
          "base_uri": "https://localhost:8080/"
        },
        "id": "TYGX7aua0eXr",
        "outputId": "ff6cbfc1-11c0-4be5-ac2e-6bc03f293e50"
      },
      "execution_count": 5,
      "outputs": [
        {
          "output_type": "execute_result",
          "data": {
            "text/plain": [
              "(7.0, 7.771561172376096e-14)"
            ]
          },
          "metadata": {},
          "execution_count": 5
        }
      ]
    },
    {
      "cell_type": "code",
      "source": [],
      "metadata": {
        "id": "ktpFvS9X0hrO"
      },
      "execution_count": null,
      "outputs": []
    }
  ]
}