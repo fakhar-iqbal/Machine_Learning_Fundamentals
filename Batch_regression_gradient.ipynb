{
  "nbformat": 4,
  "nbformat_minor": 0,
  "metadata": {
    "colab": {
      "provenance": [],
      "authorship_tag": "ABX9TyPl9nrBqbjhn6g8kMCRg18j",
      "include_colab_link": true
    },
    "kernelspec": {
      "name": "python3",
      "display_name": "Python 3"
    },
    "language_info": {
      "name": "python"
    }
  },
  "cells": [
    {
      "cell_type": "markdown",
      "metadata": {
        "id": "view-in-github",
        "colab_type": "text"
      },
      "source": [
        "<a href=\"https://colab.research.google.com/github/fakhar-iqbal/Machine_Learning_Fundamentals/blob/main/Batch_regression_gradient.ipynb\" target=\"_parent\"><img src=\"https://colab.research.google.com/assets/colab-badge.svg\" alt=\"Open In Colab\"/></a>"
      ]
    },
    {
      "cell_type": "markdown",
      "source": [
        "#**Gradient of Cost on batch of Data**"
      ],
      "metadata": {
        "id": "MKyMhne0Z_V6"
      }
    },
    {
      "cell_type": "code",
      "execution_count": 1,
      "metadata": {
        "id": "B_EQebMmZzD8"
      },
      "outputs": [],
      "source": [
        "import torch\n",
        "import matplotlib.pyplot as plt"
      ]
    },
    {
      "cell_type": "code",
      "source": [
        "xs = torch.tensor([0, 1, 2, 3, 4, 5, 6, 7.])\n",
        "ys = torch.tensor([1.86, 1.31, .62, .33, .09, -.67, -1.23, -1.37])"
      ],
      "metadata": {
        "id": "zSs-S7LzaaAi"
      },
      "execution_count": 2,
      "outputs": []
    },
    {
      "cell_type": "code",
      "source": [
        "def regression(x,m,b):\n",
        "  return m*x + b"
      ],
      "metadata": {
        "id": "_fMwa_woaeMJ"
      },
      "execution_count": 3,
      "outputs": []
    },
    {
      "cell_type": "code",
      "source": [
        "m = torch.tensor([0.9]).requires_grad_()\n",
        "b = torch.tensor([0.1]).requires_grad_()"
      ],
      "metadata": {
        "id": "hLGrGLj9ajGf"
      },
      "execution_count": 4,
      "outputs": []
    },
    {
      "cell_type": "markdown",
      "source": [
        "##**Step1: Forward Pass**"
      ],
      "metadata": {
        "id": "yKCA9vlPbArw"
      }
    },
    {
      "cell_type": "code",
      "source": [
        "yhats = regression(xs,m,b)\n",
        "yhats"
      ],
      "metadata": {
        "colab": {
          "base_uri": "https://localhost:8080/"
        },
        "id": "Ac7SGzj9a8uk",
        "outputId": "0d3ab21f-56aa-4cc9-d971-48b6ca137102"
      },
      "execution_count": 5,
      "outputs": [
        {
          "output_type": "execute_result",
          "data": {
            "text/plain": [
              "tensor([0.1000, 1.0000, 1.9000, 2.8000, 3.7000, 4.6000, 5.5000, 6.4000],\n",
              "       grad_fn=<AddBackward0>)"
            ]
          },
          "metadata": {},
          "execution_count": 5
        }
      ]
    },
    {
      "cell_type": "markdown",
      "source": [
        "##**STep2: Comparing Cost**"
      ],
      "metadata": {
        "id": "8LejRG1kbKQ7"
      }
    },
    {
      "cell_type": "markdown",
      "source": [
        "let's use mean squared error, which averages quadratic cost across multiple data points: $$C = \\frac{1}{n} \\sum_{i=1}^n (\\hat{y_i}-y_i)^2 $$"
      ],
      "metadata": {
        "id": "d90L1HSibbq2"
      }
    },
    {
      "cell_type": "code",
      "source": [
        "def mse(yhat,y):\n",
        "  sigma = torch.sum((yhat-y)**2)\n",
        "  return sigma/len(yhat)"
      ],
      "metadata": {
        "id": "RTio6jWIbHnw"
      },
      "execution_count": 7,
      "outputs": []
    },
    {
      "cell_type": "code",
      "source": [
        "C = mse(yhats,ys)\n",
        "C"
      ],
      "metadata": {
        "colab": {
          "base_uri": "https://localhost:8080/"
        },
        "id": "EKpe5yyjbnB9",
        "outputId": "ebdb22ff-36cc-468b-8f07-3d9a97ff9a54"
      },
      "execution_count": 8,
      "outputs": [
        {
          "output_type": "execute_result",
          "data": {
            "text/plain": [
              "tensor(19.6755, grad_fn=<DivBackward0>)"
            ]
          },
          "metadata": {},
          "execution_count": 8
        }
      ]
    },
    {
      "cell_type": "markdown",
      "source": [
        "##**Step3: Use autodiff to calculate gradient of cost wrt params**"
      ],
      "metadata": {
        "id": "Nk2rYzh9cC0e"
      }
    },
    {
      "cell_type": "code",
      "source": [
        "C.backward()"
      ],
      "metadata": {
        "id": "y3fU4sD5b3a2"
      },
      "execution_count": 9,
      "outputs": []
    },
    {
      "cell_type": "code",
      "source": [
        "m.grad"
      ],
      "metadata": {
        "colab": {
          "base_uri": "https://localhost:8080/"
        },
        "id": "58F91ZKMcLb4",
        "outputId": "54d03ac8-69e3-41b5-dca5-d61598f03ddd"
      },
      "execution_count": 10,
      "outputs": [
        {
          "output_type": "execute_result",
          "data": {
            "text/plain": [
              "tensor([36.3050])"
            ]
          },
          "metadata": {},
          "execution_count": 10
        }
      ]
    },
    {
      "cell_type": "code",
      "source": [
        "b.grad"
      ],
      "metadata": {
        "colab": {
          "base_uri": "https://localhost:8080/"
        },
        "id": "9UvmQFgOcL_8",
        "outputId": "067d8172-7f09-42c4-f416-4045a62b9461"
      },
      "execution_count": 11,
      "outputs": [
        {
          "output_type": "execute_result",
          "data": {
            "text/plain": [
              "tensor([6.2650])"
            ]
          },
          "metadata": {},
          "execution_count": 11
        }
      ]
    },
    {
      "cell_type": "markdown",
      "source": [
        "$$ \\frac{\\partial C}{\\partial m} = \\frac{2}{n} \\sum (\\hat{y}_i - y_i) \\cdot x_i $$"
      ],
      "metadata": {
        "id": "VTSwo4tZfE0_"
      }
    },
    {
      "cell_type": "code",
      "source": [
        "2 * 1/len(ys) * ((torch.sum((yhats-ys)*xs)))"
      ],
      "metadata": {
        "colab": {
          "base_uri": "https://localhost:8080/"
        },
        "id": "u_0OD4CRcMb3",
        "outputId": "8c3afb3d-13f7-4c1a-cebc-56671f0091f1"
      },
      "execution_count": 12,
      "outputs": [
        {
          "output_type": "execute_result",
          "data": {
            "text/plain": [
              "tensor(36.3050, grad_fn=<MulBackward0>)"
            ]
          },
          "metadata": {},
          "execution_count": 12
        }
      ]
    },
    {
      "cell_type": "markdown",
      "source": [
        "$$ \\frac{\\partial C}{\\partial b} = \\frac{2}{n} \\sum (\\hat{y}_i - y_i) $$"
      ],
      "metadata": {
        "id": "9FBS380TfhRY"
      }
    },
    {
      "cell_type": "code",
      "source": [
        "2 * 1/len(ys) * torch.sum((yhats-ys))"
      ],
      "metadata": {
        "colab": {
          "base_uri": "https://localhost:8080/"
        },
        "id": "Nvn9H4-NffqC",
        "outputId": "28cddd87-bd9a-4a95-ac19-95ac87dbc72e"
      },
      "execution_count": 13,
      "outputs": [
        {
          "output_type": "execute_result",
          "data": {
            "text/plain": [
              "tensor(6.2650, grad_fn=<MulBackward0>)"
            ]
          },
          "metadata": {},
          "execution_count": 13
        }
      ]
    },
    {
      "cell_type": "code",
      "source": [
        "gradient = torch.tensor([[b.grad.item(),m.grad.item()]]).T\n",
        "gradient"
      ],
      "metadata": {
        "colab": {
          "base_uri": "https://localhost:8080/"
        },
        "id": "JjjmrOyqf6d7",
        "outputId": "286173d4-89bb-40d7-c036-546874d41214"
      },
      "execution_count": 14,
      "outputs": [
        {
          "output_type": "execute_result",
          "data": {
            "text/plain": [
              "tensor([[ 6.2650],\n",
              "        [36.3050]])"
            ]
          },
          "metadata": {},
          "execution_count": 14
        }
      ]
    },
    {
      "cell_type": "markdown",
      "source": [
        "##Lets visualize the most pertinent metrics in a single plot"
      ],
      "metadata": {
        "id": "w8Ok7FrcgjMI"
      }
    },
    {
      "cell_type": "code",
      "source": [
        "def labeled_regression_plot(x,y,m,b,C,include_grad=True):\n",
        "\n",
        "  title = 'Cost {}'.format('%.3g'%C.item())\n",
        "  if include_grad:\n",
        "    xlabel = 'm = {}, m_Grad = {}'.format('%.3g'%m.item(),'%.3g'%m.grad.item())\n",
        "    ylabel = 'b = {}, b_Grad = {}'.format('%.3g'%b.item(),'%.3g'%b.grad.item())\n",
        "\n",
        "  else:\n",
        "    xlabel = 'm  = {}'.format('%.3g'%m.item())\n",
        "    ylabel = 'b  = {}'.format('%.3g'%b.item())\n",
        "\n",
        "  fig,ax = plt.subplots()\n",
        "\n",
        "  plt.title(title)\n",
        "  plt.xlabel(xlabel)\n",
        "  plt.ylabel(ylabel)\n",
        "\n",
        "  plt.scatter(x,y)\n",
        "\n",
        "  xmin,xmax = ax.get_xlim()\n",
        "  ymin = regression(xmin,m,b).detach().item()\n",
        "  ymax = regression(xmax,m,b).detach().item()\n",
        "\n",
        "  ax.set_xlim([xmin,xmax])\n",
        "  _  = ax.plot([xmin,xmax],[ymin,ymax],c= 'C01')"
      ],
      "metadata": {
        "id": "QjJ3J0gAgYiK"
      },
      "execution_count": 17,
      "outputs": []
    },
    {
      "cell_type": "code",
      "source": [
        "labeled_regression_plot(xs,ys,m,b,C)"
      ],
      "metadata": {
        "colab": {
          "base_uri": "https://localhost:8080/",
          "height": 472
        },
        "id": "Abp9nuRviW5R",
        "outputId": "491898dd-79e4-42e5-eb5c-b65287616b32"
      },
      "execution_count": 18,
      "outputs": [
        {
          "output_type": "display_data",
          "data": {
            "text/plain": [
              "<Figure size 640x480 with 1 Axes>"
            ],
            "image/png": "[encoded data removed]"
          },
          "metadata": {}
        }
      ]
    },
    {
      "cell_type": "markdown",
      "source": [
        "##**Step4: Gradient Descent**"
      ],
      "metadata": {
        "id": "wbYhpcLzjOmE"
      }
    },
    {
      "cell_type": "markdown",
      "source": [
        "$\\frac{\\partial C}{\\partial m} = 36.3$ indicates that an increase in $m$ corresponds to a large increase in $C$.\n",
        "\n",
        "Meanwhile, $\\frac{\\partial C}{\\partial b} = 6.26$ indicates that an increase in $b$ also corresponds to an increase in $C$, though much less so than $m$.\n",
        "\n",
        "In the first round of training, the lowest hanging fruit with respect to reducing cost $C$ is therefore to decrease the slope of the regression line, $m$. There will also be a relatively small decrease in the $y$-intercept of the line, $b$."
      ],
      "metadata": {
        "id": "5h0dg6cDj0bk"
      }
    },
    {
      "cell_type": "code",
      "source": [
        "optim = torch.optim.SGD([m,b],lr=0.01)"
      ],
      "metadata": {
        "id": "ql3rwPZ_icfn"
      },
      "execution_count": 19,
      "outputs": []
    },
    {
      "cell_type": "code",
      "source": [
        "optim.step()"
      ],
      "metadata": {
        "id": "_MH8Z3XKj8MP"
      },
      "execution_count": 20,
      "outputs": []
    },
    {
      "cell_type": "code",
      "source": [
        "C = mse(regression(xs,m,b),ys)\n",
        "C"
      ],
      "metadata": {
        "colab": {
          "base_uri": "https://localhost:8080/"
        },
        "id": "9VzQ7m_gj9qR",
        "outputId": "45e0a649-d3f2-46ed-87d5-186054a9bffb"
      },
      "execution_count": 21,
      "outputs": [
        {
          "output_type": "execute_result",
          "data": {
            "text/plain": [
              "tensor(8.5722, grad_fn=<DivBackward0>)"
            ]
          },
          "metadata": {},
          "execution_count": 21
        }
      ]
    },
    {
      "cell_type": "code",
      "source": [
        "labeled_regression_plot(xs,ys,m,b,C,include_grad=False)"
      ],
      "metadata": {
        "colab": {
          "base_uri": "https://localhost:8080/",
          "height": 472
        },
        "id": "Vx1XS0KWkZI_",
        "outputId": "abab868e-f608-4704-90dc-a67a28cf70f4"
      },
      "execution_count": 23,
      "outputs": [
        {
          "output_type": "display_data",
          "data": {
            "text/plain": [
              "<Figure size 640x480 with 1 Axes>"
            ],
            "image/png": "[encoded data removed]"
          },
          "metadata": {}
        }
      ]
    },
    {
      "cell_type": "markdown",
      "source": [
        "##**Rinse And Repeat**"
      ],
      "metadata": {
        "id": "fWyCHiPnk1gv"
      }
    },
    {
      "cell_type": "code",
      "source": [
        "epochs = 1000\n",
        "for epoch in range(epochs):\n",
        "\n",
        "  optim.zero_grad()  # reset gradients to zero; else they will accumulate\n",
        "\n",
        "  yhats =  regression(xs,m,b) #Step 1\n",
        "  C = mse(yhats,ys)  # Step 2\n",
        "\n",
        "  C.backward()  # Step 3\n",
        "\n",
        "  #labeled_regression_plot(xs,ys,m,b,C)\n",
        "\n",
        "  optim.step()  ## step 4"
      ],
      "metadata": {
        "id": "xipoTJuRkgmA"
      },
      "execution_count": 25,
      "outputs": []
    },
    {
      "cell_type": "code",
      "source": [
        "labeled_regression_plot(xs,ys,m,b,C)"
      ],
      "metadata": {
        "colab": {
          "base_uri": "https://localhost:8080/",
          "height": 472
        },
        "id": "z8sDeuGClhgv",
        "outputId": "3cb5a9ad-47cb-4803-af9a-0c9547e7705e"
      },
      "execution_count": 26,
      "outputs": [
        {
          "output_type": "display_data",
          "data": {
            "text/plain": [
              "<Figure size 640x480 with 1 Axes>"
            ],
            "image/png": "[encoded data removed]"
          },
          "metadata": {}
        }
      ]
    },
    {
      "cell_type": "code",
      "source": [],
      "metadata": {
        "id": "WS9qzkIEnHMR"
      },
      "execution_count": null,
      "outputs": []
    }
  ]
}