{
  "nbformat": 4,
  "nbformat_minor": 0,
  "metadata": {
    "colab": {
      "provenance": [],
      "gpuType": "T4",
      "authorship_tag": "ABX9TyM7cDS5/rXm9RJtsal53kiI",
      "include_colab_link": true
    },
    "kernelspec": {
      "name": "python3",
      "display_name": "Python 3"
    },
    "language_info": {
      "name": "python"
    },
    "accelerator": "GPU"
  },
  "cells": [
    {
      "cell_type": "markdown",
      "metadata": {
        "id": "view-in-github",
        "colab_type": "text"
      },
      "source": [
        "<a href=\"https://colab.research.google.com/github/fakhar-iqbal/Machine_Learning_Fundamentals/blob/main/Python.ipynb\" target=\"_parent\"><img src=\"https://colab.research.google.com/assets/colab-badge.svg\" alt=\"Open In Colab\"/></a>"
      ]
    },
    {
      "cell_type": "code",
      "execution_count": null,
      "metadata": {
        "colab": {
          "base_uri": "https://localhost:8080/"
        },
        "id": "f1Ed0bREOfho",
        "outputId": "35b2a565-b346-46c1-84b2-8af4bb64e15c"
      },
      "outputs": [
        {
          "output_type": "execute_result",
          "data": {
            "text/plain": [
              "[0, 5, 10, 15, 20, 25, 30, 35, 40, 45]"
            ]
          },
          "metadata": {},
          "execution_count": 5
        }
      ],
      "source": [
        "d = lambda x: x*5\n",
        "l = [d(x) for x in range(0,10)]\n",
        "l"
      ]
    },
    {
      "cell_type": "code",
      "source": [
        "def appl(fx,val):\n",
        "  return 6+ fx(val)"
      ],
      "metadata": {
        "id": "zTmYM9njO1gp"
      },
      "execution_count": null,
      "outputs": []
    },
    {
      "cell_type": "code",
      "source": [
        "appl(d,5)"
      ],
      "metadata": {
        "colab": {
          "base_uri": "https://localhost:8080/"
        },
        "id": "6tDEZW69QNcs",
        "outputId": "1b391a82-3023-46d7-86e9-aae08e602691"
      },
      "execution_count": null,
      "outputs": [
        {
          "output_type": "execute_result",
          "data": {
            "text/plain": [
              "31"
            ]
          },
          "metadata": {},
          "execution_count": 9
        }
      ]
    },
    {
      "cell_type": "code",
      "source": [
        "appl = lambda f,val: 6+ f(val)"
      ],
      "metadata": {
        "id": "CP6rgPjUQRG7"
      },
      "execution_count": null,
      "outputs": []
    },
    {
      "cell_type": "code",
      "source": [
        "appl(d,5)"
      ],
      "metadata": {
        "colab": {
          "base_uri": "https://localhost:8080/"
        },
        "id": "WWwC_AbPQgCV",
        "outputId": "9f08dd02-a525-48fa-c25f-8a26cda050c0"
      },
      "execution_count": null,
      "outputs": [
        {
          "output_type": "execute_result",
          "data": {
            "text/plain": [
              "31"
            ]
          },
          "metadata": {},
          "execution_count": 11
        }
      ]
    },
    {
      "cell_type": "code",
      "source": [
        "appl(lambda x:x*x,5)"
      ],
      "metadata": {
        "colab": {
          "base_uri": "https://localhost:8080/"
        },
        "id": "lnNxa45zQiK0",
        "outputId": "6e4fbbc0-05e1-4fa1-a287-b50d250d697b"
      },
      "execution_count": null,
      "outputs": [
        {
          "output_type": "execute_result",
          "data": {
            "text/plain": [
              "31"
            ]
          },
          "metadata": {},
          "execution_count": 13
        }
      ]
    },
    {
      "cell_type": "code",
      "source": [
        "def cube(x):\n",
        "  return x*x*x"
      ],
      "metadata": {
        "id": "uz8M8QYAQvWO"
      },
      "execution_count": null,
      "outputs": []
    },
    {
      "cell_type": "code",
      "source": [
        "### map function\n",
        "\n",
        "l = [1,2,3,4,5,6,6,7]\n",
        "newl = list(map(cube,l))\n",
        "newl"
      ],
      "metadata": {
        "colab": {
          "base_uri": "https://localhost:8080/"
        },
        "id": "aWVDyXFIRY5B",
        "outputId": "98a53708-c566-41e5-8cae-3ce7f2a671cb"
      },
      "execution_count": null,
      "outputs": [
        {
          "output_type": "execute_result",
          "data": {
            "text/plain": [
              "[1, 8, 27, 64, 125, 216, 216, 343]"
            ]
          },
          "metadata": {},
          "execution_count": 16
        }
      ]
    },
    {
      "cell_type": "code",
      "source": [
        "def rog(x):\n",
        "  return x+x+x"
      ],
      "metadata": {
        "id": "W9YpmidhR30q"
      },
      "execution_count": null,
      "outputs": []
    },
    {
      "cell_type": "code",
      "source": [
        "li = [1,2,3,4,5,6,7,7,8]\n",
        "newl = list(map(rog,li))\n",
        "newl"
      ],
      "metadata": {
        "colab": {
          "base_uri": "https://localhost:8080/"
        },
        "id": "lqyrFYdLR_Kg",
        "outputId": "8411650a-1449-4908-d4c8-936ee9ccd21d"
      },
      "execution_count": null,
      "outputs": [
        {
          "output_type": "execute_result",
          "data": {
            "text/plain": [
              "[3, 6, 9, 12, 15, 18, 21, 21, 24]"
            ]
          },
          "metadata": {},
          "execution_count": 18
        }
      ]
    },
    {
      "cell_type": "code",
      "source": [
        "def gr(x):\n",
        "  return x>4"
      ],
      "metadata": {
        "id": "0TnflG0MSG20"
      },
      "execution_count": null,
      "outputs": []
    },
    {
      "cell_type": "code",
      "source": [
        "newl = list(map(gr,li))\n",
        "newl"
      ],
      "metadata": {
        "colab": {
          "base_uri": "https://localhost:8080/"
        },
        "id": "1q1kMq0JS0FM",
        "outputId": "019cc728-2725-4a11-a054-741e18d4054d"
      },
      "execution_count": null,
      "outputs": [
        {
          "output_type": "execute_result",
          "data": {
            "text/plain": [
              "[False, False, False, False, True, True, True, True, True]"
            ]
          },
          "metadata": {},
          "execution_count": 25
        }
      ]
    },
    {
      "cell_type": "code",
      "source": [
        "newl = list(filter(lambda x: x<5, li))\n",
        "newl"
      ],
      "metadata": {
        "colab": {
          "base_uri": "https://localhost:8080/"
        },
        "id": "t-r0B0v5S4Lt",
        "outputId": "89cfef70-0667-4ee7-a7c2-7701c8afb407"
      },
      "execution_count": null,
      "outputs": [
        {
          "output_type": "execute_result",
          "data": {
            "text/plain": [
              "[1, 2, 3, 4]"
            ]
          },
          "metadata": {},
          "execution_count": 26
        }
      ]
    },
    {
      "cell_type": "code",
      "source": [
        "from functools import reduce\n",
        "\n",
        "sum = reduce(lambda x,y: x-y,li)\n",
        "sum"
      ],
      "metadata": {
        "colab": {
          "base_uri": "https://localhost:8080/"
        },
        "id": "psEJgtO2TTEm",
        "outputId": "5ae499fd-d369-44e2-d0d9-66410744483b"
      },
      "execution_count": null,
      "outputs": [
        {
          "output_type": "execute_result",
          "data": {
            "text/plain": [
              "-41"
            ]
          },
          "metadata": {},
          "execution_count": 30
        }
      ]
    },
    {
      "cell_type": "markdown",
      "source": [
        "#**AI LAB**"
      ],
      "metadata": {
        "id": "SbskUYl7H39D"
      }
    },
    {
      "cell_type": "code",
      "source": [
        "l = [1,2,3,4,5]\n",
        "b = [3,4,2,4,2]\n",
        "\n",
        "# for i in range(len(b)):\n",
        "#   l.append(b[i])\n",
        "\n",
        "# l\n",
        "l.extend(b)\n",
        "l"
      ],
      "metadata": {
        "id": "2z4iI6VTUdxj",
        "colab": {
          "base_uri": "https://localhost:8080/"
        },
        "outputId": "dc0b5691-9392-4fe9-d021-87e8803e433f"
      },
      "execution_count": null,
      "outputs": [
        {
          "output_type": "execute_result",
          "data": {
            "text/plain": [
              "[1, 2, 3, 4, 5, 3, 4, 2, 4, 2]"
            ]
          },
          "metadata": {},
          "execution_count": 6
        }
      ]
    },
    {
      "cell_type": "code",
      "source": [
        "l.remove(3)\n",
        "l"
      ],
      "metadata": {
        "colab": {
          "base_uri": "https://localhost:8080/"
        },
        "id": "B7dIkobNIh3L",
        "outputId": "97518097-423f-4a42-b7f9-55062afdaad4"
      },
      "execution_count": null,
      "outputs": [
        {
          "output_type": "execute_result",
          "data": {
            "text/plain": [
              "[1, 2, 4, 5, 3, 4, 2, 4, 2]"
            ]
          },
          "metadata": {},
          "execution_count": 8
        }
      ]
    },
    {
      "cell_type": "code",
      "source": [
        "l.replace(5,55)"
      ],
      "metadata": {
        "colab": {
          "base_uri": "https://localhost:8080/",
          "height": 141
        },
        "id": "tpRNIlk2R-6L",
        "outputId": "f8128663-734a-42f1-920b-f1d8c01ba788"
      },
      "execution_count": null,
      "outputs": [
        {
          "output_type": "error",
          "ename": "AttributeError",
          "evalue": "'list' object has no attribute 'replace'",
          "traceback": [
            "\u001b[0;31m---------------------------------------------------------------------------\u001b[0m",
            "\u001b[0;31mAttributeError\u001b[0m                            Traceback (most recent call last)",
            "\u001b[0;32m<ipython-input-9-4c55acbba517>\u001b[0m in \u001b[0;36m<cell line: 1>\u001b[0;34m()\u001b[0m\n\u001b[0;32m----> 1\u001b[0;31m \u001b[0ml\u001b[0m\u001b[0;34m.\u001b[0m\u001b[0mreplace\u001b[0m\u001b[0;34m(\u001b[0m\u001b[0;36m5\u001b[0m\u001b[0;34m,\u001b[0m\u001b[0;36m55\u001b[0m\u001b[0;34m)\u001b[0m\u001b[0;34m\u001b[0m\u001b[0;34m\u001b[0m\u001b[0m\n\u001b[0m",
            "\u001b[0;31mAttributeError\u001b[0m: 'list' object has no attribute 'replace'"
          ]
        }
      ]
    },
    {
      "cell_type": "code",
      "source": [
        "class person:\n",
        "\n",
        "  def __init__(self):\n",
        "    self.name= \"fakhar\"\n",
        "    self.age =20\n",
        "\n",
        "  def update(self):\n",
        "    self.age=19\n",
        "\n",
        "  def show(self):\n",
        "    print(\"name: \", self.name)\n",
        "    print('age: ',self.age)\n",
        "\n"
      ],
      "metadata": {
        "id": "abRucpMaTRix"
      },
      "execution_count": null,
      "outputs": []
    },
    {
      "cell_type": "code",
      "source": [
        "com1 = person()\n",
        "com1.show()\n"
      ],
      "metadata": {
        "colab": {
          "base_uri": "https://localhost:8080/"
        },
        "id": "Fw_IH-5EqTfg",
        "outputId": "2ca59b7b-5fc5-42a7-aa63-dd0fb3a19390"
      },
      "execution_count": null,
      "outputs": [
        {
          "output_type": "stream",
          "name": "stdout",
          "text": [
            "name:  fakhar\n",
            "age:  20\n"
          ]
        }
      ]
    },
    {
      "cell_type": "code",
      "source": [
        "com1.update()"
      ],
      "metadata": {
        "id": "vX0VRz89qZFL"
      },
      "execution_count": null,
      "outputs": []
    },
    {
      "cell_type": "code",
      "source": [
        "com1.show()"
      ],
      "metadata": {
        "colab": {
          "base_uri": "https://localhost:8080/"
        },
        "id": "XPy9HgQcqtmS",
        "outputId": "62d45ab5-5a2d-494d-9d77-d752be9af3e4"
      },
      "execution_count": null,
      "outputs": [
        {
          "output_type": "stream",
          "name": "stdout",
          "text": [
            "name:  fakhar\n",
            "age:  19\n"
          ]
        }
      ]
    },
    {
      "cell_type": "code",
      "source": [
        "com1.age = 20\n",
        "com1.show()"
      ],
      "metadata": {
        "colab": {
          "base_uri": "https://localhost:8080/"
        },
        "id": "gTsUDrCqyJlX",
        "outputId": "e96a624e-5bad-445c-ac79-6694adeae748"
      },
      "execution_count": null,
      "outputs": [
        {
          "output_type": "stream",
          "name": "stdout",
          "text": [
            "name:  fakhar\n",
            "age:  20\n"
          ]
        }
      ]
    },
    {
      "cell_type": "code",
      "source": [
        "com2 = person()\n",
        "com2.age=20"
      ],
      "metadata": {
        "id": "sVUs0EE_yaTR"
      },
      "execution_count": null,
      "outputs": []
    },
    {
      "cell_type": "code",
      "source": [
        "if com1.age == com2.age:\n",
        "  print('True')"
      ],
      "metadata": {
        "colab": {
          "base_uri": "https://localhost:8080/"
        },
        "id": "46VXOJ2xyOAI",
        "outputId": "59a780f5-4c4c-4f71-b1d6-60d692d360da"
      },
      "execution_count": null,
      "outputs": [
        {
          "output_type": "stream",
          "name": "stdout",
          "text": [
            "True\n"
          ]
        }
      ]
    },
    {
      "cell_type": "code",
      "source": [
        "import numpy as np\n"
      ],
      "metadata": {
        "id": "gw0H9tgayXon"
      },
      "execution_count": 1,
      "outputs": []
    },
    {
      "cell_type": "code",
      "source": [
        "import time\n",
        "\n",
        "a = np.random.rand(100000)\n",
        "b = np.random.rand(100000)\n",
        "\n",
        "tic = time.time()\n",
        "c = np.dot(a,b)\n",
        "toc = time.time()\n",
        "\n",
        "print(\"time in ms\" + str(1000*(toc-tic)))"
      ],
      "metadata": {
        "colab": {
          "base_uri": "https://localhost:8080/"
        },
        "id": "2D3kLoawtbZj",
        "outputId": "8fb6fb97-d58c-4480-94ee-3ee49fb2a31d"
      },
      "execution_count": 2,
      "outputs": [
        {
          "output_type": "stream",
          "name": "stdout",
          "text": [
            "time in ms0.9789466857910156\n"
          ]
        }
      ]
    },
    {
      "cell_type": "markdown",
      "source": [
        "##Pattern"
      ],
      "metadata": {
        "id": "7qGCJqG1nS9Y"
      }
    },
    {
      "cell_type": "code",
      "source": [
        "j=0\n",
        "for i in range(11,6,-1):\n",
        "  print(\" \"*(i-1),'*',end=\"\")\n",
        "  #print(\"i: \",i)\n",
        "  if(i<11):\n",
        "    print(\" \"*j,'*',end=\"\")\n",
        "    j=j+2\n",
        "  print()\n",
        "l=21\n",
        "for k in range(0,6):\n",
        "  print(\" \"*k,'*'*l)\n",
        "  l-=2\n",
        "n=13\n",
        "for m in range(5,0,-1):\n",
        "  print(\" \"*(m-1),\"*\"*n)\n",
        "  n+=2\n",
        "d=7\n",
        "for g in range(6,11,1):\n",
        "  print(\" \"*g,\"*\",\" \"*(d-1),end=\"\")\n",
        "  d-=2\n",
        "  if(g<10):\n",
        "    print('*')\n"
      ],
      "metadata": {
        "colab": {
          "base_uri": "https://localhost:8080/"
        },
        "id": "dq5dFDfytu-Z",
        "outputId": "571595e3-0477-41cd-84fd-7d1599f6ea76"
      },
      "execution_count": 59,
      "outputs": [
        {
          "output_type": "stream",
          "name": "stdout",
          "text": [
            "           *\n",
            "          * *\n",
            "         *   *\n",
            "        *     *\n",
            "       *       *\n",
            " *********************\n",
            "  *******************\n",
            "   *****************\n",
            "    ***************\n",
            "     *************\n",
            "      ***********\n",
            "     *************\n",
            "    ***************\n",
            "   *****************\n",
            "  *******************\n",
            " *********************\n",
            "       *       *\n",
            "        *     *\n",
            "         *   *\n",
            "          * *\n",
            "           * "
          ]
        }
      ]
    },
    {
      "cell_type": "code",
      "source": [],
      "metadata": {
        "id": "7cYCRkdhnd-y"
      },
      "execution_count": 57,
      "outputs": []
    },
    {
      "cell_type": "code",
      "source": [],
      "metadata": {
        "colab": {
          "base_uri": "https://localhost:8080/"
        },
        "id": "Q94mkrhywsZc",
        "outputId": "433c1fe8-a887-4fa3-cc98-010f7a9525ad"
      },
      "execution_count": 58,
      "outputs": [
        {
          "output_type": "stream",
          "name": "stdout",
          "text": [
            "\n"
          ]
        }
      ]
    },
    {
      "cell_type": "code",
      "source": [],
      "metadata": {
        "id": "eB7h4WeJ2705"
      },
      "execution_count": null,
      "outputs": []
    }
  ]
}