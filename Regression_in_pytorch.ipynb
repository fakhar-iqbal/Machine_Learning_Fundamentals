{
  "nbformat": 4,
  "nbformat_minor": 0,
  "metadata": {
    "colab": {
      "provenance": [],
      "authorship_tag": "ABX9TyM0t4wsaB1bPjjelnY+N8Vm",
      "include_colab_link": true
    },
    "kernelspec": {
      "name": "python3",
      "display_name": "Python 3"
    },
    "language_info": {
      "name": "python"
    }
  },
  "cells": [
    {
      "cell_type": "markdown",
      "metadata": {
        "id": "view-in-github",
        "colab_type": "text"
      },
      "source": [
        "<a href=\"https://colab.research.google.com/github/fakhar-iqbal/Machine_Learning_Fundamentals/blob/main/Regression_in_pytorch.ipynb\" target=\"_parent\"><img src=\"https://colab.research.google.com/assets/colab-badge.svg\" alt=\"Open In Colab\"/></a>"
      ]
    },
    {
      "cell_type": "markdown",
      "source": [
        "#**Regression in Pytorch**"
      ],
      "metadata": {
        "id": "kNwQN9v5JK_H"
      }
    },
    {
      "cell_type": "markdown",
      "source": [
        "## In this notebook,we use pytorch auto differentiation library to fit a straight line to data points. Thus here we use calculus to slve the same regression problem that we used in LA-2"
      ],
      "metadata": {
        "id": "bm6SOjJWJQkW"
      }
    },
    {
      "cell_type": "code",
      "execution_count": 1,
      "metadata": {
        "id": "VQVEpoD-JBs3"
      },
      "outputs": [],
      "source": [
        "import torch\n",
        "import matplotlib.pyplot as plt\n"
      ]
    },
    {
      "cell_type": "code",
      "source": [
        "x = torch.tensor([0,1,2,3,4,5,6,7.])\n",
        "x"
      ],
      "metadata": {
        "colab": {
          "base_uri": "https://localhost:8080/"
        },
        "id": "rwFVNTg2Jw0P",
        "outputId": "0dcaaba2-fbb4-4c9d-dca7-bc22c571fd3d"
      },
      "execution_count": 2,
      "outputs": [
        {
          "output_type": "execute_result",
          "data": {
            "text/plain": [
              "tensor([0., 1., 2., 3., 4., 5., 6., 7.])"
            ]
          },
          "metadata": {},
          "execution_count": 2
        }
      ]
    },
    {
      "cell_type": "markdown",
      "source": [
        "## The y values were created using the equation y = mx +b. This way, we know what model parameters to be learned are, say, m = -0.5, b= 2. Random, normally-distributed noise has been added to simualte sampling error"
      ],
      "metadata": {
        "id": "lBlsGzBqKReD"
      }
    },
    {
      "cell_type": "code",
      "source": [
        "y = torch.tensor([1.86,1.31,0.62, 0.33, 0.09, -0.67, -1.23,-1.37])\n",
        "y"
      ],
      "metadata": {
        "colab": {
          "base_uri": "https://localhost:8080/"
        },
        "id": "ulsgD8iwLYND",
        "outputId": "bd09b7f4-6c2f-4b2c-ce47-671d9dc5b032"
      },
      "execution_count": 3,
      "outputs": [
        {
          "output_type": "execute_result",
          "data": {
            "text/plain": [
              "tensor([ 1.8600,  1.3100,  0.6200,  0.3300,  0.0900, -0.6700, -1.2300, -1.3700])"
            ]
          },
          "metadata": {},
          "execution_count": 3
        }
      ]
    },
    {
      "cell_type": "code",
      "source": [
        "fig,ax = plt.subplots()\n",
        "plt.title('Clinical Trial')\n",
        "plt.xlabel('Drug dosage')\n",
        "plt.ylabel('Forgetfulness')\n",
        "\n",
        "_  = ax.scatter(x,y)"
      ],
      "metadata": {
        "colab": {
          "base_uri": "https://localhost:8080/",
          "height": 472
        },
        "id": "vZOHACR1Lc_9",
        "outputId": "98632330-cc1d-46a0-8958-b0b1f0ee05a2"
      },
      "execution_count": 4,
      "outputs": [
        {
          "output_type": "display_data",
          "data": {
            "text/plain": [
              "<Figure size 640x480 with 1 Axes>"
            ],
            "image/png": "[encoded data removed]"
          },
          "metadata": {}
        }
      ]
    },
    {
      "cell_type": "markdown",
      "source": [
        "## Initialize the random value for m slope with 0.9"
      ],
      "metadata": {
        "id": "3IKbBISUMnT2"
      }
    },
    {
      "cell_type": "code",
      "source": [
        "m = torch.tensor([0.9]).requires_grad_()\n",
        "m"
      ],
      "metadata": {
        "colab": {
          "base_uri": "https://localhost:8080/"
        },
        "id": "9uWb3LSoMDoE",
        "outputId": "680d2ddc-babd-48a5-9597-4a4f16da1b14"
      },
      "execution_count": 5,
      "outputs": [
        {
          "output_type": "execute_result",
          "data": {
            "text/plain": [
              "tensor([0.9000], requires_grad=True)"
            ]
          },
          "metadata": {},
          "execution_count": 5
        }
      ]
    },
    {
      "cell_type": "markdown",
      "source": [
        "## .. and do the same fo y-intercpt b"
      ],
      "metadata": {
        "id": "f5elEZ3yRc2A"
      }
    },
    {
      "cell_type": "code",
      "source": [
        "b = torch.tensor([0.1]).requires_grad_()\n",
        "b"
      ],
      "metadata": {
        "colab": {
          "base_uri": "https://localhost:8080/"
        },
        "id": "M72Merx3RFa_",
        "outputId": "578c27b7-baa9-4359-a6ff-adf622b9d1b9"
      },
      "execution_count": 6,
      "outputs": [
        {
          "output_type": "execute_result",
          "data": {
            "text/plain": [
              "tensor([0.1000], requires_grad=True)"
            ]
          },
          "metadata": {},
          "execution_count": 6
        }
      ]
    },
    {
      "cell_type": "code",
      "source": [
        "def regression_plot(myx,myy,myb,mym):\n",
        "  fig,ax = plt.subplots()\n",
        "\n",
        "  ax.scatter(myx,myy)\n",
        "\n",
        "  xmin,xmax = ax.get_xlim()\n",
        "  ymin,ymax = mym.detach().numpy()*xmin + myb.detach().numpy() , mym.detach().numpy()*xmax + myb.detach().numpy()   ### detached here to use it in numpy. numpy needs no tracking tensors\n",
        "\n",
        "  ax.set_xlim([xmin,xmax])\n",
        "  ax.plot([xmin,xmax],[ymin,ymax])"
      ],
      "metadata": {
        "id": "FX1SAMQtRjoy"
      },
      "execution_count": 24,
      "outputs": []
    },
    {
      "cell_type": "code",
      "source": [
        "regression_plot(x,y,b,m)"
      ],
      "metadata": {
        "colab": {
          "base_uri": "https://localhost:8080/",
          "height": 430
        },
        "id": "UX07rUL0Slsz",
        "outputId": "05d50e25-8c2c-4139-ec75-447449f39212"
      },
      "execution_count": 25,
      "outputs": [
        {
          "output_type": "display_data",
          "data": {
            "text/plain": [
              "<Figure size 640x480 with 1 Axes>"
            ],
            "image/png": "[encoded data removed]"
          },
          "metadata": {}
        }
      ]
    },
    {
      "cell_type": "code",
      "source": [
        "def regression(myx,myb,mym):\n",
        "  return myx*mym + myb"
      ],
      "metadata": {
        "id": "i30nS39fSzhc"
      },
      "execution_count": 26,
      "outputs": []
    },
    {
      "cell_type": "markdown",
      "source": [
        "##**Machine Learning in Four Steps**"
      ],
      "metadata": {
        "id": "h_UxpKm5nHKQ"
      }
    },
    {
      "cell_type": "markdown",
      "source": [
        "###**Step 1: Forward Pass**"
      ],
      "metadata": {
        "id": "jcR3FN69nLGm"
      }
    },
    {
      "cell_type": "code",
      "source": [
        "yhat = regression(x,b,m)\n",
        "yhat"
      ],
      "metadata": {
        "colab": {
          "base_uri": "https://localhost:8080/"
        },
        "id": "P7V2KPG3W8HG",
        "outputId": "130405c1-1911-4cbf-9193-dacd26a8883f"
      },
      "execution_count": 29,
      "outputs": [
        {
          "output_type": "execute_result",
          "data": {
            "text/plain": [
              "tensor([0.1000, 1.0000, 1.9000, 2.8000, 3.7000, 4.6000, 5.5000, 6.4000],\n",
              "       grad_fn=<AddBackward0>)"
            ]
          },
          "metadata": {},
          "execution_count": 29
        }
      ]
    },
    {
      "cell_type": "markdown",
      "source": [
        "###**Step 2: Compare yhat with true y to calculate the cost C**\n",
        "\n",
        "There is a **MSELoss** in pytorch, but lets define it ourselves to see how it works.\n",
        "$$C = \\frac{1}{n} \\sum_{i=1}^n (\\hat{y_i}-y_i)^2 $$\n",
        "\n",
        "we square it jut bcz we want small losses to be ignored and larger losses to be in focus which will increase exponentially"
      ],
      "metadata": {
        "id": "GyrMyNyhn0lb"
      }
    },
    {
      "cell_type": "code",
      "source": [
        "def mse(myhat,myy):\n",
        "  sigma = torch.sum((myhat - myy)**2)\n",
        "  return sigma/len(myy)"
      ],
      "metadata": {
        "id": "MqTTXR2lW-15"
      },
      "execution_count": 30,
      "outputs": []
    },
    {
      "cell_type": "code",
      "source": [
        "C = mse(yhat,y)\n",
        "C"
      ],
      "metadata": {
        "colab": {
          "base_uri": "https://localhost:8080/"
        },
        "id": "PeGXm3iaqyHx",
        "outputId": "9758c596-1e62-418d-b9b9-85e0c4e532d4"
      },
      "execution_count": 31,
      "outputs": [
        {
          "output_type": "execute_result",
          "data": {
            "text/plain": [
              "tensor(19.6755, grad_fn=<DivBackward0>)"
            ]
          },
          "metadata": {},
          "execution_count": 31
        }
      ]
    },
    {
      "cell_type": "markdown",
      "source": [
        "###**Step 3: Use Autodiff to calculate gradient of C wrt parameters**"
      ],
      "metadata": {
        "id": "H7Ggv6wrrDv_"
      }
    },
    {
      "cell_type": "code",
      "source": [
        "C.backward()"
      ],
      "metadata": {
        "id": "xHpOu-27q085"
      },
      "execution_count": 32,
      "outputs": []
    },
    {
      "cell_type": "code",
      "source": [
        "m.grad"
      ],
      "metadata": {
        "colab": {
          "base_uri": "https://localhost:8080/"
        },
        "id": "Nl-nWi9xrcGh",
        "outputId": "62172794-cff7-450e-c1dc-66e608f7730f"
      },
      "execution_count": 33,
      "outputs": [
        {
          "output_type": "execute_result",
          "data": {
            "text/plain": [
              "tensor([36.3050])"
            ]
          },
          "metadata": {},
          "execution_count": 33
        }
      ]
    },
    {
      "cell_type": "code",
      "source": [
        "b.grad"
      ],
      "metadata": {
        "colab": {
          "base_uri": "https://localhost:8080/"
        },
        "id": "TTTQ0PBjrhZF",
        "outputId": "c3deee57-9920-48aa-d485-f8e61fe07b95"
      },
      "execution_count": 34,
      "outputs": [
        {
          "output_type": "execute_result",
          "data": {
            "text/plain": [
              "tensor([6.2650])"
            ]
          },
          "metadata": {},
          "execution_count": 34
        }
      ]
    },
    {
      "cell_type": "markdown",
      "source": [
        "###**Step 4: Gradient Descent**"
      ],
      "metadata": {
        "id": "eTA_xRNJsBxv"
      }
    },
    {
      "cell_type": "code",
      "source": [
        "optimiz = torch.optim.SGD([m,b],lr=0.01)"
      ],
      "metadata": {
        "id": "YR8SUzloriTJ"
      },
      "execution_count": 36,
      "outputs": []
    },
    {
      "cell_type": "code",
      "source": [
        "optimiz.step()"
      ],
      "metadata": {
        "id": "PA7GnezhsYHT"
      },
      "execution_count": 37,
      "outputs": []
    },
    {
      "cell_type": "code",
      "source": [
        "m"
      ],
      "metadata": {
        "colab": {
          "base_uri": "https://localhost:8080/"
        },
        "id": "5aSodrqEshUC",
        "outputId": "9c9a39ed-69ed-4cee-8441-30245ffa1675"
      },
      "execution_count": 38,
      "outputs": [
        {
          "output_type": "execute_result",
          "data": {
            "text/plain": [
              "tensor([0.5369], requires_grad=True)"
            ]
          },
          "metadata": {},
          "execution_count": 38
        }
      ]
    },
    {
      "cell_type": "code",
      "source": [
        "b"
      ],
      "metadata": {
        "colab": {
          "base_uri": "https://localhost:8080/"
        },
        "id": "2Q6cZiausi26",
        "outputId": "54b7a774-a9a8-4e2f-99f8-535a8b9f2921"
      },
      "execution_count": 39,
      "outputs": [
        {
          "output_type": "execute_result",
          "data": {
            "text/plain": [
              "tensor([0.0374], requires_grad=True)"
            ]
          },
          "metadata": {},
          "execution_count": 39
        }
      ]
    },
    {
      "cell_type": "code",
      "source": [
        "regression_plot(x,y,b,m)"
      ],
      "metadata": {
        "colab": {
          "base_uri": "https://localhost:8080/",
          "height": 430
        },
        "id": "PHSTrYDCsjCg",
        "outputId": "f7f35010-60ef-4573-90ad-091710c8774d"
      },
      "execution_count": 40,
      "outputs": [
        {
          "output_type": "display_data",
          "data": {
            "text/plain": [
              "<Figure size 640x480 with 1 Axes>"
            ],
            "image/png": "[encoded data removed]"
          },
          "metadata": {}
        }
      ]
    },
    {
      "cell_type": "code",
      "source": [
        "C = mse(regression(x,b,m),y)\n",
        "C"
      ],
      "metadata": {
        "colab": {
          "base_uri": "https://localhost:8080/"
        },
        "id": "AZqG_sFas8QE",
        "outputId": "7d9e647d-c8f4-4aef-9147-07a5c9af7982"
      },
      "execution_count": 41,
      "outputs": [
        {
          "output_type": "execute_result",
          "data": {
            "text/plain": [
              "tensor(8.5722, grad_fn=<DivBackward0>)"
            ]
          },
          "metadata": {},
          "execution_count": 41
        }
      ]
    },
    {
      "cell_type": "markdown",
      "source": [
        "##Put these four steps into a loop to iteratively reduce the loss/cost"
      ],
      "metadata": {
        "id": "ScOJjxcOtqU0"
      }
    },
    {
      "cell_type": "code",
      "source": [
        "epochs = 1000\n",
        "for epoch in range(epochs):\n",
        "  optimiz.zero_grad()   ## reset gradients to zero, otherwise they accumulate\n",
        "\n",
        "  yhat = regression(x,b,m)   ####  STEP 1\n",
        "  C = mse(yhat,y)     ##### STEP 2\n",
        "\n",
        "  C.backward()   ####### STEP 3\n",
        "\n",
        "  optimiz.step()   ####### STEP 4\n",
        "\n",
        "  print('Epoch {}, Cost {}, m grad {}, b grad {}, '.format(epoch,'%.3g'%C.item(), '%.3g'%m.grad,'%.3g'%b.grad))"
      ],
      "metadata": {
        "colab": {
          "base_uri": "https://localhost:8080/"
        },
        "id": "PoFj9lRvtfiK",
        "outputId": "ff46bbf7-c8bb-4aac-8a01-8ba2fbcfde77"
      },
      "execution_count": 42,
      "outputs": [
        {
          "output_type": "stream",
          "name": "stdout",
          "text": [
            "Epoch 0, Cost 8.57, m grad 23.2, b grad 3.6, \n",
            "Epoch 1, Cost 4.08, m grad 14.8, b grad 1.91, \n",
            "Epoch 2, Cost 2.25, m grad 9.49, b grad 0.831, \n",
            "Epoch 3, Cost 1.51, m grad 6.11, b grad 0.15, \n",
            "Epoch 4, Cost 1.2, m grad 3.96, b grad -0.28, \n",
            "Epoch 5, Cost 1.07, m grad 2.59, b grad -0.552, \n",
            "Epoch 6, Cost 1.01, m grad 1.72, b grad -0.723, \n",
            "Epoch 7, Cost 0.981, m grad 1.17, b grad -0.829, \n",
            "Epoch 8, Cost 0.962, m grad 0.82, b grad -0.894, \n",
            "Epoch 9, Cost 0.948, m grad 0.595, b grad -0.934, \n",
            "Epoch 10, Cost 0.936, m grad 0.452, b grad -0.957, \n",
            "Epoch 11, Cost 0.925, m grad 0.361, b grad -0.969, \n",
            "Epoch 12, Cost 0.915, m grad 0.302, b grad -0.975, \n",
            "Epoch 13, Cost 0.904, m grad 0.265, b grad -0.977, \n",
            "Epoch 14, Cost 0.894, m grad 0.241, b grad -0.976, \n",
            "Epoch 15, Cost 0.884, m grad 0.225, b grad -0.973, \n",
            "Epoch 16, Cost 0.874, m grad 0.214, b grad -0.969, \n",
            "Epoch 17, Cost 0.864, m grad 0.207, b grad -0.965, \n",
            "Epoch 18, Cost 0.854, m grad 0.202, b grad -0.96, \n",
            "Epoch 19, Cost 0.845, m grad 0.199, b grad -0.955, \n",
            "Epoch 20, Cost 0.835, m grad 0.196, b grad -0.95, \n",
            "Epoch 21, Cost 0.826, m grad 0.194, b grad -0.945, \n",
            "Epoch 22, Cost 0.817, m grad 0.192, b grad -0.939, \n",
            "Epoch 23, Cost 0.808, m grad 0.191, b grad -0.934, \n",
            "Epoch 24, Cost 0.799, m grad 0.189, b grad -0.929, \n",
            "Epoch 25, Cost 0.79, m grad 0.188, b grad -0.923, \n",
            "Epoch 26, Cost 0.781, m grad 0.187, b grad -0.918, \n",
            "Epoch 27, Cost 0.772, m grad 0.186, b grad -0.913, \n",
            "Epoch 28, Cost 0.763, m grad 0.185, b grad -0.908, \n",
            "Epoch 29, Cost 0.755, m grad 0.184, b grad -0.902, \n",
            "Epoch 30, Cost 0.746, m grad 0.182, b grad -0.897, \n",
            "Epoch 31, Cost 0.738, m grad 0.181, b grad -0.892, \n",
            "Epoch 32, Cost 0.73, m grad 0.18, b grad -0.887, \n",
            "Epoch 33, Cost 0.721, m grad 0.179, b grad -0.882, \n",
            "Epoch 34, Cost 0.713, m grad 0.178, b grad -0.877, \n",
            "Epoch 35, Cost 0.705, m grad 0.177, b grad -0.872, \n",
            "Epoch 36, Cost 0.698, m grad 0.176, b grad -0.867, \n",
            "Epoch 37, Cost 0.69, m grad 0.175, b grad -0.862, \n",
            "Epoch 38, Cost 0.682, m grad 0.174, b grad -0.857, \n",
            "Epoch 39, Cost 0.674, m grad 0.173, b grad -0.852, \n",
            "Epoch 40, Cost 0.667, m grad 0.172, b grad -0.847, \n",
            "Epoch 41, Cost 0.659, m grad 0.171, b grad -0.842, \n",
            "Epoch 42, Cost 0.652, m grad 0.17, b grad -0.837, \n",
            "Epoch 43, Cost 0.645, m grad 0.169, b grad -0.832, \n",
            "Epoch 44, Cost 0.638, m grad 0.168, b grad -0.827, \n",
            "Epoch 45, Cost 0.631, m grad 0.167, b grad -0.823, \n",
            "Epoch 46, Cost 0.624, m grad 0.166, b grad -0.818, \n",
            "Epoch 47, Cost 0.617, m grad 0.165, b grad -0.813, \n",
            "Epoch 48, Cost 0.61, m grad 0.164, b grad -0.808, \n",
            "Epoch 49, Cost 0.603, m grad 0.163, b grad -0.804, \n",
            "Epoch 50, Cost 0.596, m grad 0.163, b grad -0.799, \n",
            "Epoch 51, Cost 0.59, m grad 0.162, b grad -0.795, \n",
            "Epoch 52, Cost 0.583, m grad 0.161, b grad -0.79, \n",
            "Epoch 53, Cost 0.577, m grad 0.16, b grad -0.785, \n",
            "Epoch 54, Cost 0.57, m grad 0.159, b grad -0.781, \n",
            "Epoch 55, Cost 0.564, m grad 0.158, b grad -0.776, \n",
            "Epoch 56, Cost 0.558, m grad 0.157, b grad -0.772, \n",
            "Epoch 57, Cost 0.551, m grad 0.156, b grad -0.767, \n",
            "Epoch 58, Cost 0.545, m grad 0.155, b grad -0.763, \n",
            "Epoch 59, Cost 0.539, m grad 0.154, b grad -0.759, \n",
            "Epoch 60, Cost 0.533, m grad 0.153, b grad -0.754, \n",
            "Epoch 61, Cost 0.527, m grad 0.152, b grad -0.75, \n",
            "Epoch 62, Cost 0.521, m grad 0.152, b grad -0.746, \n",
            "Epoch 63, Cost 0.516, m grad 0.151, b grad -0.741, \n",
            "Epoch 64, Cost 0.51, m grad 0.15, b grad -0.737, \n",
            "Epoch 65, Cost 0.504, m grad 0.149, b grad -0.733, \n",
            "Epoch 66, Cost 0.499, m grad 0.148, b grad -0.729, \n",
            "Epoch 67, Cost 0.493, m grad 0.147, b grad -0.724, \n",
            "Epoch 68, Cost 0.488, m grad 0.146, b grad -0.72, \n",
            "Epoch 69, Cost 0.482, m grad 0.146, b grad -0.716, \n",
            "Epoch 70, Cost 0.477, m grad 0.145, b grad -0.712, \n",
            "Epoch 71, Cost 0.472, m grad 0.144, b grad -0.708, \n",
            "Epoch 72, Cost 0.467, m grad 0.143, b grad -0.704, \n",
            "Epoch 73, Cost 0.462, m grad 0.142, b grad -0.7, \n",
            "Epoch 74, Cost 0.456, m grad 0.141, b grad -0.696, \n",
            "Epoch 75, Cost 0.451, m grad 0.141, b grad -0.692, \n",
            "Epoch 76, Cost 0.446, m grad 0.14, b grad -0.688, \n",
            "Epoch 77, Cost 0.442, m grad 0.139, b grad -0.684, \n",
            "Epoch 78, Cost 0.437, m grad 0.138, b grad -0.68, \n",
            "Epoch 79, Cost 0.432, m grad 0.137, b grad -0.676, \n",
            "Epoch 80, Cost 0.427, m grad 0.137, b grad -0.672, \n",
            "Epoch 81, Cost 0.422, m grad 0.136, b grad -0.668, \n",
            "Epoch 82, Cost 0.418, m grad 0.135, b grad -0.664, \n",
            "Epoch 83, Cost 0.413, m grad 0.134, b grad -0.66, \n",
            "Epoch 84, Cost 0.409, m grad 0.134, b grad -0.657, \n",
            "Epoch 85, Cost 0.404, m grad 0.133, b grad -0.653, \n",
            "Epoch 86, Cost 0.4, m grad 0.132, b grad -0.649, \n",
            "Epoch 87, Cost 0.395, m grad 0.131, b grad -0.645, \n",
            "Epoch 88, Cost 0.391, m grad 0.13, b grad -0.642, \n",
            "Epoch 89, Cost 0.387, m grad 0.13, b grad -0.638, \n",
            "Epoch 90, Cost 0.383, m grad 0.129, b grad -0.634, \n",
            "Epoch 91, Cost 0.378, m grad 0.128, b grad -0.63, \n",
            "Epoch 92, Cost 0.374, m grad 0.127, b grad -0.627, \n",
            "Epoch 93, Cost 0.37, m grad 0.127, b grad -0.623, \n",
            "Epoch 94, Cost 0.366, m grad 0.126, b grad -0.62, \n",
            "Epoch 95, Cost 0.362, m grad 0.125, b grad -0.616, \n",
            "Epoch 96, Cost 0.358, m grad 0.125, b grad -0.613, \n",
            "Epoch 97, Cost 0.354, m grad 0.124, b grad -0.609, \n",
            "Epoch 98, Cost 0.351, m grad 0.123, b grad -0.605, \n",
            "Epoch 99, Cost 0.347, m grad 0.122, b grad -0.602, \n",
            "Epoch 100, Cost 0.343, m grad 0.122, b grad -0.599, \n",
            "Epoch 101, Cost 0.339, m grad 0.121, b grad -0.595, \n",
            "Epoch 102, Cost 0.336, m grad 0.12, b grad -0.592, \n",
            "Epoch 103, Cost 0.332, m grad 0.12, b grad -0.588, \n",
            "Epoch 104, Cost 0.328, m grad 0.119, b grad -0.585, \n",
            "Epoch 105, Cost 0.325, m grad 0.118, b grad -0.581, \n",
            "Epoch 106, Cost 0.321, m grad 0.118, b grad -0.578, \n",
            "Epoch 107, Cost 0.318, m grad 0.117, b grad -0.575, \n",
            "Epoch 108, Cost 0.314, m grad 0.116, b grad -0.571, \n",
            "Epoch 109, Cost 0.311, m grad 0.116, b grad -0.568, \n",
            "Epoch 110, Cost 0.308, m grad 0.115, b grad -0.565, \n",
            "Epoch 111, Cost 0.304, m grad 0.114, b grad -0.562, \n",
            "Epoch 112, Cost 0.301, m grad 0.114, b grad -0.558, \n",
            "Epoch 113, Cost 0.298, m grad 0.113, b grad -0.555, \n",
            "Epoch 114, Cost 0.295, m grad 0.112, b grad -0.552, \n",
            "Epoch 115, Cost 0.291, m grad 0.112, b grad -0.549, \n",
            "Epoch 116, Cost 0.288, m grad 0.111, b grad -0.546, \n",
            "Epoch 117, Cost 0.285, m grad 0.11, b grad -0.542, \n",
            "Epoch 118, Cost 0.282, m grad 0.11, b grad -0.539, \n",
            "Epoch 119, Cost 0.279, m grad 0.109, b grad -0.536, \n",
            "Epoch 120, Cost 0.276, m grad 0.108, b grad -0.533, \n",
            "Epoch 121, Cost 0.273, m grad 0.108, b grad -0.53, \n",
            "Epoch 122, Cost 0.27, m grad 0.107, b grad -0.527, \n",
            "Epoch 123, Cost 0.267, m grad 0.107, b grad -0.524, \n",
            "Epoch 124, Cost 0.265, m grad 0.106, b grad -0.521, \n",
            "Epoch 125, Cost 0.262, m grad 0.105, b grad -0.518, \n",
            "Epoch 126, Cost 0.259, m grad 0.105, b grad -0.515, \n",
            "Epoch 127, Cost 0.256, m grad 0.104, b grad -0.512, \n",
            "Epoch 128, Cost 0.253, m grad 0.104, b grad -0.509, \n",
            "Epoch 129, Cost 0.251, m grad 0.103, b grad -0.506, \n",
            "Epoch 130, Cost 0.248, m grad 0.102, b grad -0.503, \n",
            "Epoch 131, Cost 0.245, m grad 0.102, b grad -0.5, \n",
            "Epoch 132, Cost 0.243, m grad 0.101, b grad -0.497, \n",
            "Epoch 133, Cost 0.24, m grad 0.101, b grad -0.495, \n",
            "Epoch 134, Cost 0.238, m grad 0.1, b grad -0.492, \n",
            "Epoch 135, Cost 0.235, m grad 0.0994, b grad -0.489, \n",
            "Epoch 136, Cost 0.233, m grad 0.0988, b grad -0.486, \n",
            "Epoch 137, Cost 0.23, m grad 0.0983, b grad -0.483, \n",
            "Epoch 138, Cost 0.228, m grad 0.0977, b grad -0.48, \n",
            "Epoch 139, Cost 0.226, m grad 0.0971, b grad -0.478, \n",
            "Epoch 140, Cost 0.223, m grad 0.0966, b grad -0.475, \n",
            "Epoch 141, Cost 0.221, m grad 0.096, b grad -0.472, \n",
            "Epoch 142, Cost 0.218, m grad 0.0955, b grad -0.469, \n",
            "Epoch 143, Cost 0.216, m grad 0.0949, b grad -0.467, \n",
            "Epoch 144, Cost 0.214, m grad 0.0944, b grad -0.464, \n",
            "Epoch 145, Cost 0.212, m grad 0.0938, b grad -0.461, \n",
            "Epoch 146, Cost 0.21, m grad 0.0933, b grad -0.459, \n",
            "Epoch 147, Cost 0.207, m grad 0.0927, b grad -0.456, \n",
            "Epoch 148, Cost 0.205, m grad 0.0922, b grad -0.453, \n",
            "Epoch 149, Cost 0.203, m grad 0.0917, b grad -0.451, \n",
            "Epoch 150, Cost 0.201, m grad 0.0911, b grad -0.448, \n",
            "Epoch 151, Cost 0.199, m grad 0.0906, b grad -0.446, \n",
            "Epoch 152, Cost 0.197, m grad 0.0901, b grad -0.443, \n",
            "Epoch 153, Cost 0.195, m grad 0.0896, b grad -0.441, \n",
            "Epoch 154, Cost 0.193, m grad 0.0891, b grad -0.438, \n",
            "Epoch 155, Cost 0.191, m grad 0.0886, b grad -0.435, \n",
            "Epoch 156, Cost 0.189, m grad 0.088, b grad -0.433, \n",
            "Epoch 157, Cost 0.187, m grad 0.0875, b grad -0.43, \n",
            "Epoch 158, Cost 0.185, m grad 0.087, b grad -0.428, \n",
            "Epoch 159, Cost 0.183, m grad 0.0865, b grad -0.426, \n",
            "Epoch 160, Cost 0.181, m grad 0.086, b grad -0.423, \n",
            "Epoch 161, Cost 0.179, m grad 0.0855, b grad -0.421, \n",
            "Epoch 162, Cost 0.177, m grad 0.085, b grad -0.418, \n",
            "Epoch 163, Cost 0.176, m grad 0.0845, b grad -0.416, \n",
            "Epoch 164, Cost 0.174, m grad 0.0841, b grad -0.413, \n",
            "Epoch 165, Cost 0.172, m grad 0.0836, b grad -0.411, \n",
            "Epoch 166, Cost 0.17, m grad 0.0831, b grad -0.409, \n",
            "Epoch 167, Cost 0.169, m grad 0.0826, b grad -0.406, \n",
            "Epoch 168, Cost 0.167, m grad 0.0821, b grad -0.404, \n",
            "Epoch 169, Cost 0.165, m grad 0.0817, b grad -0.402, \n",
            "Epoch 170, Cost 0.163, m grad 0.0812, b grad -0.399, \n",
            "Epoch 171, Cost 0.162, m grad 0.0807, b grad -0.397, \n",
            "Epoch 172, Cost 0.16, m grad 0.0803, b grad -0.395, \n",
            "Epoch 173, Cost 0.159, m grad 0.0798, b grad -0.392, \n",
            "Epoch 174, Cost 0.157, m grad 0.0793, b grad -0.39, \n",
            "Epoch 175, Cost 0.155, m grad 0.0789, b grad -0.388, \n",
            "Epoch 176, Cost 0.154, m grad 0.0784, b grad -0.386, \n",
            "Epoch 177, Cost 0.152, m grad 0.078, b grad -0.383, \n",
            "Epoch 178, Cost 0.151, m grad 0.0775, b grad -0.381, \n",
            "Epoch 179, Cost 0.149, m grad 0.0771, b grad -0.379, \n",
            "Epoch 180, Cost 0.148, m grad 0.0766, b grad -0.377, \n",
            "Epoch 181, Cost 0.146, m grad 0.0762, b grad -0.375, \n",
            "Epoch 182, Cost 0.145, m grad 0.0758, b grad -0.373, \n",
            "Epoch 183, Cost 0.143, m grad 0.0753, b grad -0.37, \n",
            "Epoch 184, Cost 0.142, m grad 0.0749, b grad -0.368, \n",
            "Epoch 185, Cost 0.141, m grad 0.0744, b grad -0.366, \n",
            "Epoch 186, Cost 0.139, m grad 0.074, b grad -0.364, \n",
            "Epoch 187, Cost 0.138, m grad 0.0736, b grad -0.362, \n",
            "Epoch 188, Cost 0.136, m grad 0.0732, b grad -0.36, \n",
            "Epoch 189, Cost 0.135, m grad 0.0727, b grad -0.358, \n",
            "Epoch 190, Cost 0.134, m grad 0.0723, b grad -0.356, \n",
            "Epoch 191, Cost 0.132, m grad 0.0719, b grad -0.354, \n",
            "Epoch 192, Cost 0.131, m grad 0.0715, b grad -0.352, \n",
            "Epoch 193, Cost 0.13, m grad 0.0711, b grad -0.35, \n",
            "Epoch 194, Cost 0.129, m grad 0.0707, b grad -0.348, \n",
            "Epoch 195, Cost 0.127, m grad 0.0703, b grad -0.346, \n",
            "Epoch 196, Cost 0.126, m grad 0.0699, b grad -0.344, \n",
            "Epoch 197, Cost 0.125, m grad 0.0695, b grad -0.342, \n",
            "Epoch 198, Cost 0.124, m grad 0.0691, b grad -0.34, \n",
            "Epoch 199, Cost 0.122, m grad 0.0687, b grad -0.338, \n",
            "Epoch 200, Cost 0.121, m grad 0.0683, b grad -0.336, \n",
            "Epoch 201, Cost 0.12, m grad 0.0679, b grad -0.334, \n",
            "Epoch 202, Cost 0.119, m grad 0.0675, b grad -0.332, \n",
            "Epoch 203, Cost 0.118, m grad 0.0671, b grad -0.33, \n",
            "Epoch 204, Cost 0.117, m grad 0.0667, b grad -0.328, \n",
            "Epoch 205, Cost 0.116, m grad 0.0663, b grad -0.326, \n",
            "Epoch 206, Cost 0.114, m grad 0.0659, b grad -0.324, \n",
            "Epoch 207, Cost 0.113, m grad 0.0656, b grad -0.322, \n",
            "Epoch 208, Cost 0.112, m grad 0.0652, b grad -0.321, \n",
            "Epoch 209, Cost 0.111, m grad 0.0648, b grad -0.319, \n",
            "Epoch 210, Cost 0.11, m grad 0.0644, b grad -0.317, \n",
            "Epoch 211, Cost 0.109, m grad 0.0641, b grad -0.315, \n",
            "Epoch 212, Cost 0.108, m grad 0.0637, b grad -0.313, \n",
            "Epoch 213, Cost 0.107, m grad 0.0633, b grad -0.311, \n",
            "Epoch 214, Cost 0.106, m grad 0.063, b grad -0.31, \n",
            "Epoch 215, Cost 0.105, m grad 0.0626, b grad -0.308, \n",
            "Epoch 216, Cost 0.104, m grad 0.0622, b grad -0.306, \n",
            "Epoch 217, Cost 0.103, m grad 0.0619, b grad -0.304, \n",
            "Epoch 218, Cost 0.102, m grad 0.0615, b grad -0.303, \n",
            "Epoch 219, Cost 0.101, m grad 0.0612, b grad -0.301, \n",
            "Epoch 220, Cost 0.1, m grad 0.0608, b grad -0.299, \n",
            "Epoch 221, Cost 0.0993, m grad 0.0605, b grad -0.297, \n",
            "Epoch 222, Cost 0.0984, m grad 0.0601, b grad -0.296, \n",
            "Epoch 223, Cost 0.0975, m grad 0.0598, b grad -0.294, \n",
            "Epoch 224, Cost 0.0966, m grad 0.0594, b grad -0.292, \n",
            "Epoch 225, Cost 0.0957, m grad 0.0591, b grad -0.291, \n",
            "Epoch 226, Cost 0.0948, m grad 0.0587, b grad -0.289, \n",
            "Epoch 227, Cost 0.0939, m grad 0.0584, b grad -0.287, \n",
            "Epoch 228, Cost 0.0931, m grad 0.0581, b grad -0.286, \n",
            "Epoch 229, Cost 0.0922, m grad 0.0577, b grad -0.284, \n",
            "Epoch 230, Cost 0.0914, m grad 0.0574, b grad -0.282, \n",
            "Epoch 231, Cost 0.0906, m grad 0.0571, b grad -0.281, \n",
            "Epoch 232, Cost 0.0898, m grad 0.0567, b grad -0.279, \n",
            "Epoch 233, Cost 0.089, m grad 0.0564, b grad -0.277, \n",
            "Epoch 234, Cost 0.0882, m grad 0.0561, b grad -0.276, \n",
            "Epoch 235, Cost 0.0874, m grad 0.0558, b grad -0.274, \n",
            "Epoch 236, Cost 0.0866, m grad 0.0554, b grad -0.273, \n",
            "Epoch 237, Cost 0.0858, m grad 0.0551, b grad -0.271, \n",
            "Epoch 238, Cost 0.085, m grad 0.0548, b grad -0.269, \n",
            "Epoch 239, Cost 0.0843, m grad 0.0545, b grad -0.268, \n",
            "Epoch 240, Cost 0.0835, m grad 0.0542, b grad -0.266, \n",
            "Epoch 241, Cost 0.0828, m grad 0.0539, b grad -0.265, \n",
            "Epoch 242, Cost 0.0821, m grad 0.0535, b grad -0.263, \n",
            "Epoch 243, Cost 0.0814, m grad 0.0532, b grad -0.262, \n",
            "Epoch 244, Cost 0.0807, m grad 0.0529, b grad -0.26, \n",
            "Epoch 245, Cost 0.0799, m grad 0.0526, b grad -0.259, \n",
            "Epoch 246, Cost 0.0793, m grad 0.0523, b grad -0.257, \n",
            "Epoch 247, Cost 0.0786, m grad 0.052, b grad -0.256, \n",
            "Epoch 248, Cost 0.0779, m grad 0.0517, b grad -0.254, \n",
            "Epoch 249, Cost 0.0772, m grad 0.0514, b grad -0.253, \n",
            "Epoch 250, Cost 0.0765, m grad 0.0511, b grad -0.251, \n",
            "Epoch 251, Cost 0.0759, m grad 0.0508, b grad -0.25, \n",
            "Epoch 252, Cost 0.0752, m grad 0.0505, b grad -0.249, \n",
            "Epoch 253, Cost 0.0746, m grad 0.0502, b grad -0.247, \n",
            "Epoch 254, Cost 0.074, m grad 0.05, b grad -0.246, \n",
            "Epoch 255, Cost 0.0733, m grad 0.0497, b grad -0.244, \n",
            "Epoch 256, Cost 0.0727, m grad 0.0494, b grad -0.243, \n",
            "Epoch 257, Cost 0.0721, m grad 0.0491, b grad -0.241, \n",
            "Epoch 258, Cost 0.0715, m grad 0.0488, b grad -0.24, \n",
            "Epoch 259, Cost 0.0709, m grad 0.0485, b grad -0.239, \n",
            "Epoch 260, Cost 0.0703, m grad 0.0483, b grad -0.237, \n",
            "Epoch 261, Cost 0.0697, m grad 0.048, b grad -0.236, \n",
            "Epoch 262, Cost 0.0692, m grad 0.0477, b grad -0.235, \n",
            "Epoch 263, Cost 0.0686, m grad 0.0474, b grad -0.233, \n",
            "Epoch 264, Cost 0.068, m grad 0.0471, b grad -0.232, \n",
            "Epoch 265, Cost 0.0675, m grad 0.0469, b grad -0.231, \n",
            "Epoch 266, Cost 0.0669, m grad 0.0466, b grad -0.229, \n",
            "Epoch 267, Cost 0.0664, m grad 0.0463, b grad -0.228, \n",
            "Epoch 268, Cost 0.0658, m grad 0.0461, b grad -0.227, \n",
            "Epoch 269, Cost 0.0653, m grad 0.0458, b grad -0.225, \n",
            "Epoch 270, Cost 0.0648, m grad 0.0455, b grad -0.224, \n",
            "Epoch 271, Cost 0.0642, m grad 0.0453, b grad -0.223, \n",
            "Epoch 272, Cost 0.0637, m grad 0.045, b grad -0.221, \n",
            "Epoch 273, Cost 0.0632, m grad 0.0448, b grad -0.22, \n",
            "Epoch 274, Cost 0.0627, m grad 0.0445, b grad -0.219, \n",
            "Epoch 275, Cost 0.0622, m grad 0.0442, b grad -0.218, \n",
            "Epoch 276, Cost 0.0617, m grad 0.044, b grad -0.216, \n",
            "Epoch 277, Cost 0.0612, m grad 0.0437, b grad -0.215, \n",
            "Epoch 278, Cost 0.0608, m grad 0.0435, b grad -0.214, \n",
            "Epoch 279, Cost 0.0603, m grad 0.0432, b grad -0.213, \n",
            "Epoch 280, Cost 0.0598, m grad 0.043, b grad -0.211, \n",
            "Epoch 281, Cost 0.0594, m grad 0.0427, b grad -0.21, \n",
            "Epoch 282, Cost 0.0589, m grad 0.0425, b grad -0.209, \n",
            "Epoch 283, Cost 0.0584, m grad 0.0422, b grad -0.208, \n",
            "Epoch 284, Cost 0.058, m grad 0.042, b grad -0.207, \n",
            "Epoch 285, Cost 0.0575, m grad 0.0418, b grad -0.205, \n",
            "Epoch 286, Cost 0.0571, m grad 0.0415, b grad -0.204, \n",
            "Epoch 287, Cost 0.0567, m grad 0.0413, b grad -0.203, \n",
            "Epoch 288, Cost 0.0562, m grad 0.041, b grad -0.202, \n",
            "Epoch 289, Cost 0.0558, m grad 0.0408, b grad -0.201, \n",
            "Epoch 290, Cost 0.0554, m grad 0.0406, b grad -0.199, \n",
            "Epoch 291, Cost 0.055, m grad 0.0403, b grad -0.198, \n",
            "Epoch 292, Cost 0.0546, m grad 0.0401, b grad -0.197, \n",
            "Epoch 293, Cost 0.0542, m grad 0.0399, b grad -0.196, \n",
            "Epoch 294, Cost 0.0538, m grad 0.0396, b grad -0.195, \n",
            "Epoch 295, Cost 0.0534, m grad 0.0394, b grad -0.194, \n",
            "Epoch 296, Cost 0.053, m grad 0.0392, b grad -0.193, \n",
            "Epoch 297, Cost 0.0526, m grad 0.039, b grad -0.192, \n",
            "Epoch 298, Cost 0.0522, m grad 0.0387, b grad -0.19, \n",
            "Epoch 299, Cost 0.0519, m grad 0.0385, b grad -0.189, \n",
            "Epoch 300, Cost 0.0515, m grad 0.0383, b grad -0.188, \n",
            "Epoch 301, Cost 0.0511, m grad 0.0381, b grad -0.187, \n",
            "Epoch 302, Cost 0.0508, m grad 0.0378, b grad -0.186, \n",
            "Epoch 303, Cost 0.0504, m grad 0.0376, b grad -0.185, \n",
            "Epoch 304, Cost 0.05, m grad 0.0374, b grad -0.184, \n",
            "Epoch 305, Cost 0.0497, m grad 0.0372, b grad -0.183, \n",
            "Epoch 306, Cost 0.0493, m grad 0.037, b grad -0.182, \n",
            "Epoch 307, Cost 0.049, m grad 0.0368, b grad -0.181, \n",
            "Epoch 308, Cost 0.0487, m grad 0.0366, b grad -0.18, \n",
            "Epoch 309, Cost 0.0483, m grad 0.0363, b grad -0.179, \n",
            "Epoch 310, Cost 0.048, m grad 0.0361, b grad -0.178, \n",
            "Epoch 311, Cost 0.0477, m grad 0.0359, b grad -0.177, \n",
            "Epoch 312, Cost 0.0473, m grad 0.0357, b grad -0.176, \n",
            "Epoch 313, Cost 0.047, m grad 0.0355, b grad -0.175, \n",
            "Epoch 314, Cost 0.0467, m grad 0.0353, b grad -0.174, \n",
            "Epoch 315, Cost 0.0464, m grad 0.0351, b grad -0.173, \n",
            "Epoch 316, Cost 0.0461, m grad 0.0349, b grad -0.172, \n",
            "Epoch 317, Cost 0.0458, m grad 0.0347, b grad -0.171, \n",
            "Epoch 318, Cost 0.0455, m grad 0.0345, b grad -0.17, \n",
            "Epoch 319, Cost 0.0452, m grad 0.0343, b grad -0.169, \n",
            "Epoch 320, Cost 0.0449, m grad 0.0341, b grad -0.168, \n",
            "Epoch 321, Cost 0.0446, m grad 0.0339, b grad -0.167, \n",
            "Epoch 322, Cost 0.0443, m grad 0.0337, b grad -0.166, \n",
            "Epoch 323, Cost 0.044, m grad 0.0335, b grad -0.165, \n",
            "Epoch 324, Cost 0.0437, m grad 0.0333, b grad -0.164, \n",
            "Epoch 325, Cost 0.0434, m grad 0.0331, b grad -0.163, \n",
            "Epoch 326, Cost 0.0432, m grad 0.0329, b grad -0.162, \n",
            "Epoch 327, Cost 0.0429, m grad 0.0328, b grad -0.161, \n",
            "Epoch 328, Cost 0.0426, m grad 0.0326, b grad -0.16, \n",
            "Epoch 329, Cost 0.0424, m grad 0.0324, b grad -0.159, \n",
            "Epoch 330, Cost 0.0421, m grad 0.0322, b grad -0.158, \n",
            "Epoch 331, Cost 0.0418, m grad 0.032, b grad -0.157, \n",
            "Epoch 332, Cost 0.0416, m grad 0.0318, b grad -0.156, \n",
            "Epoch 333, Cost 0.0413, m grad 0.0316, b grad -0.156, \n",
            "Epoch 334, Cost 0.0411, m grad 0.0315, b grad -0.155, \n",
            "Epoch 335, Cost 0.0408, m grad 0.0313, b grad -0.154, \n",
            "Epoch 336, Cost 0.0406, m grad 0.0311, b grad -0.153, \n",
            "Epoch 337, Cost 0.0403, m grad 0.0309, b grad -0.152, \n",
            "Epoch 338, Cost 0.0401, m grad 0.0307, b grad -0.151, \n",
            "Epoch 339, Cost 0.0399, m grad 0.0306, b grad -0.15, \n",
            "Epoch 340, Cost 0.0396, m grad 0.0304, b grad -0.149, \n",
            "Epoch 341, Cost 0.0394, m grad 0.0302, b grad -0.149, \n",
            "Epoch 342, Cost 0.0392, m grad 0.03, b grad -0.148, \n",
            "Epoch 343, Cost 0.0389, m grad 0.0299, b grad -0.147, \n",
            "Epoch 344, Cost 0.0387, m grad 0.0297, b grad -0.146, \n",
            "Epoch 345, Cost 0.0385, m grad 0.0295, b grad -0.145, \n",
            "Epoch 346, Cost 0.0383, m grad 0.0293, b grad -0.144, \n",
            "Epoch 347, Cost 0.0381, m grad 0.0292, b grad -0.143, \n",
            "Epoch 348, Cost 0.0378, m grad 0.029, b grad -0.143, \n",
            "Epoch 349, Cost 0.0376, m grad 0.0288, b grad -0.142, \n",
            "Epoch 350, Cost 0.0374, m grad 0.0287, b grad -0.141, \n",
            "Epoch 351, Cost 0.0372, m grad 0.0285, b grad -0.14, \n",
            "Epoch 352, Cost 0.037, m grad 0.0283, b grad -0.139, \n",
            "Epoch 353, Cost 0.0368, m grad 0.0282, b grad -0.139, \n",
            "Epoch 354, Cost 0.0366, m grad 0.028, b grad -0.138, \n",
            "Epoch 355, Cost 0.0364, m grad 0.0279, b grad -0.137, \n",
            "Epoch 356, Cost 0.0362, m grad 0.0277, b grad -0.136, \n",
            "Epoch 357, Cost 0.036, m grad 0.0275, b grad -0.135, \n",
            "Epoch 358, Cost 0.0358, m grad 0.0274, b grad -0.135, \n",
            "Epoch 359, Cost 0.0356, m grad 0.0272, b grad -0.134, \n",
            "Epoch 360, Cost 0.0355, m grad 0.0271, b grad -0.133, \n",
            "Epoch 361, Cost 0.0353, m grad 0.0269, b grad -0.132, \n",
            "Epoch 362, Cost 0.0351, m grad 0.0268, b grad -0.132, \n",
            "Epoch 363, Cost 0.0349, m grad 0.0266, b grad -0.131, \n",
            "Epoch 364, Cost 0.0347, m grad 0.0264, b grad -0.13, \n",
            "Epoch 365, Cost 0.0346, m grad 0.0263, b grad -0.129, \n",
            "Epoch 366, Cost 0.0344, m grad 0.0261, b grad -0.129, \n",
            "Epoch 367, Cost 0.0342, m grad 0.026, b grad -0.128, \n",
            "Epoch 368, Cost 0.034, m grad 0.0258, b grad -0.127, \n",
            "Epoch 369, Cost 0.0339, m grad 0.0257, b grad -0.126, \n",
            "Epoch 370, Cost 0.0337, m grad 0.0255, b grad -0.126, \n",
            "Epoch 371, Cost 0.0336, m grad 0.0254, b grad -0.125, \n",
            "Epoch 372, Cost 0.0334, m grad 0.0253, b grad -0.124, \n",
            "Epoch 373, Cost 0.0332, m grad 0.0251, b grad -0.123, \n",
            "Epoch 374, Cost 0.0331, m grad 0.025, b grad -0.123, \n",
            "Epoch 375, Cost 0.0329, m grad 0.0248, b grad -0.122, \n",
            "Epoch 376, Cost 0.0328, m grad 0.0247, b grad -0.121, \n",
            "Epoch 377, Cost 0.0326, m grad 0.0245, b grad -0.121, \n",
            "Epoch 378, Cost 0.0325, m grad 0.0244, b grad -0.12, \n",
            "Epoch 379, Cost 0.0323, m grad 0.0242, b grad -0.119, \n",
            "Epoch 380, Cost 0.0322, m grad 0.0241, b grad -0.119, \n",
            "Epoch 381, Cost 0.032, m grad 0.024, b grad -0.118, \n",
            "Epoch 382, Cost 0.0319, m grad 0.0238, b grad -0.117, \n",
            "Epoch 383, Cost 0.0317, m grad 0.0237, b grad -0.117, \n",
            "Epoch 384, Cost 0.0316, m grad 0.0236, b grad -0.116, \n",
            "Epoch 385, Cost 0.0314, m grad 0.0234, b grad -0.115, \n",
            "Epoch 386, Cost 0.0313, m grad 0.0233, b grad -0.115, \n",
            "Epoch 387, Cost 0.0312, m grad 0.0232, b grad -0.114, \n",
            "Epoch 388, Cost 0.031, m grad 0.023, b grad -0.113, \n",
            "Epoch 389, Cost 0.0309, m grad 0.0229, b grad -0.113, \n",
            "Epoch 390, Cost 0.0308, m grad 0.0228, b grad -0.112, \n",
            "Epoch 391, Cost 0.0306, m grad 0.0226, b grad -0.111, \n",
            "Epoch 392, Cost 0.0305, m grad 0.0225, b grad -0.111, \n",
            "Epoch 393, Cost 0.0304, m grad 0.0224, b grad -0.11, \n",
            "Epoch 394, Cost 0.0303, m grad 0.0222, b grad -0.109, \n",
            "Epoch 395, Cost 0.0301, m grad 0.0221, b grad -0.109, \n",
            "Epoch 396, Cost 0.03, m grad 0.022, b grad -0.108, \n",
            "Epoch 397, Cost 0.0299, m grad 0.0219, b grad -0.107, \n",
            "Epoch 398, Cost 0.0298, m grad 0.0217, b grad -0.107, \n",
            "Epoch 399, Cost 0.0297, m grad 0.0216, b grad -0.106, \n",
            "Epoch 400, Cost 0.0295, m grad 0.0215, b grad -0.106, \n",
            "Epoch 401, Cost 0.0294, m grad 0.0214, b grad -0.105, \n",
            "Epoch 402, Cost 0.0293, m grad 0.0212, b grad -0.104, \n",
            "Epoch 403, Cost 0.0292, m grad 0.0211, b grad -0.104, \n",
            "Epoch 404, Cost 0.0291, m grad 0.021, b grad -0.103, \n",
            "Epoch 405, Cost 0.029, m grad 0.0209, b grad -0.103, \n",
            "Epoch 406, Cost 0.0289, m grad 0.0207, b grad -0.102, \n",
            "Epoch 407, Cost 0.0288, m grad 0.0206, b grad -0.101, \n",
            "Epoch 408, Cost 0.0286, m grad 0.0205, b grad -0.101, \n",
            "Epoch 409, Cost 0.0285, m grad 0.0204, b grad -0.1, \n",
            "Epoch 410, Cost 0.0284, m grad 0.0203, b grad -0.0997, \n",
            "Epoch 411, Cost 0.0283, m grad 0.0202, b grad -0.0991, \n",
            "Epoch 412, Cost 0.0282, m grad 0.02, b grad -0.0985, \n",
            "Epoch 413, Cost 0.0281, m grad 0.0199, b grad -0.098, \n",
            "Epoch 414, Cost 0.028, m grad 0.0198, b grad -0.0974, \n",
            "Epoch 415, Cost 0.0279, m grad 0.0197, b grad -0.0968, \n",
            "Epoch 416, Cost 0.0278, m grad 0.0196, b grad -0.0963, \n",
            "Epoch 417, Cost 0.0277, m grad 0.0195, b grad -0.0957, \n",
            "Epoch 418, Cost 0.0276, m grad 0.0194, b grad -0.0952, \n",
            "Epoch 419, Cost 0.0276, m grad 0.0192, b grad -0.0946, \n",
            "Epoch 420, Cost 0.0275, m grad 0.0191, b grad -0.0941, \n",
            "Epoch 421, Cost 0.0274, m grad 0.019, b grad -0.0935, \n",
            "Epoch 422, Cost 0.0273, m grad 0.0189, b grad -0.093, \n",
            "Epoch 423, Cost 0.0272, m grad 0.0188, b grad -0.0925, \n",
            "Epoch 424, Cost 0.0271, m grad 0.0187, b grad -0.0919, \n",
            "Epoch 425, Cost 0.027, m grad 0.0186, b grad -0.0914, \n",
            "Epoch 426, Cost 0.0269, m grad 0.0185, b grad -0.0909, \n",
            "Epoch 427, Cost 0.0268, m grad 0.0184, b grad -0.0903, \n",
            "Epoch 428, Cost 0.0268, m grad 0.0183, b grad -0.0898, \n",
            "Epoch 429, Cost 0.0267, m grad 0.0182, b grad -0.0893, \n",
            "Epoch 430, Cost 0.0266, m grad 0.0181, b grad -0.0888, \n",
            "Epoch 431, Cost 0.0265, m grad 0.018, b grad -0.0883, \n",
            "Epoch 432, Cost 0.0264, m grad 0.0178, b grad -0.0878, \n",
            "Epoch 433, Cost 0.0263, m grad 0.0177, b grad -0.0873, \n",
            "Epoch 434, Cost 0.0263, m grad 0.0176, b grad -0.0868, \n",
            "Epoch 435, Cost 0.0262, m grad 0.0175, b grad -0.0863, \n",
            "Epoch 436, Cost 0.0261, m grad 0.0174, b grad -0.0858, \n",
            "Epoch 437, Cost 0.026, m grad 0.0173, b grad -0.0853, \n",
            "Epoch 438, Cost 0.026, m grad 0.0172, b grad -0.0848, \n",
            "Epoch 439, Cost 0.0259, m grad 0.0171, b grad -0.0843, \n",
            "Epoch 440, Cost 0.0258, m grad 0.017, b grad -0.0838, \n",
            "Epoch 441, Cost 0.0257, m grad 0.0169, b grad -0.0833, \n",
            "Epoch 442, Cost 0.0257, m grad 0.0168, b grad -0.0828, \n",
            "Epoch 443, Cost 0.0256, m grad 0.0167, b grad -0.0824, \n",
            "Epoch 444, Cost 0.0255, m grad 0.0167, b grad -0.0819, \n",
            "Epoch 445, Cost 0.0255, m grad 0.0166, b grad -0.0814, \n",
            "Epoch 446, Cost 0.0254, m grad 0.0165, b grad -0.0809, \n",
            "Epoch 447, Cost 0.0253, m grad 0.0164, b grad -0.0805, \n",
            "Epoch 448, Cost 0.0252, m grad 0.0163, b grad -0.08, \n",
            "Epoch 449, Cost 0.0252, m grad 0.0162, b grad -0.0796, \n",
            "Epoch 450, Cost 0.0251, m grad 0.0161, b grad -0.0791, \n",
            "Epoch 451, Cost 0.0251, m grad 0.016, b grad -0.0786, \n",
            "Epoch 452, Cost 0.025, m grad 0.0159, b grad -0.0782, \n",
            "Epoch 453, Cost 0.0249, m grad 0.0158, b grad -0.0777, \n",
            "Epoch 454, Cost 0.0249, m grad 0.0157, b grad -0.0773, \n",
            "Epoch 455, Cost 0.0248, m grad 0.0156, b grad -0.0768, \n",
            "Epoch 456, Cost 0.0247, m grad 0.0155, b grad -0.0764, \n",
            "Epoch 457, Cost 0.0247, m grad 0.0154, b grad -0.076, \n",
            "Epoch 458, Cost 0.0246, m grad 0.0154, b grad -0.0755, \n",
            "Epoch 459, Cost 0.0246, m grad 0.0153, b grad -0.0751, \n",
            "Epoch 460, Cost 0.0245, m grad 0.0152, b grad -0.0747, \n",
            "Epoch 461, Cost 0.0244, m grad 0.0151, b grad -0.0742, \n",
            "Epoch 462, Cost 0.0244, m grad 0.015, b grad -0.0738, \n",
            "Epoch 463, Cost 0.0243, m grad 0.0149, b grad -0.0734, \n",
            "Epoch 464, Cost 0.0243, m grad 0.0148, b grad -0.0729, \n",
            "Epoch 465, Cost 0.0242, m grad 0.0147, b grad -0.0725, \n",
            "Epoch 466, Cost 0.0242, m grad 0.0147, b grad -0.0721, \n",
            "Epoch 467, Cost 0.0241, m grad 0.0146, b grad -0.0717, \n",
            "Epoch 468, Cost 0.0241, m grad 0.0145, b grad -0.0713, \n",
            "Epoch 469, Cost 0.024, m grad 0.0144, b grad -0.0709, \n",
            "Epoch 470, Cost 0.0239, m grad 0.0143, b grad -0.0705, \n",
            "Epoch 471, Cost 0.0239, m grad 0.0142, b grad -0.0701, \n",
            "Epoch 472, Cost 0.0238, m grad 0.0142, b grad -0.0696, \n",
            "Epoch 473, Cost 0.0238, m grad 0.0141, b grad -0.0692, \n",
            "Epoch 474, Cost 0.0237, m grad 0.014, b grad -0.0688, \n",
            "Epoch 475, Cost 0.0237, m grad 0.0139, b grad -0.0685, \n",
            "Epoch 476, Cost 0.0236, m grad 0.0138, b grad -0.0681, \n",
            "Epoch 477, Cost 0.0236, m grad 0.0138, b grad -0.0677, \n",
            "Epoch 478, Cost 0.0236, m grad 0.0137, b grad -0.0673, \n",
            "Epoch 479, Cost 0.0235, m grad 0.0136, b grad -0.0669, \n",
            "Epoch 480, Cost 0.0235, m grad 0.0135, b grad -0.0665, \n",
            "Epoch 481, Cost 0.0234, m grad 0.0134, b grad -0.0661, \n",
            "Epoch 482, Cost 0.0234, m grad 0.0134, b grad -0.0657, \n",
            "Epoch 483, Cost 0.0233, m grad 0.0133, b grad -0.0654, \n",
            "Epoch 484, Cost 0.0233, m grad 0.0132, b grad -0.065, \n",
            "Epoch 485, Cost 0.0232, m grad 0.0131, b grad -0.0646, \n",
            "Epoch 486, Cost 0.0232, m grad 0.0131, b grad -0.0642, \n",
            "Epoch 487, Cost 0.0231, m grad 0.013, b grad -0.0639, \n",
            "Epoch 488, Cost 0.0231, m grad 0.0129, b grad -0.0635, \n",
            "Epoch 489, Cost 0.0231, m grad 0.0128, b grad -0.0631, \n",
            "Epoch 490, Cost 0.023, m grad 0.0128, b grad -0.0628, \n",
            "Epoch 491, Cost 0.023, m grad 0.0127, b grad -0.0624, \n",
            "Epoch 492, Cost 0.0229, m grad 0.0126, b grad -0.062, \n",
            "Epoch 493, Cost 0.0229, m grad 0.0125, b grad -0.0617, \n",
            "Epoch 494, Cost 0.0229, m grad 0.0125, b grad -0.0613, \n",
            "Epoch 495, Cost 0.0228, m grad 0.0124, b grad -0.061, \n",
            "Epoch 496, Cost 0.0228, m grad 0.0123, b grad -0.0606, \n",
            "Epoch 497, Cost 0.0227, m grad 0.0123, b grad -0.0603, \n",
            "Epoch 498, Cost 0.0227, m grad 0.0122, b grad -0.0599, \n",
            "Epoch 499, Cost 0.0227, m grad 0.0121, b grad -0.0596, \n",
            "Epoch 500, Cost 0.0226, m grad 0.012, b grad -0.0592, \n",
            "Epoch 501, Cost 0.0226, m grad 0.012, b grad -0.0589, \n",
            "Epoch 502, Cost 0.0226, m grad 0.0119, b grad -0.0586, \n",
            "Epoch 503, Cost 0.0225, m grad 0.0118, b grad -0.0582, \n",
            "Epoch 504, Cost 0.0225, m grad 0.0118, b grad -0.0579, \n",
            "Epoch 505, Cost 0.0225, m grad 0.0117, b grad -0.0575, \n",
            "Epoch 506, Cost 0.0224, m grad 0.0116, b grad -0.0572, \n",
            "Epoch 507, Cost 0.0224, m grad 0.0116, b grad -0.0569, \n",
            "Epoch 508, Cost 0.0224, m grad 0.0115, b grad -0.0566, \n",
            "Epoch 509, Cost 0.0223, m grad 0.0114, b grad -0.0562, \n",
            "Epoch 510, Cost 0.0223, m grad 0.0114, b grad -0.0559, \n",
            "Epoch 511, Cost 0.0223, m grad 0.0113, b grad -0.0556, \n",
            "Epoch 512, Cost 0.0222, m grad 0.0112, b grad -0.0553, \n",
            "Epoch 513, Cost 0.0222, m grad 0.0112, b grad -0.0549, \n",
            "Epoch 514, Cost 0.0222, m grad 0.0111, b grad -0.0546, \n",
            "Epoch 515, Cost 0.0221, m grad 0.011, b grad -0.0543, \n",
            "Epoch 516, Cost 0.0221, m grad 0.011, b grad -0.054, \n",
            "Epoch 517, Cost 0.0221, m grad 0.0109, b grad -0.0537, \n",
            "Epoch 518, Cost 0.022, m grad 0.0109, b grad -0.0534, \n",
            "Epoch 519, Cost 0.022, m grad 0.0108, b grad -0.0531, \n",
            "Epoch 520, Cost 0.022, m grad 0.0107, b grad -0.0528, \n",
            "Epoch 521, Cost 0.022, m grad 0.0107, b grad -0.0525, \n",
            "Epoch 522, Cost 0.0219, m grad 0.0106, b grad -0.0522, \n",
            "Epoch 523, Cost 0.0219, m grad 0.0105, b grad -0.0519, \n",
            "Epoch 524, Cost 0.0219, m grad 0.0105, b grad -0.0516, \n",
            "Epoch 525, Cost 0.0218, m grad 0.0104, b grad -0.0513, \n",
            "Epoch 526, Cost 0.0218, m grad 0.0104, b grad -0.051, \n",
            "Epoch 527, Cost 0.0218, m grad 0.0103, b grad -0.0507, \n",
            "Epoch 528, Cost 0.0218, m grad 0.0102, b grad -0.0504, \n",
            "Epoch 529, Cost 0.0217, m grad 0.0102, b grad -0.0501, \n",
            "Epoch 530, Cost 0.0217, m grad 0.0101, b grad -0.0498, \n",
            "Epoch 531, Cost 0.0217, m grad 0.0101, b grad -0.0495, \n",
            "Epoch 532, Cost 0.0217, m grad 0.01, b grad -0.0492, \n",
            "Epoch 533, Cost 0.0216, m grad 0.00995, b grad -0.0489, \n",
            "Epoch 534, Cost 0.0216, m grad 0.0099, b grad -0.0487, \n",
            "Epoch 535, Cost 0.0216, m grad 0.00984, b grad -0.0484, \n",
            "Epoch 536, Cost 0.0216, m grad 0.00978, b grad -0.0481, \n",
            "Epoch 537, Cost 0.0215, m grad 0.00973, b grad -0.0478, \n",
            "Epoch 538, Cost 0.0215, m grad 0.00967, b grad -0.0476, \n",
            "Epoch 539, Cost 0.0215, m grad 0.00961, b grad -0.0473, \n",
            "Epoch 540, Cost 0.0215, m grad 0.00956, b grad -0.047, \n",
            "Epoch 541, Cost 0.0214, m grad 0.0095, b grad -0.0467, \n",
            "Epoch 542, Cost 0.0214, m grad 0.00945, b grad -0.0465, \n",
            "Epoch 543, Cost 0.0214, m grad 0.00939, b grad -0.0462, \n",
            "Epoch 544, Cost 0.0214, m grad 0.00934, b grad -0.0459, \n",
            "Epoch 545, Cost 0.0213, m grad 0.00929, b grad -0.0457, \n",
            "Epoch 546, Cost 0.0213, m grad 0.00923, b grad -0.0454, \n",
            "Epoch 547, Cost 0.0213, m grad 0.00918, b grad -0.0451, \n",
            "Epoch 548, Cost 0.0213, m grad 0.00913, b grad -0.0449, \n",
            "Epoch 549, Cost 0.0213, m grad 0.00907, b grad -0.0446, \n",
            "Epoch 550, Cost 0.0212, m grad 0.00902, b grad -0.0444, \n",
            "Epoch 551, Cost 0.0212, m grad 0.00897, b grad -0.0441, \n",
            "Epoch 552, Cost 0.0212, m grad 0.00892, b grad -0.0439, \n",
            "Epoch 553, Cost 0.0212, m grad 0.00887, b grad -0.0436, \n",
            "Epoch 554, Cost 0.0212, m grad 0.00882, b grad -0.0433, \n",
            "Epoch 555, Cost 0.0211, m grad 0.00876, b grad -0.0431, \n",
            "Epoch 556, Cost 0.0211, m grad 0.00872, b grad -0.0429, \n",
            "Epoch 557, Cost 0.0211, m grad 0.00866, b grad -0.0426, \n",
            "Epoch 558, Cost 0.0211, m grad 0.00862, b grad -0.0424, \n",
            "Epoch 559, Cost 0.0211, m grad 0.00856, b grad -0.0421, \n",
            "Epoch 560, Cost 0.021, m grad 0.00851, b grad -0.0419, \n",
            "Epoch 561, Cost 0.021, m grad 0.00847, b grad -0.0416, \n",
            "Epoch 562, Cost 0.021, m grad 0.00842, b grad -0.0414, \n",
            "Epoch 563, Cost 0.021, m grad 0.00837, b grad -0.0412, \n",
            "Epoch 564, Cost 0.021, m grad 0.00832, b grad -0.0409, \n",
            "Epoch 565, Cost 0.021, m grad 0.00827, b grad -0.0407, \n",
            "Epoch 566, Cost 0.0209, m grad 0.00822, b grad -0.0404, \n",
            "Epoch 567, Cost 0.0209, m grad 0.00818, b grad -0.0402, \n",
            "Epoch 568, Cost 0.0209, m grad 0.00813, b grad -0.04, \n",
            "Epoch 569, Cost 0.0209, m grad 0.00808, b grad -0.0397, \n",
            "Epoch 570, Cost 0.0209, m grad 0.00804, b grad -0.0395, \n",
            "Epoch 571, Cost 0.0209, m grad 0.00799, b grad -0.0393, \n",
            "Epoch 572, Cost 0.0208, m grad 0.00794, b grad -0.0391, \n",
            "Epoch 573, Cost 0.0208, m grad 0.0079, b grad -0.0388, \n",
            "Epoch 574, Cost 0.0208, m grad 0.00785, b grad -0.0386, \n",
            "Epoch 575, Cost 0.0208, m grad 0.00781, b grad -0.0384, \n",
            "Epoch 576, Cost 0.0208, m grad 0.00776, b grad -0.0382, \n",
            "Epoch 577, Cost 0.0208, m grad 0.00772, b grad -0.038, \n",
            "Epoch 578, Cost 0.0208, m grad 0.00767, b grad -0.0377, \n",
            "Epoch 579, Cost 0.0207, m grad 0.00763, b grad -0.0375, \n",
            "Epoch 580, Cost 0.0207, m grad 0.00758, b grad -0.0373, \n",
            "Epoch 581, Cost 0.0207, m grad 0.00754, b grad -0.0371, \n",
            "Epoch 582, Cost 0.0207, m grad 0.0075, b grad -0.0369, \n",
            "Epoch 583, Cost 0.0207, m grad 0.00745, b grad -0.0367, \n",
            "Epoch 584, Cost 0.0207, m grad 0.00741, b grad -0.0364, \n",
            "Epoch 585, Cost 0.0207, m grad 0.00737, b grad -0.0362, \n",
            "Epoch 586, Cost 0.0206, m grad 0.00733, b grad -0.036, \n",
            "Epoch 587, Cost 0.0206, m grad 0.00728, b grad -0.0358, \n",
            "Epoch 588, Cost 0.0206, m grad 0.00724, b grad -0.0356, \n",
            "Epoch 589, Cost 0.0206, m grad 0.0072, b grad -0.0354, \n",
            "Epoch 590, Cost 0.0206, m grad 0.00716, b grad -0.0352, \n",
            "Epoch 591, Cost 0.0206, m grad 0.00712, b grad -0.035, \n",
            "Epoch 592, Cost 0.0206, m grad 0.00708, b grad -0.0348, \n",
            "Epoch 593, Cost 0.0205, m grad 0.00704, b grad -0.0346, \n",
            "Epoch 594, Cost 0.0205, m grad 0.00699, b grad -0.0344, \n",
            "Epoch 595, Cost 0.0205, m grad 0.00695, b grad -0.0342, \n",
            "Epoch 596, Cost 0.0205, m grad 0.00691, b grad -0.034, \n",
            "Epoch 597, Cost 0.0205, m grad 0.00687, b grad -0.0338, \n",
            "Epoch 598, Cost 0.0205, m grad 0.00684, b grad -0.0336, \n",
            "Epoch 599, Cost 0.0205, m grad 0.0068, b grad -0.0334, \n",
            "Epoch 600, Cost 0.0205, m grad 0.00676, b grad -0.0332, \n",
            "Epoch 601, Cost 0.0205, m grad 0.00672, b grad -0.033, \n",
            "Epoch 602, Cost 0.0204, m grad 0.00668, b grad -0.0328, \n",
            "Epoch 603, Cost 0.0204, m grad 0.00664, b grad -0.0327, \n",
            "Epoch 604, Cost 0.0204, m grad 0.0066, b grad -0.0325, \n",
            "Epoch 605, Cost 0.0204, m grad 0.00656, b grad -0.0323, \n",
            "Epoch 606, Cost 0.0204, m grad 0.00653, b grad -0.0321, \n",
            "Epoch 607, Cost 0.0204, m grad 0.00649, b grad -0.0319, \n",
            "Epoch 608, Cost 0.0204, m grad 0.00645, b grad -0.0317, \n",
            "Epoch 609, Cost 0.0204, m grad 0.00641, b grad -0.0315, \n",
            "Epoch 610, Cost 0.0204, m grad 0.00638, b grad -0.0314, \n",
            "Epoch 611, Cost 0.0203, m grad 0.00634, b grad -0.0312, \n",
            "Epoch 612, Cost 0.0203, m grad 0.0063, b grad -0.031, \n",
            "Epoch 613, Cost 0.0203, m grad 0.00627, b grad -0.0308, \n",
            "Epoch 614, Cost 0.0203, m grad 0.00623, b grad -0.0306, \n",
            "Epoch 615, Cost 0.0203, m grad 0.00619, b grad -0.0305, \n",
            "Epoch 616, Cost 0.0203, m grad 0.00616, b grad -0.0303, \n",
            "Epoch 617, Cost 0.0203, m grad 0.00612, b grad -0.0301, \n",
            "Epoch 618, Cost 0.0203, m grad 0.00609, b grad -0.0299, \n",
            "Epoch 619, Cost 0.0203, m grad 0.00605, b grad -0.0298, \n",
            "Epoch 620, Cost 0.0203, m grad 0.00602, b grad -0.0296, \n",
            "Epoch 621, Cost 0.0202, m grad 0.00598, b grad -0.0294, \n",
            "Epoch 622, Cost 0.0202, m grad 0.00595, b grad -0.0293, \n",
            "Epoch 623, Cost 0.0202, m grad 0.00592, b grad -0.0291, \n",
            "Epoch 624, Cost 0.0202, m grad 0.00588, b grad -0.0289, \n",
            "Epoch 625, Cost 0.0202, m grad 0.00585, b grad -0.0288, \n",
            "Epoch 626, Cost 0.0202, m grad 0.00581, b grad -0.0286, \n",
            "Epoch 627, Cost 0.0202, m grad 0.00578, b grad -0.0284, \n",
            "Epoch 628, Cost 0.0202, m grad 0.00575, b grad -0.0283, \n",
            "Epoch 629, Cost 0.0202, m grad 0.00571, b grad -0.0281, \n",
            "Epoch 630, Cost 0.0202, m grad 0.00568, b grad -0.0279, \n",
            "Epoch 631, Cost 0.0202, m grad 0.00565, b grad -0.0278, \n",
            "Epoch 632, Cost 0.0202, m grad 0.00562, b grad -0.0276, \n",
            "Epoch 633, Cost 0.0201, m grad 0.00558, b grad -0.0275, \n",
            "Epoch 634, Cost 0.0201, m grad 0.00555, b grad -0.0273, \n",
            "Epoch 635, Cost 0.0201, m grad 0.00552, b grad -0.0271, \n",
            "Epoch 636, Cost 0.0201, m grad 0.00549, b grad -0.027, \n",
            "Epoch 637, Cost 0.0201, m grad 0.00545, b grad -0.0268, \n",
            "Epoch 638, Cost 0.0201, m grad 0.00542, b grad -0.0267, \n",
            "Epoch 639, Cost 0.0201, m grad 0.00539, b grad -0.0265, \n",
            "Epoch 640, Cost 0.0201, m grad 0.00536, b grad -0.0264, \n",
            "Epoch 641, Cost 0.0201, m grad 0.00533, b grad -0.0262, \n",
            "Epoch 642, Cost 0.0201, m grad 0.0053, b grad -0.0261, \n",
            "Epoch 643, Cost 0.0201, m grad 0.00527, b grad -0.0259, \n",
            "Epoch 644, Cost 0.0201, m grad 0.00524, b grad -0.0258, \n",
            "Epoch 645, Cost 0.0201, m grad 0.00521, b grad -0.0256, \n",
            "Epoch 646, Cost 0.0201, m grad 0.00518, b grad -0.0255, \n",
            "Epoch 647, Cost 0.02, m grad 0.00515, b grad -0.0253, \n",
            "Epoch 648, Cost 0.02, m grad 0.00512, b grad -0.0252, \n",
            "Epoch 649, Cost 0.02, m grad 0.00509, b grad -0.025, \n",
            "Epoch 650, Cost 0.02, m grad 0.00506, b grad -0.0249, \n",
            "Epoch 651, Cost 0.02, m grad 0.00503, b grad -0.0247, \n",
            "Epoch 652, Cost 0.02, m grad 0.005, b grad -0.0246, \n",
            "Epoch 653, Cost 0.02, m grad 0.00497, b grad -0.0245, \n",
            "Epoch 654, Cost 0.02, m grad 0.00495, b grad -0.0243, \n",
            "Epoch 655, Cost 0.02, m grad 0.00492, b grad -0.0242, \n",
            "Epoch 656, Cost 0.02, m grad 0.00489, b grad -0.024, \n",
            "Epoch 657, Cost 0.02, m grad 0.00486, b grad -0.0239, \n",
            "Epoch 658, Cost 0.02, m grad 0.00483, b grad -0.0238, \n",
            "Epoch 659, Cost 0.02, m grad 0.0048, b grad -0.0236, \n",
            "Epoch 660, Cost 0.02, m grad 0.00478, b grad -0.0235, \n",
            "Epoch 661, Cost 0.02, m grad 0.00475, b grad -0.0234, \n",
            "Epoch 662, Cost 0.02, m grad 0.00472, b grad -0.0232, \n",
            "Epoch 663, Cost 0.0199, m grad 0.00469, b grad -0.0231, \n",
            "Epoch 664, Cost 0.0199, m grad 0.00467, b grad -0.0229, \n",
            "Epoch 665, Cost 0.0199, m grad 0.00464, b grad -0.0228, \n",
            "Epoch 666, Cost 0.0199, m grad 0.00461, b grad -0.0227, \n",
            "Epoch 667, Cost 0.0199, m grad 0.00459, b grad -0.0226, \n",
            "Epoch 668, Cost 0.0199, m grad 0.00456, b grad -0.0224, \n",
            "Epoch 669, Cost 0.0199, m grad 0.00453, b grad -0.0223, \n",
            "Epoch 670, Cost 0.0199, m grad 0.00451, b grad -0.0222, \n",
            "Epoch 671, Cost 0.0199, m grad 0.00448, b grad -0.022, \n",
            "Epoch 672, Cost 0.0199, m grad 0.00445, b grad -0.0219, \n",
            "Epoch 673, Cost 0.0199, m grad 0.00443, b grad -0.0218, \n",
            "Epoch 674, Cost 0.0199, m grad 0.00441, b grad -0.0217, \n",
            "Epoch 675, Cost 0.0199, m grad 0.00438, b grad -0.0215, \n",
            "Epoch 676, Cost 0.0199, m grad 0.00435, b grad -0.0214, \n",
            "Epoch 677, Cost 0.0199, m grad 0.00433, b grad -0.0213, \n",
            "Epoch 678, Cost 0.0199, m grad 0.0043, b grad -0.0212, \n",
            "Epoch 679, Cost 0.0199, m grad 0.00428, b grad -0.021, \n",
            "Epoch 680, Cost 0.0199, m grad 0.00425, b grad -0.0209, \n",
            "Epoch 681, Cost 0.0199, m grad 0.00423, b grad -0.0208, \n",
            "Epoch 682, Cost 0.0199, m grad 0.00421, b grad -0.0207, \n",
            "Epoch 683, Cost 0.0198, m grad 0.00418, b grad -0.0206, \n",
            "Epoch 684, Cost 0.0198, m grad 0.00416, b grad -0.0204, \n",
            "Epoch 685, Cost 0.0198, m grad 0.00413, b grad -0.0203, \n",
            "Epoch 686, Cost 0.0198, m grad 0.00411, b grad -0.0202, \n",
            "Epoch 687, Cost 0.0198, m grad 0.00409, b grad -0.0201, \n",
            "Epoch 688, Cost 0.0198, m grad 0.00406, b grad -0.02, \n",
            "Epoch 689, Cost 0.0198, m grad 0.00404, b grad -0.0199, \n",
            "Epoch 690, Cost 0.0198, m grad 0.00402, b grad -0.0197, \n",
            "Epoch 691, Cost 0.0198, m grad 0.00399, b grad -0.0196, \n",
            "Epoch 692, Cost 0.0198, m grad 0.00397, b grad -0.0195, \n",
            "Epoch 693, Cost 0.0198, m grad 0.00395, b grad -0.0194, \n",
            "Epoch 694, Cost 0.0198, m grad 0.00392, b grad -0.0193, \n",
            "Epoch 695, Cost 0.0198, m grad 0.0039, b grad -0.0192, \n",
            "Epoch 696, Cost 0.0198, m grad 0.00388, b grad -0.0191, \n",
            "Epoch 697, Cost 0.0198, m grad 0.00386, b grad -0.019, \n",
            "Epoch 698, Cost 0.0198, m grad 0.00383, b grad -0.0189, \n",
            "Epoch 699, Cost 0.0198, m grad 0.00381, b grad -0.0187, \n",
            "Epoch 700, Cost 0.0198, m grad 0.00379, b grad -0.0186, \n",
            "Epoch 701, Cost 0.0198, m grad 0.00377, b grad -0.0185, \n",
            "Epoch 702, Cost 0.0198, m grad 0.00375, b grad -0.0184, \n",
            "Epoch 703, Cost 0.0198, m grad 0.00372, b grad -0.0183, \n",
            "Epoch 704, Cost 0.0198, m grad 0.0037, b grad -0.0182, \n",
            "Epoch 705, Cost 0.0198, m grad 0.00368, b grad -0.0181, \n",
            "Epoch 706, Cost 0.0198, m grad 0.00366, b grad -0.018, \n",
            "Epoch 707, Cost 0.0198, m grad 0.00364, b grad -0.0179, \n",
            "Epoch 708, Cost 0.0198, m grad 0.00362, b grad -0.0178, \n",
            "Epoch 709, Cost 0.0197, m grad 0.0036, b grad -0.0177, \n",
            "Epoch 710, Cost 0.0197, m grad 0.00358, b grad -0.0176, \n",
            "Epoch 711, Cost 0.0197, m grad 0.00356, b grad -0.0175, \n",
            "Epoch 712, Cost 0.0197, m grad 0.00354, b grad -0.0174, \n",
            "Epoch 713, Cost 0.0197, m grad 0.00352, b grad -0.0173, \n",
            "Epoch 714, Cost 0.0197, m grad 0.00349, b grad -0.0172, \n",
            "Epoch 715, Cost 0.0197, m grad 0.00347, b grad -0.0171, \n",
            "Epoch 716, Cost 0.0197, m grad 0.00345, b grad -0.017, \n",
            "Epoch 717, Cost 0.0197, m grad 0.00343, b grad -0.0169, \n",
            "Epoch 718, Cost 0.0197, m grad 0.00341, b grad -0.0168, \n",
            "Epoch 719, Cost 0.0197, m grad 0.0034, b grad -0.0167, \n",
            "Epoch 720, Cost 0.0197, m grad 0.00338, b grad -0.0166, \n",
            "Epoch 721, Cost 0.0197, m grad 0.00336, b grad -0.0165, \n",
            "Epoch 722, Cost 0.0197, m grad 0.00334, b grad -0.0164, \n",
            "Epoch 723, Cost 0.0197, m grad 0.00332, b grad -0.0163, \n",
            "Epoch 724, Cost 0.0197, m grad 0.0033, b grad -0.0162, \n",
            "Epoch 725, Cost 0.0197, m grad 0.00328, b grad -0.0161, \n",
            "Epoch 726, Cost 0.0197, m grad 0.00326, b grad -0.016, \n",
            "Epoch 727, Cost 0.0197, m grad 0.00324, b grad -0.0159, \n",
            "Epoch 728, Cost 0.0197, m grad 0.00322, b grad -0.0159, \n",
            "Epoch 729, Cost 0.0197, m grad 0.00321, b grad -0.0158, \n",
            "Epoch 730, Cost 0.0197, m grad 0.00319, b grad -0.0157, \n",
            "Epoch 731, Cost 0.0197, m grad 0.00317, b grad -0.0156, \n",
            "Epoch 732, Cost 0.0197, m grad 0.00315, b grad -0.0155, \n",
            "Epoch 733, Cost 0.0197, m grad 0.00313, b grad -0.0154, \n",
            "Epoch 734, Cost 0.0197, m grad 0.00311, b grad -0.0153, \n",
            "Epoch 735, Cost 0.0197, m grad 0.0031, b grad -0.0152, \n",
            "Epoch 736, Cost 0.0197, m grad 0.00308, b grad -0.0151, \n",
            "Epoch 737, Cost 0.0197, m grad 0.00306, b grad -0.015, \n",
            "Epoch 738, Cost 0.0197, m grad 0.00304, b grad -0.015, \n",
            "Epoch 739, Cost 0.0197, m grad 0.00302, b grad -0.0149, \n",
            "Epoch 740, Cost 0.0197, m grad 0.00301, b grad -0.0148, \n",
            "Epoch 741, Cost 0.0197, m grad 0.00299, b grad -0.0147, \n",
            "Epoch 742, Cost 0.0197, m grad 0.00297, b grad -0.0146, \n",
            "Epoch 743, Cost 0.0197, m grad 0.00296, b grad -0.0145, \n",
            "Epoch 744, Cost 0.0197, m grad 0.00294, b grad -0.0145, \n",
            "Epoch 745, Cost 0.0197, m grad 0.00292, b grad -0.0144, \n",
            "Epoch 746, Cost 0.0197, m grad 0.0029, b grad -0.0143, \n",
            "Epoch 747, Cost 0.0196, m grad 0.00289, b grad -0.0142, \n",
            "Epoch 748, Cost 0.0196, m grad 0.00287, b grad -0.0141, \n",
            "Epoch 749, Cost 0.0196, m grad 0.00285, b grad -0.014, \n",
            "Epoch 750, Cost 0.0196, m grad 0.00284, b grad -0.014, \n",
            "Epoch 751, Cost 0.0196, m grad 0.00282, b grad -0.0139, \n",
            "Epoch 752, Cost 0.0196, m grad 0.00281, b grad -0.0138, \n",
            "Epoch 753, Cost 0.0196, m grad 0.00279, b grad -0.0137, \n",
            "Epoch 754, Cost 0.0196, m grad 0.00277, b grad -0.0136, \n",
            "Epoch 755, Cost 0.0196, m grad 0.00276, b grad -0.0136, \n",
            "Epoch 756, Cost 0.0196, m grad 0.00274, b grad -0.0135, \n",
            "Epoch 757, Cost 0.0196, m grad 0.00273, b grad -0.0134, \n",
            "Epoch 758, Cost 0.0196, m grad 0.00271, b grad -0.0133, \n",
            "Epoch 759, Cost 0.0196, m grad 0.00269, b grad -0.0132, \n",
            "Epoch 760, Cost 0.0196, m grad 0.00268, b grad -0.0132, \n",
            "Epoch 761, Cost 0.0196, m grad 0.00266, b grad -0.0131, \n",
            "Epoch 762, Cost 0.0196, m grad 0.00265, b grad -0.013, \n",
            "Epoch 763, Cost 0.0196, m grad 0.00263, b grad -0.0129, \n",
            "Epoch 764, Cost 0.0196, m grad 0.00262, b grad -0.0129, \n",
            "Epoch 765, Cost 0.0196, m grad 0.0026, b grad -0.0128, \n",
            "Epoch 766, Cost 0.0196, m grad 0.00259, b grad -0.0127, \n",
            "Epoch 767, Cost 0.0196, m grad 0.00257, b grad -0.0127, \n",
            "Epoch 768, Cost 0.0196, m grad 0.00256, b grad -0.0126, \n",
            "Epoch 769, Cost 0.0196, m grad 0.00254, b grad -0.0125, \n",
            "Epoch 770, Cost 0.0196, m grad 0.00253, b grad -0.0124, \n",
            "Epoch 771, Cost 0.0196, m grad 0.00251, b grad -0.0124, \n",
            "Epoch 772, Cost 0.0196, m grad 0.0025, b grad -0.0123, \n",
            "Epoch 773, Cost 0.0196, m grad 0.00248, b grad -0.0122, \n",
            "Epoch 774, Cost 0.0196, m grad 0.00247, b grad -0.0121, \n",
            "Epoch 775, Cost 0.0196, m grad 0.00246, b grad -0.0121, \n",
            "Epoch 776, Cost 0.0196, m grad 0.00244, b grad -0.012, \n",
            "Epoch 777, Cost 0.0196, m grad 0.00243, b grad -0.0119, \n",
            "Epoch 778, Cost 0.0196, m grad 0.00241, b grad -0.0119, \n",
            "Epoch 779, Cost 0.0196, m grad 0.0024, b grad -0.0118, \n",
            "Epoch 780, Cost 0.0196, m grad 0.00239, b grad -0.0117, \n",
            "Epoch 781, Cost 0.0196, m grad 0.00237, b grad -0.0117, \n",
            "Epoch 782, Cost 0.0196, m grad 0.00236, b grad -0.0116, \n",
            "Epoch 783, Cost 0.0196, m grad 0.00235, b grad -0.0115, \n",
            "Epoch 784, Cost 0.0196, m grad 0.00233, b grad -0.0115, \n",
            "Epoch 785, Cost 0.0196, m grad 0.00232, b grad -0.0114, \n",
            "Epoch 786, Cost 0.0196, m grad 0.0023, b grad -0.0113, \n",
            "Epoch 787, Cost 0.0196, m grad 0.00229, b grad -0.0113, \n",
            "Epoch 788, Cost 0.0196, m grad 0.00228, b grad -0.0112, \n",
            "Epoch 789, Cost 0.0196, m grad 0.00227, b grad -0.0111, \n",
            "Epoch 790, Cost 0.0196, m grad 0.00225, b grad -0.0111, \n",
            "Epoch 791, Cost 0.0196, m grad 0.00224, b grad -0.011, \n",
            "Epoch 792, Cost 0.0196, m grad 0.00223, b grad -0.0109, \n",
            "Epoch 793, Cost 0.0196, m grad 0.00221, b grad -0.0109, \n",
            "Epoch 794, Cost 0.0196, m grad 0.0022, b grad -0.0108, \n",
            "Epoch 795, Cost 0.0196, m grad 0.00219, b grad -0.0108, \n",
            "Epoch 796, Cost 0.0196, m grad 0.00218, b grad -0.0107, \n",
            "Epoch 797, Cost 0.0196, m grad 0.00216, b grad -0.0106, \n",
            "Epoch 798, Cost 0.0196, m grad 0.00215, b grad -0.0106, \n",
            "Epoch 799, Cost 0.0196, m grad 0.00214, b grad -0.0105, \n",
            "Epoch 800, Cost 0.0196, m grad 0.00213, b grad -0.0105, \n",
            "Epoch 801, Cost 0.0196, m grad 0.00211, b grad -0.0104, \n",
            "Epoch 802, Cost 0.0196, m grad 0.0021, b grad -0.0103, \n",
            "Epoch 803, Cost 0.0196, m grad 0.00209, b grad -0.0103, \n",
            "Epoch 804, Cost 0.0196, m grad 0.00208, b grad -0.0102, \n",
            "Epoch 805, Cost 0.0196, m grad 0.00207, b grad -0.0102, \n",
            "Epoch 806, Cost 0.0196, m grad 0.00205, b grad -0.0101, \n",
            "Epoch 807, Cost 0.0196, m grad 0.00204, b grad -0.01, \n",
            "Epoch 808, Cost 0.0196, m grad 0.00203, b grad -0.00998, \n",
            "Epoch 809, Cost 0.0196, m grad 0.00202, b grad -0.00992, \n",
            "Epoch 810, Cost 0.0196, m grad 0.00201, b grad -0.00987, \n",
            "Epoch 811, Cost 0.0196, m grad 0.002, b grad -0.00981, \n",
            "Epoch 812, Cost 0.0196, m grad 0.00198, b grad -0.00975, \n",
            "Epoch 813, Cost 0.0196, m grad 0.00197, b grad -0.0097, \n",
            "Epoch 814, Cost 0.0195, m grad 0.00196, b grad -0.00964, \n",
            "Epoch 815, Cost 0.0195, m grad 0.00195, b grad -0.00958, \n",
            "Epoch 816, Cost 0.0195, m grad 0.00194, b grad -0.00953, \n",
            "Epoch 817, Cost 0.0195, m grad 0.00193, b grad -0.00947, \n",
            "Epoch 818, Cost 0.0195, m grad 0.00192, b grad -0.00942, \n",
            "Epoch 819, Cost 0.0195, m grad 0.0019, b grad -0.00937, \n",
            "Epoch 820, Cost 0.0195, m grad 0.00189, b grad -0.00931, \n",
            "Epoch 821, Cost 0.0195, m grad 0.00188, b grad -0.00926, \n",
            "Epoch 822, Cost 0.0195, m grad 0.00187, b grad -0.0092, \n",
            "Epoch 823, Cost 0.0195, m grad 0.00186, b grad -0.00915, \n",
            "Epoch 824, Cost 0.0195, m grad 0.00185, b grad -0.0091, \n",
            "Epoch 825, Cost 0.0195, m grad 0.00184, b grad -0.00905, \n",
            "Epoch 826, Cost 0.0195, m grad 0.00183, b grad -0.00899, \n",
            "Epoch 827, Cost 0.0195, m grad 0.00182, b grad -0.00894, \n",
            "Epoch 828, Cost 0.0195, m grad 0.00181, b grad -0.00889, \n",
            "Epoch 829, Cost 0.0195, m grad 0.0018, b grad -0.00884, \n",
            "Epoch 830, Cost 0.0195, m grad 0.00179, b grad -0.00879, \n",
            "Epoch 831, Cost 0.0195, m grad 0.00178, b grad -0.00874, \n",
            "Epoch 832, Cost 0.0195, m grad 0.00177, b grad -0.00869, \n",
            "Epoch 833, Cost 0.0195, m grad 0.00176, b grad -0.00864, \n",
            "Epoch 834, Cost 0.0195, m grad 0.00175, b grad -0.00859, \n",
            "Epoch 835, Cost 0.0195, m grad 0.00174, b grad -0.00854, \n",
            "Epoch 836, Cost 0.0195, m grad 0.00173, b grad -0.00849, \n",
            "Epoch 837, Cost 0.0195, m grad 0.00172, b grad -0.00844, \n",
            "Epoch 838, Cost 0.0195, m grad 0.00171, b grad -0.00839, \n",
            "Epoch 839, Cost 0.0195, m grad 0.0017, b grad -0.00834, \n",
            "Epoch 840, Cost 0.0195, m grad 0.00169, b grad -0.00829, \n",
            "Epoch 841, Cost 0.0195, m grad 0.00168, b grad -0.00825, \n",
            "Epoch 842, Cost 0.0195, m grad 0.00167, b grad -0.0082, \n",
            "Epoch 843, Cost 0.0195, m grad 0.00166, b grad -0.00815, \n",
            "Epoch 844, Cost 0.0195, m grad 0.00165, b grad -0.0081, \n",
            "Epoch 845, Cost 0.0195, m grad 0.00164, b grad -0.00806, \n",
            "Epoch 846, Cost 0.0195, m grad 0.00163, b grad -0.00801, \n",
            "Epoch 847, Cost 0.0195, m grad 0.00162, b grad -0.00797, \n",
            "Epoch 848, Cost 0.0195, m grad 0.00161, b grad -0.00792, \n",
            "Epoch 849, Cost 0.0195, m grad 0.0016, b grad -0.00787, \n",
            "Epoch 850, Cost 0.0195, m grad 0.00159, b grad -0.00783, \n",
            "Epoch 851, Cost 0.0195, m grad 0.00158, b grad -0.00778, \n",
            "Epoch 852, Cost 0.0195, m grad 0.00157, b grad -0.00774, \n",
            "Epoch 853, Cost 0.0195, m grad 0.00157, b grad -0.00769, \n",
            "Epoch 854, Cost 0.0195, m grad 0.00156, b grad -0.00765, \n",
            "Epoch 855, Cost 0.0195, m grad 0.00155, b grad -0.00761, \n",
            "Epoch 856, Cost 0.0195, m grad 0.00154, b grad -0.00756, \n",
            "Epoch 857, Cost 0.0195, m grad 0.00153, b grad -0.00752, \n",
            "Epoch 858, Cost 0.0195, m grad 0.00152, b grad -0.00747, \n",
            "Epoch 859, Cost 0.0195, m grad 0.00151, b grad -0.00743, \n",
            "Epoch 860, Cost 0.0195, m grad 0.0015, b grad -0.00739, \n",
            "Epoch 861, Cost 0.0195, m grad 0.00149, b grad -0.00735, \n",
            "Epoch 862, Cost 0.0195, m grad 0.00149, b grad -0.0073, \n",
            "Epoch 863, Cost 0.0195, m grad 0.00148, b grad -0.00726, \n",
            "Epoch 864, Cost 0.0195, m grad 0.00147, b grad -0.00722, \n",
            "Epoch 865, Cost 0.0195, m grad 0.00146, b grad -0.00718, \n",
            "Epoch 866, Cost 0.0195, m grad 0.00145, b grad -0.00714, \n",
            "Epoch 867, Cost 0.0195, m grad 0.00144, b grad -0.0071, \n",
            "Epoch 868, Cost 0.0195, m grad 0.00143, b grad -0.00705, \n",
            "Epoch 869, Cost 0.0195, m grad 0.00143, b grad -0.00701, \n",
            "Epoch 870, Cost 0.0195, m grad 0.00142, b grad -0.00697, \n",
            "Epoch 871, Cost 0.0195, m grad 0.00141, b grad -0.00693, \n",
            "Epoch 872, Cost 0.0195, m grad 0.0014, b grad -0.00689, \n",
            "Epoch 873, Cost 0.0195, m grad 0.00139, b grad -0.00685, \n",
            "Epoch 874, Cost 0.0195, m grad 0.00138, b grad -0.00681, \n",
            "Epoch 875, Cost 0.0195, m grad 0.00138, b grad -0.00678, \n",
            "Epoch 876, Cost 0.0195, m grad 0.00137, b grad -0.00674, \n",
            "Epoch 877, Cost 0.0195, m grad 0.00136, b grad -0.0067, \n",
            "Epoch 878, Cost 0.0195, m grad 0.00135, b grad -0.00666, \n",
            "Epoch 879, Cost 0.0195, m grad 0.00135, b grad -0.00662, \n",
            "Epoch 880, Cost 0.0195, m grad 0.00134, b grad -0.00658, \n",
            "Epoch 881, Cost 0.0195, m grad 0.00133, b grad -0.00654, \n",
            "Epoch 882, Cost 0.0195, m grad 0.00132, b grad -0.00651, \n",
            "Epoch 883, Cost 0.0195, m grad 0.00132, b grad -0.00647, \n",
            "Epoch 884, Cost 0.0195, m grad 0.00131, b grad -0.00643, \n",
            "Epoch 885, Cost 0.0195, m grad 0.0013, b grad -0.00639, \n",
            "Epoch 886, Cost 0.0195, m grad 0.00129, b grad -0.00636, \n",
            "Epoch 887, Cost 0.0195, m grad 0.00128, b grad -0.00632, \n",
            "Epoch 888, Cost 0.0195, m grad 0.00128, b grad -0.00628, \n",
            "Epoch 889, Cost 0.0195, m grad 0.00127, b grad -0.00625, \n",
            "Epoch 890, Cost 0.0195, m grad 0.00126, b grad -0.00621, \n",
            "Epoch 891, Cost 0.0195, m grad 0.00126, b grad -0.00618, \n",
            "Epoch 892, Cost 0.0195, m grad 0.00125, b grad -0.00614, \n",
            "Epoch 893, Cost 0.0195, m grad 0.00124, b grad -0.00611, \n",
            "Epoch 894, Cost 0.0195, m grad 0.00123, b grad -0.00607, \n",
            "Epoch 895, Cost 0.0195, m grad 0.00123, b grad -0.00604, \n",
            "Epoch 896, Cost 0.0195, m grad 0.00122, b grad -0.006, \n",
            "Epoch 897, Cost 0.0195, m grad 0.00121, b grad -0.00597, \n",
            "Epoch 898, Cost 0.0195, m grad 0.00121, b grad -0.00593, \n",
            "Epoch 899, Cost 0.0195, m grad 0.0012, b grad -0.0059, \n",
            "Epoch 900, Cost 0.0195, m grad 0.00119, b grad -0.00586, \n",
            "Epoch 901, Cost 0.0195, m grad 0.00119, b grad -0.00583, \n",
            "Epoch 902, Cost 0.0195, m grad 0.00118, b grad -0.0058, \n",
            "Epoch 903, Cost 0.0195, m grad 0.00117, b grad -0.00576, \n",
            "Epoch 904, Cost 0.0195, m grad 0.00116, b grad -0.00573, \n",
            "Epoch 905, Cost 0.0195, m grad 0.00116, b grad -0.0057, \n",
            "Epoch 906, Cost 0.0195, m grad 0.00115, b grad -0.00566, \n",
            "Epoch 907, Cost 0.0195, m grad 0.00114, b grad -0.00563, \n",
            "Epoch 908, Cost 0.0195, m grad 0.00114, b grad -0.0056, \n",
            "Epoch 909, Cost 0.0195, m grad 0.00113, b grad -0.00557, \n",
            "Epoch 910, Cost 0.0195, m grad 0.00113, b grad -0.00553, \n",
            "Epoch 911, Cost 0.0195, m grad 0.00112, b grad -0.0055, \n",
            "Epoch 912, Cost 0.0195, m grad 0.00111, b grad -0.00547, \n",
            "Epoch 913, Cost 0.0195, m grad 0.00111, b grad -0.00544, \n",
            "Epoch 914, Cost 0.0195, m grad 0.0011, b grad -0.00541, \n",
            "Epoch 915, Cost 0.0195, m grad 0.00109, b grad -0.00538, \n",
            "Epoch 916, Cost 0.0195, m grad 0.00109, b grad -0.00535, \n",
            "Epoch 917, Cost 0.0195, m grad 0.00108, b grad -0.00531, \n",
            "Epoch 918, Cost 0.0195, m grad 0.00107, b grad -0.00528, \n",
            "Epoch 919, Cost 0.0195, m grad 0.00107, b grad -0.00525, \n",
            "Epoch 920, Cost 0.0195, m grad 0.00106, b grad -0.00522, \n",
            "Epoch 921, Cost 0.0195, m grad 0.00106, b grad -0.00519, \n",
            "Epoch 922, Cost 0.0195, m grad 0.00105, b grad -0.00516, \n",
            "Epoch 923, Cost 0.0195, m grad 0.00104, b grad -0.00513, \n",
            "Epoch 924, Cost 0.0195, m grad 0.00104, b grad -0.0051, \n",
            "Epoch 925, Cost 0.0195, m grad 0.00103, b grad -0.00507, \n",
            "Epoch 926, Cost 0.0195, m grad 0.00103, b grad -0.00504, \n",
            "Epoch 927, Cost 0.0195, m grad 0.00102, b grad -0.00502, \n",
            "Epoch 928, Cost 0.0195, m grad 0.00101, b grad -0.00499, \n",
            "Epoch 929, Cost 0.0195, m grad 0.00101, b grad -0.00496, \n",
            "Epoch 930, Cost 0.0195, m grad 0.001, b grad -0.00493, \n",
            "Epoch 931, Cost 0.0195, m grad 0.000997, b grad -0.0049, \n",
            "Epoch 932, Cost 0.0195, m grad 0.000991, b grad -0.00487, \n",
            "Epoch 933, Cost 0.0195, m grad 0.000986, b grad -0.00484, \n",
            "Epoch 934, Cost 0.0195, m grad 0.000979, b grad -0.00482, \n",
            "Epoch 935, Cost 0.0195, m grad 0.000973, b grad -0.00479, \n",
            "Epoch 936, Cost 0.0195, m grad 0.000968, b grad -0.00476, \n",
            "Epoch 937, Cost 0.0195, m grad 0.000962, b grad -0.00473, \n",
            "Epoch 938, Cost 0.0195, m grad 0.000956, b grad -0.00471, \n",
            "Epoch 939, Cost 0.0195, m grad 0.000951, b grad -0.00468, \n",
            "Epoch 940, Cost 0.0195, m grad 0.000946, b grad -0.00465, \n",
            "Epoch 941, Cost 0.0195, m grad 0.000941, b grad -0.00463, \n",
            "Epoch 942, Cost 0.0195, m grad 0.000935, b grad -0.0046, \n",
            "Epoch 943, Cost 0.0195, m grad 0.00093, b grad -0.00457, \n",
            "Epoch 944, Cost 0.0195, m grad 0.000925, b grad -0.00455, \n",
            "Epoch 945, Cost 0.0195, m grad 0.000919, b grad -0.00452, \n",
            "Epoch 946, Cost 0.0195, m grad 0.000914, b grad -0.00449, \n",
            "Epoch 947, Cost 0.0195, m grad 0.000908, b grad -0.00447, \n",
            "Epoch 948, Cost 0.0195, m grad 0.000903, b grad -0.00444, \n",
            "Epoch 949, Cost 0.0195, m grad 0.000898, b grad -0.00442, \n",
            "Epoch 950, Cost 0.0195, m grad 0.000893, b grad -0.00439, \n",
            "Epoch 951, Cost 0.0195, m grad 0.000887, b grad -0.00437, \n",
            "Epoch 952, Cost 0.0195, m grad 0.000882, b grad -0.00434, \n",
            "Epoch 953, Cost 0.0195, m grad 0.000877, b grad -0.00432, \n",
            "Epoch 954, Cost 0.0195, m grad 0.000872, b grad -0.00429, \n",
            "Epoch 955, Cost 0.0195, m grad 0.000867, b grad -0.00427, \n",
            "Epoch 956, Cost 0.0195, m grad 0.000862, b grad -0.00424, \n",
            "Epoch 957, Cost 0.0195, m grad 0.000858, b grad -0.00422, \n",
            "Epoch 958, Cost 0.0195, m grad 0.000853, b grad -0.00419, \n",
            "Epoch 959, Cost 0.0195, m grad 0.000848, b grad -0.00417, \n",
            "Epoch 960, Cost 0.0195, m grad 0.000843, b grad -0.00414, \n",
            "Epoch 961, Cost 0.0195, m grad 0.000838, b grad -0.00412, \n",
            "Epoch 962, Cost 0.0195, m grad 0.000834, b grad -0.0041, \n",
            "Epoch 963, Cost 0.0195, m grad 0.000829, b grad -0.00407, \n",
            "Epoch 964, Cost 0.0195, m grad 0.000824, b grad -0.00405, \n",
            "Epoch 965, Cost 0.0195, m grad 0.000819, b grad -0.00403, \n",
            "Epoch 966, Cost 0.0195, m grad 0.000814, b grad -0.004, \n",
            "Epoch 967, Cost 0.0195, m grad 0.00081, b grad -0.00398, \n",
            "Epoch 968, Cost 0.0195, m grad 0.000805, b grad -0.00396, \n",
            "Epoch 969, Cost 0.0195, m grad 0.0008, b grad -0.00393, \n",
            "Epoch 970, Cost 0.0195, m grad 0.000796, b grad -0.00391, \n",
            "Epoch 971, Cost 0.0195, m grad 0.000791, b grad -0.00389, \n",
            "Epoch 972, Cost 0.0195, m grad 0.000786, b grad -0.00387, \n",
            "Epoch 973, Cost 0.0195, m grad 0.000781, b grad -0.00384, \n",
            "Epoch 974, Cost 0.0195, m grad 0.000776, b grad -0.00382, \n",
            "Epoch 975, Cost 0.0195, m grad 0.000772, b grad -0.0038, \n",
            "Epoch 976, Cost 0.0195, m grad 0.000768, b grad -0.00378, \n",
            "Epoch 977, Cost 0.0195, m grad 0.000763, b grad -0.00376, \n",
            "Epoch 978, Cost 0.0195, m grad 0.000759, b grad -0.00373, \n",
            "Epoch 979, Cost 0.0195, m grad 0.000754, b grad -0.00371, \n",
            "Epoch 980, Cost 0.0195, m grad 0.00075, b grad -0.00369, \n",
            "Epoch 981, Cost 0.0195, m grad 0.000746, b grad -0.00367, \n",
            "Epoch 982, Cost 0.0195, m grad 0.000742, b grad -0.00365, \n",
            "Epoch 983, Cost 0.0195, m grad 0.000738, b grad -0.00363, \n",
            "Epoch 984, Cost 0.0195, m grad 0.000733, b grad -0.00361, \n",
            "Epoch 985, Cost 0.0195, m grad 0.000729, b grad -0.00359, \n",
            "Epoch 986, Cost 0.0195, m grad 0.000725, b grad -0.00357, \n",
            "Epoch 987, Cost 0.0195, m grad 0.000721, b grad -0.00355, \n",
            "Epoch 988, Cost 0.0195, m grad 0.000716, b grad -0.00352, \n",
            "Epoch 989, Cost 0.0195, m grad 0.000713, b grad -0.0035, \n",
            "Epoch 990, Cost 0.0195, m grad 0.000709, b grad -0.00348, \n",
            "Epoch 991, Cost 0.0195, m grad 0.000704, b grad -0.00346, \n",
            "Epoch 992, Cost 0.0195, m grad 0.000701, b grad -0.00344, \n",
            "Epoch 993, Cost 0.0195, m grad 0.000697, b grad -0.00342, \n",
            "Epoch 994, Cost 0.0195, m grad 0.000692, b grad -0.0034, \n",
            "Epoch 995, Cost 0.0195, m grad 0.000689, b grad -0.00338, \n",
            "Epoch 996, Cost 0.0195, m grad 0.000685, b grad -0.00337, \n",
            "Epoch 997, Cost 0.0195, m grad 0.00068, b grad -0.00335, \n",
            "Epoch 998, Cost 0.0195, m grad 0.000677, b grad -0.00333, \n",
            "Epoch 999, Cost 0.0195, m grad 0.000673, b grad -0.00331, \n"
          ]
        }
      ]
    },
    {
      "cell_type": "code",
      "source": [
        "regression_plot(x,y,b,m)"
      ],
      "metadata": {
        "colab": {
          "base_uri": "https://localhost:8080/",
          "height": 430
        },
        "id": "dEEPCbwkve6X",
        "outputId": "f6ffca3d-e9fa-41bf-c582-a0f72e23e827"
      },
      "execution_count": 43,
      "outputs": [
        {
          "output_type": "display_data",
          "data": {
            "text/plain": [
              "<Figure size 640x480 with 1 Axes>"
            ],
            "image/png": "[encoded data removed]"
          },
          "metadata": {}
        }
      ]
    },
    {
      "cell_type": "code",
      "source": [
        "m.item()"
      ],
      "metadata": {
        "colab": {
          "base_uri": "https://localhost:8080/"
        },
        "id": "0CNR7DKTwAj1",
        "outputId": "895fb2e2-bcbc-41b4-b4c2-d7a4e4f29af1"
      },
      "execution_count": 45,
      "outputs": [
        {
          "output_type": "execute_result",
          "data": {
            "text/plain": [
              "-0.4681258499622345"
            ]
          },
          "metadata": {},
          "execution_count": 45
        }
      ]
    },
    {
      "cell_type": "code",
      "source": [
        "b.item()"
      ],
      "metadata": {
        "colab": {
          "base_uri": "https://localhost:8080/"
        },
        "id": "ykUeMDsxwING",
        "outputId": "a8f9e3cb-201c-4597-b97d-a20ede45e5ed"
      },
      "execution_count": 46,
      "outputs": [
        {
          "output_type": "execute_result",
          "data": {
            "text/plain": [
              "1.7542961835861206"
            ]
          },
          "metadata": {},
          "execution_count": 46
        }
      ]
    },
    {
      "cell_type": "markdown",
      "source": [
        "###**Exercise**"
      ],
      "metadata": {
        "id": "MgiED87H17QG"
      }
    },
    {
      "cell_type": "code",
      "source": [
        "def f(x):\n",
        "  return x**2 + 2*x + 2"
      ],
      "metadata": {
        "id": "f56uwS8fwLtT"
      },
      "execution_count": 47,
      "outputs": []
    },
    {
      "cell_type": "code",
      "source": [
        "x= torch.tensor([2.]).requires_grad_()\n",
        "x"
      ],
      "metadata": {
        "colab": {
          "base_uri": "https://localhost:8080/"
        },
        "id": "PxbzzFgl2ApW",
        "outputId": "8038f7b4-0d10-4158-b16c-371ecd97a28e"
      },
      "execution_count": 48,
      "outputs": [
        {
          "output_type": "execute_result",
          "data": {
            "text/plain": [
              "tensor([2.], requires_grad=True)"
            ]
          },
          "metadata": {},
          "execution_count": 48
        }
      ]
    },
    {
      "cell_type": "code",
      "source": [
        "# compute y = f(x)\n",
        "\n",
        "y = f(x)\n",
        "y"
      ],
      "metadata": {
        "colab": {
          "base_uri": "https://localhost:8080/"
        },
        "id": "zeUxvRc92FkM",
        "outputId": "d60f267a-3b76-4248-accd-93fd1b6f21ec"
      },
      "execution_count": 49,
      "outputs": [
        {
          "output_type": "execute_result",
          "data": {
            "text/plain": [
              "tensor([10.], grad_fn=<AddBackward0>)"
            ]
          },
          "metadata": {},
          "execution_count": 49
        }
      ]
    },
    {
      "cell_type": "code",
      "source": [
        "#perform autodiff to compute derivative dy/dx\n",
        "\n",
        "y.backward()"
      ],
      "metadata": {
        "id": "nkmW16wi2LIF"
      },
      "execution_count": 50,
      "outputs": []
    },
    {
      "cell_type": "code",
      "source": [
        "#extract the gradient(slope) from the tensor representing dy/dx\n",
        "slope = x.grad.item()\n",
        "slope"
      ],
      "metadata": {
        "colab": {
          "base_uri": "https://localhost:8080/"
        },
        "id": "9jWj_5Ll2S-A",
        "outputId": "b2ad1821-b548-448a-f004-f619d8824367"
      },
      "execution_count": 51,
      "outputs": [
        {
          "output_type": "execute_result",
          "data": {
            "text/plain": [
              "6.0"
            ]
          },
          "metadata": {},
          "execution_count": 51
        }
      ]
    },
    {
      "cell_type": "code",
      "source": [
        "y2 = -5 * x + 2"
      ],
      "metadata": {
        "id": "ACtGDwBn2dlM"
      },
      "execution_count": 52,
      "outputs": []
    },
    {
      "cell_type": "code",
      "source": [
        "y2"
      ],
      "metadata": {
        "colab": {
          "base_uri": "https://localhost:8080/"
        },
        "id": "J3BrdlaU2vb9",
        "outputId": "0b0f9302-157a-49aa-f742-63b310dd8a81"
      },
      "execution_count": 53,
      "outputs": [
        {
          "output_type": "execute_result",
          "data": {
            "text/plain": [
              "tensor([-8.], grad_fn=<AddBackward0>)"
            ]
          },
          "metadata": {},
          "execution_count": 53
        }
      ]
    },
    {
      "cell_type": "code",
      "source": [
        "x2 = torch.tensor([1.,2,3,4,5,6,7,8])\n",
        "y2 = -5 * x2 + 2 + torch.normal(mean = torch.zeros(8),std=0.5)\n",
        "\n",
        "y2"
      ],
      "metadata": {
        "colab": {
          "base_uri": "https://localhost:8080/"
        },
        "id": "EDmVG2hL2wO0",
        "outputId": "3b9ddbed-d150-46e2-b47f-9e140bc0bda8"
      },
      "execution_count": 112,
      "outputs": [
        {
          "output_type": "execute_result",
          "data": {
            "text/plain": [
              "tensor([ -3.2303,  -7.5685, -12.4965, -18.7281, -23.0047, -28.1293, -32.8747,\n",
              "        -38.1351])"
            ]
          },
          "metadata": {},
          "execution_count": 112
        }
      ]
    },
    {
      "cell_type": "code",
      "source": [
        "def reg(x,m,b):\n",
        "  return m*x + b"
      ],
      "metadata": {
        "id": "f2xRRmO-24dv"
      },
      "execution_count": 113,
      "outputs": []
    },
    {
      "cell_type": "code",
      "source": [
        "m3 = torch.tensor([0.9]).requires_grad_()\n",
        "b3 =  torch.tensor([0.2]).requires_grad_()\n",
        "m3,b3"
      ],
      "metadata": {
        "colab": {
          "base_uri": "https://localhost:8080/"
        },
        "id": "slg4gkX13Dq5",
        "outputId": "786bc8e4-35ff-4430-afed-b2fea7476d79"
      },
      "execution_count": 114,
      "outputs": [
        {
          "output_type": "execute_result",
          "data": {
            "text/plain": [
              "(tensor([0.9000], requires_grad=True), tensor([0.2000], requires_grad=True))"
            ]
          },
          "metadata": {},
          "execution_count": 114
        }
      ]
    },
    {
      "cell_type": "code",
      "source": [
        "regression_plot(x2,y2,b3,m3)"
      ],
      "metadata": {
        "colab": {
          "base_uri": "https://localhost:8080/",
          "height": 435
        },
        "id": "o1cH94Iq7TqW",
        "outputId": "10c56fd1-a61b-4a2c-c79f-5dee628b5acb"
      },
      "execution_count": 115,
      "outputs": [
        {
          "output_type": "display_data",
          "data": {
            "text/plain": [
              "<Figure size 640x480 with 1 Axes>"
            ],
            "image/png": "[encoded data removed]"
          },
          "metadata": {}
        }
      ]
    },
    {
      "cell_type": "code",
      "source": [
        "optim = torch.optim.SGD([m3,b3],lr=0.01)"
      ],
      "metadata": {
        "id": "E7vTd_5o3maP"
      },
      "execution_count": 116,
      "outputs": []
    },
    {
      "cell_type": "code",
      "source": [
        "th = reg(x2,m3,b3)\n",
        "th"
      ],
      "metadata": {
        "colab": {
          "base_uri": "https://localhost:8080/"
        },
        "id": "oTl4Asli5ZpP",
        "outputId": "0c2c2b2c-125c-4dd3-c867-6c5df87ba453"
      },
      "execution_count": 117,
      "outputs": [
        {
          "output_type": "execute_result",
          "data": {
            "text/plain": [
              "tensor([1.1000, 2.0000, 2.9000, 3.8000, 4.7000, 5.6000, 6.5000, 7.4000],\n",
              "       grad_fn=<AddBackward0>)"
            ]
          },
          "metadata": {},
          "execution_count": 117
        }
      ]
    },
    {
      "cell_type": "code",
      "source": [
        "cc = mse(th,y2)\n",
        "cc"
      ],
      "metadata": {
        "colab": {
          "base_uri": "https://localhost:8080/"
        },
        "id": "7RA5Njy64RoZ",
        "outputId": "98b0e64a-7807-4998-e1e3-4e1f021b5c09"
      },
      "execution_count": 118,
      "outputs": [
        {
          "output_type": "execute_result",
          "data": {
            "text/plain": [
              "tensor(797.9878, grad_fn=<DivBackward0>)"
            ]
          },
          "metadata": {},
          "execution_count": 118
        }
      ]
    },
    {
      "cell_type": "code",
      "source": [
        "cc.backward()\n"
      ],
      "metadata": {
        "id": "1qMNQ-aD5yb_"
      },
      "execution_count": 119,
      "outputs": []
    },
    {
      "cell_type": "code",
      "source": [
        "m3.grad"
      ],
      "metadata": {
        "colab": {
          "base_uri": "https://localhost:8080/"
        },
        "id": "XBZWq4Pu50dY",
        "outputId": "64be39f5-45c4-420c-a36e-df8a31c8d571"
      },
      "execution_count": 120,
      "outputs": [
        {
          "output_type": "execute_result",
          "data": {
            "text/plain": [
              "tensor([285.1430])"
            ]
          },
          "metadata": {},
          "execution_count": 120
        }
      ]
    },
    {
      "cell_type": "code",
      "source": [
        "b3.grad"
      ],
      "metadata": {
        "colab": {
          "base_uri": "https://localhost:8080/"
        },
        "id": "83EXpv-g54yu",
        "outputId": "a943bd88-0304-4dbf-eb2d-ec2f2af16d0c"
      },
      "execution_count": 121,
      "outputs": [
        {
          "output_type": "execute_result",
          "data": {
            "text/plain": [
              "tensor([49.5418])"
            ]
          },
          "metadata": {},
          "execution_count": 121
        }
      ]
    },
    {
      "cell_type": "code",
      "source": [
        "optim.step()"
      ],
      "metadata": {
        "id": "TOYnpcYI56OJ"
      },
      "execution_count": 122,
      "outputs": []
    },
    {
      "cell_type": "code",
      "source": [
        "m3"
      ],
      "metadata": {
        "colab": {
          "base_uri": "https://localhost:8080/"
        },
        "id": "GSwMwTi45-Bz",
        "outputId": "12e552df-1bf5-4354-d6cd-5bf26383942f"
      },
      "execution_count": 123,
      "outputs": [
        {
          "output_type": "execute_result",
          "data": {
            "text/plain": [
              "tensor([-1.9514], requires_grad=True)"
            ]
          },
          "metadata": {},
          "execution_count": 123
        }
      ]
    },
    {
      "cell_type": "code",
      "source": [
        "regression_plot(x2,y2,b3,m3)"
      ],
      "metadata": {
        "colab": {
          "base_uri": "https://localhost:8080/",
          "height": 433
        },
        "id": "IG8IrvKS6GTd",
        "outputId": "364f589c-83ea-448d-f5e4-30539d7a2c0c"
      },
      "execution_count": 124,
      "outputs": [
        {
          "output_type": "display_data",
          "data": {
            "text/plain": [
              "<Figure size 640x480 with 1 Axes>"
            ],
            "image/png": "[encoded data removed]"
          },
          "metadata": {}
        }
      ]
    },
    {
      "cell_type": "code",
      "source": [],
      "metadata": {
        "id": "AMWAhJ186GQ0"
      },
      "execution_count": null,
      "outputs": []
    },
    {
      "cell_type": "code",
      "source": [
        "epochs = 500\n",
        "for epoch in range(epochs):\n",
        "  optim.zero_grad()\n",
        "\n",
        "  #step 1: forward pass\n",
        "  yh = reg(x2,m3,b3)\n",
        "\n",
        "  #step 2: calculate loss\n",
        "  c1 = mse(yh,y2)\n",
        "\n",
        "  #step3: calculate gradient of C wrt parameters. using autodiff\n",
        "  c1.backward()\n",
        "\n",
        "  #step 4: reduce the cost\n",
        "  optim.step()\n",
        "\n",
        "  print('Epoch {}, cost {}, m grad {}, b grad {}'.format(epoch,'%3g'%c1,'%.3g'%m3.grad,'%.3g'%b3.grad))\n"
      ],
      "metadata": {
        "colab": {
          "base_uri": "https://localhost:8080/"
        },
        "id": "CIXR261A3PaK",
        "outputId": "91fde7de-38be-44bf-e2d4-8c0d2a2b7f98"
      },
      "execution_count": 125,
      "outputs": [
        {
          "output_type": "stream",
          "name": "stdout",
          "text": [
            "Epoch 0, cost 180.669, m grad 135, b grad 22.9\n",
            "Epoch 1, cost 41.9671, m grad 64.2, b grad 10.3\n",
            "Epoch 2, cost 10.7948, m grad 30.5, b grad 4.27\n",
            "Epoch 3, cost 3.78132, m grad 14.6, b grad 1.44\n",
            "Epoch 4, cost 2.1956, m grad 7.02, b grad 0.0965\n",
            "Epoch 5, cost 1.82942, m grad 3.43, b grad -0.537\n",
            "Epoch 6, cost 1.73731, m grad 1.73, b grad -0.835\n",
            "Epoch 7, cost 1.70686, m grad 0.922, b grad -0.974\n",
            "Epoch 8, cost 1.69033, m grad 0.539, b grad -1.04\n",
            "Epoch 9, cost 1.67701, m grad 0.358, b grad -1.06\n",
            "Epoch 10, cost 1.66449, m grad 0.271, b grad -1.08\n",
            "Epoch 11, cost 1.65222, m grad 0.23, b grad -1.08\n",
            "Epoch 12, cost 1.64009, m grad 0.21, b grad -1.08\n",
            "Epoch 13, cost 1.62805, m grad 0.2, b grad -1.08\n",
            "Epoch 14, cost 1.61612, m grad 0.195, b grad -1.07\n",
            "Epoch 15, cost 1.60428, m grad 0.192, b grad -1.07\n",
            "Epoch 16, cost 1.59254, m grad 0.19, b grad -1.06\n",
            "Epoch 17, cost 1.58089, m grad 0.189, b grad -1.06\n",
            "Epoch 18, cost 1.56934, m grad 0.188, b grad -1.06\n",
            "Epoch 19, cost 1.55787, m grad 0.187, b grad -1.05\n",
            "Epoch 20, cost 1.5465, m grad 0.186, b grad -1.05\n",
            "Epoch 21, cost 1.53521, m grad 0.185, b grad -1.04\n",
            "Epoch 22, cost 1.52402, m grad 0.185, b grad -1.04\n",
            "Epoch 23, cost 1.51292, m grad 0.184, b grad -1.03\n",
            "Epoch 24, cost 1.5019, m grad 0.183, b grad -1.03\n",
            "Epoch 25, cost 1.49098, m grad 0.183, b grad -1.03\n",
            "Epoch 26, cost 1.48014, m grad 0.182, b grad -1.02\n",
            "Epoch 27, cost 1.46938, m grad 0.181, b grad -1.02\n",
            "Epoch 28, cost 1.45872, m grad 0.18, b grad -1.01\n",
            "Epoch 29, cost 1.44813, m grad 0.18, b grad -1.01\n",
            "Epoch 30, cost 1.43763, m grad 0.179, b grad -1.01\n",
            "Epoch 31, cost 1.42722, m grad 0.178, b grad -1\n",
            "Epoch 32, cost 1.41689, m grad 0.177, b grad -0.998\n",
            "Epoch 33, cost 1.40664, m grad 0.177, b grad -0.994\n",
            "Epoch 34, cost 1.39647, m grad 0.176, b grad -0.99\n",
            "Epoch 35, cost 1.38638, m grad 0.175, b grad -0.986\n",
            "Epoch 36, cost 1.37638, m grad 0.175, b grad -0.982\n",
            "Epoch 37, cost 1.36645, m grad 0.174, b grad -0.978\n",
            "Epoch 38, cost 1.3566, m grad 0.173, b grad -0.974\n",
            "Epoch 39, cost 1.34683, m grad 0.173, b grad -0.97\n",
            "Epoch 40, cost 1.33714, m grad 0.172, b grad -0.966\n",
            "Epoch 41, cost 1.32753, m grad 0.171, b grad -0.962\n",
            "Epoch 42, cost 1.31799, m grad 0.171, b grad -0.959\n",
            "Epoch 43, cost 1.30853, m grad 0.17, b grad -0.955\n",
            "Epoch 44, cost 1.29914, m grad 0.169, b grad -0.951\n",
            "Epoch 45, cost 1.28983, m grad 0.168, b grad -0.947\n",
            "Epoch 46, cost 1.28059, m grad 0.168, b grad -0.943\n",
            "Epoch 47, cost 1.27143, m grad 0.167, b grad -0.94\n",
            "Epoch 48, cost 1.26234, m grad 0.166, b grad -0.936\n",
            "Epoch 49, cost 1.25332, m grad 0.166, b grad -0.932\n",
            "Epoch 50, cost 1.24438, m grad 0.165, b grad -0.928\n",
            "Epoch 51, cost 1.2355, m grad 0.164, b grad -0.925\n",
            "Epoch 52, cost 1.2267, m grad 0.164, b grad -0.921\n",
            "Epoch 53, cost 1.21796, m grad 0.163, b grad -0.917\n",
            "Epoch 54, cost 1.2093, m grad 0.163, b grad -0.914\n",
            "Epoch 55, cost 1.2007, m grad 0.162, b grad -0.91\n",
            "Epoch 56, cost 1.19218, m grad 0.161, b grad -0.906\n",
            "Epoch 57, cost 1.18372, m grad 0.161, b grad -0.903\n",
            "Epoch 58, cost 1.17533, m grad 0.16, b grad -0.899\n",
            "Epoch 59, cost 1.167, m grad 0.159, b grad -0.896\n",
            "Epoch 60, cost 1.15874, m grad 0.159, b grad -0.892\n",
            "Epoch 61, cost 1.15055, m grad 0.158, b grad -0.888\n",
            "Epoch 62, cost 1.14242, m grad 0.157, b grad -0.885\n",
            "Epoch 63, cost 1.13436, m grad 0.157, b grad -0.881\n",
            "Epoch 64, cost 1.12636, m grad 0.156, b grad -0.878\n",
            "Epoch 65, cost 1.11843, m grad 0.156, b grad -0.874\n",
            "Epoch 66, cost 1.11056, m grad 0.155, b grad -0.871\n",
            "Epoch 67, cost 1.10275, m grad 0.154, b grad -0.867\n",
            "Epoch 68, cost 1.095, m grad 0.154, b grad -0.864\n",
            "Epoch 69, cost 1.08732, m grad 0.153, b grad -0.86\n",
            "Epoch 70, cost 1.07969, m grad 0.152, b grad -0.857\n",
            "Epoch 71, cost 1.07213, m grad 0.152, b grad -0.854\n",
            "Epoch 72, cost 1.06463, m grad 0.151, b grad -0.85\n",
            "Epoch 73, cost 1.05719, m grad 0.151, b grad -0.847\n",
            "Epoch 74, cost 1.0498, m grad 0.15, b grad -0.843\n",
            "Epoch 75, cost 1.04248, m grad 0.149, b grad -0.84\n",
            "Epoch 76, cost 1.03521, m grad 0.149, b grad -0.837\n",
            "Epoch 77, cost 1.02801, m grad 0.148, b grad -0.833\n",
            "Epoch 78, cost 1.02085, m grad 0.148, b grad -0.83\n",
            "Epoch 79, cost 1.01376, m grad 0.147, b grad -0.827\n",
            "Epoch 80, cost 1.00672, m grad 0.146, b grad -0.823\n",
            "Epoch 81, cost 0.999743, m grad 0.146, b grad -0.82\n",
            "Epoch 82, cost 0.992817, m grad 0.145, b grad -0.817\n",
            "Epoch 83, cost 0.985946, m grad 0.145, b grad -0.814\n",
            "Epoch 84, cost 0.979131, m grad 0.144, b grad -0.81\n",
            "Epoch 85, cost 0.97237, m grad 0.144, b grad -0.807\n",
            "Epoch 86, cost 0.965662, m grad 0.143, b grad -0.804\n",
            "Epoch 87, cost 0.959009, m grad 0.142, b grad -0.801\n",
            "Epoch 88, cost 0.952408, m grad 0.142, b grad -0.798\n",
            "Epoch 89, cost 0.94586, m grad 0.141, b grad -0.794\n",
            "Epoch 90, cost 0.939364, m grad 0.141, b grad -0.791\n",
            "Epoch 91, cost 0.932919, m grad 0.14, b grad -0.788\n",
            "Epoch 92, cost 0.926526, m grad 0.14, b grad -0.785\n",
            "Epoch 93, cost 0.920184, m grad 0.139, b grad -0.782\n",
            "Epoch 94, cost 0.913893, m grad 0.138, b grad -0.779\n",
            "Epoch 95, cost 0.907651, m grad 0.138, b grad -0.775\n",
            "Epoch 96, cost 0.90146, m grad 0.137, b grad -0.772\n",
            "Epoch 97, cost 0.895318, m grad 0.137, b grad -0.769\n",
            "Epoch 98, cost 0.889223, m grad 0.136, b grad -0.766\n",
            "Epoch 99, cost 0.883179, m grad 0.136, b grad -0.763\n",
            "Epoch 100, cost 0.877183, m grad 0.135, b grad -0.76\n",
            "Epoch 101, cost 0.871234, m grad 0.135, b grad -0.757\n",
            "Epoch 102, cost 0.865332, m grad 0.134, b grad -0.754\n",
            "Epoch 103, cost 0.859478, m grad 0.134, b grad -0.751\n",
            "Epoch 104, cost 0.853671, m grad 0.133, b grad -0.748\n",
            "Epoch 105, cost 0.84791, m grad 0.133, b grad -0.745\n",
            "Epoch 106, cost 0.842194, m grad 0.132, b grad -0.742\n",
            "Epoch 107, cost 0.836523, m grad 0.131, b grad -0.739\n",
            "Epoch 108, cost 0.830899, m grad 0.131, b grad -0.736\n",
            "Epoch 109, cost 0.825319, m grad 0.13, b grad -0.733\n",
            "Epoch 110, cost 0.819783, m grad 0.13, b grad -0.73\n",
            "Epoch 111, cost 0.814291, m grad 0.129, b grad -0.727\n",
            "Epoch 112, cost 0.808843, m grad 0.129, b grad -0.725\n",
            "Epoch 113, cost 0.803439, m grad 0.128, b grad -0.722\n",
            "Epoch 114, cost 0.798078, m grad 0.128, b grad -0.719\n",
            "Epoch 115, cost 0.79276, m grad 0.127, b grad -0.716\n",
            "Epoch 116, cost 0.787484, m grad 0.127, b grad -0.713\n",
            "Epoch 117, cost 0.78225, m grad 0.126, b grad -0.71\n",
            "Epoch 118, cost 0.777057, m grad 0.126, b grad -0.707\n",
            "Epoch 119, cost 0.771907, m grad 0.125, b grad -0.704\n",
            "Epoch 120, cost 0.766796, m grad 0.125, b grad -0.702\n",
            "Epoch 121, cost 0.761728, m grad 0.124, b grad -0.699\n",
            "Epoch 122, cost 0.756699, m grad 0.124, b grad -0.696\n",
            "Epoch 123, cost 0.75171, m grad 0.123, b grad -0.693\n",
            "Epoch 124, cost 0.746761, m grad 0.123, b grad -0.691\n",
            "Epoch 125, cost 0.741851, m grad 0.122, b grad -0.688\n",
            "Epoch 126, cost 0.736981, m grad 0.122, b grad -0.685\n",
            "Epoch 127, cost 0.732149, m grad 0.121, b grad -0.682\n",
            "Epoch 128, cost 0.727356, m grad 0.121, b grad -0.68\n",
            "Epoch 129, cost 0.722601, m grad 0.12, b grad -0.677\n",
            "Epoch 130, cost 0.717885, m grad 0.12, b grad -0.674\n",
            "Epoch 131, cost 0.713205, m grad 0.119, b grad -0.671\n",
            "Epoch 132, cost 0.708563, m grad 0.119, b grad -0.669\n",
            "Epoch 133, cost 0.703957, m grad 0.118, b grad -0.666\n",
            "Epoch 134, cost 0.69939, m grad 0.118, b grad -0.663\n",
            "Epoch 135, cost 0.694857, m grad 0.118, b grad -0.661\n",
            "Epoch 136, cost 0.690361, m grad 0.117, b grad -0.658\n",
            "Epoch 137, cost 0.6859, m grad 0.117, b grad -0.656\n",
            "Epoch 138, cost 0.681476, m grad 0.116, b grad -0.653\n",
            "Epoch 139, cost 0.677088, m grad 0.116, b grad -0.65\n",
            "Epoch 140, cost 0.672733, m grad 0.115, b grad -0.648\n",
            "Epoch 141, cost 0.668413, m grad 0.115, b grad -0.645\n",
            "Epoch 142, cost 0.664128, m grad 0.114, b grad -0.643\n",
            "Epoch 143, cost 0.659877, m grad 0.114, b grad -0.64\n",
            "Epoch 144, cost 0.65566, m grad 0.113, b grad -0.637\n",
            "Epoch 145, cost 0.651476, m grad 0.113, b grad -0.635\n",
            "Epoch 146, cost 0.647326, m grad 0.112, b grad -0.632\n",
            "Epoch 147, cost 0.643209, m grad 0.112, b grad -0.63\n",
            "Epoch 148, cost 0.639124, m grad 0.112, b grad -0.627\n",
            "Epoch 149, cost 0.635072, m grad 0.111, b grad -0.625\n",
            "Epoch 150, cost 0.631053, m grad 0.111, b grad -0.622\n",
            "Epoch 151, cost 0.627066, m grad 0.11, b grad -0.62\n",
            "Epoch 152, cost 0.62311, m grad 0.11, b grad -0.617\n",
            "Epoch 153, cost 0.619186, m grad 0.109, b grad -0.615\n",
            "Epoch 154, cost 0.615293, m grad 0.109, b grad -0.612\n",
            "Epoch 155, cost 0.61143, m grad 0.108, b grad -0.61\n",
            "Epoch 156, cost 0.6076, m grad 0.108, b grad -0.608\n",
            "Epoch 157, cost 0.603799, m grad 0.108, b grad -0.605\n",
            "Epoch 158, cost 0.600029, m grad 0.107, b grad -0.603\n",
            "Epoch 159, cost 0.596289, m grad 0.107, b grad -0.6\n",
            "Epoch 160, cost 0.592578, m grad 0.106, b grad -0.598\n",
            "Epoch 161, cost 0.588898, m grad 0.106, b grad -0.596\n",
            "Epoch 162, cost 0.585246, m grad 0.106, b grad -0.593\n",
            "Epoch 163, cost 0.581624, m grad 0.105, b grad -0.591\n",
            "Epoch 164, cost 0.57803, m grad 0.105, b grad -0.588\n",
            "Epoch 165, cost 0.574465, m grad 0.104, b grad -0.586\n",
            "Epoch 166, cost 0.570929, m grad 0.104, b grad -0.584\n",
            "Epoch 167, cost 0.56742, m grad 0.103, b grad -0.581\n",
            "Epoch 168, cost 0.563939, m grad 0.103, b grad -0.579\n",
            "Epoch 169, cost 0.560486, m grad 0.103, b grad -0.577\n",
            "Epoch 170, cost 0.557061, m grad 0.102, b grad -0.574\n",
            "Epoch 171, cost 0.553663, m grad 0.102, b grad -0.572\n",
            "Epoch 172, cost 0.550293, m grad 0.101, b grad -0.57\n",
            "Epoch 173, cost 0.546949, m grad 0.101, b grad -0.568\n",
            "Epoch 174, cost 0.543632, m grad 0.101, b grad -0.565\n",
            "Epoch 175, cost 0.540341, m grad 0.1, b grad -0.563\n",
            "Epoch 176, cost 0.537076, m grad 0.0998, b grad -0.561\n",
            "Epoch 177, cost 0.533838, m grad 0.0994, b grad -0.559\n",
            "Epoch 178, cost 0.530625, m grad 0.099, b grad -0.556\n",
            "Epoch 179, cost 0.527437, m grad 0.0986, b grad -0.554\n",
            "Epoch 180, cost 0.524276, m grad 0.0982, b grad -0.552\n",
            "Epoch 181, cost 0.521139, m grad 0.0978, b grad -0.55\n",
            "Epoch 182, cost 0.518027, m grad 0.0974, b grad -0.548\n",
            "Epoch 183, cost 0.514941, m grad 0.097, b grad -0.545\n",
            "Epoch 184, cost 0.511878, m grad 0.0966, b grad -0.543\n",
            "Epoch 185, cost 0.508841, m grad 0.0962, b grad -0.541\n",
            "Epoch 186, cost 0.505827, m grad 0.0959, b grad -0.539\n",
            "Epoch 187, cost 0.502838, m grad 0.0955, b grad -0.537\n",
            "Epoch 188, cost 0.499872, m grad 0.0951, b grad -0.535\n",
            "Epoch 189, cost 0.49693, m grad 0.0947, b grad -0.532\n",
            "Epoch 190, cost 0.494011, m grad 0.0943, b grad -0.53\n",
            "Epoch 191, cost 0.491115, m grad 0.094, b grad -0.528\n",
            "Epoch 192, cost 0.488243, m grad 0.0936, b grad -0.526\n",
            "Epoch 193, cost 0.485394, m grad 0.0932, b grad -0.524\n",
            "Epoch 194, cost 0.482567, m grad 0.0928, b grad -0.522\n",
            "Epoch 195, cost 0.479763, m grad 0.0925, b grad -0.52\n",
            "Epoch 196, cost 0.476981, m grad 0.0921, b grad -0.518\n",
            "Epoch 197, cost 0.474221, m grad 0.0917, b grad -0.516\n",
            "Epoch 198, cost 0.471483, m grad 0.0913, b grad -0.514\n",
            "Epoch 199, cost 0.468767, m grad 0.091, b grad -0.512\n",
            "Epoch 200, cost 0.466073, m grad 0.0906, b grad -0.51\n",
            "Epoch 201, cost 0.4634, m grad 0.0903, b grad -0.507\n",
            "Epoch 202, cost 0.460749, m grad 0.0899, b grad -0.505\n",
            "Epoch 203, cost 0.458118, m grad 0.0895, b grad -0.503\n",
            "Epoch 204, cost 0.455509, m grad 0.0892, b grad -0.501\n",
            "Epoch 205, cost 0.45292, m grad 0.0888, b grad -0.499\n",
            "Epoch 206, cost 0.450353, m grad 0.0885, b grad -0.497\n",
            "Epoch 207, cost 0.447805, m grad 0.0881, b grad -0.495\n",
            "Epoch 208, cost 0.445277, m grad 0.0878, b grad -0.493\n",
            "Epoch 209, cost 0.442771, m grad 0.0874, b grad -0.491\n",
            "Epoch 210, cost 0.440283, m grad 0.0871, b grad -0.49\n",
            "Epoch 211, cost 0.437816, m grad 0.0867, b grad -0.488\n",
            "Epoch 212, cost 0.435368, m grad 0.0864, b grad -0.486\n",
            "Epoch 213, cost 0.43294, m grad 0.086, b grad -0.484\n",
            "Epoch 214, cost 0.430531, m grad 0.0857, b grad -0.482\n",
            "Epoch 215, cost 0.428142, m grad 0.0854, b grad -0.48\n",
            "Epoch 216, cost 0.425772, m grad 0.085, b grad -0.478\n",
            "Epoch 217, cost 0.42342, m grad 0.0847, b grad -0.476\n",
            "Epoch 218, cost 0.421087, m grad 0.0843, b grad -0.474\n",
            "Epoch 219, cost 0.418773, m grad 0.084, b grad -0.472\n",
            "Epoch 220, cost 0.416476, m grad 0.0837, b grad -0.47\n",
            "Epoch 221, cost 0.414199, m grad 0.0833, b grad -0.468\n",
            "Epoch 222, cost 0.411939, m grad 0.083, b grad -0.467\n",
            "Epoch 223, cost 0.409698, m grad 0.0827, b grad -0.465\n",
            "Epoch 224, cost 0.407475, m grad 0.0823, b grad -0.463\n",
            "Epoch 225, cost 0.405269, m grad 0.082, b grad -0.461\n",
            "Epoch 226, cost 0.40308, m grad 0.0817, b grad -0.459\n",
            "Epoch 227, cost 0.400909, m grad 0.0813, b grad -0.457\n",
            "Epoch 228, cost 0.398756, m grad 0.081, b grad -0.456\n",
            "Epoch 229, cost 0.396619, m grad 0.0807, b grad -0.454\n",
            "Epoch 230, cost 0.394501, m grad 0.0804, b grad -0.452\n",
            "Epoch 231, cost 0.392398, m grad 0.08, b grad -0.45\n",
            "Epoch 232, cost 0.390312, m grad 0.0797, b grad -0.448\n",
            "Epoch 233, cost 0.388243, m grad 0.0794, b grad -0.447\n",
            "Epoch 234, cost 0.386191, m grad 0.0791, b grad -0.445\n",
            "Epoch 235, cost 0.384155, m grad 0.0788, b grad -0.443\n",
            "Epoch 236, cost 0.382134, m grad 0.0785, b grad -0.441\n",
            "Epoch 237, cost 0.38013, m grad 0.0781, b grad -0.439\n",
            "Epoch 238, cost 0.378142, m grad 0.0778, b grad -0.438\n",
            "Epoch 239, cost 0.37617, m grad 0.0775, b grad -0.436\n",
            "Epoch 240, cost 0.374214, m grad 0.0772, b grad -0.434\n",
            "Epoch 241, cost 0.372273, m grad 0.0769, b grad -0.432\n",
            "Epoch 242, cost 0.370347, m grad 0.0766, b grad -0.431\n",
            "Epoch 243, cost 0.368438, m grad 0.0763, b grad -0.429\n",
            "Epoch 244, cost 0.366543, m grad 0.076, b grad -0.427\n",
            "Epoch 245, cost 0.364663, m grad 0.0757, b grad -0.426\n",
            "Epoch 246, cost 0.362798, m grad 0.0754, b grad -0.424\n",
            "Epoch 247, cost 0.360948, m grad 0.0751, b grad -0.422\n",
            "Epoch 248, cost 0.359113, m grad 0.0748, b grad -0.42\n",
            "Epoch 249, cost 0.357293, m grad 0.0745, b grad -0.419\n",
            "Epoch 250, cost 0.355487, m grad 0.0742, b grad -0.417\n",
            "Epoch 251, cost 0.353696, m grad 0.0739, b grad -0.415\n",
            "Epoch 252, cost 0.351918, m grad 0.0736, b grad -0.414\n",
            "Epoch 253, cost 0.350155, m grad 0.0733, b grad -0.412\n",
            "Epoch 254, cost 0.348406, m grad 0.073, b grad -0.411\n",
            "Epoch 255, cost 0.346671, m grad 0.0727, b grad -0.409\n",
            "Epoch 256, cost 0.344949, m grad 0.0724, b grad -0.407\n",
            "Epoch 257, cost 0.343242, m grad 0.0722, b grad -0.406\n",
            "Epoch 258, cost 0.341548, m grad 0.0719, b grad -0.404\n",
            "Epoch 259, cost 0.339867, m grad 0.0716, b grad -0.402\n",
            "Epoch 260, cost 0.3382, m grad 0.0713, b grad -0.401\n",
            "Epoch 261, cost 0.336547, m grad 0.071, b grad -0.399\n",
            "Epoch 262, cost 0.334906, m grad 0.0707, b grad -0.398\n",
            "Epoch 263, cost 0.333279, m grad 0.0705, b grad -0.396\n",
            "Epoch 264, cost 0.331664, m grad 0.0702, b grad -0.394\n",
            "Epoch 265, cost 0.330062, m grad 0.0699, b grad -0.393\n",
            "Epoch 266, cost 0.328473, m grad 0.0696, b grad -0.391\n",
            "Epoch 267, cost 0.326897, m grad 0.0693, b grad -0.39\n",
            "Epoch 268, cost 0.325333, m grad 0.0691, b grad -0.388\n",
            "Epoch 269, cost 0.323782, m grad 0.0688, b grad -0.387\n",
            "Epoch 270, cost 0.322243, m grad 0.0685, b grad -0.385\n",
            "Epoch 271, cost 0.320716, m grad 0.0682, b grad -0.384\n",
            "Epoch 272, cost 0.319202, m grad 0.068, b grad -0.382\n",
            "Epoch 273, cost 0.317699, m grad 0.0677, b grad -0.38\n",
            "Epoch 274, cost 0.316209, m grad 0.0674, b grad -0.379\n",
            "Epoch 275, cost 0.314731, m grad 0.0671, b grad -0.377\n",
            "Epoch 276, cost 0.313264, m grad 0.0669, b grad -0.376\n",
            "Epoch 277, cost 0.311809, m grad 0.0666, b grad -0.374\n",
            "Epoch 278, cost 0.310365, m grad 0.0663, b grad -0.373\n",
            "Epoch 279, cost 0.308933, m grad 0.0661, b grad -0.371\n",
            "Epoch 280, cost 0.307513, m grad 0.0658, b grad -0.37\n",
            "Epoch 281, cost 0.306103, m grad 0.0656, b grad -0.368\n",
            "Epoch 282, cost 0.304705, m grad 0.0653, b grad -0.367\n",
            "Epoch 283, cost 0.303318, m grad 0.065, b grad -0.366\n",
            "Epoch 284, cost 0.301942, m grad 0.0647, b grad -0.364\n",
            "Epoch 285, cost 0.300577, m grad 0.0645, b grad -0.363\n",
            "Epoch 286, cost 0.299223, m grad 0.0642, b grad -0.361\n",
            "Epoch 287, cost 0.29788, m grad 0.064, b grad -0.36\n",
            "Epoch 288, cost 0.296548, m grad 0.0637, b grad -0.358\n",
            "Epoch 289, cost 0.295225, m grad 0.0635, b grad -0.357\n",
            "Epoch 290, cost 0.293914, m grad 0.0632, b grad -0.355\n",
            "Epoch 291, cost 0.292614, m grad 0.063, b grad -0.354\n",
            "Epoch 292, cost 0.291323, m grad 0.0627, b grad -0.353\n",
            "Epoch 293, cost 0.290043, m grad 0.0625, b grad -0.351\n",
            "Epoch 294, cost 0.288772, m grad 0.0622, b grad -0.35\n",
            "Epoch 295, cost 0.287513, m grad 0.062, b grad -0.348\n",
            "Epoch 296, cost 0.286262, m grad 0.0617, b grad -0.347\n",
            "Epoch 297, cost 0.285023, m grad 0.0615, b grad -0.346\n",
            "Epoch 298, cost 0.283792, m grad 0.0612, b grad -0.344\n",
            "Epoch 299, cost 0.282572, m grad 0.061, b grad -0.343\n",
            "Epoch 300, cost 0.281362, m grad 0.0608, b grad -0.342\n",
            "Epoch 301, cost 0.280161, m grad 0.0605, b grad -0.34\n",
            "Epoch 302, cost 0.27897, m grad 0.0603, b grad -0.339\n",
            "Epoch 303, cost 0.277788, m grad 0.06, b grad -0.337\n",
            "Epoch 304, cost 0.276616, m grad 0.0598, b grad -0.336\n",
            "Epoch 305, cost 0.275452, m grad 0.0595, b grad -0.335\n",
            "Epoch 306, cost 0.274299, m grad 0.0593, b grad -0.333\n",
            "Epoch 307, cost 0.273154, m grad 0.0591, b grad -0.332\n",
            "Epoch 308, cost 0.272019, m grad 0.0588, b grad -0.331\n",
            "Epoch 309, cost 0.270892, m grad 0.0586, b grad -0.329\n",
            "Epoch 310, cost 0.269775, m grad 0.0583, b grad -0.328\n",
            "Epoch 311, cost 0.268666, m grad 0.0581, b grad -0.327\n",
            "Epoch 312, cost 0.267566, m grad 0.0579, b grad -0.326\n",
            "Epoch 313, cost 0.266476, m grad 0.0577, b grad -0.324\n",
            "Epoch 314, cost 0.265393, m grad 0.0574, b grad -0.323\n",
            "Epoch 315, cost 0.26432, m grad 0.0572, b grad -0.322\n",
            "Epoch 316, cost 0.263254, m grad 0.057, b grad -0.32\n",
            "Epoch 317, cost 0.262198, m grad 0.0568, b grad -0.319\n",
            "Epoch 318, cost 0.26115, m grad 0.0565, b grad -0.318\n",
            "Epoch 319, cost 0.26011, m grad 0.0563, b grad -0.317\n",
            "Epoch 320, cost 0.259078, m grad 0.0561, b grad -0.315\n",
            "Epoch 321, cost 0.258055, m grad 0.0559, b grad -0.314\n",
            "Epoch 322, cost 0.25704, m grad 0.0556, b grad -0.313\n",
            "Epoch 323, cost 0.256033, m grad 0.0554, b grad -0.312\n",
            "Epoch 324, cost 0.255034, m grad 0.0552, b grad -0.31\n",
            "Epoch 325, cost 0.254043, m grad 0.055, b grad -0.309\n",
            "Epoch 326, cost 0.253059, m grad 0.0547, b grad -0.308\n",
            "Epoch 327, cost 0.252084, m grad 0.0545, b grad -0.307\n",
            "Epoch 328, cost 0.251116, m grad 0.0543, b grad -0.305\n",
            "Epoch 329, cost 0.250157, m grad 0.0541, b grad -0.304\n",
            "Epoch 330, cost 0.249205, m grad 0.0539, b grad -0.303\n",
            "Epoch 331, cost 0.24826, m grad 0.0537, b grad -0.302\n",
            "Epoch 332, cost 0.247322, m grad 0.0534, b grad -0.3\n",
            "Epoch 333, cost 0.246393, m grad 0.0532, b grad -0.299\n",
            "Epoch 334, cost 0.245471, m grad 0.053, b grad -0.298\n",
            "Epoch 335, cost 0.244556, m grad 0.0528, b grad -0.297\n",
            "Epoch 336, cost 0.243648, m grad 0.0526, b grad -0.296\n",
            "Epoch 337, cost 0.242748, m grad 0.0524, b grad -0.295\n",
            "Epoch 338, cost 0.241855, m grad 0.0522, b grad -0.293\n",
            "Epoch 339, cost 0.240969, m grad 0.052, b grad -0.292\n",
            "Epoch 340, cost 0.24009, m grad 0.0518, b grad -0.291\n",
            "Epoch 341, cost 0.239218, m grad 0.0516, b grad -0.29\n",
            "Epoch 342, cost 0.238353, m grad 0.0514, b grad -0.289\n",
            "Epoch 343, cost 0.237495, m grad 0.0511, b grad -0.288\n",
            "Epoch 344, cost 0.236643, m grad 0.0509, b grad -0.286\n",
            "Epoch 345, cost 0.235798, m grad 0.0507, b grad -0.285\n",
            "Epoch 346, cost 0.234961, m grad 0.0505, b grad -0.284\n",
            "Epoch 347, cost 0.23413, m grad 0.0503, b grad -0.283\n",
            "Epoch 348, cost 0.233305, m grad 0.0501, b grad -0.282\n",
            "Epoch 349, cost 0.232487, m grad 0.0499, b grad -0.281\n",
            "Epoch 350, cost 0.231676, m grad 0.0497, b grad -0.28\n",
            "Epoch 351, cost 0.230871, m grad 0.0495, b grad -0.278\n",
            "Epoch 352, cost 0.230072, m grad 0.0494, b grad -0.277\n",
            "Epoch 353, cost 0.22928, m grad 0.0491, b grad -0.276\n",
            "Epoch 354, cost 0.228494, m grad 0.0489, b grad -0.275\n",
            "Epoch 355, cost 0.227715, m grad 0.0487, b grad -0.274\n",
            "Epoch 356, cost 0.226941, m grad 0.0486, b grad -0.273\n",
            "Epoch 357, cost 0.226174, m grad 0.0484, b grad -0.272\n",
            "Epoch 358, cost 0.225413, m grad 0.0482, b grad -0.271\n",
            "Epoch 359, cost 0.224658, m grad 0.048, b grad -0.27\n",
            "Epoch 360, cost 0.223909, m grad 0.0478, b grad -0.269\n",
            "Epoch 361, cost 0.223166, m grad 0.0476, b grad -0.268\n",
            "Epoch 362, cost 0.222429, m grad 0.0474, b grad -0.267\n",
            "Epoch 363, cost 0.221697, m grad 0.0472, b grad -0.265\n",
            "Epoch 364, cost 0.220972, m grad 0.047, b grad -0.264\n",
            "Epoch 365, cost 0.220252, m grad 0.0468, b grad -0.263\n",
            "Epoch 366, cost 0.219539, m grad 0.0467, b grad -0.262\n",
            "Epoch 367, cost 0.21883, m grad 0.0465, b grad -0.261\n",
            "Epoch 368, cost 0.218128, m grad 0.0463, b grad -0.26\n",
            "Epoch 369, cost 0.21743, m grad 0.0461, b grad -0.259\n",
            "Epoch 370, cost 0.216739, m grad 0.0459, b grad -0.258\n",
            "Epoch 371, cost 0.216053, m grad 0.0457, b grad -0.257\n",
            "Epoch 372, cost 0.215373, m grad 0.0455, b grad -0.256\n",
            "Epoch 373, cost 0.214698, m grad 0.0453, b grad -0.255\n",
            "Epoch 374, cost 0.214028, m grad 0.0452, b grad -0.254\n",
            "Epoch 375, cost 0.213364, m grad 0.045, b grad -0.253\n",
            "Epoch 376, cost 0.212705, m grad 0.0448, b grad -0.252\n",
            "Epoch 377, cost 0.212051, m grad 0.0446, b grad -0.251\n",
            "Epoch 378, cost 0.211402, m grad 0.0445, b grad -0.25\n",
            "Epoch 379, cost 0.210759, m grad 0.0443, b grad -0.249\n",
            "Epoch 380, cost 0.210121, m grad 0.0441, b grad -0.248\n",
            "Epoch 381, cost 0.209487, m grad 0.0439, b grad -0.247\n",
            "Epoch 382, cost 0.208859, m grad 0.0438, b grad -0.246\n",
            "Epoch 383, cost 0.208236, m grad 0.0436, b grad -0.245\n",
            "Epoch 384, cost 0.207618, m grad 0.0434, b grad -0.244\n",
            "Epoch 385, cost 0.207005, m grad 0.0432, b grad -0.243\n",
            "Epoch 386, cost 0.206396, m grad 0.0431, b grad -0.242\n",
            "Epoch 387, cost 0.205793, m grad 0.0429, b grad -0.241\n",
            "Epoch 388, cost 0.205194, m grad 0.0427, b grad -0.24\n",
            "Epoch 389, cost 0.2046, m grad 0.0425, b grad -0.239\n",
            "Epoch 390, cost 0.204011, m grad 0.0424, b grad -0.238\n",
            "Epoch 391, cost 0.203427, m grad 0.0422, b grad -0.237\n",
            "Epoch 392, cost 0.202846, m grad 0.042, b grad -0.236\n",
            "Epoch 393, cost 0.202272, m grad 0.0419, b grad -0.235\n",
            "Epoch 394, cost 0.201701, m grad 0.0417, b grad -0.234\n",
            "Epoch 395, cost 0.201135, m grad 0.0416, b grad -0.234\n",
            "Epoch 396, cost 0.200573, m grad 0.0414, b grad -0.233\n",
            "Epoch 397, cost 0.200016, m grad 0.0412, b grad -0.232\n",
            "Epoch 398, cost 0.199463, m grad 0.041, b grad -0.231\n",
            "Epoch 399, cost 0.198915, m grad 0.0409, b grad -0.23\n",
            "Epoch 400, cost 0.198371, m grad 0.0407, b grad -0.229\n",
            "Epoch 401, cost 0.197832, m grad 0.0406, b grad -0.228\n",
            "Epoch 402, cost 0.197297, m grad 0.0404, b grad -0.227\n",
            "Epoch 403, cost 0.196766, m grad 0.0402, b grad -0.226\n",
            "Epoch 404, cost 0.196239, m grad 0.0401, b grad -0.225\n",
            "Epoch 405, cost 0.195716, m grad 0.0399, b grad -0.224\n",
            "Epoch 406, cost 0.195198, m grad 0.0398, b grad -0.223\n",
            "Epoch 407, cost 0.194683, m grad 0.0396, b grad -0.223\n",
            "Epoch 408, cost 0.194173, m grad 0.0394, b grad -0.222\n",
            "Epoch 409, cost 0.193667, m grad 0.0393, b grad -0.221\n",
            "Epoch 410, cost 0.193165, m grad 0.0391, b grad -0.22\n",
            "Epoch 411, cost 0.192667, m grad 0.039, b grad -0.219\n",
            "Epoch 412, cost 0.192173, m grad 0.0388, b grad -0.218\n",
            "Epoch 413, cost 0.191683, m grad 0.0387, b grad -0.217\n",
            "Epoch 414, cost 0.191196, m grad 0.0385, b grad -0.216\n",
            "Epoch 415, cost 0.190714, m grad 0.0383, b grad -0.216\n",
            "Epoch 416, cost 0.190236, m grad 0.0382, b grad -0.215\n",
            "Epoch 417, cost 0.18976, m grad 0.038, b grad -0.214\n",
            "Epoch 418, cost 0.18929, m grad 0.0379, b grad -0.213\n",
            "Epoch 419, cost 0.188822, m grad 0.0377, b grad -0.212\n",
            "Epoch 420, cost 0.188359, m grad 0.0376, b grad -0.211\n",
            "Epoch 421, cost 0.187899, m grad 0.0374, b grad -0.21\n",
            "Epoch 422, cost 0.187443, m grad 0.0373, b grad -0.21\n",
            "Epoch 423, cost 0.186991, m grad 0.0371, b grad -0.209\n",
            "Epoch 424, cost 0.186542, m grad 0.037, b grad -0.208\n",
            "Epoch 425, cost 0.186096, m grad 0.0368, b grad -0.207\n",
            "Epoch 426, cost 0.185655, m grad 0.0367, b grad -0.206\n",
            "Epoch 427, cost 0.185217, m grad 0.0365, b grad -0.205\n",
            "Epoch 428, cost 0.184782, m grad 0.0364, b grad -0.205\n",
            "Epoch 429, cost 0.18435, m grad 0.0362, b grad -0.204\n",
            "Epoch 430, cost 0.183923, m grad 0.0361, b grad -0.203\n",
            "Epoch 431, cost 0.183499, m grad 0.036, b grad -0.202\n",
            "Epoch 432, cost 0.183077, m grad 0.0358, b grad -0.201\n",
            "Epoch 433, cost 0.18266, m grad 0.0357, b grad -0.201\n",
            "Epoch 434, cost 0.182246, m grad 0.0356, b grad -0.2\n",
            "Epoch 435, cost 0.181834, m grad 0.0354, b grad -0.199\n",
            "Epoch 436, cost 0.181427, m grad 0.0353, b grad -0.198\n",
            "Epoch 437, cost 0.181022, m grad 0.0351, b grad -0.197\n",
            "Epoch 438, cost 0.180621, m grad 0.035, b grad -0.197\n",
            "Epoch 439, cost 0.180222, m grad 0.0348, b grad -0.196\n",
            "Epoch 440, cost 0.179828, m grad 0.0347, b grad -0.195\n",
            "Epoch 441, cost 0.179436, m grad 0.0346, b grad -0.194\n",
            "Epoch 442, cost 0.179047, m grad 0.0344, b grad -0.194\n",
            "Epoch 443, cost 0.178662, m grad 0.0343, b grad -0.193\n",
            "Epoch 444, cost 0.178279, m grad 0.0341, b grad -0.192\n",
            "Epoch 445, cost 0.1779, m grad 0.034, b grad -0.191\n",
            "Epoch 446, cost 0.177523, m grad 0.0339, b grad -0.19\n",
            "Epoch 447, cost 0.17715, m grad 0.0337, b grad -0.19\n",
            "Epoch 448, cost 0.176779, m grad 0.0336, b grad -0.189\n",
            "Epoch 449, cost 0.176412, m grad 0.0335, b grad -0.188\n",
            "Epoch 450, cost 0.176047, m grad 0.0333, b grad -0.187\n",
            "Epoch 451, cost 0.175685, m grad 0.0332, b grad -0.187\n",
            "Epoch 452, cost 0.175327, m grad 0.0331, b grad -0.186\n",
            "Epoch 453, cost 0.174971, m grad 0.0329, b grad -0.185\n",
            "Epoch 454, cost 0.174618, m grad 0.0328, b grad -0.184\n",
            "Epoch 455, cost 0.174268, m grad 0.0327, b grad -0.184\n",
            "Epoch 456, cost 0.17392, m grad 0.0325, b grad -0.183\n",
            "Epoch 457, cost 0.173575, m grad 0.0324, b grad -0.182\n",
            "Epoch 458, cost 0.173233, m grad 0.0323, b grad -0.182\n",
            "Epoch 459, cost 0.172894, m grad 0.0321, b grad -0.181\n",
            "Epoch 460, cost 0.172558, m grad 0.032, b grad -0.18\n",
            "Epoch 461, cost 0.172223, m grad 0.0319, b grad -0.179\n",
            "Epoch 462, cost 0.171893, m grad 0.0318, b grad -0.179\n",
            "Epoch 463, cost 0.171564, m grad 0.0317, b grad -0.178\n",
            "Epoch 464, cost 0.171238, m grad 0.0315, b grad -0.177\n",
            "Epoch 465, cost 0.170915, m grad 0.0314, b grad -0.177\n",
            "Epoch 466, cost 0.170594, m grad 0.0313, b grad -0.176\n",
            "Epoch 467, cost 0.170276, m grad 0.0311, b grad -0.175\n",
            "Epoch 468, cost 0.16996, m grad 0.031, b grad -0.174\n",
            "Epoch 469, cost 0.169647, m grad 0.0309, b grad -0.174\n",
            "Epoch 470, cost 0.169336, m grad 0.0308, b grad -0.173\n",
            "Epoch 471, cost 0.169028, m grad 0.0307, b grad -0.172\n",
            "Epoch 472, cost 0.168722, m grad 0.0305, b grad -0.172\n",
            "Epoch 473, cost 0.168419, m grad 0.0304, b grad -0.171\n",
            "Epoch 474, cost 0.168118, m grad 0.0303, b grad -0.17\n",
            "Epoch 475, cost 0.16782, m grad 0.0302, b grad -0.17\n",
            "Epoch 476, cost 0.167523, m grad 0.03, b grad -0.169\n",
            "Epoch 477, cost 0.16723, m grad 0.0299, b grad -0.168\n",
            "Epoch 478, cost 0.166938, m grad 0.0298, b grad -0.168\n",
            "Epoch 479, cost 0.166649, m grad 0.0297, b grad -0.167\n",
            "Epoch 480, cost 0.166362, m grad 0.0296, b grad -0.166\n",
            "Epoch 481, cost 0.166078, m grad 0.0294, b grad -0.166\n",
            "Epoch 482, cost 0.165796, m grad 0.0293, b grad -0.165\n",
            "Epoch 483, cost 0.165516, m grad 0.0292, b grad -0.164\n",
            "Epoch 484, cost 0.165238, m grad 0.0291, b grad -0.164\n",
            "Epoch 485, cost 0.164963, m grad 0.029, b grad -0.163\n",
            "Epoch 486, cost 0.164689, m grad 0.0289, b grad -0.162\n",
            "Epoch 487, cost 0.164418, m grad 0.0288, b grad -0.162\n",
            "Epoch 488, cost 0.164149, m grad 0.0286, b grad -0.161\n",
            "Epoch 489, cost 0.163882, m grad 0.0285, b grad -0.16\n",
            "Epoch 490, cost 0.163617, m grad 0.0284, b grad -0.16\n",
            "Epoch 491, cost 0.163355, m grad 0.0283, b grad -0.159\n",
            "Epoch 492, cost 0.163094, m grad 0.0282, b grad -0.158\n",
            "Epoch 493, cost 0.162836, m grad 0.0281, b grad -0.158\n",
            "Epoch 494, cost 0.16258, m grad 0.0279, b grad -0.157\n",
            "Epoch 495, cost 0.162325, m grad 0.0278, b grad -0.157\n",
            "Epoch 496, cost 0.162073, m grad 0.0277, b grad -0.156\n",
            "Epoch 497, cost 0.161822, m grad 0.0276, b grad -0.155\n",
            "Epoch 498, cost 0.161574, m grad 0.0275, b grad -0.155\n",
            "Epoch 499, cost 0.161328, m grad 0.0274, b grad -0.154\n"
          ]
        }
      ]
    },
    {
      "cell_type": "code",
      "source": [
        "regression_plot(x2,y2,b3,m3)"
      ],
      "metadata": {
        "colab": {
          "base_uri": "https://localhost:8080/",
          "height": 432
        },
        "id": "a3iphaWA4udI",
        "outputId": "d8a6b162-0847-44e5-94eb-7a00167c19b9"
      },
      "execution_count": 126,
      "outputs": [
        {
          "output_type": "display_data",
          "data": {
            "text/plain": [
              "<Figure size 640x480 with 1 Axes>"
            ],
            "image/png": "[encoded data removed]"
          },
          "metadata": {}
        }
      ]
    },
    {
      "cell_type": "code",
      "source": [],
      "metadata": {
        "id": "hSoMU-5T7xdf"
      },
      "execution_count": null,
      "outputs": []
    }
  ]
}