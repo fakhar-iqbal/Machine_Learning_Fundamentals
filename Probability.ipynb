{
  "nbformat": 4,
  "nbformat_minor": 0,
  "metadata": {
    "colab": {
      "provenance": [],
      "authorship_tag": "ABX9TyMOhUkhxZ0esbCOawKCYNDy",
      "include_colab_link": true
    },
    "kernelspec": {
      "name": "python3",
      "display_name": "Python 3"
    },
    "language_info": {
      "name": "python"
    }
  },
  "cells": [
    {
      "cell_type": "markdown",
      "metadata": {
        "id": "view-in-github",
        "colab_type": "text"
      },
      "source": [
        "<a href=\"https://colab.research.google.com/github/fakhar-iqbal/Machine_Learning_Fundamentals/blob/main/Probability.ipynb\" target=\"_parent\"><img src=\"https://colab.research.google.com/assets/colab-badge.svg\" alt=\"Open In Colab\"/></a>"
      ]
    },
    {
      "cell_type": "code",
      "execution_count": 1,
      "metadata": {
        "id": "NYc2tIOvEvQZ"
      },
      "outputs": [],
      "source": [
        "import numpy as np\n",
        "import matplotlib.pyplot as plt\n",
        "import scipy.stats as st\n",
        "import seaborn as sns"
      ]
    },
    {
      "cell_type": "markdown",
      "source": [
        "##**The Law of Large Numbers**"
      ],
      "metadata": {
        "id": "zFLzApXEHRWW"
      }
    },
    {
      "cell_type": "code",
      "source": [
        "ns = np.array([2,4,8,16,32,64,128,256,512,1024,2048,4096])\n"
      ],
      "metadata": {
        "id": "VChAoYyqE8ji"
      },
      "execution_count": 2,
      "outputs": []
    },
    {
      "cell_type": "code",
      "source": [
        "np.random.seed(42)"
      ],
      "metadata": {
        "id": "LBb8uaQgFVQ1"
      },
      "execution_count": 3,
      "outputs": []
    },
    {
      "cell_type": "code",
      "source": [
        "np.random.binomial(1,0.5)"
      ],
      "metadata": {
        "colab": {
          "base_uri": "https://localhost:8080/"
        },
        "id": "W6oa3EXoFctb",
        "outputId": "f9536758-992d-4c6f-e182-f9f3f3592150"
      },
      "execution_count": 4,
      "outputs": [
        {
          "output_type": "execute_result",
          "data": {
            "text/plain": [
              "0"
            ]
          },
          "metadata": {},
          "execution_count": 4
        }
      ]
    },
    {
      "cell_type": "code",
      "source": [
        "head_counts = [np.random.binomial(n,0.5) for n in ns]\n",
        "head_counts"
      ],
      "metadata": {
        "colab": {
          "base_uri": "https://localhost:8080/"
        },
        "id": "o5QVkcvYFvxV",
        "outputId": "1a0360a2-51fa-4040-eb9c-3062e7c878d0"
      },
      "execution_count": 5,
      "outputs": [
        {
          "output_type": "execute_result",
          "data": {
            "text/plain": [
              "[2, 3, 4, 6, 13, 27, 54, 136, 258, 509, 1038, 2094]"
            ]
          },
          "metadata": {},
          "execution_count": 5
        }
      ]
    },
    {
      "cell_type": "code",
      "source": [
        "proportion_head = head_counts/ns\n",
        "\n",
        "proportion_head"
      ],
      "metadata": {
        "colab": {
          "base_uri": "https://localhost:8080/"
        },
        "id": "kHCafbL_F7p-",
        "outputId": "3c046c3e-f25b-45d2-c79d-765ba3aea705"
      },
      "execution_count": 6,
      "outputs": [
        {
          "output_type": "execute_result",
          "data": {
            "text/plain": [
              "array([1.        , 0.75      , 0.5       , 0.375     , 0.40625   ,\n",
              "       0.421875  , 0.421875  , 0.53125   , 0.50390625, 0.49707031,\n",
              "       0.50683594, 0.51123047])"
            ]
          },
          "metadata": {},
          "execution_count": 6
        }
      ]
    },
    {
      "cell_type": "code",
      "source": [
        "fig,ax = plt.subplots()\n",
        "\n",
        "plt.xlabel('number of coin flips in experiment')\n",
        "plt.ylabel('proportion of flips that are head')\n",
        "\n",
        "plt.axhline(0.5,color='orange')\n",
        "_ = ax.scatter(ns,proportion_head)"
      ],
      "metadata": {
        "colab": {
          "base_uri": "https://localhost:8080/",
          "height": 449
        },
        "id": "BxhUjiuBGR7Q",
        "outputId": "df864e36-23c0-4fd6-eddd-00c779037989"
      },
      "execution_count": 7,
      "outputs": [
        {
          "output_type": "display_data",
          "data": {
            "text/plain": [
              "<Figure size 640x480 with 1 Axes>"
            ],
            "image/png": "[encoded data removed]"
          },
          "metadata": {}
        }
      ]
    },
    {
      "cell_type": "markdown",
      "source": [
        "##**Statistics**"
      ],
      "metadata": {
        "id": "eC440nfwH12H"
      }
    },
    {
      "cell_type": "markdown",
      "source": [
        "The field of statistics applies probability theory to make inference with a quantifiable degree of confidence"
      ],
      "metadata": {
        "id": "Ubuacu-0H30A"
      }
    },
    {
      "cell_type": "code",
      "source": [
        "n_exp = 1000\n",
        "head_count = np.random.binomial(5,0.5,n_exp)"
      ],
      "metadata": {
        "id": "B-qi-4LfGrw-"
      },
      "execution_count": 8,
      "outputs": []
    },
    {
      "cell_type": "markdown",
      "source": [
        "we can plot the results of our experiments to create a probability distribution"
      ],
      "metadata": {
        "id": "cxcc8BirIONT"
      }
    },
    {
      "cell_type": "code",
      "source": [
        "heads,event_count = np.unique(head_count,return_counts=True)\n"
      ],
      "metadata": {
        "id": "GAJ512CuIIkU"
      },
      "execution_count": 9,
      "outputs": []
    },
    {
      "cell_type": "code",
      "source": [
        "heads"
      ],
      "metadata": {
        "colab": {
          "base_uri": "https://localhost:8080/"
        },
        "id": "ywYv4wUyKBVd",
        "outputId": "a1ba9d30-e2c5-45d5-da0b-31611729e0ea"
      },
      "execution_count": 10,
      "outputs": [
        {
          "output_type": "execute_result",
          "data": {
            "text/plain": [
              "array([0, 1, 2, 3, 4, 5])"
            ]
          },
          "metadata": {},
          "execution_count": 10
        }
      ]
    },
    {
      "cell_type": "code",
      "source": [
        "event_count"
      ],
      "metadata": {
        "colab": {
          "base_uri": "https://localhost:8080/"
        },
        "id": "dQlgVU5zKB2d",
        "outputId": "4415681d-09e4-4410-f2fe-4d1d2d7b4294"
      },
      "execution_count": 11,
      "outputs": [
        {
          "output_type": "execute_result",
          "data": {
            "text/plain": [
              "array([ 33, 181, 285, 313, 160,  28])"
            ]
          },
          "metadata": {},
          "execution_count": 11
        }
      ]
    },
    {
      "cell_type": "code",
      "source": [
        "event_prob = event_count/n_exp"
      ],
      "metadata": {
        "id": "DbwPpYk8KP81"
      },
      "execution_count": 12,
      "outputs": []
    },
    {
      "cell_type": "code",
      "source": [
        "plt.bar(heads,event_prob,color='mediumpurple')\n",
        "plt.xlabel(\"head flips(out of 5)\")\n",
        "_ = plt.ylabel('event probability')"
      ],
      "metadata": {
        "colab": {
          "base_uri": "https://localhost:8080/",
          "height": 449
        },
        "id": "5KAULDrDKgo7",
        "outputId": "3f624c1e-7cd4-481c-e40f-e7e7528b84d0"
      },
      "execution_count": 13,
      "outputs": [
        {
          "output_type": "display_data",
          "data": {
            "text/plain": [
              "<Figure size 640x480 with 1 Axes>"
            ],
            "image/png": "[encoded data removed]"
          },
          "metadata": {}
        }
      ]
    },
    {
      "cell_type": "markdown",
      "source": [
        "##**Expected Value**"
      ],
      "metadata": {
        "id": "cTh40hDbjQgy"
      }
    },
    {
      "cell_type": "code",
      "source": [
        "from math import factorial"
      ],
      "metadata": {
        "id": "KL_3q59xMRhu"
      },
      "execution_count": 14,
      "outputs": []
    },
    {
      "cell_type": "code",
      "source": [
        "def coinflip_prob(n,k):\n",
        "  n_choose_k = factorial(n)/(factorial(k)*factorial(n-k))\n",
        "  return n_choose_k/2**n"
      ],
      "metadata": {
        "id": "075d9tkMjkSF"
      },
      "execution_count": 15,
      "outputs": []
    },
    {
      "cell_type": "code",
      "source": [
        "coinflip_prob(5,0)"
      ],
      "metadata": {
        "colab": {
          "base_uri": "https://localhost:8080/"
        },
        "id": "PXa8YG5NkMjG",
        "outputId": "2c20da47-a0f2-4ba1-a8c1-ea54c89c7672"
      },
      "execution_count": 16,
      "outputs": [
        {
          "output_type": "execute_result",
          "data": {
            "text/plain": [
              "0.03125"
            ]
          },
          "metadata": {},
          "execution_count": 16
        }
      ]
    },
    {
      "cell_type": "code",
      "source": [
        "P = [coinflip_prob(5,x) for x in range(6)]\n",
        "P"
      ],
      "metadata": {
        "colab": {
          "base_uri": "https://localhost:8080/"
        },
        "id": "Ya81pksekPcU",
        "outputId": "dff3a8c1-187b-40e3-b293-f9457b671948"
      },
      "execution_count": 17,
      "outputs": [
        {
          "output_type": "execute_result",
          "data": {
            "text/plain": [
              "[0.03125, 0.15625, 0.3125, 0.3125, 0.15625, 0.03125]"
            ]
          },
          "metadata": {},
          "execution_count": 17
        }
      ]
    },
    {
      "cell_type": "code",
      "source": [
        "E = sum([P[x]*x for x in range(6)])\n",
        "E"
      ],
      "metadata": {
        "colab": {
          "base_uri": "https://localhost:8080/"
        },
        "id": "BwLbAwaxlHoh",
        "outputId": "532540a6-9a5a-4f76-e7ba-8bd0e77fa592"
      },
      "execution_count": 18,
      "outputs": [
        {
          "output_type": "execute_result",
          "data": {
            "text/plain": [
              "2.5"
            ]
          },
          "metadata": {},
          "execution_count": 18
        }
      ]
    },
    {
      "cell_type": "code",
      "source": [
        "coinflip_prob(1,1)"
      ],
      "metadata": {
        "colab": {
          "base_uri": "https://localhost:8080/"
        },
        "id": "3s3i-iyYlUrV",
        "outputId": "98dbb12c-7619-4a39-bac9-a861d8399b09"
      },
      "execution_count": 19,
      "outputs": [
        {
          "output_type": "execute_result",
          "data": {
            "text/plain": [
              "0.5"
            ]
          },
          "metadata": {},
          "execution_count": 19
        }
      ]
    },
    {
      "cell_type": "code",
      "source": [
        "x = st.skewnorm.rvs(0,size=1000)  #first argument is skewness. 0 means no skew\n"
      ],
      "metadata": {
        "id": "6LZqCb9qmAeN"
      },
      "execution_count": 20,
      "outputs": []
    },
    {
      "cell_type": "code",
      "source": [
        "fig,ax = plt.subplots()\n",
        "plt.axvline(x= np.mean(x),color='orange')\n",
        "plt.axvline(x = np.median(x), color='green')\n",
        "_ = plt.hist(x,color='lightgray')\n",
        "\n",
        "##mode typically applies to PMFs, but this is PDFs"
      ],
      "metadata": {
        "colab": {
          "base_uri": "https://localhost:8080/",
          "height": 430
        },
        "id": "OTKdIVVpASVm",
        "outputId": "3243154b-547c-434d-fcda-743b7c5f54de"
      },
      "execution_count": 21,
      "outputs": [
        {
          "output_type": "display_data",
          "data": {
            "text/plain": [
              "<Figure size 640x480 with 1 Axes>"
            ],
            "image/png": "[encoded data removed]"
          },
          "metadata": {}
        }
      ]
    },
    {
      "cell_type": "markdown",
      "source": [
        "skewed disribution"
      ],
      "metadata": {
        "id": "rkpQcR5gBb8R"
      }
    },
    {
      "cell_type": "code",
      "source": [
        "x = st.skewnorm.rvs(10,size=1000)\n"
      ],
      "metadata": {
        "id": "uVdNM_uoA0eu"
      },
      "execution_count": 22,
      "outputs": []
    },
    {
      "cell_type": "code",
      "source": [
        "x"
      ],
      "metadata": {
        "colab": {
          "base_uri": "https://localhost:8080/"
        },
        "id": "OZnF2aN9ymPl",
        "outputId": "8452a158-6e91-4b9c-cb94-19821a5584ac"
      },
      "execution_count": 23,
      "outputs": [
        {
          "output_type": "execute_result",
          "data": {
            "text/plain": [
              "array([ 5.53931525e-01,  1.75589950e+00,  4.56687784e-01,  1.98529279e-01,\n",
              "        4.47570325e-02,  2.52043572e+00,  2.26939879e-01,  9.83204552e-01,\n",
              "        1.83826154e-01,  1.71632461e+00,  7.67456010e-02,  1.02479525e+00,\n",
              "        9.76019874e-01,  4.66135530e-01,  2.15079461e-01,  5.90593068e-01,\n",
              "        1.64499700e+00,  3.09929934e-01,  1.69764012e+00,  6.31690521e-01,\n",
              "        4.41582588e-01,  3.54591705e-01,  3.52272349e-01,  2.03592135e+00,\n",
              "        3.17290793e-01,  8.67759442e-01,  5.31215395e-02,  1.38005663e+00,\n",
              "        1.18823332e-01,  1.81223865e+00,  1.12367001e+00,  1.31822325e-02,\n",
              "        1.06432997e+00,  3.16835972e-01,  1.71556751e+00,  9.72445560e-01,\n",
              "        1.65822702e+00,  4.14224603e-01,  3.38707083e-01,  3.37908633e-01,\n",
              "        2.01783787e+00,  1.65567788e+00,  2.11144470e+00,  1.89132670e-01,\n",
              "        2.33029923e-01,  1.57974239e+00,  1.56700783e+00,  1.29847763e+00,\n",
              "        3.75779426e-01,  1.00944489e+00,  4.77399600e-01,  8.79171460e-01,\n",
              "        6.19778151e-01,  6.79051075e-01,  5.97753702e-01,  8.78318727e-01,\n",
              "        9.70416474e-01,  1.09280701e-01,  1.17554545e+00,  5.25704304e-01,\n",
              "        8.53242212e-01,  1.70539127e-01,  1.10183073e+00,  1.73702245e-01,\n",
              "        5.73548622e-01,  4.02933147e-01,  1.09752269e+00,  6.56524098e-01,\n",
              "        3.69578225e-01,  3.78765517e-01,  8.02630164e-01,  7.17739425e-01,\n",
              "        5.46082440e-01,  1.32199877e+00,  7.72477162e-01,  4.71809667e-01,\n",
              "        2.18586173e+00,  7.28675907e-01,  1.04474998e-01,  7.86570415e-01,\n",
              "        8.37328564e-01,  6.40285620e-01,  1.38233226e-01,  2.05929995e-01,\n",
              "        2.19710304e+00,  2.09270901e+00,  7.87317740e-01,  3.66825238e-01,\n",
              "        2.74024547e+00,  4.43887170e-01,  7.42159074e-01,  1.36531578e+00,\n",
              "        3.68877137e-01,  4.65627836e-01,  2.09498014e-01,  2.06202487e+00,\n",
              "        6.84797695e-01,  2.44742250e-02,  4.66635988e-01,  4.00641863e+00,\n",
              "        1.93511598e+00,  1.78683959e+00,  2.43299963e-01,  3.23678503e-01,\n",
              "        1.00622260e-01,  4.35072412e-01,  4.00926331e-01,  2.34085419e-01,\n",
              "        1.34896776e+00,  7.14811187e-01,  2.82243487e-01,  1.26444435e+00,\n",
              "        3.89479883e-01,  1.17759886e+00,  6.73502670e-01,  3.78419631e-01,\n",
              "        6.26882482e-01,  6.70085612e-01,  5.32948031e-01,  1.83029564e+00,\n",
              "        1.83392795e-01,  7.19896240e-01,  1.92069040e-01,  1.28352859e+00,\n",
              "        5.30635479e-01,  7.63620184e-01,  2.28201776e-01,  2.24226569e-01,\n",
              "        6.51615352e-02,  2.17516823e-01,  2.00983219e-02,  2.59666443e-01,\n",
              "        1.45293454e+00,  9.97699038e-01,  9.31660993e-01,  3.01233967e-01,\n",
              "        7.96517750e-01,  1.02626665e+00,  8.77677919e-01,  1.50400058e+00,\n",
              "        4.76652800e-01,  3.61025757e-01,  1.66611823e+00,  4.67396810e-01,\n",
              "        1.02935187e+00,  3.41768570e-01,  5.77900054e-01,  4.27401849e-01,\n",
              "        2.81431298e-01,  1.05110158e+00,  1.38282746e-01,  2.93368541e+00,\n",
              "        2.13829003e-01,  1.74964983e+00,  1.25128310e+00,  6.90535085e-01,\n",
              "        6.81680730e-01,  1.57022535e+00,  1.00198389e+00,  1.67785626e+00,\n",
              "        9.18316981e-01,  2.59212640e-01,  1.24111339e+00,  1.08225409e+00,\n",
              "        8.93222334e-01,  4.17463529e-01,  5.21446130e-01,  9.74811741e-01,\n",
              "        1.15649234e+00,  2.21438400e-01,  3.81712154e-01,  7.55547953e-01,\n",
              "        1.61104062e+00,  3.97141039e-01,  1.94228723e+00,  1.77973367e-01,\n",
              "        1.32694068e+00,  1.98604027e+00,  9.42230185e-01,  1.24291619e-01,\n",
              "        1.30780800e+00,  6.98103573e-01,  5.97310576e-01,  9.43741867e-02,\n",
              "        3.98289871e-01,  1.42928630e+00,  1.04249825e+00,  1.75498948e-01,\n",
              "        1.62250688e+00,  1.16245833e+00,  6.70595543e-02,  3.83610165e-02,\n",
              "        9.33204729e-01,  2.32263091e+00,  1.34078849e+00,  5.52237627e-01,\n",
              "       -1.24889024e-01,  1.36418628e-01,  1.15267771e+00,  7.99276326e-02,\n",
              "        4.97233598e-02,  1.26746878e+00,  4.96040202e-01,  1.18602721e-01,\n",
              "        1.98426030e+00,  8.59219947e-01,  4.09760142e-01,  1.92534790e+00,\n",
              "        4.17783567e-01,  1.26989118e+00,  2.14527159e-01,  1.60230087e+00,\n",
              "        1.02873280e+00,  4.05768175e-01,  9.09196361e-02,  1.17935822e+00,\n",
              "        1.37878610e+00,  1.37041515e+00,  5.88570528e-01,  9.75600572e-01,\n",
              "        1.55965060e+00,  2.74882884e+00,  5.00432179e-01,  5.40237209e-01,\n",
              "        1.41022184e+00,  6.02524497e-01,  5.93650014e-01,  1.22614423e+00,\n",
              "        1.92799004e+00,  4.18258438e-01,  1.11750888e-01,  4.21138254e-01,\n",
              "        3.48216132e-01,  1.14084852e-01,  2.39018381e+00,  7.95901510e-01,\n",
              "        3.36713957e-01,  1.25991798e+00, -2.18449077e-02,  5.39850283e-01,\n",
              "        2.89411093e-01,  1.47576398e-01,  9.60173668e-01,  2.74132581e-01,\n",
              "        6.27562053e-01,  2.32401671e-01,  7.44407171e-01,  2.52919720e-01,\n",
              "        8.03844056e-01,  2.08107183e+00,  1.22304412e+00,  5.45173854e-02,\n",
              "        4.12995812e-01,  1.23044073e+00,  1.43830577e+00,  6.87885017e-01,\n",
              "        2.41317945e-01,  7.60476364e-01,  1.62486294e+00,  8.31986333e-01,\n",
              "        4.07295773e-01,  2.48015615e-01,  1.10046218e+00,  4.17300596e-01,\n",
              "        3.90495664e-01,  3.03420293e-01,  1.87542552e-01,  4.95011113e-01,\n",
              "        1.60563179e+00,  2.57023264e-01,  1.76506254e+00,  4.78872176e-02,\n",
              "        1.05813121e-01,  7.94160408e-01,  1.20611430e+00,  1.62394230e+00,\n",
              "        4.83292715e-02,  1.60933976e+00,  7.73768150e-01,  1.82029712e+00,\n",
              "        7.35177087e-01,  3.50546030e-01,  1.94221071e-01,  2.77705456e-01,\n",
              "        1.25762528e+00,  7.01898263e-02,  1.79027314e+00,  1.30185742e+00,\n",
              "        5.44573928e-02,  2.86139945e-01, -2.92242406e-02,  1.22086181e+00,\n",
              "        1.82802890e+00,  1.04331381e-01,  1.91827376e+00,  8.97287447e-01,\n",
              "        1.05281680e-01,  4.39573420e-01,  7.36733266e-01,  1.17043181e+00,\n",
              "        1.09580834e+00,  5.21951562e-01,  1.42025820e-01,  5.84171590e-01,\n",
              "        8.52662049e-01,  7.73812517e-01,  1.77573161e+00,  1.15347664e+00,\n",
              "        7.32214462e-01,  3.83815360e-01,  1.31600215e+00,  7.04534739e-01,\n",
              "        4.28431327e-01,  1.83746765e+00,  1.04198387e+00,  3.59085086e-01,\n",
              "        1.44261316e-01,  1.35576113e+00,  5.49203755e-01,  2.13142987e-01,\n",
              "        2.17454439e-01,  9.40103692e-01,  9.98248827e-01,  1.54372703e+00,\n",
              "        5.41624731e-01,  6.22791801e-01,  5.84073723e-01,  3.35595242e-01,\n",
              "        1.08090428e-01,  6.26974140e-01,  1.98751862e+00,  1.49073967e+00,\n",
              "       -8.35412475e-04,  2.44652102e-01,  1.12976795e-01,  3.71565309e-02,\n",
              "        1.61610437e+00,  1.61407716e+00,  3.00942792e-02,  4.02171967e-01,\n",
              "        9.41263117e-01,  9.82466592e-01,  5.59810180e-01,  2.65891952e-01,\n",
              "        9.04149901e-01,  1.95364751e+00,  6.06607896e-02,  5.68818353e-01,\n",
              "        2.78980436e-01,  2.05944015e-01,  6.65469253e-01,  7.18074844e-01,\n",
              "        1.61338948e-01,  8.67960201e-01,  8.31794695e-01,  2.55156566e-01,\n",
              "        2.88399304e+00,  4.47283531e-01,  9.34864502e-01,  1.64478545e+00,\n",
              "        1.17889317e+00,  6.13613576e-02,  1.25738684e+00,  3.20005251e-01,\n",
              "        6.02216930e-01,  5.01386204e-01,  4.83543184e-01,  8.73877828e-01,\n",
              "        1.19169640e+00,  1.66414692e+00,  4.17578615e-01,  1.32753036e-01,\n",
              "       -2.00398557e-03,  4.84746547e-01,  1.09456716e+00,  5.89244188e-01,\n",
              "        1.35877235e+00,  6.76031533e-01,  1.01469402e+00,  6.99794405e-01,\n",
              "        1.46043006e+00,  4.68368025e-01,  1.15091298e+00,  4.78951402e-01,\n",
              "        1.00126311e+00,  4.68882628e-01,  1.18240846e+00,  3.87348067e-01,\n",
              "        8.23965408e-01,  1.35974069e+00,  9.57107435e-01,  8.18013453e-01,\n",
              "        8.47066543e-01,  1.81425917e+00,  3.68269939e-01,  7.35011326e-01,\n",
              "        2.39810074e+00,  8.56011474e-01,  1.76493053e+00,  1.92002162e+00,\n",
              "        8.18360424e-01,  2.02959229e+00,  6.69741908e-01,  4.91977360e-01,\n",
              "        2.08501346e-01,  3.14853671e-01,  1.23121818e-01,  1.17602594e+00,\n",
              "        9.36591541e-01,  7.35956040e-01,  7.19663686e-01,  5.42025758e-01,\n",
              "        8.10670134e-01,  3.36939417e-01,  1.15211336e+00,  1.22573223e+00,\n",
              "        1.73833842e+00,  1.33066815e+00,  7.36497816e-01,  1.82851273e+00,\n",
              "        1.46365838e+00,  5.69782906e-01,  6.99369452e-01,  5.38407703e-01,\n",
              "        1.28293763e+00,  8.37794037e-01,  1.36318116e+00,  8.09019136e-01,\n",
              "        1.45684126e-01,  9.31238517e-01,  6.56693881e-01,  1.28517955e+00,\n",
              "        8.03002131e-01,  3.79745111e-02,  5.72144087e-01,  1.88086963e+00,\n",
              "        1.12632059e+00,  1.95213104e+00,  1.42962864e+00,  7.11788459e-02,\n",
              "        1.14524075e+00,  1.28325259e+00,  3.28400106e-01,  9.25476600e-01,\n",
              "       -1.70838388e-01,  2.94293176e+00,  1.71901480e+00,  1.12299640e+00,\n",
              "        1.69435580e-01,  6.14543259e-01,  4.55464968e-01,  5.10985312e-01,\n",
              "        2.76913913e-01,  1.85440427e+00,  7.07254366e-01,  3.17641058e-01,\n",
              "        6.56340055e-01,  9.44246321e-01,  3.89064161e-01,  2.50384951e-01,\n",
              "        9.59887056e-01,  5.66943516e-01,  1.17171999e+00,  1.34087078e+00,\n",
              "        1.37660638e-01,  1.72373513e-02,  8.24550390e-01,  1.13790561e+00,\n",
              "        6.56161563e-01,  1.98069462e+00,  8.45018788e-01,  5.74694751e-01,\n",
              "        1.18729378e-01,  7.35760883e-01,  2.27745402e-01,  9.20741963e-01,\n",
              "        7.41850104e-01,  6.10118725e-01,  1.11290329e+00,  1.33863819e+00,\n",
              "        1.10484447e+00,  3.74509194e-02,  7.24242992e-02,  5.87524519e-01,\n",
              "        6.49145623e-01, -1.20555584e-01,  2.02633895e+00,  9.68933187e-01,\n",
              "        1.63126645e+00,  1.51618138e+00,  3.74017981e-01,  1.92139815e-01,\n",
              "        4.74454434e-01,  2.26349319e-01,  1.46209987e+00,  2.51827951e+00,\n",
              "        1.12295889e+00,  3.15602573e-01,  1.08096943e+00,  1.22193470e+00,\n",
              "        1.56308809e+00,  9.28250400e-01,  1.24560346e+00,  1.05281124e+00,\n",
              "        2.94723069e-01,  1.06915484e+00,  1.18621160e-01,  9.50668374e-01,\n",
              "        9.65270076e-01,  8.97109363e-01,  4.66676125e-01,  4.32698501e-01,\n",
              "        1.73285323e+00,  4.65396610e-02,  1.17159484e+00,  2.73538877e-01,\n",
              "        2.12491945e+00,  9.71570223e-01,  4.00396611e-01,  5.14472526e-01,\n",
              "        1.65827385e-01,  8.65197455e-01,  1.13166298e+00,  2.27503857e+00,\n",
              "        1.93180595e-01,  9.10254814e-01,  1.41985064e+00,  1.49562118e-01,\n",
              "        1.02252551e+00,  5.75925571e-01,  6.16498520e-02,  4.96740818e-01,\n",
              "        9.17643232e-01,  7.90628515e-01,  9.77034832e-01,  1.65285530e+00,\n",
              "        1.65704768e+00,  5.91065643e-01,  1.43971779e+00,  1.39970385e+00,\n",
              "        1.52432981e+00,  9.81545514e-02,  2.94972916e-01,  1.75586827e+00,\n",
              "        7.96225874e-01,  2.22382357e-01,  8.27408193e-01,  1.32589849e+00,\n",
              "        1.02498310e+00,  1.62310456e+00,  2.87686864e-01,  1.42525584e+00,\n",
              "        5.81988694e-01,  1.92113403e-01,  7.19430219e-01,  3.34490240e-01,\n",
              "        4.01407463e-01, -8.96855815e-02,  5.50643752e-01,  9.35774127e-02,\n",
              "        1.00777842e-01,  2.15041558e+00,  5.14745007e-01,  9.07174599e-01,\n",
              "        1.11702084e+00,  1.76102236e+00,  1.75746695e+00,  1.22976590e+00,\n",
              "        7.64869032e-01,  2.15231825e+00,  5.75572068e-01,  1.80092585e-01,\n",
              "        3.31579056e-01,  1.52631013e-01,  2.50416661e-01,  1.24369494e+00,\n",
              "        1.33505675e+00,  1.81169454e+00,  1.57535677e+00,  9.54666514e-01,\n",
              "        5.14410624e-01,  7.56557452e-01,  5.32835995e-01,  8.01922478e-01,\n",
              "        2.16994612e+00,  1.20217167e+00,  1.45165139e-01,  1.04158297e+00,\n",
              "        1.03996630e+00,  6.01384246e-01,  8.80453840e-01, -6.48008677e-02,\n",
              "        8.71871259e-01,  1.96609739e-01,  1.51793732e+00,  7.17254567e-01,\n",
              "        4.13326932e-02,  1.28298259e-01,  2.04630250e+00,  1.51418759e+00,\n",
              "        4.13459946e-01,  1.38578143e+00,  2.36764657e+00,  3.08579512e-01,\n",
              "        5.37479265e-01,  6.73593753e-01,  1.07019686e-01,  6.36681404e-02,\n",
              "        4.21356405e-01,  2.43541111e+00,  6.67219269e-01,  8.72484577e-02,\n",
              "        1.67548387e-01,  2.12388610e+00,  7.38087282e-01,  4.07152856e-01,\n",
              "        1.87635082e+00,  1.07649830e+00,  5.27438687e-01,  8.57074167e-02,\n",
              "        8.62638699e-01,  1.27825817e-02,  1.32112112e+00,  7.50261364e-01,\n",
              "        4.68049895e-01,  1.84904282e-01,  5.48647606e-01,  5.10247828e-01,\n",
              "        1.85680983e+00,  9.45944535e-01,  2.86178534e-01,  1.29364750e+00,\n",
              "        4.52191459e-01,  1.04781416e+00,  2.86998049e-01,  1.11760483e+00,\n",
              "        5.42214731e-01,  1.53306396e-01,  2.20612257e+00,  9.53866040e-01,\n",
              "        6.87658907e-01,  1.29708957e+00,  1.31580483e+00,  3.41028883e-01,\n",
              "        9.77886809e-03,  5.88870233e-01,  1.95197736e-01,  1.64842831e+00,\n",
              "        4.99237228e-01,  1.21110358e+00,  1.98345890e-01,  7.91032462e-01,\n",
              "        3.37939962e-01,  2.62634718e-01,  5.24526025e-01,  1.29841669e+00,\n",
              "        1.26245141e-02,  5.28314939e-01,  2.78877435e+00,  2.07151302e+00,\n",
              "        9.68228891e-01,  5.07084445e-01, -1.35655585e-01,  1.09996303e+00,\n",
              "        1.80557713e+00,  2.07189122e+00,  2.39808203e-01,  1.13415782e+00,\n",
              "        1.16703082e-01,  1.44515920e+00,  3.25193513e-01,  1.72834022e-01,\n",
              "        4.41600770e-01,  1.79023240e-01,  5.87878015e-02, -4.72674388e-02,\n",
              "        1.80855023e-01,  1.00118954e+00,  6.29297203e-01,  1.22705798e+00,\n",
              "        9.27074734e-01,  2.01991602e+00,  1.00910785e+00,  1.48433534e+00,\n",
              "        4.19540397e-01,  2.56177972e+00,  4.43613408e-01,  8.80136562e-03,\n",
              "        1.00895850e+00,  6.71345612e-01,  1.56446231e+00,  6.04121989e-01,\n",
              "        8.32298303e-01,  1.58953868e+00,  2.86048534e-01,  3.07679106e-01,\n",
              "        4.35095896e-01,  5.78296288e-01,  5.94206183e-01,  2.09245550e+00,\n",
              "        7.31336262e-01, -5.93005420e-02,  3.98132502e-01,  4.73729320e-01,\n",
              "        1.07937959e+00,  7.58779853e-01, -1.12574657e-01,  9.20387441e-02,\n",
              "        5.20594465e-01,  1.32790201e+00,  3.90076243e-01,  3.42713421e-02,\n",
              "        5.63207753e-01,  5.37870871e-01,  1.09665234e+00,  7.67166075e-01,\n",
              "        1.64492491e+00,  1.83205863e+00,  4.14908893e-01,  3.82243129e-01,\n",
              "        8.33144745e-01,  4.56522396e-01,  1.30782996e+00,  2.29515462e+00,\n",
              "        4.51721282e-01,  2.37399706e+00,  9.11478735e-01,  1.82755781e+00,\n",
              "        4.61467618e-01,  1.05419281e+00,  3.35053484e-01,  2.13365066e+00,\n",
              "        1.82787628e+00,  1.10091720e+00,  1.50671837e+00,  1.94253498e+00,\n",
              "        5.30833089e-02,  1.32031493e+00,  2.15931965e+00,  1.52308715e+00,\n",
              "        6.97138279e-01,  8.38555010e-01,  7.05640236e-02,  8.33202188e-02,\n",
              "        2.25706209e-01,  1.63735454e+00,  6.93847825e-01,  1.13149942e+00,\n",
              "        1.40650262e+00,  3.69719557e-01,  6.73658311e-01,  1.45355211e+00,\n",
              "        1.06521243e+00,  5.86400555e-02,  3.90190327e-01,  1.47656008e+00,\n",
              "        4.31838591e-01,  2.40295599e+00,  1.83884523e+00,  6.20178879e-02,\n",
              "        5.37302966e-01,  1.58305064e-01,  1.66064372e-01,  1.22755348e+00,\n",
              "        1.25143426e-01,  5.81957367e-01,  2.26824197e+00,  1.21048508e+00,\n",
              "        1.03242248e+00, -5.37625178e-03,  3.12761634e-01,  9.46678037e-01,\n",
              "        3.67717413e-01,  9.00938992e-01,  3.55351006e-01,  1.27570291e+00,\n",
              "        3.99684203e-01,  1.34933426e-01,  1.33832189e+00,  2.63488032e-01,\n",
              "        9.44938191e-01,  4.53964161e-01,  8.67687442e-01,  9.78194448e-01,\n",
              "        2.13506962e+00,  1.22676708e+00,  1.91024457e+00,  1.13881483e+00,\n",
              "        5.21674281e-02,  1.16836902e+00,  5.90597695e-01,  8.22135048e-01,\n",
              "        1.18769463e+00,  5.01711605e-01,  1.00202292e+00,  6.20649456e-01,\n",
              "        2.34651404e+00,  1.68818145e+00,  1.25217661e+00,  1.15648177e+00,\n",
              "        9.96164830e-01,  1.13062167e+00,  3.76445426e-01,  9.59783711e-02,\n",
              "        8.41335327e-01,  6.22258151e-01,  2.20233446e+00,  1.31197807e-01,\n",
              "        6.69576289e-01,  8.12216012e-01,  8.10327856e-01,  1.12529777e+00,\n",
              "        1.27458379e+00,  4.96626082e-01,  4.06087239e-02, -9.01704009e-02,\n",
              "        3.47255884e-02,  3.42872260e-01,  6.94975914e-01,  7.00180381e-01,\n",
              "        8.66877446e-01,  5.65087334e-01,  1.18718069e+00,  8.79677864e-01,\n",
              "        1.41118472e+00,  5.21501534e-01,  2.05670027e+00,  1.23498563e-01,\n",
              "        1.92379724e+00,  8.17662649e-01,  8.96570254e-01,  6.87304916e-01,\n",
              "        1.42608185e+00,  5.87293735e-01,  4.39754102e-01,  6.84800862e-01,\n",
              "        1.96352402e-01,  8.23853114e-01,  3.51868054e-01, -2.44850818e-02,\n",
              "        2.85376627e-01,  2.46798125e-01,  3.23851331e-01,  1.73706645e-01,\n",
              "        4.13471723e-01,  1.68865005e-01,  1.00749847e+00, -1.03379216e-01,\n",
              "        7.43559844e-01,  9.47689784e-01,  1.18795103e-01,  2.08246073e-01,\n",
              "        6.18119488e-01,  4.51810370e-01,  3.81289556e-01,  6.10414456e-01,\n",
              "        4.47100256e-01,  7.59524792e-01,  2.18617129e-01,  5.76756555e-01,\n",
              "       -2.42303483e-02,  2.16975813e+00,  1.84179379e-01,  2.12172082e+00,\n",
              "        2.10791854e-01,  7.52645038e-01,  3.15218750e-01,  2.63930270e-01,\n",
              "        1.25830105e+00,  1.26732201e+00,  6.63902317e-01,  7.53200618e-01,\n",
              "        2.26633174e-01,  3.40545434e-01,  1.08925537e+00,  7.05662334e-01,\n",
              "        1.08955902e+00,  7.11100760e-01, -1.75023788e-02, -2.32749181e-02,\n",
              "        1.41766823e-01,  3.94628587e-02,  1.27150942e+00,  5.82955424e-02,\n",
              "        1.13700534e+00,  4.48932734e-01,  3.24181311e-01,  1.15351205e+00,\n",
              "        4.96909710e-01,  7.80107550e-01,  2.39363782e+00,  1.68926430e-01,\n",
              "        1.12541722e+00,  1.99012829e-01,  5.22481832e-01,  8.59490913e-01,\n",
              "        1.30680755e+00,  1.10454909e+00,  8.48875957e-01,  3.33244223e-01,\n",
              "        5.18146010e-01,  4.57582306e-01,  9.41065868e-01,  2.68295645e-01,\n",
              "        9.61091860e-01,  1.30160439e+00,  8.45477082e-01,  7.75256213e-01,\n",
              "        8.22285862e-02,  2.93283952e-01,  3.81968448e-01,  1.29732036e+00,\n",
              "        5.17015140e-01,  3.53962179e-02,  1.48931654e+00,  1.25032670e+00,\n",
              "        3.20374972e-01,  2.08649184e+00,  1.01569939e+00,  1.61139459e-01,\n",
              "        3.46465001e+00,  2.41430044e+00,  1.08624608e-01,  9.46848402e-02,\n",
              "        1.09085652e+00,  1.74626249e+00,  1.62729236e+00,  1.80771580e+00,\n",
              "        6.26999341e-01,  2.64376416e-01,  5.15363268e-01,  1.01585720e+00,\n",
              "        1.03526707e+00,  2.30272447e+00,  7.35449752e-01,  8.29049353e-01,\n",
              "        2.11256343e+00,  1.91449621e-01,  8.18189653e-01,  2.61427803e-02,\n",
              "        5.34271851e-01,  1.55187416e-01,  5.04568376e-01,  1.27155567e+00,\n",
              "        6.59504241e-01,  5.68027335e-01,  3.20243212e-01,  2.08497202e-01,\n",
              "        8.30572041e-01,  2.08970335e-01,  2.15246498e+00,  6.95173121e-02,\n",
              "        1.33537136e+00,  1.45708351e+00,  4.73174332e-01,  3.01972589e-01,\n",
              "        1.22315044e+00,  4.86486758e-01,  7.42025100e-01,  1.92980099e+00,\n",
              "       -4.60579185e-02,  2.15939986e+00,  2.09769991e-01, -4.96636687e-02,\n",
              "        1.94114294e-01, -5.55151240e-02,  7.42118549e-01,  8.57423669e-01,\n",
              "        1.25691775e-01,  4.23568137e-02,  1.08824396e+00,  1.27188799e+00,\n",
              "        7.63834384e-01,  4.70901992e-01,  9.98363747e-01,  5.92098369e-01,\n",
              "        7.13884180e-01,  7.54004350e-01,  1.99315911e+00,  5.47076784e-01,\n",
              "        1.82446851e+00,  1.10269893e+00,  2.17427075e+00,  4.01736389e-01,\n",
              "        1.21804567e-01,  2.96063212e-01,  1.20563169e+00,  1.26378052e+00,\n",
              "        7.36219696e-01,  5.78229040e-01,  3.87521432e-01,  9.45598438e-01,\n",
              "       -2.78287495e-02,  1.27986879e+00,  5.56828129e-01,  4.50156459e-01,\n",
              "        2.44515351e-01,  2.13175123e-01, -7.09611810e-03,  4.49768421e-01])"
            ]
          },
          "metadata": {},
          "execution_count": 23
        }
      ]
    },
    {
      "cell_type": "code",
      "source": [
        "fig,ax = plt.subplots()\n",
        "plt.axvline(x= np.mean(x),color='orange')\n",
        "plt.axvline(x = np.median(x), color='green')\n",
        "_ = plt.hist(x,color='lightgray')"
      ],
      "metadata": {
        "colab": {
          "base_uri": "https://localhost:8080/",
          "height": 430
        },
        "id": "27m3xS_kBhsb",
        "outputId": "a3e64720-fea0-4739-a84d-425e4c6aa96e"
      },
      "execution_count": 24,
      "outputs": [
        {
          "output_type": "display_data",
          "data": {
            "text/plain": [
              "<Figure size 640x480 with 1 Axes>"
            ],
            "image/png": "[encoded data removed]"
          },
          "metadata": {}
        }
      ]
    },
    {
      "cell_type": "markdown",
      "source": [
        "##Quantiles\n",
        "\n",
        "### The median, which divides a distribution in two at its midpoint, is most well known example of quantile"
      ],
      "metadata": {
        "id": "Sbh9sf9MCVxx"
      }
    },
    {
      "cell_type": "code",
      "source": [
        "np.median(x)"
      ],
      "metadata": {
        "colab": {
          "base_uri": "https://localhost:8080/"
        },
        "id": "2QBdoiW8BmeJ",
        "outputId": "f754963b-37b7-484f-8c04-1fe1a6799ac4"
      },
      "execution_count": 25,
      "outputs": [
        {
          "output_type": "execute_result",
          "data": {
            "text/plain": [
              "0.6987365121323832"
            ]
          },
          "metadata": {},
          "execution_count": 25
        }
      ]
    },
    {
      "cell_type": "code",
      "source": [
        "np.quantile(x,0.5)"
      ],
      "metadata": {
        "colab": {
          "base_uri": "https://localhost:8080/"
        },
        "id": "KQuEZpnJCisf",
        "outputId": "ddcbe29e-8723-421e-8fc5-faa28563cd22"
      },
      "execution_count": 26,
      "outputs": [
        {
          "output_type": "execute_result",
          "data": {
            "text/plain": [
              "0.6987365121323832"
            ]
          },
          "metadata": {},
          "execution_count": 26
        }
      ]
    },
    {
      "cell_type": "markdown",
      "source": [
        "##Percentile\n",
        "### Percentiles divide the distribution at any point outof one hundred. eg if we'd like to identify a threshold of top 5% of a distribution, we cut it at the 95% percentile."
      ],
      "metadata": {
        "id": "GDDiePZLDUz_"
      }
    },
    {
      "cell_type": "code",
      "source": [
        "p = np.percentile(x,[95,99])\n",
        "p"
      ],
      "metadata": {
        "colab": {
          "base_uri": "https://localhost:8080/"
        },
        "id": "3pC-SKgECrT5",
        "outputId": "71e32c6c-ec3e-4f73-c7fe-9d7aff06233e"
      },
      "execution_count": 27,
      "outputs": [
        {
          "output_type": "execute_result",
          "data": {
            "text/plain": [
              "array([2.06249928, 2.51830108])"
            ]
          },
          "metadata": {},
          "execution_count": 27
        }
      ]
    },
    {
      "cell_type": "code",
      "source": [
        "fig,ax = plt.subplots()\n",
        "plt.axvline(x=p[0],color='orange')\n",
        "plt.axvline(x=p[1],color='green')\n",
        "\n",
        "_ = plt.hist(x,color='lightgray')"
      ],
      "metadata": {
        "colab": {
          "base_uri": "https://localhost:8080/",
          "height": 430
        },
        "id": "H2NQ_juqDyl_",
        "outputId": "7e7e83c9-17fb-4f15-81ad-6e9d519e7b97"
      },
      "execution_count": 28,
      "outputs": [
        {
          "output_type": "display_data",
          "data": {
            "text/plain": [
              "<Figure size 640x480 with 1 Axes>"
            ],
            "image/png": "[encoded data removed]"
          },
          "metadata": {}
        }
      ]
    },
    {
      "cell_type": "code",
      "source": [
        "np.quantile(x,[.95,.99])"
      ],
      "metadata": {
        "colab": {
          "base_uri": "https://localhost:8080/"
        },
        "id": "zVA2GFCsEEmd",
        "outputId": "a4f34498-544a-41aa-eddd-25ff6d71fb43"
      },
      "execution_count": 29,
      "outputs": [
        {
          "output_type": "execute_result",
          "data": {
            "text/plain": [
              "array([2.06249928, 2.51830108])"
            ]
          },
          "metadata": {},
          "execution_count": 29
        }
      ]
    },
    {
      "cell_type": "markdown",
      "source": [
        "## Quartiles\n",
        "### Quartiles as the name suggests are the quantiles that divide distribution into quarters by splitting them at 25th, median 50th, 75th percentile"
      ],
      "metadata": {
        "id": "auR8fINREmcu"
      }
    },
    {
      "cell_type": "code",
      "source": [
        "q = np.percentile(x,[25,50,75])\n",
        "q"
      ],
      "metadata": {
        "colab": {
          "base_uri": "https://localhost:8080/"
        },
        "id": "WIezEvrYEX9-",
        "outputId": "fc2c2fe8-2c0b-4972-c5cd-42250bc16cce"
      },
      "execution_count": 30,
      "outputs": [
        {
          "output_type": "execute_result",
          "data": {
            "text/plain": [
              "array([0.32494046, 0.69873651, 1.19431522])"
            ]
          },
          "metadata": {},
          "execution_count": 30
        }
      ]
    },
    {
      "cell_type": "code",
      "source": [
        "fig,ax = plt.subplots()\n",
        "plt.axvline(q[0],color='orange')\n",
        "plt.axvline(q[1],color='green')\n",
        "plt.axvline(q[2], color='purple')\n",
        "\n",
        "_ = ax.hist(x,color='lightgray')"
      ],
      "metadata": {
        "colab": {
          "base_uri": "https://localhost:8080/",
          "height": 430
        },
        "id": "xhHjihH0E6YD",
        "outputId": "40234f2b-dc33-4579-ac81-90e14e05bde9"
      },
      "execution_count": 31,
      "outputs": [
        {
          "output_type": "display_data",
          "data": {
            "text/plain": [
              "<Figure size 640x480 with 1 Axes>"
            ],
            "image/png": "[encoded data removed]"
          },
          "metadata": {}
        }
      ]
    },
    {
      "cell_type": "markdown",
      "source": [
        "##Deciles\n",
        "### deciles divide the distribution into ten evenly-sized segments"
      ],
      "metadata": {
        "id": "mNSL03SsFqGs"
      }
    },
    {
      "cell_type": "code",
      "source": [
        "d = np.percentile(x,range(10,100,10))\n",
        "d"
      ],
      "metadata": {
        "colab": {
          "base_uri": "https://localhost:8080/"
        },
        "id": "GV9VQitpFHiX",
        "outputId": "00d2a1ea-bb92-4412-a4e2-d0978a493001"
      },
      "execution_count": 32,
      "outputs": [
        {
          "output_type": "execute_result",
          "data": {
            "text/plain": [
              "array([0.11871856, 0.24991108, 0.3992659 , 0.53290322, 0.69873651,\n",
              "       0.86771624, 1.08994827, 1.30781239, 1.75782249])"
            ]
          },
          "metadata": {},
          "execution_count": 32
        }
      ]
    },
    {
      "cell_type": "code",
      "source": [
        "fig,ax = plt.subplots()\n",
        "[plt.axvline(i, color='cornflowerblue') for i in d]\n",
        "_ = plt.hist(x,color='lightgray')"
      ],
      "metadata": {
        "colab": {
          "base_uri": "https://localhost:8080/",
          "height": 430
        },
        "id": "LTNrouiWF0-x",
        "outputId": "3394eb87-3fc8-4880-e46a-00394f9ab853"
      },
      "execution_count": 33,
      "outputs": [
        {
          "output_type": "display_data",
          "data": {
            "text/plain": [
              "<Figure size 640x480 with 1 Axes>"
            ],
            "image/png": "[encoded data removed]"
          },
          "metadata": {}
        }
      ]
    },
    {
      "cell_type": "markdown",
      "source": [
        "##**The Box and Whiskers plot**"
      ],
      "metadata": {
        "id": "g9NPlX3ByRjB"
      }
    },
    {
      "cell_type": "code",
      "source": [
        "sns.set(style='whitegrid')"
      ],
      "metadata": {
        "id": "qCkhOB5SGH1R"
      },
      "execution_count": 34,
      "outputs": []
    },
    {
      "cell_type": "code",
      "source": [
        "_ = sns.boxplot(x=x)"
      ],
      "metadata": {
        "colab": {
          "base_uri": "https://localhost:8080/",
          "height": 434
        },
        "id": "qsx3uHqvyfIC",
        "outputId": "d53c636f-c50e-4ec1-9e96-1da3731617bb"
      },
      "execution_count": 35,
      "outputs": [
        {
          "output_type": "display_data",
          "data": {
            "text/plain": [
              "<Figure size 640x480 with 1 Axes>"
            ],
            "image/png": "[encoded data removed]"
          },
          "metadata": {}
        }
      ]
    },
    {
      "cell_type": "markdown",
      "source": [
        "###Box edges and the median are determined by teh quartiles"
      ],
      "metadata": {
        "id": "V-ZH1JwGzCyw"
      }
    },
    {
      "cell_type": "code",
      "source": [
        "q"
      ],
      "metadata": {
        "colab": {
          "base_uri": "https://localhost:8080/"
        },
        "id": "4S52XZPQyyij",
        "outputId": "64a74e55-6eb9-4b17-840a-338ab7cab892"
      },
      "execution_count": 36,
      "outputs": [
        {
          "output_type": "execute_result",
          "data": {
            "text/plain": [
              "array([0.32494046, 0.69873651, 1.19431522])"
            ]
          },
          "metadata": {},
          "execution_count": 36
        }
      ]
    },
    {
      "cell_type": "markdown",
      "source": [
        "###Box edges define the inter-quartiles range IQR"
      ],
      "metadata": {
        "id": "nqGkM_sdzW14"
      }
    },
    {
      "cell_type": "code",
      "source": [
        "iqr = 1.194-0.325"
      ],
      "metadata": {
        "id": "DVHee8GYzJb2"
      },
      "execution_count": 37,
      "outputs": []
    },
    {
      "cell_type": "markdown",
      "source": [
        "Whisker lengths are determined by furthest data points within 1.5 X IQR of the box edges."
      ],
      "metadata": {
        "id": "QNH9QPH0zwpK"
      }
    },
    {
      "cell_type": "markdown",
      "source": [
        "### In this case, the lower whisker could stretch as far down (to the left) as:"
      ],
      "metadata": {
        "id": "fTmUFHrY0Ee6"
      }
    },
    {
      "cell_type": "code",
      "source": [
        "0.325 - 1.5*iqr"
      ],
      "metadata": {
        "colab": {
          "base_uri": "https://localhost:8080/"
        },
        "id": "TO8vMdTnzjjM",
        "outputId": "2ee8b049-7c5b-43af-cd54-4a4b0afb8ba5"
      },
      "execution_count": 38,
      "outputs": [
        {
          "output_type": "execute_result",
          "data": {
            "text/plain": [
              "-0.9785000000000001"
            ]
          },
          "metadata": {},
          "execution_count": 38
        }
      ]
    },
    {
      "cell_type": "markdown",
      "source": [
        "### The lowest value is inside of that so whisker is plotted where that lowest value is:"
      ],
      "metadata": {
        "id": "tYbcS12d0Xxu"
      }
    },
    {
      "cell_type": "code",
      "source": [
        "np.min(x)"
      ],
      "metadata": {
        "colab": {
          "base_uri": "https://localhost:8080/"
        },
        "id": "wPhSXb1w0RBU",
        "outputId": "5f8cf51b-611d-4539-86f6-dd5573750367"
      },
      "execution_count": 39,
      "outputs": [
        {
          "output_type": "execute_result",
          "data": {
            "text/plain": [
              "-0.17083838831568182"
            ]
          },
          "metadata": {},
          "execution_count": 39
        }
      ]
    },
    {
      "cell_type": "markdown",
      "source": [
        "### The upper whisker could stretch as far up (to the right):"
      ],
      "metadata": {
        "id": "H6upsbc60pvI"
      }
    },
    {
      "cell_type": "code",
      "source": [
        "1.194  + 1.5*iqr"
      ],
      "metadata": {
        "colab": {
          "base_uri": "https://localhost:8080/"
        },
        "id": "lPIDEwgO0kU2",
        "outputId": "b732c38c-b976-4cdb-c7b0-1ce0bf999551"
      },
      "execution_count": 40,
      "outputs": [
        {
          "output_type": "execute_result",
          "data": {
            "text/plain": [
              "2.4975"
            ]
          },
          "metadata": {},
          "execution_count": 40
        }
      ]
    },
    {
      "cell_type": "code",
      "source": [
        "np.max(x)"
      ],
      "metadata": {
        "colab": {
          "base_uri": "https://localhost:8080/"
        },
        "id": "x3rCIL4l012g",
        "outputId": "330f4d21-6349-4bdd-a364-4b58fa160e57"
      },
      "execution_count": 41,
      "outputs": [
        {
          "output_type": "execute_result",
          "data": {
            "text/plain": [
              "4.0064186272069575"
            ]
          },
          "metadata": {},
          "execution_count": 41
        }
      ]
    },
    {
      "cell_type": "markdown",
      "source": [
        "## There are several values beyond that threshold in teh distribution. those are called outliers and are plotted individually:"
      ],
      "metadata": {
        "id": "tR6x5smS1FXN"
      }
    },
    {
      "cell_type": "code",
      "source": [
        "x.sort()"
      ],
      "metadata": {
        "id": "CO3uTpnj03RL"
      },
      "execution_count": 42,
      "outputs": []
    },
    {
      "cell_type": "code",
      "source": [
        "x[-15:]"
      ],
      "metadata": {
        "colab": {
          "base_uri": "https://localhost:8080/"
        },
        "id": "rb2Hz-k41QWj",
        "outputId": "994de6c8-47a4-4e14-95a1-a13e5477b24c"
      },
      "execution_count": 43,
      "outputs": [
        {
          "output_type": "execute_result",
          "data": {
            "text/plain": [
              "array([2.39810074, 2.40295599, 2.41430044, 2.43541111, 2.51827951,\n",
              "       2.52043572, 2.56177972, 2.74024547, 2.74882884, 2.78877435,\n",
              "       2.88399304, 2.93368541, 2.94293176, 3.46465001, 4.00641863])"
            ]
          },
          "metadata": {},
          "execution_count": 43
        }
      ]
    },
    {
      "cell_type": "markdown",
      "source": [
        "## Useful for examining distributions on their own, box-and-whisker plot are hlpful for comparing the distribution"
      ],
      "metadata": {
        "id": "ejsZEGIA2ABW"
      }
    },
    {
      "cell_type": "code",
      "source": [
        "iris = sns.load_dataset('iris')\n",
        "iris"
      ],
      "metadata": {
        "colab": {
          "base_uri": "https://localhost:8080/",
          "height": 424
        },
        "id": "f6UiA1Y01V7Z",
        "outputId": "94ad5a51-b3f4-4725-ac63-d7bf72248b03"
      },
      "execution_count": 44,
      "outputs": [
        {
          "output_type": "execute_result",
          "data": {
            "text/plain": [
              "     sepal_length  sepal_width  petal_length  petal_width    species\n",
              "0             5.1          3.5           1.4          0.2     setosa\n",
              "1             4.9          3.0           1.4          0.2     setosa\n",
              "2             4.7          3.2           1.3          0.2     setosa\n",
              "3             4.6          3.1           1.5          0.2     setosa\n",
              "4             5.0          3.6           1.4          0.2     setosa\n",
              "..            ...          ...           ...          ...        ...\n",
              "145           6.7          3.0           5.2          2.3  virginica\n",
              "146           6.3          2.5           5.0          1.9  virginica\n",
              "147           6.5          3.0           5.2          2.0  virginica\n",
              "148           6.2          3.4           5.4          2.3  virginica\n",
              "149           5.9          3.0           5.1          1.8  virginica\n",
              "\n",
              "[150 rows x 5 columns]"
            ],
            "text/html": [
              "\n",
              "  <div id=\"df-aad85c4f-67fe-4c38-b816-6fb4ce404a6b\" class=\"colab-df-container\">\n",
              "    <div>\n",
              "<style scoped>\n",
              "    .dataframe tbody tr th:only-of-type {\n",
              "        vertical-align: middle;\n",
              "    }\n",
              "\n",
              "    .dataframe tbody tr th {\n",
              "        vertical-align: top;\n",
              "    }\n",
              "\n",
              "    .dataframe thead th {\n",
              "        text-align: right;\n",
              "    }\n",
              "</style>\n",
              "<table border=\"1\" class=\"dataframe\">\n",
              "  <thead>\n",
              "    <tr style=\"text-align: right;\">\n",
              "      <th></th>\n",
              "      <th>sepal_length</th>\n",
              "      <th>sepal_width</th>\n",
              "      <th>petal_length</th>\n",
              "      <th>petal_width</th>\n",
              "      <th>species</th>\n",
              "    </tr>\n",
              "  </thead>\n",
              "  <tbody>\n",
              "    <tr>\n",
              "      <th>0</th>\n",
              "      <td>5.1</td>\n",
              "      <td>3.5</td>\n",
              "      <td>1.4</td>\n",
              "      <td>0.2</td>\n",
              "      <td>setosa</td>\n",
              "    </tr>\n",
              "    <tr>\n",
              "      <th>1</th>\n",
              "      <td>4.9</td>\n",
              "      <td>3.0</td>\n",
              "      <td>1.4</td>\n",
              "      <td>0.2</td>\n",
              "      <td>setosa</td>\n",
              "    </tr>\n",
              "    <tr>\n",
              "      <th>2</th>\n",
              "      <td>4.7</td>\n",
              "      <td>3.2</td>\n",
              "      <td>1.3</td>\n",
              "      <td>0.2</td>\n",
              "      <td>setosa</td>\n",
              "    </tr>\n",
              "    <tr>\n",
              "      <th>3</th>\n",
              "      <td>4.6</td>\n",
              "      <td>3.1</td>\n",
              "      <td>1.5</td>\n",
              "      <td>0.2</td>\n",
              "      <td>setosa</td>\n",
              "    </tr>\n",
              "    <tr>\n",
              "      <th>4</th>\n",
              "      <td>5.0</td>\n",
              "      <td>3.6</td>\n",
              "      <td>1.4</td>\n",
              "      <td>0.2</td>\n",
              "      <td>setosa</td>\n",
              "    </tr>\n",
              "    <tr>\n",
              "      <th>...</th>\n",
              "      <td>...</td>\n",
              "      <td>...</td>\n",
              "      <td>...</td>\n",
              "      <td>...</td>\n",
              "      <td>...</td>\n",
              "    </tr>\n",
              "    <tr>\n",
              "      <th>145</th>\n",
              "      <td>6.7</td>\n",
              "      <td>3.0</td>\n",
              "      <td>5.2</td>\n",
              "      <td>2.3</td>\n",
              "      <td>virginica</td>\n",
              "    </tr>\n",
              "    <tr>\n",
              "      <th>146</th>\n",
              "      <td>6.3</td>\n",
              "      <td>2.5</td>\n",
              "      <td>5.0</td>\n",
              "      <td>1.9</td>\n",
              "      <td>virginica</td>\n",
              "    </tr>\n",
              "    <tr>\n",
              "      <th>147</th>\n",
              "      <td>6.5</td>\n",
              "      <td>3.0</td>\n",
              "      <td>5.2</td>\n",
              "      <td>2.0</td>\n",
              "      <td>virginica</td>\n",
              "    </tr>\n",
              "    <tr>\n",
              "      <th>148</th>\n",
              "      <td>6.2</td>\n",
              "      <td>3.4</td>\n",
              "      <td>5.4</td>\n",
              "      <td>2.3</td>\n",
              "      <td>virginica</td>\n",
              "    </tr>\n",
              "    <tr>\n",
              "      <th>149</th>\n",
              "      <td>5.9</td>\n",
              "      <td>3.0</td>\n",
              "      <td>5.1</td>\n",
              "      <td>1.8</td>\n",
              "      <td>virginica</td>\n",
              "    </tr>\n",
              "  </tbody>\n",
              "</table>\n",
              "<p>150 rows × 5 columns</p>\n",
              "</div>\n",
              "    <div class=\"colab-df-buttons\">\n",
              "\n",
              "  <div class=\"colab-df-container\">\n",
              "    <button class=\"colab-df-convert\" onclick=\"convertToInteractive('df-aad85c4f-67fe-4c38-b816-6fb4ce404a6b')\"\n",
              "            title=\"Convert this dataframe to an interactive table.\"\n",
              "            style=\"display:none;\">\n",
              "\n",
              "  <svg xmlns=\"http://www.w3.org/2000/svg\" height=\"24px\" viewBox=\"0 -960 960 960\">\n",
              "    <path d=\"M120-120v-720h720v720H120Zm60-500h600v-160H180v160Zm220 220h160v-160H400v160Zm0 220h160v-160H400v160ZM180-400h160v-160H180v160Zm440 0h160v-160H620v160ZM180-180h160v-160H180v160Zm440 0h160v-160H620v160Z\"/>\n",
              "  </svg>\n",
              "    </button>\n",
              "\n",
              "  <style>\n",
              "    .colab-df-container {\n",
              "      display:flex;\n",
              "      gap: 12px;\n",
              "    }\n",
              "\n",
              "    .colab-df-convert {\n",
              "      background-color: #E8F0FE;\n",
              "      border: none;\n",
              "      border-radius: 50%;\n",
              "      cursor: pointer;\n",
              "      display: none;\n",
              "      fill: #1967D2;\n",
              "      height: 32px;\n",
              "      padding: 0 0 0 0;\n",
              "      width: 32px;\n",
              "    }\n",
              "\n",
              "    .colab-df-convert:hover {\n",
              "      background-color: #E2EBFA;\n",
              "      box-shadow: 0px 1px 2px rgba(60, 64, 67, 0.3), 0px 1px 3px 1px rgba(60, 64, 67, 0.15);\n",
              "      fill: #174EA6;\n",
              "    }\n",
              "\n",
              "    .colab-df-buttons div {\n",
              "      margin-bottom: 4px;\n",
              "    }\n",
              "\n",
              "    [theme=dark] .colab-df-convert {\n",
              "      background-color: #3B4455;\n",
              "      fill: #D2E3FC;\n",
              "    }\n",
              "\n",
              "    [theme=dark] .colab-df-convert:hover {\n",
              "      background-color: #434B5C;\n",
              "      box-shadow: 0px 1px 3px 1px rgba(0, 0, 0, 0.15);\n",
              "      filter: drop-shadow(0px 1px 2px rgba(0, 0, 0, 0.3));\n",
              "      fill: #FFFFFF;\n",
              "    }\n",
              "  </style>\n",
              "\n",
              "    <script>\n",
              "      const buttonEl =\n",
              "        document.querySelector('#df-aad85c4f-67fe-4c38-b816-6fb4ce404a6b button.colab-df-convert');\n",
              "      buttonEl.style.display =\n",
              "        google.colab.kernel.accessAllowed ? 'block' : 'none';\n",
              "\n",
              "      async function convertToInteractive(key) {\n",
              "        const element = document.querySelector('#df-aad85c4f-67fe-4c38-b816-6fb4ce404a6b');\n",
              "        const dataTable =\n",
              "          await google.colab.kernel.invokeFunction('convertToInteractive',\n",
              "                                                    [key], {});\n",
              "        if (!dataTable) return;\n",
              "\n",
              "        const docLinkHtml = 'Like what you see? Visit the ' +\n",
              "          '<a target=\"_blank\" href=https://colab.research.google.com/notebooks/data_table.ipynb>data table notebook</a>'\n",
              "          + ' to learn more about interactive tables.';\n",
              "        element.innerHTML = '';\n",
              "        dataTable['output_type'] = 'display_data';\n",
              "        await google.colab.output.renderOutput(dataTable, element);\n",
              "        const docLink = document.createElement('div');\n",
              "        docLink.innerHTML = docLinkHtml;\n",
              "        element.appendChild(docLink);\n",
              "      }\n",
              "    </script>\n",
              "  </div>\n",
              "\n",
              "\n",
              "<div id=\"df-0d1b04ce-7a81-4d99-9bb0-f97dff136af6\">\n",
              "  <button class=\"colab-df-quickchart\" onclick=\"quickchart('df-0d1b04ce-7a81-4d99-9bb0-f97dff136af6')\"\n",
              "            title=\"Suggest charts\"\n",
              "            style=\"display:none;\">\n",
              "\n",
              "<svg xmlns=\"http://www.w3.org/2000/svg\" height=\"24px\"viewBox=\"0 0 24 24\"\n",
              "     width=\"24px\">\n",
              "    <g>\n",
              "        <path d=\"M19 3H5c-1.1 0-2 .9-2 2v14c0 1.1.9 2 2 2h14c1.1 0 2-.9 2-2V5c0-1.1-.9-2-2-2zM9 17H7v-7h2v7zm4 0h-2V7h2v10zm4 0h-2v-4h2v4z\"/>\n",
              "    </g>\n",
              "</svg>\n",
              "  </button>\n",
              "\n",
              "<style>\n",
              "  .colab-df-quickchart {\n",
              "      --bg-color: #E8F0FE;\n",
              "      --fill-color: #1967D2;\n",
              "      --hover-bg-color: #E2EBFA;\n",
              "      --hover-fill-color: #174EA6;\n",
              "      --disabled-fill-color: #AAA;\n",
              "      --disabled-bg-color: #DDD;\n",
              "  }\n",
              "\n",
              "  [theme=dark] .colab-df-quickchart {\n",
              "      --bg-color: #3B4455;\n",
              "      --fill-color: #D2E3FC;\n",
              "      --hover-bg-color: #434B5C;\n",
              "      --hover-fill-color: #FFFFFF;\n",
              "      --disabled-bg-color: #3B4455;\n",
              "      --disabled-fill-color: #666;\n",
              "  }\n",
              "\n",
              "  .colab-df-quickchart {\n",
              "    background-color: var(--bg-color);\n",
              "    border: none;\n",
              "    border-radius: 50%;\n",
              "    cursor: pointer;\n",
              "    display: none;\n",
              "    fill: var(--fill-color);\n",
              "    height: 32px;\n",
              "    padding: 0;\n",
              "    width: 32px;\n",
              "  }\n",
              "\n",
              "  .colab-df-quickchart:hover {\n",
              "    background-color: var(--hover-bg-color);\n",
              "    box-shadow: 0 1px 2px rgba(60, 64, 67, 0.3), 0 1px 3px 1px rgba(60, 64, 67, 0.15);\n",
              "    fill: var(--button-hover-fill-color);\n",
              "  }\n",
              "\n",
              "  .colab-df-quickchart-complete:disabled,\n",
              "  .colab-df-quickchart-complete:disabled:hover {\n",
              "    background-color: var(--disabled-bg-color);\n",
              "    fill: var(--disabled-fill-color);\n",
              "    box-shadow: none;\n",
              "  }\n",
              "\n",
              "  .colab-df-spinner {\n",
              "    border: 2px solid var(--fill-color);\n",
              "    border-color: transparent;\n",
              "    border-bottom-color: var(--fill-color);\n",
              "    animation:\n",
              "      spin 1s steps(1) infinite;\n",
              "  }\n",
              "\n",
              "  @keyframes spin {\n",
              "    0% {\n",
              "      border-color: transparent;\n",
              "      border-bottom-color: var(--fill-color);\n",
              "      border-left-color: var(--fill-color);\n",
              "    }\n",
              "    20% {\n",
              "      border-color: transparent;\n",
              "      border-left-color: var(--fill-color);\n",
              "      border-top-color: var(--fill-color);\n",
              "    }\n",
              "    30% {\n",
              "      border-color: transparent;\n",
              "      border-left-color: var(--fill-color);\n",
              "      border-top-color: var(--fill-color);\n",
              "      border-right-color: var(--fill-color);\n",
              "    }\n",
              "    40% {\n",
              "      border-color: transparent;\n",
              "      border-right-color: var(--fill-color);\n",
              "      border-top-color: var(--fill-color);\n",
              "    }\n",
              "    60% {\n",
              "      border-color: transparent;\n",
              "      border-right-color: var(--fill-color);\n",
              "    }\n",
              "    80% {\n",
              "      border-color: transparent;\n",
              "      border-right-color: var(--fill-color);\n",
              "      border-bottom-color: var(--fill-color);\n",
              "    }\n",
              "    90% {\n",
              "      border-color: transparent;\n",
              "      border-bottom-color: var(--fill-color);\n",
              "    }\n",
              "  }\n",
              "</style>\n",
              "\n",
              "  <script>\n",
              "    async function quickchart(key) {\n",
              "      const quickchartButtonEl =\n",
              "        document.querySelector('#' + key + ' button');\n",
              "      quickchartButtonEl.disabled = true;  // To prevent multiple clicks.\n",
              "      quickchartButtonEl.classList.add('colab-df-spinner');\n",
              "      try {\n",
              "        const charts = await google.colab.kernel.invokeFunction(\n",
              "            'suggestCharts', [key], {});\n",
              "      } catch (error) {\n",
              "        console.error('Error during call to suggestCharts:', error);\n",
              "      }\n",
              "      quickchartButtonEl.classList.remove('colab-df-spinner');\n",
              "      quickchartButtonEl.classList.add('colab-df-quickchart-complete');\n",
              "    }\n",
              "    (() => {\n",
              "      let quickchartButtonEl =\n",
              "        document.querySelector('#df-0d1b04ce-7a81-4d99-9bb0-f97dff136af6 button');\n",
              "      quickchartButtonEl.style.display =\n",
              "        google.colab.kernel.accessAllowed ? 'block' : 'none';\n",
              "    })();\n",
              "  </script>\n",
              "</div>\n",
              "\n",
              "  <div id=\"id_d94394c2-8613-4c9a-85e1-79ad95e393d8\">\n",
              "    <style>\n",
              "      .colab-df-generate {\n",
              "        background-color: #E8F0FE;\n",
              "        border: none;\n",
              "        border-radius: 50%;\n",
              "        cursor: pointer;\n",
              "        display: none;\n",
              "        fill: #1967D2;\n",
              "        height: 32px;\n",
              "        padding: 0 0 0 0;\n",
              "        width: 32px;\n",
              "      }\n",
              "\n",
              "      .colab-df-generate:hover {\n",
              "        background-color: #E2EBFA;\n",
              "        box-shadow: 0px 1px 2px rgba(60, 64, 67, 0.3), 0px 1px 3px 1px rgba(60, 64, 67, 0.15);\n",
              "        fill: #174EA6;\n",
              "      }\n",
              "\n",
              "      [theme=dark] .colab-df-generate {\n",
              "        background-color: #3B4455;\n",
              "        fill: #D2E3FC;\n",
              "      }\n",
              "\n",
              "      [theme=dark] .colab-df-generate:hover {\n",
              "        background-color: #434B5C;\n",
              "        box-shadow: 0px 1px 3px 1px rgba(0, 0, 0, 0.15);\n",
              "        filter: drop-shadow(0px 1px 2px rgba(0, 0, 0, 0.3));\n",
              "        fill: #FFFFFF;\n",
              "      }\n",
              "    </style>\n",
              "    <button class=\"colab-df-generate\" onclick=\"generateWithVariable('iris')\"\n",
              "            title=\"Generate code using this dataframe.\"\n",
              "            style=\"display:none;\">\n",
              "\n",
              "  <svg xmlns=\"http://www.w3.org/2000/svg\" height=\"24px\"viewBox=\"0 0 24 24\"\n",
              "       width=\"24px\">\n",
              "    <path d=\"M7,19H8.4L18.45,9,17,7.55,7,17.6ZM5,21V16.75L18.45,3.32a2,2,0,0,1,2.83,0l1.4,1.43a1.91,1.91,0,0,1,.58,1.4,1.91,1.91,0,0,1-.58,1.4L9.25,21ZM18.45,9,17,7.55Zm-12,3A5.31,5.31,0,0,0,4.9,8.1,5.31,5.31,0,0,0,1,6.5,5.31,5.31,0,0,0,4.9,4.9,5.31,5.31,0,0,0,6.5,1,5.31,5.31,0,0,0,8.1,4.9,5.31,5.31,0,0,0,12,6.5,5.46,5.46,0,0,0,6.5,12Z\"/>\n",
              "  </svg>\n",
              "    </button>\n",
              "    <script>\n",
              "      (() => {\n",
              "      const buttonEl =\n",
              "        document.querySelector('#id_d94394c2-8613-4c9a-85e1-79ad95e393d8 button.colab-df-generate');\n",
              "      buttonEl.style.display =\n",
              "        google.colab.kernel.accessAllowed ? 'block' : 'none';\n",
              "\n",
              "      buttonEl.onclick = () => {\n",
              "        google.colab.notebook.generateWithVariable('iris');\n",
              "      }\n",
              "      })();\n",
              "    </script>\n",
              "  </div>\n",
              "\n",
              "    </div>\n",
              "  </div>\n"
            ],
            "application/vnd.google.colaboratory.intrinsic+json": {
              "type": "dataframe",
              "variable_name": "iris",
              "summary": "{\n  \"name\": \"iris\",\n  \"rows\": 150,\n  \"fields\": [\n    {\n      \"column\": \"sepal_length\",\n      \"properties\": {\n        \"dtype\": \"number\",\n        \"std\": 0.828066127977863,\n        \"min\": 4.3,\n        \"max\": 7.9,\n        \"samples\": [\n          6.2,\n          4.5,\n          5.6\n        ],\n        \"num_unique_values\": 35,\n        \"semantic_type\": \"\",\n        \"description\": \"\"\n      }\n    },\n    {\n      \"column\": \"sepal_width\",\n      \"properties\": {\n        \"dtype\": \"number\",\n        \"std\": 0.4358662849366982,\n        \"min\": 2.0,\n        \"max\": 4.4,\n        \"samples\": [\n          2.3,\n          4.0,\n          3.5\n        ],\n        \"num_unique_values\": 23,\n        \"semantic_type\": \"\",\n        \"description\": \"\"\n      }\n    },\n    {\n      \"column\": \"petal_length\",\n      \"properties\": {\n        \"dtype\": \"number\",\n        \"std\": 1.7652982332594662,\n        \"min\": 1.0,\n        \"max\": 6.9,\n        \"samples\": [\n          6.7,\n          3.8,\n          3.7\n        ],\n        \"num_unique_values\": 43,\n        \"semantic_type\": \"\",\n        \"description\": \"\"\n      }\n    },\n    {\n      \"column\": \"petal_width\",\n      \"properties\": {\n        \"dtype\": \"number\",\n        \"std\": 0.7622376689603465,\n        \"min\": 0.1,\n        \"max\": 2.5,\n        \"samples\": [\n          0.2,\n          1.2,\n          1.3\n        ],\n        \"num_unique_values\": 22,\n        \"semantic_type\": \"\",\n        \"description\": \"\"\n      }\n    },\n    {\n      \"column\": \"species\",\n      \"properties\": {\n        \"dtype\": \"category\",\n        \"samples\": [\n          \"setosa\",\n          \"versicolor\",\n          \"virginica\"\n        ],\n        \"num_unique_values\": 3,\n        \"semantic_type\": \"\",\n        \"description\": \"\"\n      }\n    }\n  ]\n}"
            }
          },
          "metadata": {},
          "execution_count": 44
        }
      ]
    },
    {
      "cell_type": "code",
      "source": [
        "_ = sns.boxplot(data=iris)"
      ],
      "metadata": {
        "colab": {
          "base_uri": "https://localhost:8080/",
          "height": 435
        },
        "id": "qWuTEkys2PGM",
        "outputId": "d935ad77-7574-41bc-b5af-2f22718783c0"
      },
      "execution_count": 45,
      "outputs": [
        {
          "output_type": "display_data",
          "data": {
            "text/plain": [
              "<Figure size 640x480 with 1 Axes>"
            ],
            "image/png": "[encoded data removed]"
          },
          "metadata": {}
        }
      ]
    },
    {
      "cell_type": "code",
      "source": [
        "tips = sns.load_dataset('tips')\n"
      ],
      "metadata": {
        "id": "u9X9CVJ02W4S"
      },
      "execution_count": 46,
      "outputs": []
    },
    {
      "cell_type": "code",
      "source": [
        "tips"
      ],
      "metadata": {
        "colab": {
          "base_uri": "https://localhost:8080/",
          "height": 424
        },
        "id": "QFDgF9Gl20Oi",
        "outputId": "729402bc-7568-4917-e842-b7f400fc0b15"
      },
      "execution_count": 47,
      "outputs": [
        {
          "output_type": "execute_result",
          "data": {
            "text/plain": [
              "     total_bill   tip     sex smoker   day    time  size\n",
              "0         16.99  1.01  Female     No   Sun  Dinner     2\n",
              "1         10.34  1.66    Male     No   Sun  Dinner     3\n",
              "2         21.01  3.50    Male     No   Sun  Dinner     3\n",
              "3         23.68  3.31    Male     No   Sun  Dinner     2\n",
              "4         24.59  3.61  Female     No   Sun  Dinner     4\n",
              "..          ...   ...     ...    ...   ...     ...   ...\n",
              "239       29.03  5.92    Male     No   Sat  Dinner     3\n",
              "240       27.18  2.00  Female    Yes   Sat  Dinner     2\n",
              "241       22.67  2.00    Male    Yes   Sat  Dinner     2\n",
              "242       17.82  1.75    Male     No   Sat  Dinner     2\n",
              "243       18.78  3.00  Female     No  Thur  Dinner     2\n",
              "\n",
              "[244 rows x 7 columns]"
            ],
            "text/html": [
              "\n",
              "  <div id=\"df-16a0cce2-fe12-4291-8ad1-aceab380b8b3\" class=\"colab-df-container\">\n",
              "    <div>\n",
              "<style scoped>\n",
              "    .dataframe tbody tr th:only-of-type {\n",
              "        vertical-align: middle;\n",
              "    }\n",
              "\n",
              "    .dataframe tbody tr th {\n",
              "        vertical-align: top;\n",
              "    }\n",
              "\n",
              "    .dataframe thead th {\n",
              "        text-align: right;\n",
              "    }\n",
              "</style>\n",
              "<table border=\"1\" class=\"dataframe\">\n",
              "  <thead>\n",
              "    <tr style=\"text-align: right;\">\n",
              "      <th></th>\n",
              "      <th>total_bill</th>\n",
              "      <th>tip</th>\n",
              "      <th>sex</th>\n",
              "      <th>smoker</th>\n",
              "      <th>day</th>\n",
              "      <th>time</th>\n",
              "      <th>size</th>\n",
              "    </tr>\n",
              "  </thead>\n",
              "  <tbody>\n",
              "    <tr>\n",
              "      <th>0</th>\n",
              "      <td>16.99</td>\n",
              "      <td>1.01</td>\n",
              "      <td>Female</td>\n",
              "      <td>No</td>\n",
              "      <td>Sun</td>\n",
              "      <td>Dinner</td>\n",
              "      <td>2</td>\n",
              "    </tr>\n",
              "    <tr>\n",
              "      <th>1</th>\n",
              "      <td>10.34</td>\n",
              "      <td>1.66</td>\n",
              "      <td>Male</td>\n",
              "      <td>No</td>\n",
              "      <td>Sun</td>\n",
              "      <td>Dinner</td>\n",
              "      <td>3</td>\n",
              "    </tr>\n",
              "    <tr>\n",
              "      <th>2</th>\n",
              "      <td>21.01</td>\n",
              "      <td>3.50</td>\n",
              "      <td>Male</td>\n",
              "      <td>No</td>\n",
              "      <td>Sun</td>\n",
              "      <td>Dinner</td>\n",
              "      <td>3</td>\n",
              "    </tr>\n",
              "    <tr>\n",
              "      <th>3</th>\n",
              "      <td>23.68</td>\n",
              "      <td>3.31</td>\n",
              "      <td>Male</td>\n",
              "      <td>No</td>\n",
              "      <td>Sun</td>\n",
              "      <td>Dinner</td>\n",
              "      <td>2</td>\n",
              "    </tr>\n",
              "    <tr>\n",
              "      <th>4</th>\n",
              "      <td>24.59</td>\n",
              "      <td>3.61</td>\n",
              "      <td>Female</td>\n",
              "      <td>No</td>\n",
              "      <td>Sun</td>\n",
              "      <td>Dinner</td>\n",
              "      <td>4</td>\n",
              "    </tr>\n",
              "    <tr>\n",
              "      <th>...</th>\n",
              "      <td>...</td>\n",
              "      <td>...</td>\n",
              "      <td>...</td>\n",
              "      <td>...</td>\n",
              "      <td>...</td>\n",
              "      <td>...</td>\n",
              "      <td>...</td>\n",
              "    </tr>\n",
              "    <tr>\n",
              "      <th>239</th>\n",
              "      <td>29.03</td>\n",
              "      <td>5.92</td>\n",
              "      <td>Male</td>\n",
              "      <td>No</td>\n",
              "      <td>Sat</td>\n",
              "      <td>Dinner</td>\n",
              "      <td>3</td>\n",
              "    </tr>\n",
              "    <tr>\n",
              "      <th>240</th>\n",
              "      <td>27.18</td>\n",
              "      <td>2.00</td>\n",
              "      <td>Female</td>\n",
              "      <td>Yes</td>\n",
              "      <td>Sat</td>\n",
              "      <td>Dinner</td>\n",
              "      <td>2</td>\n",
              "    </tr>\n",
              "    <tr>\n",
              "      <th>241</th>\n",
              "      <td>22.67</td>\n",
              "      <td>2.00</td>\n",
              "      <td>Male</td>\n",
              "      <td>Yes</td>\n",
              "      <td>Sat</td>\n",
              "      <td>Dinner</td>\n",
              "      <td>2</td>\n",
              "    </tr>\n",
              "    <tr>\n",
              "      <th>242</th>\n",
              "      <td>17.82</td>\n",
              "      <td>1.75</td>\n",
              "      <td>Male</td>\n",
              "      <td>No</td>\n",
              "      <td>Sat</td>\n",
              "      <td>Dinner</td>\n",
              "      <td>2</td>\n",
              "    </tr>\n",
              "    <tr>\n",
              "      <th>243</th>\n",
              "      <td>18.78</td>\n",
              "      <td>3.00</td>\n",
              "      <td>Female</td>\n",
              "      <td>No</td>\n",
              "      <td>Thur</td>\n",
              "      <td>Dinner</td>\n",
              "      <td>2</td>\n",
              "    </tr>\n",
              "  </tbody>\n",
              "</table>\n",
              "<p>244 rows × 7 columns</p>\n",
              "</div>\n",
              "    <div class=\"colab-df-buttons\">\n",
              "\n",
              "  <div class=\"colab-df-container\">\n",
              "    <button class=\"colab-df-convert\" onclick=\"convertToInteractive('df-16a0cce2-fe12-4291-8ad1-aceab380b8b3')\"\n",
              "            title=\"Convert this dataframe to an interactive table.\"\n",
              "            style=\"display:none;\">\n",
              "\n",
              "  <svg xmlns=\"http://www.w3.org/2000/svg\" height=\"24px\" viewBox=\"0 -960 960 960\">\n",
              "    <path d=\"M120-120v-720h720v720H120Zm60-500h600v-160H180v160Zm220 220h160v-160H400v160Zm0 220h160v-160H400v160ZM180-400h160v-160H180v160Zm440 0h160v-160H620v160ZM180-180h160v-160H180v160Zm440 0h160v-160H620v160Z\"/>\n",
              "  </svg>\n",
              "    </button>\n",
              "\n",
              "  <style>\n",
              "    .colab-df-container {\n",
              "      display:flex;\n",
              "      gap: 12px;\n",
              "    }\n",
              "\n",
              "    .colab-df-convert {\n",
              "      background-color: #E8F0FE;\n",
              "      border: none;\n",
              "      border-radius: 50%;\n",
              "      cursor: pointer;\n",
              "      display: none;\n",
              "      fill: #1967D2;\n",
              "      height: 32px;\n",
              "      padding: 0 0 0 0;\n",
              "      width: 32px;\n",
              "    }\n",
              "\n",
              "    .colab-df-convert:hover {\n",
              "      background-color: #E2EBFA;\n",
              "      box-shadow: 0px 1px 2px rgba(60, 64, 67, 0.3), 0px 1px 3px 1px rgba(60, 64, 67, 0.15);\n",
              "      fill: #174EA6;\n",
              "    }\n",
              "\n",
              "    .colab-df-buttons div {\n",
              "      margin-bottom: 4px;\n",
              "    }\n",
              "\n",
              "    [theme=dark] .colab-df-convert {\n",
              "      background-color: #3B4455;\n",
              "      fill: #D2E3FC;\n",
              "    }\n",
              "\n",
              "    [theme=dark] .colab-df-convert:hover {\n",
              "      background-color: #434B5C;\n",
              "      box-shadow: 0px 1px 3px 1px rgba(0, 0, 0, 0.15);\n",
              "      filter: drop-shadow(0px 1px 2px rgba(0, 0, 0, 0.3));\n",
              "      fill: #FFFFFF;\n",
              "    }\n",
              "  </style>\n",
              "\n",
              "    <script>\n",
              "      const buttonEl =\n",
              "        document.querySelector('#df-16a0cce2-fe12-4291-8ad1-aceab380b8b3 button.colab-df-convert');\n",
              "      buttonEl.style.display =\n",
              "        google.colab.kernel.accessAllowed ? 'block' : 'none';\n",
              "\n",
              "      async function convertToInteractive(key) {\n",
              "        const element = document.querySelector('#df-16a0cce2-fe12-4291-8ad1-aceab380b8b3');\n",
              "        const dataTable =\n",
              "          await google.colab.kernel.invokeFunction('convertToInteractive',\n",
              "                                                    [key], {});\n",
              "        if (!dataTable) return;\n",
              "\n",
              "        const docLinkHtml = 'Like what you see? Visit the ' +\n",
              "          '<a target=\"_blank\" href=https://colab.research.google.com/notebooks/data_table.ipynb>data table notebook</a>'\n",
              "          + ' to learn more about interactive tables.';\n",
              "        element.innerHTML = '';\n",
              "        dataTable['output_type'] = 'display_data';\n",
              "        await google.colab.output.renderOutput(dataTable, element);\n",
              "        const docLink = document.createElement('div');\n",
              "        docLink.innerHTML = docLinkHtml;\n",
              "        element.appendChild(docLink);\n",
              "      }\n",
              "    </script>\n",
              "  </div>\n",
              "\n",
              "\n",
              "<div id=\"df-de23873a-83d0-470d-94b9-efea268c0840\">\n",
              "  <button class=\"colab-df-quickchart\" onclick=\"quickchart('df-de23873a-83d0-470d-94b9-efea268c0840')\"\n",
              "            title=\"Suggest charts\"\n",
              "            style=\"display:none;\">\n",
              "\n",
              "<svg xmlns=\"http://www.w3.org/2000/svg\" height=\"24px\"viewBox=\"0 0 24 24\"\n",
              "     width=\"24px\">\n",
              "    <g>\n",
              "        <path d=\"M19 3H5c-1.1 0-2 .9-2 2v14c0 1.1.9 2 2 2h14c1.1 0 2-.9 2-2V5c0-1.1-.9-2-2-2zM9 17H7v-7h2v7zm4 0h-2V7h2v10zm4 0h-2v-4h2v4z\"/>\n",
              "    </g>\n",
              "</svg>\n",
              "  </button>\n",
              "\n",
              "<style>\n",
              "  .colab-df-quickchart {\n",
              "      --bg-color: #E8F0FE;\n",
              "      --fill-color: #1967D2;\n",
              "      --hover-bg-color: #E2EBFA;\n",
              "      --hover-fill-color: #174EA6;\n",
              "      --disabled-fill-color: #AAA;\n",
              "      --disabled-bg-color: #DDD;\n",
              "  }\n",
              "\n",
              "  [theme=dark] .colab-df-quickchart {\n",
              "      --bg-color: #3B4455;\n",
              "      --fill-color: #D2E3FC;\n",
              "      --hover-bg-color: #434B5C;\n",
              "      --hover-fill-color: #FFFFFF;\n",
              "      --disabled-bg-color: #3B4455;\n",
              "      --disabled-fill-color: #666;\n",
              "  }\n",
              "\n",
              "  .colab-df-quickchart {\n",
              "    background-color: var(--bg-color);\n",
              "    border: none;\n",
              "    border-radius: 50%;\n",
              "    cursor: pointer;\n",
              "    display: none;\n",
              "    fill: var(--fill-color);\n",
              "    height: 32px;\n",
              "    padding: 0;\n",
              "    width: 32px;\n",
              "  }\n",
              "\n",
              "  .colab-df-quickchart:hover {\n",
              "    background-color: var(--hover-bg-color);\n",
              "    box-shadow: 0 1px 2px rgba(60, 64, 67, 0.3), 0 1px 3px 1px rgba(60, 64, 67, 0.15);\n",
              "    fill: var(--button-hover-fill-color);\n",
              "  }\n",
              "\n",
              "  .colab-df-quickchart-complete:disabled,\n",
              "  .colab-df-quickchart-complete:disabled:hover {\n",
              "    background-color: var(--disabled-bg-color);\n",
              "    fill: var(--disabled-fill-color);\n",
              "    box-shadow: none;\n",
              "  }\n",
              "\n",
              "  .colab-df-spinner {\n",
              "    border: 2px solid var(--fill-color);\n",
              "    border-color: transparent;\n",
              "    border-bottom-color: var(--fill-color);\n",
              "    animation:\n",
              "      spin 1s steps(1) infinite;\n",
              "  }\n",
              "\n",
              "  @keyframes spin {\n",
              "    0% {\n",
              "      border-color: transparent;\n",
              "      border-bottom-color: var(--fill-color);\n",
              "      border-left-color: var(--fill-color);\n",
              "    }\n",
              "    20% {\n",
              "      border-color: transparent;\n",
              "      border-left-color: var(--fill-color);\n",
              "      border-top-color: var(--fill-color);\n",
              "    }\n",
              "    30% {\n",
              "      border-color: transparent;\n",
              "      border-left-color: var(--fill-color);\n",
              "      border-top-color: var(--fill-color);\n",
              "      border-right-color: var(--fill-color);\n",
              "    }\n",
              "    40% {\n",
              "      border-color: transparent;\n",
              "      border-right-color: var(--fill-color);\n",
              "      border-top-color: var(--fill-color);\n",
              "    }\n",
              "    60% {\n",
              "      border-color: transparent;\n",
              "      border-right-color: var(--fill-color);\n",
              "    }\n",
              "    80% {\n",
              "      border-color: transparent;\n",
              "      border-right-color: var(--fill-color);\n",
              "      border-bottom-color: var(--fill-color);\n",
              "    }\n",
              "    90% {\n",
              "      border-color: transparent;\n",
              "      border-bottom-color: var(--fill-color);\n",
              "    }\n",
              "  }\n",
              "</style>\n",
              "\n",
              "  <script>\n",
              "    async function quickchart(key) {\n",
              "      const quickchartButtonEl =\n",
              "        document.querySelector('#' + key + ' button');\n",
              "      quickchartButtonEl.disabled = true;  // To prevent multiple clicks.\n",
              "      quickchartButtonEl.classList.add('colab-df-spinner');\n",
              "      try {\n",
              "        const charts = await google.colab.kernel.invokeFunction(\n",
              "            'suggestCharts', [key], {});\n",
              "      } catch (error) {\n",
              "        console.error('Error during call to suggestCharts:', error);\n",
              "      }\n",
              "      quickchartButtonEl.classList.remove('colab-df-spinner');\n",
              "      quickchartButtonEl.classList.add('colab-df-quickchart-complete');\n",
              "    }\n",
              "    (() => {\n",
              "      let quickchartButtonEl =\n",
              "        document.querySelector('#df-de23873a-83d0-470d-94b9-efea268c0840 button');\n",
              "      quickchartButtonEl.style.display =\n",
              "        google.colab.kernel.accessAllowed ? 'block' : 'none';\n",
              "    })();\n",
              "  </script>\n",
              "</div>\n",
              "\n",
              "  <div id=\"id_f79b8768-8792-4c8e-a125-e8379ce822ed\">\n",
              "    <style>\n",
              "      .colab-df-generate {\n",
              "        background-color: #E8F0FE;\n",
              "        border: none;\n",
              "        border-radius: 50%;\n",
              "        cursor: pointer;\n",
              "        display: none;\n",
              "        fill: #1967D2;\n",
              "        height: 32px;\n",
              "        padding: 0 0 0 0;\n",
              "        width: 32px;\n",
              "      }\n",
              "\n",
              "      .colab-df-generate:hover {\n",
              "        background-color: #E2EBFA;\n",
              "        box-shadow: 0px 1px 2px rgba(60, 64, 67, 0.3), 0px 1px 3px 1px rgba(60, 64, 67, 0.15);\n",
              "        fill: #174EA6;\n",
              "      }\n",
              "\n",
              "      [theme=dark] .colab-df-generate {\n",
              "        background-color: #3B4455;\n",
              "        fill: #D2E3FC;\n",
              "      }\n",
              "\n",
              "      [theme=dark] .colab-df-generate:hover {\n",
              "        background-color: #434B5C;\n",
              "        box-shadow: 0px 1px 3px 1px rgba(0, 0, 0, 0.15);\n",
              "        filter: drop-shadow(0px 1px 2px rgba(0, 0, 0, 0.3));\n",
              "        fill: #FFFFFF;\n",
              "      }\n",
              "    </style>\n",
              "    <button class=\"colab-df-generate\" onclick=\"generateWithVariable('tips')\"\n",
              "            title=\"Generate code using this dataframe.\"\n",
              "            style=\"display:none;\">\n",
              "\n",
              "  <svg xmlns=\"http://www.w3.org/2000/svg\" height=\"24px\"viewBox=\"0 0 24 24\"\n",
              "       width=\"24px\">\n",
              "    <path d=\"M7,19H8.4L18.45,9,17,7.55,7,17.6ZM5,21V16.75L18.45,3.32a2,2,0,0,1,2.83,0l1.4,1.43a1.91,1.91,0,0,1,.58,1.4,1.91,1.91,0,0,1-.58,1.4L9.25,21ZM18.45,9,17,7.55Zm-12,3A5.31,5.31,0,0,0,4.9,8.1,5.31,5.31,0,0,0,1,6.5,5.31,5.31,0,0,0,4.9,4.9,5.31,5.31,0,0,0,6.5,1,5.31,5.31,0,0,0,8.1,4.9,5.31,5.31,0,0,0,12,6.5,5.46,5.46,0,0,0,6.5,12Z\"/>\n",
              "  </svg>\n",
              "    </button>\n",
              "    <script>\n",
              "      (() => {\n",
              "      const buttonEl =\n",
              "        document.querySelector('#id_f79b8768-8792-4c8e-a125-e8379ce822ed button.colab-df-generate');\n",
              "      buttonEl.style.display =\n",
              "        google.colab.kernel.accessAllowed ? 'block' : 'none';\n",
              "\n",
              "      buttonEl.onclick = () => {\n",
              "        google.colab.notebook.generateWithVariable('tips');\n",
              "      }\n",
              "      })();\n",
              "    </script>\n",
              "  </div>\n",
              "\n",
              "    </div>\n",
              "  </div>\n"
            ],
            "application/vnd.google.colaboratory.intrinsic+json": {
              "type": "dataframe",
              "variable_name": "tips",
              "summary": "{\n  \"name\": \"tips\",\n  \"rows\": 244,\n  \"fields\": [\n    {\n      \"column\": \"total_bill\",\n      \"properties\": {\n        \"dtype\": \"number\",\n        \"std\": 8.902411954856856,\n        \"min\": 3.07,\n        \"max\": 50.81,\n        \"samples\": [\n          22.12,\n          20.23,\n          14.78\n        ],\n        \"num_unique_values\": 229,\n        \"semantic_type\": \"\",\n        \"description\": \"\"\n      }\n    },\n    {\n      \"column\": \"tip\",\n      \"properties\": {\n        \"dtype\": \"number\",\n        \"std\": 1.3836381890011822,\n        \"min\": 1.0,\n        \"max\": 10.0,\n        \"samples\": [\n          3.35,\n          1.5,\n          6.73\n        ],\n        \"num_unique_values\": 123,\n        \"semantic_type\": \"\",\n        \"description\": \"\"\n      }\n    },\n    {\n      \"column\": \"sex\",\n      \"properties\": {\n        \"dtype\": \"category\",\n        \"samples\": [\n          \"Male\",\n          \"Female\"\n        ],\n        \"num_unique_values\": 2,\n        \"semantic_type\": \"\",\n        \"description\": \"\"\n      }\n    },\n    {\n      \"column\": \"smoker\",\n      \"properties\": {\n        \"dtype\": \"category\",\n        \"samples\": [\n          \"Yes\",\n          \"No\"\n        ],\n        \"num_unique_values\": 2,\n        \"semantic_type\": \"\",\n        \"description\": \"\"\n      }\n    },\n    {\n      \"column\": \"day\",\n      \"properties\": {\n        \"dtype\": \"category\",\n        \"samples\": [\n          \"Sat\",\n          \"Fri\"\n        ],\n        \"num_unique_values\": 4,\n        \"semantic_type\": \"\",\n        \"description\": \"\"\n      }\n    },\n    {\n      \"column\": \"time\",\n      \"properties\": {\n        \"dtype\": \"category\",\n        \"samples\": [\n          \"Lunch\",\n          \"Dinner\"\n        ],\n        \"num_unique_values\": 2,\n        \"semantic_type\": \"\",\n        \"description\": \"\"\n      }\n    },\n    {\n      \"column\": \"size\",\n      \"properties\": {\n        \"dtype\": \"number\",\n        \"std\": 0,\n        \"min\": 1,\n        \"max\": 6,\n        \"samples\": [\n          2,\n          3\n        ],\n        \"num_unique_values\": 6,\n        \"semantic_type\": \"\",\n        \"description\": \"\"\n      }\n    }\n  ]\n}"
            }
          },
          "metadata": {},
          "execution_count": 47
        }
      ]
    },
    {
      "cell_type": "code",
      "source": [
        "_ = sns.boxplot(x='day',y='total_bill',hue='smoker',data=tips)"
      ],
      "metadata": {
        "colab": {
          "base_uri": "https://localhost:8080/",
          "height": 458
        },
        "id": "4djXdwiZ2ww8",
        "outputId": "06c5dc54-1c13-46a4-d91d-5917d4ed1b94"
      },
      "execution_count": 48,
      "outputs": [
        {
          "output_type": "display_data",
          "data": {
            "text/plain": [
              "<Figure size 640x480 with 1 Axes>"
            ],
            "image/png": "[encoded data removed]"
          },
          "metadata": {}
        }
      ]
    },
    {
      "cell_type": "markdown",
      "source": [
        "##**Measure of Dispersion**"
      ],
      "metadata": {
        "id": "-M8pz1uS624Z"
      }
    },
    {
      "cell_type": "markdown",
      "source": [
        "IQR is a relatively rare measure of the dispersion of values around the center of a distribution. The most widely-used are:\n",
        "\n",
        "* Variance,\n",
        "* Standard deviation, and\n",
        "* Standard error."
      ],
      "metadata": {
        "id": "ycWDnQNu66H5"
      }
    },
    {
      "cell_type": "markdown",
      "source": [
        "**Variance** (denoted with $\\sigma^2$) can be written using expected-value notation, but it's easier to understand without it:\n",
        "$$ \\sigma^2 = \\frac{\\sum_{i=1}^n (x_i-\\bar{x})^2}{n} $$"
      ],
      "metadata": {
        "id": "9FkboP8_69Ns"
      }
    },
    {
      "cell_type": "code",
      "source": [
        "xbar = np.mean(x)\n",
        "xbar"
      ],
      "metadata": {
        "colab": {
          "base_uri": "https://localhost:8080/"
        },
        "id": "iOEVeDIJ3yOY",
        "outputId": "1212e691-0310-4d73-91b5-ef6c487a1b0c"
      },
      "execution_count": 49,
      "outputs": [
        {
          "output_type": "execute_result",
          "data": {
            "text/plain": [
              "0.8219573880882259"
            ]
          },
          "metadata": {},
          "execution_count": 49
        }
      ]
    },
    {
      "cell_type": "code",
      "source": [
        "squared_differences = [(x_i - xbar)**2  for x_i in x]\n"
      ],
      "metadata": {
        "id": "WkdGClTY7YIp"
      },
      "execution_count": 50,
      "outputs": []
    },
    {
      "cell_type": "code",
      "source": [
        "squared_differences[:10]"
      ],
      "metadata": {
        "colab": {
          "base_uri": "https://localhost:8080/"
        },
        "id": "Ce6HpFx77oaK",
        "outputId": "ebeed586-2871-4288-89f4-4bdb74c4b820"
      },
      "execution_count": 51,
      "outputs": [
        {
          "output_type": "execute_result",
          "data": {
            "text/plain": [
              "[0.9856434536454379,\n",
              " 0.9170226052916489,\n",
              " 0.8965181282231266,\n",
              " 0.8883307031718269,\n",
              " 0.8733501430824243,\n",
              " 0.8562478309191935,\n",
              " 0.8319771034452769,\n",
              " 0.8310929040089835,\n",
              " 0.7863402041234238,\n",
              " 0.7766155393407362]"
            ]
          },
          "metadata": {},
          "execution_count": 51
        }
      ]
    },
    {
      "cell_type": "code",
      "source": [
        "sigma_sq = sum(squared_differences)/len(x)\n",
        "sigma_sq"
      ],
      "metadata": {
        "colab": {
          "base_uri": "https://localhost:8080/"
        },
        "id": "7kU_8NM_7sBV",
        "outputId": "5fafd22d-e978-4f94-b4fd-a8856153dfb5"
      },
      "execution_count": 52,
      "outputs": [
        {
          "output_type": "execute_result",
          "data": {
            "text/plain": [
              "0.39813585982250543"
            ]
          },
          "metadata": {},
          "execution_count": 52
        }
      ]
    },
    {
      "cell_type": "code",
      "source": [
        "np.var(x)"
      ],
      "metadata": {
        "colab": {
          "base_uri": "https://localhost:8080/"
        },
        "id": "PRzFpDE373nL",
        "outputId": "072d6448-96d6-4d1f-b4df-5eca1610f233"
      },
      "execution_count": 53,
      "outputs": [
        {
          "output_type": "execute_result",
          "data": {
            "text/plain": [
              "0.3981358598225057"
            ]
          },
          "metadata": {},
          "execution_count": 53
        }
      ]
    },
    {
      "cell_type": "markdown",
      "source": [
        "##Standard Deviation"
      ],
      "metadata": {
        "id": "57-4QM-L8uZu"
      }
    },
    {
      "cell_type": "markdown",
      "source": [
        "A straightforward derivative of variance is **standard deviation** (denoted with $\\sigma$), which is convenient because its units are on the same scale as the values in the distribution:\n",
        "$$ \\sigma = \\sqrt{\\sigma^2} $$"
      ],
      "metadata": {
        "id": "6r_Baktm84I_"
      }
    },
    {
      "cell_type": "code",
      "source": [
        "sigma=  sigma_sq **(1/2)\n",
        "sigma"
      ],
      "metadata": {
        "colab": {
          "base_uri": "https://localhost:8080/"
        },
        "id": "GYXY0KKV8Dy4",
        "outputId": "7b013bcf-1c03-4679-db7b-23f027b19b1d"
      },
      "execution_count": 54,
      "outputs": [
        {
          "output_type": "execute_result",
          "data": {
            "text/plain": [
              "0.6309800787841923"
            ]
          },
          "metadata": {},
          "execution_count": 54
        }
      ]
    },
    {
      "cell_type": "code",
      "source": [
        "np.std(x)"
      ],
      "metadata": {
        "colab": {
          "base_uri": "https://localhost:8080/"
        },
        "id": "SUihcp8B89Eo",
        "outputId": "bb5ce186-b584-4e0f-c607-188b23bd0346"
      },
      "execution_count": 55,
      "outputs": [
        {
          "output_type": "execute_result",
          "data": {
            "text/plain": [
              "0.6309800787841925"
            ]
          },
          "metadata": {},
          "execution_count": 55
        }
      ]
    },
    {
      "cell_type": "code",
      "source": [
        "fig,ax = plt.subplots()\n",
        "\n",
        "plt.axvline(x = xbar,color='red')\n",
        "plt.axvline(x=xbar+sigma,color='purple')\n",
        "plt.axvline(x=xbar-sigma,color='purple')\n",
        "_ = plt.hist(x,color='lightgray')"
      ],
      "metadata": {
        "colab": {
          "base_uri": "https://localhost:8080/",
          "height": 434
        },
        "id": "fudYlfns8-Cy",
        "outputId": "d312062d-9afb-49da-c127-0e3bce02b922"
      },
      "execution_count": 56,
      "outputs": [
        {
          "output_type": "display_data",
          "data": {
            "text/plain": [
              "<Figure size 640x480 with 1 Axes>"
            ],
            "image/png": "[encoded data removed]"
          },
          "metadata": {}
        }
      ]
    },
    {
      "cell_type": "markdown",
      "source": [
        "##Standard Error"
      ],
      "metadata": {
        "id": "0dqVuJKt-gKl"
      }
    },
    {
      "cell_type": "markdown",
      "source": [
        "A further derivation of standard deviation is **standard error**, which is denoted with $\\sigma_\\bar{x}$:\n",
        "$$ \\sigma_\\bar{x} = \\frac{\\sigma}{\\sqrt{n}} $$"
      ],
      "metadata": {
        "id": "ZEOhgodA-jI8"
      }
    },
    {
      "cell_type": "code",
      "source": [
        "sigma/(len(x)**(1/2))"
      ],
      "metadata": {
        "colab": {
          "base_uri": "https://localhost:8080/"
        },
        "id": "-5wxk4xc9ozw",
        "outputId": "ff9dabeb-6f12-421f-a1d5-14bf41fe7556"
      },
      "execution_count": 57,
      "outputs": [
        {
          "output_type": "execute_result",
          "data": {
            "text/plain": [
              "0.019953342071505353"
            ]
          },
          "metadata": {},
          "execution_count": 57
        }
      ]
    },
    {
      "cell_type": "code",
      "source": [
        "st.sem(x)  ## defaults to 1 degree of freedom  (n-1)"
      ],
      "metadata": {
        "colab": {
          "base_uri": "https://localhost:8080/"
        },
        "id": "BaS9Xeei-qpL",
        "outputId": "16ee49f6-d253-4e75-8888-09456e62ea46"
      },
      "execution_count": 58,
      "outputs": [
        {
          "output_type": "execute_result",
          "data": {
            "text/plain": [
              "0.01996332623128527"
            ]
          },
          "metadata": {},
          "execution_count": 58
        }
      ]
    },
    {
      "cell_type": "code",
      "source": [
        "st.sem(x,ddof=0)"
      ],
      "metadata": {
        "colab": {
          "base_uri": "https://localhost:8080/"
        },
        "id": "bkMeFz9V_IkD",
        "outputId": "1e45c75c-b196-484b-a949-4e4ce985cdfd"
      },
      "execution_count": 59,
      "outputs": [
        {
          "output_type": "execute_result",
          "data": {
            "text/plain": [
              "0.01995334207150536"
            ]
          },
          "metadata": {},
          "execution_count": 59
        }
      ]
    },
    {
      "cell_type": "markdown",
      "source": [
        "Standard error enables us to compare whether the means of two distributions differ *significantly*, a focus of *Intro to Stats*."
      ],
      "metadata": {
        "id": "S3x06W9r_poV"
      }
    },
    {
      "cell_type": "markdown",
      "source": [
        "##**Measure of Covariance**"
      ],
      "metadata": {
        "id": "vS-xn9nrl_Fb"
      }
    },
    {
      "cell_type": "markdown",
      "source": [
        "If we have two vectors of the same length, $x$ and $y$, where each element of $x$ is paired with the corresponding element of $y$, **covariance** provides a measure of how related the variables are to each other:\n",
        "$$ \\text{cov}(x, y) = \\frac{\\sum_{i=1}^n (x_i - \\bar{x})(y_i - \\bar{y}) }{n} $$"
      ],
      "metadata": {
        "id": "lJLxeIoXmCLJ"
      }
    },
    {
      "cell_type": "code",
      "source": [
        "iris"
      ],
      "metadata": {
        "colab": {
          "base_uri": "https://localhost:8080/",
          "height": 424
        },
        "id": "ZPsGilTK_Mc4",
        "outputId": "3845400d-8c1b-4096-ac9e-8b9e6740ccf3"
      },
      "execution_count": 60,
      "outputs": [
        {
          "output_type": "execute_result",
          "data": {
            "text/plain": [
              "     sepal_length  sepal_width  petal_length  petal_width    species\n",
              "0             5.1          3.5           1.4          0.2     setosa\n",
              "1             4.9          3.0           1.4          0.2     setosa\n",
              "2             4.7          3.2           1.3          0.2     setosa\n",
              "3             4.6          3.1           1.5          0.2     setosa\n",
              "4             5.0          3.6           1.4          0.2     setosa\n",
              "..            ...          ...           ...          ...        ...\n",
              "145           6.7          3.0           5.2          2.3  virginica\n",
              "146           6.3          2.5           5.0          1.9  virginica\n",
              "147           6.5          3.0           5.2          2.0  virginica\n",
              "148           6.2          3.4           5.4          2.3  virginica\n",
              "149           5.9          3.0           5.1          1.8  virginica\n",
              "\n",
              "[150 rows x 5 columns]"
            ],
            "text/html": [
              "\n",
              "  <div id=\"df-11e99933-0c8a-450f-8143-c452205d06cf\" class=\"colab-df-container\">\n",
              "    <div>\n",
              "<style scoped>\n",
              "    .dataframe tbody tr th:only-of-type {\n",
              "        vertical-align: middle;\n",
              "    }\n",
              "\n",
              "    .dataframe tbody tr th {\n",
              "        vertical-align: top;\n",
              "    }\n",
              "\n",
              "    .dataframe thead th {\n",
              "        text-align: right;\n",
              "    }\n",
              "</style>\n",
              "<table border=\"1\" class=\"dataframe\">\n",
              "  <thead>\n",
              "    <tr style=\"text-align: right;\">\n",
              "      <th></th>\n",
              "      <th>sepal_length</th>\n",
              "      <th>sepal_width</th>\n",
              "      <th>petal_length</th>\n",
              "      <th>petal_width</th>\n",
              "      <th>species</th>\n",
              "    </tr>\n",
              "  </thead>\n",
              "  <tbody>\n",
              "    <tr>\n",
              "      <th>0</th>\n",
              "      <td>5.1</td>\n",
              "      <td>3.5</td>\n",
              "      <td>1.4</td>\n",
              "      <td>0.2</td>\n",
              "      <td>setosa</td>\n",
              "    </tr>\n",
              "    <tr>\n",
              "      <th>1</th>\n",
              "      <td>4.9</td>\n",
              "      <td>3.0</td>\n",
              "      <td>1.4</td>\n",
              "      <td>0.2</td>\n",
              "      <td>setosa</td>\n",
              "    </tr>\n",
              "    <tr>\n",
              "      <th>2</th>\n",
              "      <td>4.7</td>\n",
              "      <td>3.2</td>\n",
              "      <td>1.3</td>\n",
              "      <td>0.2</td>\n",
              "      <td>setosa</td>\n",
              "    </tr>\n",
              "    <tr>\n",
              "      <th>3</th>\n",
              "      <td>4.6</td>\n",
              "      <td>3.1</td>\n",
              "      <td>1.5</td>\n",
              "      <td>0.2</td>\n",
              "      <td>setosa</td>\n",
              "    </tr>\n",
              "    <tr>\n",
              "      <th>4</th>\n",
              "      <td>5.0</td>\n",
              "      <td>3.6</td>\n",
              "      <td>1.4</td>\n",
              "      <td>0.2</td>\n",
              "      <td>setosa</td>\n",
              "    </tr>\n",
              "    <tr>\n",
              "      <th>...</th>\n",
              "      <td>...</td>\n",
              "      <td>...</td>\n",
              "      <td>...</td>\n",
              "      <td>...</td>\n",
              "      <td>...</td>\n",
              "    </tr>\n",
              "    <tr>\n",
              "      <th>145</th>\n",
              "      <td>6.7</td>\n",
              "      <td>3.0</td>\n",
              "      <td>5.2</td>\n",
              "      <td>2.3</td>\n",
              "      <td>virginica</td>\n",
              "    </tr>\n",
              "    <tr>\n",
              "      <th>146</th>\n",
              "      <td>6.3</td>\n",
              "      <td>2.5</td>\n",
              "      <td>5.0</td>\n",
              "      <td>1.9</td>\n",
              "      <td>virginica</td>\n",
              "    </tr>\n",
              "    <tr>\n",
              "      <th>147</th>\n",
              "      <td>6.5</td>\n",
              "      <td>3.0</td>\n",
              "      <td>5.2</td>\n",
              "      <td>2.0</td>\n",
              "      <td>virginica</td>\n",
              "    </tr>\n",
              "    <tr>\n",
              "      <th>148</th>\n",
              "      <td>6.2</td>\n",
              "      <td>3.4</td>\n",
              "      <td>5.4</td>\n",
              "      <td>2.3</td>\n",
              "      <td>virginica</td>\n",
              "    </tr>\n",
              "    <tr>\n",
              "      <th>149</th>\n",
              "      <td>5.9</td>\n",
              "      <td>3.0</td>\n",
              "      <td>5.1</td>\n",
              "      <td>1.8</td>\n",
              "      <td>virginica</td>\n",
              "    </tr>\n",
              "  </tbody>\n",
              "</table>\n",
              "<p>150 rows × 5 columns</p>\n",
              "</div>\n",
              "    <div class=\"colab-df-buttons\">\n",
              "\n",
              "  <div class=\"colab-df-container\">\n",
              "    <button class=\"colab-df-convert\" onclick=\"convertToInteractive('df-11e99933-0c8a-450f-8143-c452205d06cf')\"\n",
              "            title=\"Convert this dataframe to an interactive table.\"\n",
              "            style=\"display:none;\">\n",
              "\n",
              "  <svg xmlns=\"http://www.w3.org/2000/svg\" height=\"24px\" viewBox=\"0 -960 960 960\">\n",
              "    <path d=\"M120-120v-720h720v720H120Zm60-500h600v-160H180v160Zm220 220h160v-160H400v160Zm0 220h160v-160H400v160ZM180-400h160v-160H180v160Zm440 0h160v-160H620v160ZM180-180h160v-160H180v160Zm440 0h160v-160H620v160Z\"/>\n",
              "  </svg>\n",
              "    </button>\n",
              "\n",
              "  <style>\n",
              "    .colab-df-container {\n",
              "      display:flex;\n",
              "      gap: 12px;\n",
              "    }\n",
              "\n",
              "    .colab-df-convert {\n",
              "      background-color: #E8F0FE;\n",
              "      border: none;\n",
              "      border-radius: 50%;\n",
              "      cursor: pointer;\n",
              "      display: none;\n",
              "      fill: #1967D2;\n",
              "      height: 32px;\n",
              "      padding: 0 0 0 0;\n",
              "      width: 32px;\n",
              "    }\n",
              "\n",
              "    .colab-df-convert:hover {\n",
              "      background-color: #E2EBFA;\n",
              "      box-shadow: 0px 1px 2px rgba(60, 64, 67, 0.3), 0px 1px 3px 1px rgba(60, 64, 67, 0.15);\n",
              "      fill: #174EA6;\n",
              "    }\n",
              "\n",
              "    .colab-df-buttons div {\n",
              "      margin-bottom: 4px;\n",
              "    }\n",
              "\n",
              "    [theme=dark] .colab-df-convert {\n",
              "      background-color: #3B4455;\n",
              "      fill: #D2E3FC;\n",
              "    }\n",
              "\n",
              "    [theme=dark] .colab-df-convert:hover {\n",
              "      background-color: #434B5C;\n",
              "      box-shadow: 0px 1px 3px 1px rgba(0, 0, 0, 0.15);\n",
              "      filter: drop-shadow(0px 1px 2px rgba(0, 0, 0, 0.3));\n",
              "      fill: #FFFFFF;\n",
              "    }\n",
              "  </style>\n",
              "\n",
              "    <script>\n",
              "      const buttonEl =\n",
              "        document.querySelector('#df-11e99933-0c8a-450f-8143-c452205d06cf button.colab-df-convert');\n",
              "      buttonEl.style.display =\n",
              "        google.colab.kernel.accessAllowed ? 'block' : 'none';\n",
              "\n",
              "      async function convertToInteractive(key) {\n",
              "        const element = document.querySelector('#df-11e99933-0c8a-450f-8143-c452205d06cf');\n",
              "        const dataTable =\n",
              "          await google.colab.kernel.invokeFunction('convertToInteractive',\n",
              "                                                    [key], {});\n",
              "        if (!dataTable) return;\n",
              "\n",
              "        const docLinkHtml = 'Like what you see? Visit the ' +\n",
              "          '<a target=\"_blank\" href=https://colab.research.google.com/notebooks/data_table.ipynb>data table notebook</a>'\n",
              "          + ' to learn more about interactive tables.';\n",
              "        element.innerHTML = '';\n",
              "        dataTable['output_type'] = 'display_data';\n",
              "        await google.colab.output.renderOutput(dataTable, element);\n",
              "        const docLink = document.createElement('div');\n",
              "        docLink.innerHTML = docLinkHtml;\n",
              "        element.appendChild(docLink);\n",
              "      }\n",
              "    </script>\n",
              "  </div>\n",
              "\n",
              "\n",
              "<div id=\"df-b00760b0-ebec-4b27-bcc6-a0478dee2d3c\">\n",
              "  <button class=\"colab-df-quickchart\" onclick=\"quickchart('df-b00760b0-ebec-4b27-bcc6-a0478dee2d3c')\"\n",
              "            title=\"Suggest charts\"\n",
              "            style=\"display:none;\">\n",
              "\n",
              "<svg xmlns=\"http://www.w3.org/2000/svg\" height=\"24px\"viewBox=\"0 0 24 24\"\n",
              "     width=\"24px\">\n",
              "    <g>\n",
              "        <path d=\"M19 3H5c-1.1 0-2 .9-2 2v14c0 1.1.9 2 2 2h14c1.1 0 2-.9 2-2V5c0-1.1-.9-2-2-2zM9 17H7v-7h2v7zm4 0h-2V7h2v10zm4 0h-2v-4h2v4z\"/>\n",
              "    </g>\n",
              "</svg>\n",
              "  </button>\n",
              "\n",
              "<style>\n",
              "  .colab-df-quickchart {\n",
              "      --bg-color: #E8F0FE;\n",
              "      --fill-color: #1967D2;\n",
              "      --hover-bg-color: #E2EBFA;\n",
              "      --hover-fill-color: #174EA6;\n",
              "      --disabled-fill-color: #AAA;\n",
              "      --disabled-bg-color: #DDD;\n",
              "  }\n",
              "\n",
              "  [theme=dark] .colab-df-quickchart {\n",
              "      --bg-color: #3B4455;\n",
              "      --fill-color: #D2E3FC;\n",
              "      --hover-bg-color: #434B5C;\n",
              "      --hover-fill-color: #FFFFFF;\n",
              "      --disabled-bg-color: #3B4455;\n",
              "      --disabled-fill-color: #666;\n",
              "  }\n",
              "\n",
              "  .colab-df-quickchart {\n",
              "    background-color: var(--bg-color);\n",
              "    border: none;\n",
              "    border-radius: 50%;\n",
              "    cursor: pointer;\n",
              "    display: none;\n",
              "    fill: var(--fill-color);\n",
              "    height: 32px;\n",
              "    padding: 0;\n",
              "    width: 32px;\n",
              "  }\n",
              "\n",
              "  .colab-df-quickchart:hover {\n",
              "    background-color: var(--hover-bg-color);\n",
              "    box-shadow: 0 1px 2px rgba(60, 64, 67, 0.3), 0 1px 3px 1px rgba(60, 64, 67, 0.15);\n",
              "    fill: var(--button-hover-fill-color);\n",
              "  }\n",
              "\n",
              "  .colab-df-quickchart-complete:disabled,\n",
              "  .colab-df-quickchart-complete:disabled:hover {\n",
              "    background-color: var(--disabled-bg-color);\n",
              "    fill: var(--disabled-fill-color);\n",
              "    box-shadow: none;\n",
              "  }\n",
              "\n",
              "  .colab-df-spinner {\n",
              "    border: 2px solid var(--fill-color);\n",
              "    border-color: transparent;\n",
              "    border-bottom-color: var(--fill-color);\n",
              "    animation:\n",
              "      spin 1s steps(1) infinite;\n",
              "  }\n",
              "\n",
              "  @keyframes spin {\n",
              "    0% {\n",
              "      border-color: transparent;\n",
              "      border-bottom-color: var(--fill-color);\n",
              "      border-left-color: var(--fill-color);\n",
              "    }\n",
              "    20% {\n",
              "      border-color: transparent;\n",
              "      border-left-color: var(--fill-color);\n",
              "      border-top-color: var(--fill-color);\n",
              "    }\n",
              "    30% {\n",
              "      border-color: transparent;\n",
              "      border-left-color: var(--fill-color);\n",
              "      border-top-color: var(--fill-color);\n",
              "      border-right-color: var(--fill-color);\n",
              "    }\n",
              "    40% {\n",
              "      border-color: transparent;\n",
              "      border-right-color: var(--fill-color);\n",
              "      border-top-color: var(--fill-color);\n",
              "    }\n",
              "    60% {\n",
              "      border-color: transparent;\n",
              "      border-right-color: var(--fill-color);\n",
              "    }\n",
              "    80% {\n",
              "      border-color: transparent;\n",
              "      border-right-color: var(--fill-color);\n",
              "      border-bottom-color: var(--fill-color);\n",
              "    }\n",
              "    90% {\n",
              "      border-color: transparent;\n",
              "      border-bottom-color: var(--fill-color);\n",
              "    }\n",
              "  }\n",
              "</style>\n",
              "\n",
              "  <script>\n",
              "    async function quickchart(key) {\n",
              "      const quickchartButtonEl =\n",
              "        document.querySelector('#' + key + ' button');\n",
              "      quickchartButtonEl.disabled = true;  // To prevent multiple clicks.\n",
              "      quickchartButtonEl.classList.add('colab-df-spinner');\n",
              "      try {\n",
              "        const charts = await google.colab.kernel.invokeFunction(\n",
              "            'suggestCharts', [key], {});\n",
              "      } catch (error) {\n",
              "        console.error('Error during call to suggestCharts:', error);\n",
              "      }\n",
              "      quickchartButtonEl.classList.remove('colab-df-spinner');\n",
              "      quickchartButtonEl.classList.add('colab-df-quickchart-complete');\n",
              "    }\n",
              "    (() => {\n",
              "      let quickchartButtonEl =\n",
              "        document.querySelector('#df-b00760b0-ebec-4b27-bcc6-a0478dee2d3c button');\n",
              "      quickchartButtonEl.style.display =\n",
              "        google.colab.kernel.accessAllowed ? 'block' : 'none';\n",
              "    })();\n",
              "  </script>\n",
              "</div>\n",
              "\n",
              "  <div id=\"id_665dae03-462d-4ff8-8bfe-3c04ade5f133\">\n",
              "    <style>\n",
              "      .colab-df-generate {\n",
              "        background-color: #E8F0FE;\n",
              "        border: none;\n",
              "        border-radius: 50%;\n",
              "        cursor: pointer;\n",
              "        display: none;\n",
              "        fill: #1967D2;\n",
              "        height: 32px;\n",
              "        padding: 0 0 0 0;\n",
              "        width: 32px;\n",
              "      }\n",
              "\n",
              "      .colab-df-generate:hover {\n",
              "        background-color: #E2EBFA;\n",
              "        box-shadow: 0px 1px 2px rgba(60, 64, 67, 0.3), 0px 1px 3px 1px rgba(60, 64, 67, 0.15);\n",
              "        fill: #174EA6;\n",
              "      }\n",
              "\n",
              "      [theme=dark] .colab-df-generate {\n",
              "        background-color: #3B4455;\n",
              "        fill: #D2E3FC;\n",
              "      }\n",
              "\n",
              "      [theme=dark] .colab-df-generate:hover {\n",
              "        background-color: #434B5C;\n",
              "        box-shadow: 0px 1px 3px 1px rgba(0, 0, 0, 0.15);\n",
              "        filter: drop-shadow(0px 1px 2px rgba(0, 0, 0, 0.3));\n",
              "        fill: #FFFFFF;\n",
              "      }\n",
              "    </style>\n",
              "    <button class=\"colab-df-generate\" onclick=\"generateWithVariable('iris')\"\n",
              "            title=\"Generate code using this dataframe.\"\n",
              "            style=\"display:none;\">\n",
              "\n",
              "  <svg xmlns=\"http://www.w3.org/2000/svg\" height=\"24px\"viewBox=\"0 0 24 24\"\n",
              "       width=\"24px\">\n",
              "    <path d=\"M7,19H8.4L18.45,9,17,7.55,7,17.6ZM5,21V16.75L18.45,3.32a2,2,0,0,1,2.83,0l1.4,1.43a1.91,1.91,0,0,1,.58,1.4,1.91,1.91,0,0,1-.58,1.4L9.25,21ZM18.45,9,17,7.55Zm-12,3A5.31,5.31,0,0,0,4.9,8.1,5.31,5.31,0,0,0,1,6.5,5.31,5.31,0,0,0,4.9,4.9,5.31,5.31,0,0,0,6.5,1,5.31,5.31,0,0,0,8.1,4.9,5.31,5.31,0,0,0,12,6.5,5.46,5.46,0,0,0,6.5,12Z\"/>\n",
              "  </svg>\n",
              "    </button>\n",
              "    <script>\n",
              "      (() => {\n",
              "      const buttonEl =\n",
              "        document.querySelector('#id_665dae03-462d-4ff8-8bfe-3c04ade5f133 button.colab-df-generate');\n",
              "      buttonEl.style.display =\n",
              "        google.colab.kernel.accessAllowed ? 'block' : 'none';\n",
              "\n",
              "      buttonEl.onclick = () => {\n",
              "        google.colab.notebook.generateWithVariable('iris');\n",
              "      }\n",
              "      })();\n",
              "    </script>\n",
              "  </div>\n",
              "\n",
              "    </div>\n",
              "  </div>\n"
            ],
            "application/vnd.google.colaboratory.intrinsic+json": {
              "type": "dataframe",
              "variable_name": "iris",
              "summary": "{\n  \"name\": \"iris\",\n  \"rows\": 150,\n  \"fields\": [\n    {\n      \"column\": \"sepal_length\",\n      \"properties\": {\n        \"dtype\": \"number\",\n        \"std\": 0.828066127977863,\n        \"min\": 4.3,\n        \"max\": 7.9,\n        \"samples\": [\n          6.2,\n          4.5,\n          5.6\n        ],\n        \"num_unique_values\": 35,\n        \"semantic_type\": \"\",\n        \"description\": \"\"\n      }\n    },\n    {\n      \"column\": \"sepal_width\",\n      \"properties\": {\n        \"dtype\": \"number\",\n        \"std\": 0.4358662849366982,\n        \"min\": 2.0,\n        \"max\": 4.4,\n        \"samples\": [\n          2.3,\n          4.0,\n          3.5\n        ],\n        \"num_unique_values\": 23,\n        \"semantic_type\": \"\",\n        \"description\": \"\"\n      }\n    },\n    {\n      \"column\": \"petal_length\",\n      \"properties\": {\n        \"dtype\": \"number\",\n        \"std\": 1.7652982332594662,\n        \"min\": 1.0,\n        \"max\": 6.9,\n        \"samples\": [\n          6.7,\n          3.8,\n          3.7\n        ],\n        \"num_unique_values\": 43,\n        \"semantic_type\": \"\",\n        \"description\": \"\"\n      }\n    },\n    {\n      \"column\": \"petal_width\",\n      \"properties\": {\n        \"dtype\": \"number\",\n        \"std\": 0.7622376689603465,\n        \"min\": 0.1,\n        \"max\": 2.5,\n        \"samples\": [\n          0.2,\n          1.2,\n          1.3\n        ],\n        \"num_unique_values\": 22,\n        \"semantic_type\": \"\",\n        \"description\": \"\"\n      }\n    },\n    {\n      \"column\": \"species\",\n      \"properties\": {\n        \"dtype\": \"category\",\n        \"samples\": [\n          \"setosa\",\n          \"versicolor\",\n          \"virginica\"\n        ],\n        \"num_unique_values\": 3,\n        \"semantic_type\": \"\",\n        \"description\": \"\"\n      }\n    }\n  ]\n}"
            }
          },
          "metadata": {},
          "execution_count": 60
        }
      ]
    },
    {
      "cell_type": "code",
      "source": [
        "type(iris)"
      ],
      "metadata": {
        "colab": {
          "base_uri": "https://localhost:8080/"
        },
        "id": "rYD-qfatmHE6",
        "outputId": "d2b0d1a2-4933-4d57-8139-993adc0e6e6c"
      },
      "execution_count": 61,
      "outputs": [
        {
          "output_type": "execute_result",
          "data": {
            "text/plain": [
              "pandas.core.frame.DataFrame"
            ]
          },
          "metadata": {},
          "execution_count": 61
        }
      ]
    },
    {
      "cell_type": "code",
      "source": [
        "x = iris.sepal_length\n",
        "y = iris.petal_length"
      ],
      "metadata": {
        "id": "PGBeODk2mK0z"
      },
      "execution_count": 62,
      "outputs": []
    },
    {
      "cell_type": "code",
      "source": [
        "_ = sns.scatterplot(x=x,y=y)"
      ],
      "metadata": {
        "colab": {
          "base_uri": "https://localhost:8080/",
          "height": 458
        },
        "id": "u_FYnJVZm7An",
        "outputId": "a04ea745-d2c3-47ae-bbe9-ecbf04eeac39"
      },
      "execution_count": 63,
      "outputs": [
        {
          "output_type": "display_data",
          "data": {
            "text/plain": [
              "<Figure size 640x480 with 1 Axes>"
            ],
            "image/png": "[encoded data removed]"
          },
          "metadata": {}
        }
      ]
    },
    {
      "cell_type": "code",
      "source": [
        "n = len(x)\n",
        "n"
      ],
      "metadata": {
        "colab": {
          "base_uri": "https://localhost:8080/"
        },
        "id": "OSq63MhHnA21",
        "outputId": "c759e631-df0c-4263-e711-59aa63495172"
      },
      "execution_count": 64,
      "outputs": [
        {
          "output_type": "execute_result",
          "data": {
            "text/plain": [
              "150"
            ]
          },
          "metadata": {},
          "execution_count": 64
        }
      ]
    },
    {
      "cell_type": "code",
      "source": [
        "xbar = sum(x)/n\n",
        "ybar = sum(y)/n"
      ],
      "metadata": {
        "id": "QQiMfCvnnQvJ"
      },
      "execution_count": 65,
      "outputs": []
    },
    {
      "cell_type": "code",
      "source": [
        "cov = []\n",
        "for nm in range(n):\n",
        "  cov.append((y[nm]-ybar)*(x[nm]-xbar))"
      ],
      "metadata": {
        "id": "As5NnJwxnX6j"
      },
      "execution_count": 66,
      "outputs": []
    },
    {
      "cell_type": "code",
      "source": [
        "covariance = sum(cov)/n\n",
        "covariance"
      ],
      "metadata": {
        "colab": {
          "base_uri": "https://localhost:8080/"
        },
        "id": "MTucNtU1oT1c",
        "outputId": "5426f074-46f1-4fcf-c5c5-178d44f28898"
      },
      "execution_count": 67,
      "outputs": [
        {
          "output_type": "execute_result",
          "data": {
            "text/plain": [
              "1.2658199999999995"
            ]
          },
          "metadata": {},
          "execution_count": 67
        }
      ]
    },
    {
      "cell_type": "markdown",
      "source": [
        "## The Numpy cov() method returns covariance matrix, 2 x 2, bcz x and y together describes a 2d space:"
      ],
      "metadata": {
        "id": "agFUM5CbpFTm"
      }
    },
    {
      "cell_type": "code",
      "source": [
        "np.cov(x,y,ddof=0)"
      ],
      "metadata": {
        "colab": {
          "base_uri": "https://localhost:8080/"
        },
        "id": "pmBu3AIDoVG4",
        "outputId": "cf491d43-5653-4561-bae7-2d9ab588a94f"
      },
      "execution_count": 68,
      "outputs": [
        {
          "output_type": "execute_result",
          "data": {
            "text/plain": [
              "array([[0.68112222, 1.26582   ],\n",
              "       [1.26582   , 3.09550267]])"
            ]
          },
          "metadata": {},
          "execution_count": 68
        }
      ]
    },
    {
      "cell_type": "markdown",
      "source": [
        "### The diagonal elemnts,,, represent the variance of x and y respectively"
      ],
      "metadata": {
        "id": "Vn8pyoQ5pwpV"
      }
    },
    {
      "cell_type": "code",
      "source": [
        "np.var(x)"
      ],
      "metadata": {
        "colab": {
          "base_uri": "https://localhost:8080/"
        },
        "id": "QRFUk8FSpiRh",
        "outputId": "97e14eee-3f4f-4727-bf11-94d10f832edf"
      },
      "execution_count": 69,
      "outputs": [
        {
          "output_type": "execute_result",
          "data": {
            "text/plain": [
              "0.6811222222222223"
            ]
          },
          "metadata": {},
          "execution_count": 69
        }
      ]
    },
    {
      "cell_type": "code",
      "source": [
        "np.var(y)"
      ],
      "metadata": {
        "colab": {
          "base_uri": "https://localhost:8080/"
        },
        "id": "FWeljIU9qCkv",
        "outputId": "31df2d07-8014-4f4f-b306-9ce64bb86658"
      },
      "execution_count": 70,
      "outputs": [
        {
          "output_type": "execute_result",
          "data": {
            "text/plain": [
              "3.0955026666666665"
            ]
          },
          "metadata": {},
          "execution_count": 70
        }
      ]
    },
    {
      "cell_type": "markdown",
      "source": [
        "If covariance is positive it means there is a directly proportional relation bw them. if its negative, it means they are inversely proportional.\n",
        "### the less related they are, the closer their variance is to zero"
      ],
      "metadata": {
        "id": "J3JVaJCuqupG"
      }
    },
    {
      "cell_type": "code",
      "source": [
        "_ = sns.scatterplot(x=iris.sepal_length,y= iris.sepal_width)"
      ],
      "metadata": {
        "colab": {
          "base_uri": "https://localhost:8080/",
          "height": 461
        },
        "id": "39KAvQaBqDXk",
        "outputId": "c2b6c7ad-01b2-41c5-800d-636d341e1cd3"
      },
      "execution_count": 71,
      "outputs": [
        {
          "output_type": "display_data",
          "data": {
            "text/plain": [
              "<Figure size 640x480 with 1 Axes>"
            ],
            "image/png": "[encoded data removed]"
          },
          "metadata": {}
        }
      ]
    },
    {
      "cell_type": "code",
      "source": [
        "np.cov(iris.sepal_length, iris.sepal_width)"
      ],
      "metadata": {
        "colab": {
          "base_uri": "https://localhost:8080/"
        },
        "id": "d2o_UvG9rIum",
        "outputId": "bbbadf73-b9ec-4e8f-f6e3-06965c440683"
      },
      "execution_count": 72,
      "outputs": [
        {
          "output_type": "execute_result",
          "data": {
            "text/plain": [
              "array([[ 0.68569351, -0.042434  ],\n",
              "       [-0.042434  ,  0.18997942]])"
            ]
          },
          "metadata": {},
          "execution_count": 72
        }
      ]
    },
    {
      "cell_type": "markdown",
      "source": [
        "##**Corelation**"
      ],
      "metadata": {
        "id": "o0ooKz7Jt2Ba"
      }
    },
    {
      "cell_type": "markdown",
      "source": [
        "A drawback of covariance is that it confounds the relative scale of two variables with a measure of the variables' relatedness. **Correlation** builds on covariance and overcomes this drawback via rescaling, thereby measuring relatedness exclusively. Correlation is much more common because of this difference.\n",
        "\n",
        "The correlation coefficient (developed by Karl Pearson in the 20th c. though known in the 19th c.) is often denoted with $r$ or $\\rho$ and is defined by:\n",
        "$$ \\rho_{x,y} = \\frac{\\text{cov}(x,y)}{\\sigma_x \\sigma_y} $$"
      ],
      "metadata": {
        "id": "IsFHU4Fnt4ot"
      }
    },
    {
      "cell_type": "code",
      "source": [
        "covar = -0.0424\n",
        "sigma_x = 0.68569\n",
        "sigma_y = 0.18998"
      ],
      "metadata": {
        "id": "nwD17vK_rmfK"
      },
      "execution_count": 73,
      "outputs": []
    },
    {
      "cell_type": "code",
      "source": [
        "xvar = sigma_x**(1/2)\n",
        "yvar = sigma_y **(1/2)"
      ],
      "metadata": {
        "id": "Hj9xhcfzugZk"
      },
      "execution_count": 74,
      "outputs": []
    },
    {
      "cell_type": "code",
      "source": [
        "covar/(xvar*yvar)"
      ],
      "metadata": {
        "colab": {
          "base_uri": "https://localhost:8080/"
        },
        "id": "ElyS--5IuoZZ",
        "outputId": "5d6e3f38-9be9-4bda-db03-e7c962ffbe37"
      },
      "execution_count": 75,
      "outputs": [
        {
          "output_type": "execute_result",
          "data": {
            "text/plain": [
              "-0.1174756906641919"
            ]
          },
          "metadata": {},
          "execution_count": 75
        }
      ]
    },
    {
      "cell_type": "code",
      "source": [
        "st.pearsonr(iris.sepal_length,iris.sepal_width)"
      ],
      "metadata": {
        "colab": {
          "base_uri": "https://localhost:8080/"
        },
        "id": "AY5CuAd1uq1t",
        "outputId": "f022b98b-df65-471a-8bd4-f62b0472cc13"
      },
      "execution_count": 76,
      "outputs": [
        {
          "output_type": "execute_result",
          "data": {
            "text/plain": [
              "PearsonRResult(statistic=-0.11756978413300206, pvalue=0.15189826071144746)"
            ]
          },
          "metadata": {},
          "execution_count": 76
        }
      ]
    },
    {
      "cell_type": "code",
      "source": [
        "st.pearsonr(iris.sepal_length,iris.petal_length)[0]"
      ],
      "metadata": {
        "colab": {
          "base_uri": "https://localhost:8080/"
        },
        "id": "87FM6NfLvNb9",
        "outputId": "0419ed55-184f-40a1-ad62-33484e5cde17"
      },
      "execution_count": 77,
      "outputs": [
        {
          "output_type": "execute_result",
          "data": {
            "text/plain": [
              "0.8717537758865831"
            ]
          },
          "metadata": {},
          "execution_count": 77
        }
      ]
    },
    {
      "cell_type": "markdown",
      "source": [
        "The strongest correlation possible is 1"
      ],
      "metadata": {
        "id": "U8eO8GMnwO19"
      }
    },
    {
      "cell_type": "markdown",
      "source": [
        "### N.B\n",
        "Covariance and correlation only account for linear relationships. Two variables could be non-linearly related to each other and these metrics could come out to zero."
      ],
      "metadata": {
        "id": "XD5NifA-wctQ"
      }
    },
    {
      "cell_type": "markdown",
      "source": [
        "#**Distributions in ML**"
      ],
      "metadata": {
        "id": "GuZakK2CtRDZ"
      }
    },
    {
      "cell_type": "markdown",
      "source": [
        "##**Uniform**"
      ],
      "metadata": {
        "id": "jnXr2RkFtdaV"
      }
    },
    {
      "cell_type": "markdown",
      "source": [
        "The uniform distribution is about as straightforward as they come. It has constant probabilities across the entire range of values in its domain."
      ],
      "metadata": {
        "id": "qHaK13NHtfHK"
      }
    },
    {
      "cell_type": "code",
      "source": [
        "u = np.random.uniform(size=100000)\n",
        "sns.set_style('ticks')\n"
      ],
      "metadata": {
        "id": "-hV1Vf4DwNrJ"
      },
      "execution_count": 80,
      "outputs": []
    },
    {
      "cell_type": "code",
      "source": [
        "_ = sns.displot(u)"
      ],
      "metadata": {
        "colab": {
          "base_uri": "https://localhost:8080/",
          "height": 501
        },
        "id": "tp-FEepqt_Fv",
        "outputId": "ae5d5f44-bd68-41e0-8410-6df972ca8d0d"
      },
      "execution_count": 81,
      "outputs": [
        {
          "output_type": "display_data",
          "data": {
            "text/plain": [
              "<Figure size 500x500 with 1 Axes>"
            ],
            "image/png": "[encoded data removed]"
          },
          "metadata": {}
        }
      ]
    },
    {
      "cell_type": "markdown",
      "source": [
        "##**Guassian**"
      ],
      "metadata": {
        "id": "yvuxeDffv6b7"
      }
    },
    {
      "cell_type": "markdown",
      "source": [
        "Carl Friedrich Gauss (early 19th c. German mathematician and scientist) is the namesake of over a hundred concepts across mathematics, physics, and astronomy. One of those concepts is the Gaussian distribution, also known as the \"bell curve\" (though several distributions are bell-shaped) or **normal distribution**:"
      ],
      "metadata": {
        "id": "TXPv8SCIv9zc"
      }
    },
    {
      "cell_type": "code",
      "source": [
        "x = np.random.normal(size=10000)"
      ],
      "metadata": {
        "id": "gnnfcMw6uGBB"
      },
      "execution_count": 82,
      "outputs": []
    },
    {
      "cell_type": "code",
      "source": [
        "_ = sns.displot(x)"
      ],
      "metadata": {
        "colab": {
          "base_uri": "https://localhost:8080/",
          "height": 501
        },
        "id": "CZAaAWl4wCHk",
        "outputId": "eb66795a-1fae-41a4-ba8e-c7bdd66c9a8e"
      },
      "execution_count": 83,
      "outputs": [
        {
          "output_type": "display_data",
          "data": {
            "text/plain": [
              "<Figure size 500x500 with 1 Axes>"
            ],
            "image/png": "[encoded data removed]"
          },
          "metadata": {}
        }
      ]
    },
    {
      "cell_type": "code",
      "source": [
        "_ = sns.displot(x,kde=True)"
      ],
      "metadata": {
        "colab": {
          "base_uri": "https://localhost:8080/",
          "height": 501
        },
        "id": "IvYXOJB9wFb3",
        "outputId": "4487603a-a0c6-4f29-db35-024c5d8350e5"
      },
      "execution_count": 84,
      "outputs": [
        {
          "output_type": "display_data",
          "data": {
            "text/plain": [
              "<Figure size 500x500 with 1 Axes>"
            ],
            "image/png": "[encoded data removed]"
          },
          "metadata": {}
        }
      ]
    },
    {
      "cell_type": "markdown",
      "source": [
        "When the normal distribution has a mean of zero and standard deviation of 1, as it does by default with Numpy normal() method....."
      ],
      "metadata": {
        "id": "-EM28iHgwlGQ"
      }
    },
    {
      "cell_type": "code",
      "source": [
        "np.mean(x)"
      ],
      "metadata": {
        "colab": {
          "base_uri": "https://localhost:8080/"
        },
        "id": "b1RgHEWJwQCd",
        "outputId": "fc018901-d38a-453b-80d7-5b756efe5cca"
      },
      "execution_count": 85,
      "outputs": [
        {
          "output_type": "execute_result",
          "data": {
            "text/plain": [
              "-0.0070174286891629915"
            ]
          },
          "metadata": {},
          "execution_count": 85
        }
      ]
    },
    {
      "cell_type": "code",
      "source": [
        "np.std(x)"
      ],
      "metadata": {
        "colab": {
          "base_uri": "https://localhost:8080/"
        },
        "id": "Qz3jEhQ1w0yI",
        "outputId": "53fb44ab-b24d-4307-835d-de221b5165c1"
      },
      "execution_count": 86,
      "outputs": [
        {
          "output_type": "execute_result",
          "data": {
            "text/plain": [
              "0.9970268877387939"
            ]
          },
          "metadata": {},
          "execution_count": 86
        }
      ]
    },
    {
      "cell_type": "markdown",
      "source": [
        "...... it is a **Standard normal distribution** (aka standard guassian distribution) Normal distributions can be denoted with the *math calligraphy* font as $\\mathcal{N}(\\mu, \\sigma^2)$, thus the standard normal distribution can be denoted as $\\mathcal{N}(0, 1)$.\n",
        "\n",
        "(N.B.: $\\sigma^2 = \\sigma$ in this case because $1^2 = 1$.)"
      ],
      "metadata": {
        "id": "YZ1dmyQ-xCPI"
      }
    },
    {
      "cell_type": "markdown",
      "source": [
        "Normal distributions are by far the most common distribution in statistics and machine learning. They are typically the default option, particularly if you have limited information about the random process you're modeling, because:\n",
        "\n",
        "1. Normal distributions assume the greatest possible uncertainty about the random variable they represent (relative to any other distribution of equivalent variance). Details of this are beyond the scope of this tutorial.\n",
        "2. Simple and very complex random processes alike are, under all common conditions, normally distributed when we sample values from the process. Since we sample data for statistical and machine learning models alike, this so-called **central limit theorem** (covered next) is a critically important concept."
      ],
      "metadata": {
        "id": "oF0x4F7dyV1E"
      }
    },
    {
      "cell_type": "markdown",
      "source": [
        "Real-world examples include:\n",
        "\n",
        "* Probability of heads across *n* tosses (PMF; $n = 5$ earlier, $n = 100$ below)\n",
        "* Sum of di(c)e rolls (PMF)\n",
        "* Height of adult women\n",
        "* Height of adult men\n",
        "* Education test scores, e.g., SAT"
      ],
      "metadata": {
        "id": "Oq-0R4OvyWy7"
      }
    },
    {
      "cell_type": "code",
      "source": [
        "n_exp = 10000\n",
        "heads_count = [np.random.binomial(100,0.5) for i in range(n_exp)]\n",
        "heads_count"
      ],
      "metadata": {
        "colab": {
          "base_uri": "https://localhost:8080/"
        },
        "id": "SnccjbLuw4BU",
        "outputId": "91a36030-0169-41dc-83f0-6f52a3ff27d9"
      },
      "execution_count": 87,
      "outputs": [
        {
          "output_type": "execute_result",
          "data": {
            "text/plain": [
              "[43,\n",
              " 54,\n",
              " 46,\n",
              " 58,\n",
              " 58,\n",
              " 58,\n",
              " 42,\n",
              " 47,\n",
              " 44,\n",
              " 43,\n",
              " 48,\n",
              " 45,\n",
              " 53,\n",
              " 55,\n",
              " 56,\n",
              " 40,\n",
              " 53,\n",
              " 49,\n",
              " 58,\n",
              " 52,\n",
              " 48,\n",
              " 49,\n",
              " 50,\n",
              " 44,\n",
              " 48,\n",
              " 44,\n",
              " 60,\n",
              " 48,\n",
              " 46,\n",
              " 53,\n",
              " 37,\n",
              " 49,\n",
              " 46,\n",
              " 45,\n",
              " 53,\n",
              " 47,\n",
              " 50,\n",
              " 44,\n",
              " 54,\n",
              " 53,\n",
              " 41,\n",
              " 53,\n",
              " 52,\n",
              " 48,\n",
              " 58,\n",
              " 55,\n",
              " 51,\n",
              " 59,\n",
              " 58,\n",
              " 41,\n",
              " 50,\n",
              " 53,\n",
              " 48,\n",
              " 52,\n",
              " 41,\n",
              " 55,\n",
              " 47,\n",
              " 56,\n",
              " 57,\n",
              " 43,\n",
              " 55,\n",
              " 44,\n",
              " 53,\n",
              " 40,\n",
              " 44,\n",
              " 47,\n",
              " 53,\n",
              " 54,\n",
              " 49,\n",
              " 54,\n",
              " 53,\n",
              " 40,\n",
              " 58,\n",
              " 47,\n",
              " 43,\n",
              " 52,\n",
              " 47,\n",
              " 51,\n",
              " 49,\n",
              " 54,\n",
              " 55,\n",
              " 48,\n",
              " 55,\n",
              " 56,\n",
              " 49,\n",
              " 49,\n",
              " 45,\n",
              " 56,\n",
              " 61,\n",
              " 58,\n",
              " 49,\n",
              " 54,\n",
              " 47,\n",
              " 46,\n",
              " 54,\n",
              " 48,\n",
              " 49,\n",
              " 52,\n",
              " 48,\n",
              " 61,\n",
              " 51,\n",
              " 52,\n",
              " 52,\n",
              " 51,\n",
              " 52,\n",
              " 48,\n",
              " 48,\n",
              " 40,\n",
              " 51,\n",
              " 49,\n",
              " 47,\n",
              " 43,\n",
              " 50,\n",
              " 52,\n",
              " 56,\n",
              " 55,\n",
              " 53,\n",
              " 49,\n",
              " 52,\n",
              " 51,\n",
              " 54,\n",
              " 54,\n",
              " 42,\n",
              " 50,\n",
              " 39,\n",
              " 49,\n",
              " 51,\n",
              " 47,\n",
              " 54,\n",
              " 53,\n",
              " 49,\n",
              " 49,\n",
              " 55,\n",
              " 51,\n",
              " 53,\n",
              " 50,\n",
              " 50,\n",
              " 45,\n",
              " 57,\n",
              " 57,\n",
              " 54,\n",
              " 49,\n",
              " 57,\n",
              " 48,\n",
              " 52,\n",
              " 49,\n",
              " 56,\n",
              " 58,\n",
              " 50,\n",
              " 52,\n",
              " 50,\n",
              " 45,\n",
              " 49,\n",
              " 43,\n",
              " 48,\n",
              " 53,\n",
              " 52,\n",
              " 45,\n",
              " 47,\n",
              " 50,\n",
              " 54,\n",
              " 44,\n",
              " 53,\n",
              " 51,\n",
              " 51,\n",
              " 50,\n",
              " 50,\n",
              " 47,\n",
              " 56,\n",
              " 56,\n",
              " 44,\n",
              " 54,\n",
              " 46,\n",
              " 56,\n",
              " 51,\n",
              " 48,\n",
              " 41,\n",
              " 54,\n",
              " 49,\n",
              " 55,\n",
              " 42,\n",
              " 46,\n",
              " 44,\n",
              " 45,\n",
              " 43,\n",
              " 63,\n",
              " 45,\n",
              " 49,\n",
              " 45,\n",
              " 48,\n",
              " 48,\n",
              " 54,\n",
              " 57,\n",
              " 55,\n",
              " 50,\n",
              " 51,\n",
              " 47,\n",
              " 61,\n",
              " 51,\n",
              " 53,\n",
              " 49,\n",
              " 49,\n",
              " 47,\n",
              " 55,\n",
              " 53,\n",
              " 44,\n",
              " 52,\n",
              " 40,\n",
              " 56,\n",
              " 55,\n",
              " 44,\n",
              " 47,\n",
              " 54,\n",
              " 47,\n",
              " 56,\n",
              " 48,\n",
              " 57,\n",
              " 49,\n",
              " 52,\n",
              " 54,\n",
              " 51,\n",
              " 53,\n",
              " 48,\n",
              " 47,\n",
              " 55,\n",
              " 50,\n",
              " 48,\n",
              " 49,\n",
              " 45,\n",
              " 57,\n",
              " 52,\n",
              " 51,\n",
              " 59,\n",
              " 57,\n",
              " 43,\n",
              " 47,\n",
              " 58,\n",
              " 53,\n",
              " 45,\n",
              " 56,\n",
              " 44,\n",
              " 48,\n",
              " 55,\n",
              " 47,\n",
              " 40,\n",
              " 54,\n",
              " 54,\n",
              " 44,\n",
              " 47,\n",
              " 49,\n",
              " 53,\n",
              " 45,\n",
              " 41,\n",
              " 39,\n",
              " 51,\n",
              " 47,\n",
              " 53,\n",
              " 67,\n",
              " 48,\n",
              " 52,\n",
              " 57,\n",
              " 58,\n",
              " 43,\n",
              " 53,\n",
              " 51,\n",
              " 46,\n",
              " 51,\n",
              " 55,\n",
              " 54,\n",
              " 52,\n",
              " 53,\n",
              " 41,\n",
              " 47,\n",
              " 43,\n",
              " 49,\n",
              " 52,\n",
              " 52,\n",
              " 50,\n",
              " 50,\n",
              " 48,\n",
              " 44,\n",
              " 60,\n",
              " 50,\n",
              " 50,\n",
              " 39,\n",
              " 56,\n",
              " 52,\n",
              " 58,\n",
              " 63,\n",
              " 50,\n",
              " 47,\n",
              " 49,\n",
              " 53,\n",
              " 46,\n",
              " 49,\n",
              " 52,\n",
              " 52,\n",
              " 59,\n",
              " 45,\n",
              " 45,\n",
              " 48,\n",
              " 52,\n",
              " 48,\n",
              " 45,\n",
              " 56,\n",
              " 44,\n",
              " 59,\n",
              " 42,\n",
              " 49,\n",
              " 51,\n",
              " 49,\n",
              " 42,\n",
              " 50,\n",
              " 50,\n",
              " 44,\n",
              " 54,\n",
              " 58,\n",
              " 54,\n",
              " 50,\n",
              " 47,\n",
              " 57,\n",
              " 56,\n",
              " 51,\n",
              " 57,\n",
              " 49,\n",
              " 47,\n",
              " 45,\n",
              " 53,\n",
              " 45,\n",
              " 39,\n",
              " 50,\n",
              " 50,\n",
              " 50,\n",
              " 49,\n",
              " 47,\n",
              " 41,\n",
              " 51,\n",
              " 48,\n",
              " 57,\n",
              " 49,\n",
              " 43,\n",
              " 46,\n",
              " 52,\n",
              " 45,\n",
              " 54,\n",
              " 45,\n",
              " 47,\n",
              " 52,\n",
              " 55,\n",
              " 50,\n",
              " 50,\n",
              " 42,\n",
              " 42,\n",
              " 56,\n",
              " 53,\n",
              " 53,\n",
              " 52,\n",
              " 49,\n",
              " 47,\n",
              " 51,\n",
              " 44,\n",
              " 46,\n",
              " 50,\n",
              " 48,\n",
              " 47,\n",
              " 48,\n",
              " 54,\n",
              " 40,\n",
              " 46,\n",
              " 52,\n",
              " 49,\n",
              " 48,\n",
              " 45,\n",
              " 51,\n",
              " 50,\n",
              " 45,\n",
              " 53,\n",
              " 56,\n",
              " 46,\n",
              " 55,\n",
              " 46,\n",
              " 49,\n",
              " 52,\n",
              " 49,\n",
              " 52,\n",
              " 48,\n",
              " 65,\n",
              " 51,\n",
              " 50,\n",
              " 58,\n",
              " 55,\n",
              " 52,\n",
              " 50,\n",
              " 40,\n",
              " 54,\n",
              " 48,\n",
              " 51,\n",
              " 46,\n",
              " 45,\n",
              " 44,\n",
              " 53,\n",
              " 51,\n",
              " 58,\n",
              " 48,\n",
              " 52,\n",
              " 46,\n",
              " 50,\n",
              " 42,\n",
              " 51,\n",
              " 43,\n",
              " 48,\n",
              " 46,\n",
              " 37,\n",
              " 47,\n",
              " 49,\n",
              " 47,\n",
              " 46,\n",
              " 39,\n",
              " 48,\n",
              " 58,\n",
              " 57,\n",
              " 47,\n",
              " 53,\n",
              " 58,\n",
              " 52,\n",
              " 49,\n",
              " 53,\n",
              " 53,\n",
              " 46,\n",
              " 45,\n",
              " 45,\n",
              " 53,\n",
              " 46,\n",
              " 53,\n",
              " 44,\n",
              " 53,\n",
              " 47,\n",
              " 48,\n",
              " 48,\n",
              " 52,\n",
              " 56,\n",
              " 51,\n",
              " 52,\n",
              " 40,\n",
              " 57,\n",
              " 49,\n",
              " 44,\n",
              " 48,\n",
              " 43,\n",
              " 50,\n",
              " 57,\n",
              " 49,\n",
              " 55,\n",
              " 52,\n",
              " 46,\n",
              " 45,\n",
              " 48,\n",
              " 53,\n",
              " 64,\n",
              " 43,\n",
              " 56,\n",
              " 52,\n",
              " 54,\n",
              " 57,\n",
              " 58,\n",
              " 47,\n",
              " 48,\n",
              " 46,\n",
              " 47,\n",
              " 51,\n",
              " 46,\n",
              " 60,\n",
              " 57,\n",
              " 48,\n",
              " 42,\n",
              " 44,\n",
              " 51,\n",
              " 54,\n",
              " 46,\n",
              " 53,\n",
              " 49,\n",
              " 48,\n",
              " 38,\n",
              " 61,\n",
              " 54,\n",
              " 52,\n",
              " 51,\n",
              " 46,\n",
              " 52,\n",
              " 50,\n",
              " 56,\n",
              " 36,\n",
              " 56,\n",
              " 45,\n",
              " 51,\n",
              " 48,\n",
              " 44,\n",
              " 54,\n",
              " 51,\n",
              " 51,\n",
              " 44,\n",
              " 42,\n",
              " 49,\n",
              " 42,\n",
              " 50,\n",
              " 60,\n",
              " 48,\n",
              " 60,\n",
              " 46,\n",
              " 53,\n",
              " 44,\n",
              " 45,\n",
              " 49,\n",
              " 52,\n",
              " 48,\n",
              " 51,\n",
              " 52,\n",
              " 55,\n",
              " 58,\n",
              " 51,\n",
              " 51,\n",
              " 47,\n",
              " 51,\n",
              " 54,\n",
              " 61,\n",
              " 43,\n",
              " 53,\n",
              " 56,\n",
              " 49,\n",
              " 49,\n",
              " 49,\n",
              " 59,\n",
              " 46,\n",
              " 50,\n",
              " 52,\n",
              " 53,\n",
              " 57,\n",
              " 52,\n",
              " 50,\n",
              " 58,\n",
              " 48,\n",
              " 53,\n",
              " 47,\n",
              " 51,\n",
              " 48,\n",
              " 44,\n",
              " 50,\n",
              " 44,\n",
              " 62,\n",
              " 47,\n",
              " 47,\n",
              " 43,\n",
              " 48,\n",
              " 51,\n",
              " 47,\n",
              " 57,\n",
              " 50,\n",
              " 45,\n",
              " 52,\n",
              " 55,\n",
              " 51,\n",
              " 61,\n",
              " 45,\n",
              " 48,\n",
              " 47,\n",
              " 47,\n",
              " 47,\n",
              " 49,\n",
              " 56,\n",
              " 55,\n",
              " 46,\n",
              " 45,\n",
              " 44,\n",
              " 55,\n",
              " 44,\n",
              " 48,\n",
              " 45,\n",
              " 59,\n",
              " 50,\n",
              " 49,\n",
              " 50,\n",
              " 55,\n",
              " 42,\n",
              " 55,\n",
              " 53,\n",
              " 56,\n",
              " 43,\n",
              " 53,\n",
              " 50,\n",
              " 45,\n",
              " 52,\n",
              " 50,\n",
              " 41,\n",
              " 49,\n",
              " 47,\n",
              " 50,\n",
              " 50,\n",
              " 46,\n",
              " 43,\n",
              " 47,\n",
              " 54,\n",
              " 45,\n",
              " 47,\n",
              " 58,\n",
              " 51,\n",
              " 55,\n",
              " 50,\n",
              " 59,\n",
              " 54,\n",
              " 39,\n",
              " 54,\n",
              " 55,\n",
              " 54,\n",
              " 58,\n",
              " 52,\n",
              " 51,\n",
              " 58,\n",
              " 50,\n",
              " 51,\n",
              " 59,\n",
              " 52,\n",
              " 46,\n",
              " 45,\n",
              " 52,\n",
              " 56,\n",
              " 52,\n",
              " 56,\n",
              " 51,\n",
              " 58,\n",
              " 43,\n",
              " 51,\n",
              " 46,\n",
              " 55,\n",
              " 49,\n",
              " 46,\n",
              " 43,\n",
              " 48,\n",
              " 46,\n",
              " 55,\n",
              " 48,\n",
              " 46,\n",
              " 46,\n",
              " 49,\n",
              " 50,\n",
              " 46,\n",
              " 52,\n",
              " 46,\n",
              " 46,\n",
              " 45,\n",
              " 61,\n",
              " 59,\n",
              " 51,\n",
              " 49,\n",
              " 52,\n",
              " 56,\n",
              " 51,\n",
              " 43,\n",
              " 53,\n",
              " 53,\n",
              " 52,\n",
              " 50,\n",
              " 52,\n",
              " 49,\n",
              " 55,\n",
              " 46,\n",
              " 52,\n",
              " 54,\n",
              " 44,\n",
              " 47,\n",
              " 47,\n",
              " 53,\n",
              " 57,\n",
              " 48,\n",
              " 48,\n",
              " 50,\n",
              " 48,\n",
              " 53,\n",
              " 48,\n",
              " 47,\n",
              " 48,\n",
              " 60,\n",
              " 44,\n",
              " 48,\n",
              " 52,\n",
              " 45,\n",
              " 52,\n",
              " 51,\n",
              " 46,\n",
              " 51,\n",
              " 56,\n",
              " 50,\n",
              " 45,\n",
              " 52,\n",
              " 52,\n",
              " 55,\n",
              " 49,\n",
              " 50,\n",
              " 44,\n",
              " 50,\n",
              " 55,\n",
              " 59,\n",
              " 49,\n",
              " 57,\n",
              " 51,\n",
              " 46,\n",
              " 54,\n",
              " 51,\n",
              " 57,\n",
              " 50,\n",
              " 49,\n",
              " 46,\n",
              " 48,\n",
              " 47,\n",
              " 48,\n",
              " 45,\n",
              " 60,\n",
              " 40,\n",
              " 43,\n",
              " 55,\n",
              " 58,\n",
              " 50,\n",
              " 50,\n",
              " 45,\n",
              " 49,\n",
              " 53,\n",
              " 53,\n",
              " 46,\n",
              " 52,\n",
              " 53,\n",
              " 52,\n",
              " 57,\n",
              " 53,\n",
              " 43,\n",
              " 54,\n",
              " 45,\n",
              " 54,\n",
              " 63,\n",
              " 45,\n",
              " 56,\n",
              " 49,\n",
              " 46,\n",
              " 51,\n",
              " 57,\n",
              " 55,\n",
              " 42,\n",
              " 54,\n",
              " 54,\n",
              " 38,\n",
              " 54,\n",
              " 55,\n",
              " 61,\n",
              " 44,\n",
              " 49,\n",
              " 39,\n",
              " 56,\n",
              " 52,\n",
              " 52,\n",
              " 55,\n",
              " 58,\n",
              " 55,\n",
              " 38,\n",
              " 46,\n",
              " 56,\n",
              " 50,\n",
              " 58,\n",
              " 54,\n",
              " 52,\n",
              " 46,\n",
              " 46,\n",
              " 51,\n",
              " 38,\n",
              " 51,\n",
              " 52,\n",
              " 58,\n",
              " 47,\n",
              " 52,\n",
              " 54,\n",
              " 48,\n",
              " 44,\n",
              " 53,\n",
              " 46,\n",
              " 51,\n",
              " 42,\n",
              " 53,\n",
              " 39,\n",
              " 50,\n",
              " 43,\n",
              " 37,\n",
              " 50,\n",
              " 42,\n",
              " 51,\n",
              " 45,\n",
              " 52,\n",
              " 52,\n",
              " 50,\n",
              " 57,\n",
              " 53,\n",
              " 51,\n",
              " 45,\n",
              " 50,\n",
              " 53,\n",
              " 51,\n",
              " 53,\n",
              " 49,\n",
              " 61,\n",
              " 49,\n",
              " 61,\n",
              " 49,\n",
              " 54,\n",
              " 48,\n",
              " 56,\n",
              " 47,\n",
              " 53,\n",
              " 58,\n",
              " 48,\n",
              " 52,\n",
              " 55,\n",
              " 53,\n",
              " 50,\n",
              " 54,\n",
              " 51,\n",
              " 55,\n",
              " 44,\n",
              " 51,\n",
              " 51,\n",
              " 46,\n",
              " 54,\n",
              " 36,\n",
              " 57,\n",
              " 47,\n",
              " 61,\n",
              " 55,\n",
              " 56,\n",
              " 48,\n",
              " 51,\n",
              " 49,\n",
              " 49,\n",
              " 53,\n",
              " 48,\n",
              " 53,\n",
              " 48,\n",
              " 48,\n",
              " 48,\n",
              " 54,\n",
              " 58,\n",
              " 40,\n",
              " 48,\n",
              " 47,\n",
              " 51,\n",
              " 52,\n",
              " 41,\n",
              " 46,\n",
              " 50,\n",
              " 52,\n",
              " 46,\n",
              " 45,\n",
              " 46,\n",
              " 47,\n",
              " 45,\n",
              " 55,\n",
              " 46,\n",
              " 56,\n",
              " 55,\n",
              " 49,\n",
              " 49,\n",
              " 47,\n",
              " 51,\n",
              " 46,\n",
              " 56,\n",
              " 53,\n",
              " 45,\n",
              " 54,\n",
              " 51,\n",
              " 51,\n",
              " 53,\n",
              " 52,\n",
              " 51,\n",
              " 47,\n",
              " 45,\n",
              " 48,\n",
              " 48,\n",
              " 67,\n",
              " 38,\n",
              " 43,\n",
              " 54,\n",
              " 51,\n",
              " 47,\n",
              " 53,\n",
              " 51,\n",
              " 43,\n",
              " 55,\n",
              " 50,\n",
              " 48,\n",
              " 40,\n",
              " 50,\n",
              " 61,\n",
              " 53,\n",
              " 45,\n",
              " 49,\n",
              " 49,\n",
              " 48,\n",
              " 43,\n",
              " 52,\n",
              " 45,\n",
              " 52,\n",
              " 46,\n",
              " 45,\n",
              " 47,\n",
              " 57,\n",
              " 43,\n",
              " 45,\n",
              " 54,\n",
              " 49,\n",
              " 51,\n",
              " 49,\n",
              " 50,\n",
              " 48,\n",
              " 45,\n",
              " 45,\n",
              " 56,\n",
              " 43,\n",
              " 53,\n",
              " 59,\n",
              " 51,\n",
              " 42,\n",
              " 44,\n",
              " 52,\n",
              " 49,\n",
              " 57,\n",
              " 47,\n",
              " 42,\n",
              " 50,\n",
              " 53,\n",
              " 55,\n",
              " 44,\n",
              " 43,\n",
              " 50,\n",
              " 50,\n",
              " 49,\n",
              " 50,\n",
              " 48,\n",
              " 48,\n",
              " 51,\n",
              " 58,\n",
              " 54,\n",
              " 50,\n",
              " 53,\n",
              " 42,\n",
              " 50,\n",
              " 41,\n",
              " 38,\n",
              " 38,\n",
              " 49,\n",
              " 40,\n",
              " 47,\n",
              " 60,\n",
              " 42,\n",
              " 48,\n",
              " 45,\n",
              " 51,\n",
              " 58,\n",
              " 47,\n",
              " 55,\n",
              " 46,\n",
              " 48,\n",
              " 46,\n",
              " 49,\n",
              " 52,\n",
              " 51,\n",
              " 52,\n",
              " 53,\n",
              " 45,\n",
              " 59,\n",
              " 43,\n",
              " 57,\n",
              " 53,\n",
              " 50,\n",
              " 44,\n",
              " 55,\n",
              " 52,\n",
              " 54,\n",
              " 51,\n",
              " 51,\n",
              " 54,\n",
              " 49,\n",
              " 52,\n",
              " 67,\n",
              " 52,\n",
              " 53,\n",
              " 48,\n",
              " 56,\n",
              " 50,\n",
              " 51,\n",
              " 55,\n",
              " 56,\n",
              " 55,\n",
              " 50,\n",
              " 53,\n",
              " 43,\n",
              " 49,\n",
              " ...]"
            ]
          },
          "metadata": {},
          "execution_count": 87
        }
      ]
    },
    {
      "cell_type": "code",
      "source": [
        "heads, event_count = np.unique(heads_count,return_counts=True)\n",
        "heads,event_count"
      ],
      "metadata": {
        "colab": {
          "base_uri": "https://localhost:8080/"
        },
        "id": "JCgxsgUszBxV",
        "outputId": "e582b960-ffbd-41eb-810c-aa402704a797"
      },
      "execution_count": 89,
      "outputs": [
        {
          "output_type": "execute_result",
          "data": {
            "text/plain": [
              "(array([33, 34, 35, 36, 37, 38, 39, 40, 41, 42, 43, 44, 45, 46, 47, 48, 49,\n",
              "        50, 51, 52, 53, 54, 55, 56, 57, 58, 59, 60, 61, 62, 63, 64, 65, 66,\n",
              "        67, 68]),\n",
              " array([  4,   2,   7,  20,  31,  38,  72, 102, 172, 213, 305, 359, 495,\n",
              "        570, 690, 747, 781, 777, 731, 756, 654, 594, 521, 369, 313, 214,\n",
              "        169, 115,  74,  54,  26,  10,   4,   5,   4,   2]))"
            ]
          },
          "metadata": {},
          "execution_count": 89
        }
      ]
    },
    {
      "cell_type": "code",
      "source": [
        "event_probab = event_count/n_exp\n",
        "event_probab"
      ],
      "metadata": {
        "colab": {
          "base_uri": "https://localhost:8080/"
        },
        "id": "zPVQz093zTOZ",
        "outputId": "d564d719-40ef-4f95-fc83-f94214dd107e"
      },
      "execution_count": 90,
      "outputs": [
        {
          "output_type": "execute_result",
          "data": {
            "text/plain": [
              "array([0.0004, 0.0002, 0.0007, 0.002 , 0.0031, 0.0038, 0.0072, 0.0102,\n",
              "       0.0172, 0.0213, 0.0305, 0.0359, 0.0495, 0.057 , 0.069 , 0.0747,\n",
              "       0.0781, 0.0777, 0.0731, 0.0756, 0.0654, 0.0594, 0.0521, 0.0369,\n",
              "       0.0313, 0.0214, 0.0169, 0.0115, 0.0074, 0.0054, 0.0026, 0.001 ,\n",
              "       0.0004, 0.0005, 0.0004, 0.0002])"
            ]
          },
          "metadata": {},
          "execution_count": 90
        }
      ]
    },
    {
      "cell_type": "code",
      "source": [
        "plt.bar(heads,event_probab)\n",
        "_ = plt.xlabel(\"head flips (out of 100 tosses)\")"
      ],
      "metadata": {
        "colab": {
          "base_uri": "https://localhost:8080/",
          "height": 458
        },
        "id": "Iv_V6IDHzmVP",
        "outputId": "a88f4912-1b95-4c38-c488-62c727952f44"
      },
      "execution_count": 91,
      "outputs": [
        {
          "output_type": "display_data",
          "data": {
            "text/plain": [
              "<Figure size 640x480 with 1 Axes>"
            ],
            "image/png": "[encoded data removed]"
          },
          "metadata": {}
        }
      ]
    },
    {
      "cell_type": "code",
      "source": [
        "np.mean(heads)\n"
      ],
      "metadata": {
        "colab": {
          "base_uri": "https://localhost:8080/"
        },
        "id": "KVWfsBTdz6JU",
        "outputId": "aaa0c4c7-8b48-4b25-8107-d3b723da58c3"
      },
      "execution_count": 92,
      "outputs": [
        {
          "output_type": "execute_result",
          "data": {
            "text/plain": [
              "50.5"
            ]
          },
          "metadata": {},
          "execution_count": 92
        }
      ]
    },
    {
      "cell_type": "code",
      "source": [
        "np.std(heads)"
      ],
      "metadata": {
        "colab": {
          "base_uri": "https://localhost:8080/"
        },
        "id": "NyzLSRKk0ALv",
        "outputId": "9c56218b-f29d-46fc-e960-08a05c9d26d3"
      },
      "execution_count": 93,
      "outputs": [
        {
          "output_type": "execute_result",
          "data": {
            "text/plain": [
              "10.388294694831615"
            ]
          },
          "metadata": {},
          "execution_count": 93
        }
      ]
    },
    {
      "cell_type": "code",
      "source": [],
      "metadata": {
        "id": "3Yu19b0A0C8s"
      },
      "execution_count": null,
      "outputs": []
    }
  ]
}