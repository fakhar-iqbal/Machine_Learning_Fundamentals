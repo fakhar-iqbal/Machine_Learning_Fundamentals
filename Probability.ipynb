{
  "nbformat": 4,
  "nbformat_minor": 0,
  "metadata": {
    "colab": {
      "provenance": [],
      "authorship_tag": "ABX9TyMN9qmYcDNI8jBkkS775XxB",
      "include_colab_link": true
    },
    "kernelspec": {
      "name": "python3",
      "display_name": "Python 3"
    },
    "language_info": {
      "name": "python"
    }
  },
  "cells": [
    {
      "cell_type": "markdown",
      "metadata": {
        "id": "view-in-github",
        "colab_type": "text"
      },
      "source": [
        "<a href=\"https://colab.research.google.com/github/fakhar-iqbal/Machine_Learning_Fundamentals/blob/main/Probability.ipynb\" target=\"_parent\"><img src=\"https://colab.research.google.com/assets/colab-badge.svg\" alt=\"Open In Colab\"/></a>"
      ]
    },
    {
      "cell_type": "code",
      "execution_count": 1,
      "metadata": {
        "id": "NYc2tIOvEvQZ"
      },
      "outputs": [],
      "source": [
        "import numpy as np\n",
        "import matplotlib.pyplot as plt\n",
        "import scipy.stats as st\n",
        "import seaborn as sns"
      ]
    },
    {
      "cell_type": "markdown",
      "source": [
        "##**The Law of Large Numbers**"
      ],
      "metadata": {
        "id": "zFLzApXEHRWW"
      }
    },
    {
      "cell_type": "code",
      "source": [
        "ns = np.array([2,4,8,16,32,64,128,256,512,1024,2048,4096])\n"
      ],
      "metadata": {
        "id": "VChAoYyqE8ji"
      },
      "execution_count": 2,
      "outputs": []
    },
    {
      "cell_type": "code",
      "source": [
        "np.random.seed(42)"
      ],
      "metadata": {
        "id": "LBb8uaQgFVQ1"
      },
      "execution_count": 3,
      "outputs": []
    },
    {
      "cell_type": "code",
      "source": [
        "np.random.binomial(1,0.5)"
      ],
      "metadata": {
        "colab": {
          "base_uri": "https://localhost:8080/"
        },
        "id": "W6oa3EXoFctb",
        "outputId": "5d762160-14b4-443c-f32f-e6c0c6d8956d"
      },
      "execution_count": 4,
      "outputs": [
        {
          "output_type": "execute_result",
          "data": {
            "text/plain": [
              "0"
            ]
          },
          "metadata": {},
          "execution_count": 4
        }
      ]
    },
    {
      "cell_type": "code",
      "source": [
        "head_counts = [np.random.binomial(n,0.5) for n in ns]\n",
        "head_counts"
      ],
      "metadata": {
        "colab": {
          "base_uri": "https://localhost:8080/"
        },
        "id": "o5QVkcvYFvxV",
        "outputId": "9b388489-64ff-4732-d49a-0d4ca7adc5ba"
      },
      "execution_count": 5,
      "outputs": [
        {
          "output_type": "execute_result",
          "data": {
            "text/plain": [
              "[2, 3, 4, 6, 13, 27, 54, 136, 258, 509, 1038, 2094]"
            ]
          },
          "metadata": {},
          "execution_count": 5
        }
      ]
    },
    {
      "cell_type": "code",
      "source": [
        "proportion_head = head_counts/ns\n",
        "\n",
        "proportion_head"
      ],
      "metadata": {
        "colab": {
          "base_uri": "https://localhost:8080/"
        },
        "id": "kHCafbL_F7p-",
        "outputId": "e10dad4f-24dd-44d4-de38-f6c120e87c44"
      },
      "execution_count": 6,
      "outputs": [
        {
          "output_type": "execute_result",
          "data": {
            "text/plain": [
              "array([1.        , 0.75      , 0.5       , 0.375     , 0.40625   ,\n",
              "       0.421875  , 0.421875  , 0.53125   , 0.50390625, 0.49707031,\n",
              "       0.50683594, 0.51123047])"
            ]
          },
          "metadata": {},
          "execution_count": 6
        }
      ]
    },
    {
      "cell_type": "code",
      "source": [
        "fig,ax = plt.subplots()\n",
        "\n",
        "plt.xlabel('number of coin flips in experiment')\n",
        "plt.ylabel('proportion of flips that are head')\n",
        "\n",
        "plt.axhline(0.5,color='orange')\n",
        "_ = ax.scatter(ns,proportion_head)"
      ],
      "metadata": {
        "colab": {
          "base_uri": "https://localhost:8080/",
          "height": 449
        },
        "id": "BxhUjiuBGR7Q",
        "outputId": "df5587ac-f4b5-4614-d436-e92f1fe48f12"
      },
      "execution_count": 7,
      "outputs": [
        {
          "output_type": "display_data",
          "data": {
            "text/plain": [
              "<Figure size 640x480 with 1 Axes>"
            ],
            "image/png": "[encoded data removed]"
          },
          "metadata": {}
        }
      ]
    },
    {
      "cell_type": "markdown",
      "source": [
        "##**Statistics**"
      ],
      "metadata": {
        "id": "eC440nfwH12H"
      }
    },
    {
      "cell_type": "markdown",
      "source": [
        "The field of statistics applies probability theory to make inference with a quantifiable degree of confidence"
      ],
      "metadata": {
        "id": "Ubuacu-0H30A"
      }
    },
    {
      "cell_type": "code",
      "source": [
        "n_exp = 1000\n",
        "head_count = np.random.binomial(5,0.5,n_exp)"
      ],
      "metadata": {
        "id": "B-qi-4LfGrw-"
      },
      "execution_count": 8,
      "outputs": []
    },
    {
      "cell_type": "markdown",
      "source": [
        "we can plot the results of our experiments to create a probability distribution"
      ],
      "metadata": {
        "id": "cxcc8BirIONT"
      }
    },
    {
      "cell_type": "code",
      "source": [
        "heads,event_count = np.unique(head_count,return_counts=True)\n"
      ],
      "metadata": {
        "id": "GAJ512CuIIkU"
      },
      "execution_count": 9,
      "outputs": []
    },
    {
      "cell_type": "code",
      "source": [
        "heads"
      ],
      "metadata": {
        "colab": {
          "base_uri": "https://localhost:8080/"
        },
        "id": "ywYv4wUyKBVd",
        "outputId": "540e4912-268f-4d53-b381-b2b8307b1d46"
      },
      "execution_count": 10,
      "outputs": [
        {
          "output_type": "execute_result",
          "data": {
            "text/plain": [
              "array([0, 1, 2, 3, 4, 5])"
            ]
          },
          "metadata": {},
          "execution_count": 10
        }
      ]
    },
    {
      "cell_type": "code",
      "source": [
        "event_count"
      ],
      "metadata": {
        "colab": {
          "base_uri": "https://localhost:8080/"
        },
        "id": "dQlgVU5zKB2d",
        "outputId": "853b8aca-6320-43b4-d3f0-4a303b61ba42"
      },
      "execution_count": 11,
      "outputs": [
        {
          "output_type": "execute_result",
          "data": {
            "text/plain": [
              "array([ 33, 181, 285, 313, 160,  28])"
            ]
          },
          "metadata": {},
          "execution_count": 11
        }
      ]
    },
    {
      "cell_type": "code",
      "source": [
        "event_prob = event_count/n_exp"
      ],
      "metadata": {
        "id": "DbwPpYk8KP81"
      },
      "execution_count": 12,
      "outputs": []
    },
    {
      "cell_type": "code",
      "source": [
        "plt.bar(heads,event_prob,color='mediumpurple')\n",
        "plt.xlabel(\"head flips(out of 5)\")\n",
        "_ = plt.ylabel('event probability')"
      ],
      "metadata": {
        "colab": {
          "base_uri": "https://localhost:8080/",
          "height": 449
        },
        "id": "5KAULDrDKgo7",
        "outputId": "ee1ace4b-cf16-43fd-f554-97f6db678a7f"
      },
      "execution_count": 13,
      "outputs": [
        {
          "output_type": "display_data",
          "data": {
            "text/plain": [
              "<Figure size 640x480 with 1 Axes>"
            ],
            "image/png": "[encoded data removed]"
          },
          "metadata": {}
        }
      ]
    },
    {
      "cell_type": "markdown",
      "source": [
        "##**Expected Value**"
      ],
      "metadata": {
        "id": "cTh40hDbjQgy"
      }
    },
    {
      "cell_type": "code",
      "source": [
        "from math import factorial"
      ],
      "metadata": {
        "id": "KL_3q59xMRhu"
      },
      "execution_count": 14,
      "outputs": []
    },
    {
      "cell_type": "code",
      "source": [
        "def coinflip_prob(n,k):\n",
        "  n_choose_k = factorial(n)/(factorial(k)*factorial(n-k))\n",
        "  return n_choose_k/2**n"
      ],
      "metadata": {
        "id": "075d9tkMjkSF"
      },
      "execution_count": 15,
      "outputs": []
    },
    {
      "cell_type": "code",
      "source": [
        "coinflip_prob(5,0)"
      ],
      "metadata": {
        "colab": {
          "base_uri": "https://localhost:8080/"
        },
        "id": "PXa8YG5NkMjG",
        "outputId": "d526a143-155a-47f7-f2f8-ce9608453a16"
      },
      "execution_count": 16,
      "outputs": [
        {
          "output_type": "execute_result",
          "data": {
            "text/plain": [
              "0.03125"
            ]
          },
          "metadata": {},
          "execution_count": 16
        }
      ]
    },
    {
      "cell_type": "code",
      "source": [
        "P = [coinflip_prob(5,x) for x in range(6)]\n",
        "P"
      ],
      "metadata": {
        "colab": {
          "base_uri": "https://localhost:8080/"
        },
        "id": "Ya81pksekPcU",
        "outputId": "0b7fb264-3193-4170-e6d9-198e54f4fc00"
      },
      "execution_count": 17,
      "outputs": [
        {
          "output_type": "execute_result",
          "data": {
            "text/plain": [
              "[0.03125, 0.15625, 0.3125, 0.3125, 0.15625, 0.03125]"
            ]
          },
          "metadata": {},
          "execution_count": 17
        }
      ]
    },
    {
      "cell_type": "code",
      "source": [
        "E = sum([P[x]*x for x in range(6)])\n",
        "E"
      ],
      "metadata": {
        "colab": {
          "base_uri": "https://localhost:8080/"
        },
        "id": "BwLbAwaxlHoh",
        "outputId": "120b746f-0728-438a-a61a-1a69c91b32e8"
      },
      "execution_count": 18,
      "outputs": [
        {
          "output_type": "execute_result",
          "data": {
            "text/plain": [
              "2.5"
            ]
          },
          "metadata": {},
          "execution_count": 18
        }
      ]
    },
    {
      "cell_type": "code",
      "source": [
        "coinflip_prob(1,1)"
      ],
      "metadata": {
        "colab": {
          "base_uri": "https://localhost:8080/"
        },
        "id": "3s3i-iyYlUrV",
        "outputId": "0238545b-7fdf-4c8f-8b6e-b3a33b1d788c"
      },
      "execution_count": 19,
      "outputs": [
        {
          "output_type": "execute_result",
          "data": {
            "text/plain": [
              "0.5"
            ]
          },
          "metadata": {},
          "execution_count": 19
        }
      ]
    },
    {
      "cell_type": "code",
      "source": [
        "x = st.skewnorm.rvs(0,size=1000)  #first argument is skewness. 0 means no skew\n"
      ],
      "metadata": {
        "id": "6LZqCb9qmAeN"
      },
      "execution_count": 20,
      "outputs": []
    },
    {
      "cell_type": "code",
      "source": [
        "fig,ax = plt.subplots()\n",
        "plt.axvline(x= np.mean(x),color='orange')\n",
        "plt.axvline(x = np.median(x), color='green')\n",
        "_ = plt.hist(x,color='lightgray')\n",
        "\n",
        "##mode typically applies to PMFs, but this is PDFs"
      ],
      "metadata": {
        "colab": {
          "base_uri": "https://localhost:8080/",
          "height": 430
        },
        "id": "OTKdIVVpASVm",
        "outputId": "5e4fce50-92cf-41be-f4a2-1b20126aff50"
      },
      "execution_count": 21,
      "outputs": [
        {
          "output_type": "display_data",
          "data": {
            "text/plain": [
              "<Figure size 640x480 with 1 Axes>"
            ],
            "image/png": "[encoded data removed]"
          },
          "metadata": {}
        }
      ]
    },
    {
      "cell_type": "markdown",
      "source": [
        "skewed disribution"
      ],
      "metadata": {
        "id": "rkpQcR5gBb8R"
      }
    },
    {
      "cell_type": "code",
      "source": [
        "x = st.skewnorm.rvs(10,size=1000)\n"
      ],
      "metadata": {
        "id": "uVdNM_uoA0eu"
      },
      "execution_count": 25,
      "outputs": []
    },
    {
      "cell_type": "code",
      "source": [
        "fig,ax = plt.subplots()\n",
        "plt.axvline(x= np.mean(x),color='orange')\n",
        "plt.axvline(x = np.median(x), color='green')\n",
        "_ = plt.hist(x,color='lightgray')"
      ],
      "metadata": {
        "colab": {
          "base_uri": "https://localhost:8080/",
          "height": 430
        },
        "id": "27m3xS_kBhsb",
        "outputId": "23e6e6bb-9f31-4d58-9d13-fa6d70b31a2c"
      },
      "execution_count": 26,
      "outputs": [
        {
          "output_type": "display_data",
          "data": {
            "text/plain": [
              "<Figure size 640x480 with 1 Axes>"
            ],
            "image/png": "[encoded data removed]"
          },
          "metadata": {}
        }
      ]
    },
    {
      "cell_type": "markdown",
      "source": [
        "##Quantiles\n",
        "\n",
        "### The median, which divides a distribution in two at its midpoint, is most well known example of quantile"
      ],
      "metadata": {
        "id": "Sbh9sf9MCVxx"
      }
    },
    {
      "cell_type": "code",
      "source": [
        "np.median(x)"
      ],
      "metadata": {
        "colab": {
          "base_uri": "https://localhost:8080/"
        },
        "id": "2QBdoiW8BmeJ",
        "outputId": "09abcd9f-092e-40ef-caad-ca306e6cf4f1"
      },
      "execution_count": 27,
      "outputs": [
        {
          "output_type": "execute_result",
          "data": {
            "text/plain": [
              "0.6987365121323832"
            ]
          },
          "metadata": {},
          "execution_count": 27
        }
      ]
    },
    {
      "cell_type": "code",
      "source": [
        "np.quantile(x,0.5)"
      ],
      "metadata": {
        "colab": {
          "base_uri": "https://localhost:8080/"
        },
        "id": "KQuEZpnJCisf",
        "outputId": "c9955526-0e67-470d-ca93-3ddb9de01f72"
      },
      "execution_count": 28,
      "outputs": [
        {
          "output_type": "execute_result",
          "data": {
            "text/plain": [
              "0.6987365121323832"
            ]
          },
          "metadata": {},
          "execution_count": 28
        }
      ]
    },
    {
      "cell_type": "markdown",
      "source": [
        "##Percentile\n",
        "### Percentiles divide the distribution at any point outof one hundred. eg if we'd like to identify a threshold of top 5% of a distribution, we cut it at the 95% percentile."
      ],
      "metadata": {
        "id": "GDDiePZLDUz_"
      }
    },
    {
      "cell_type": "code",
      "source": [
        "p = np.percentile(x,[95,99])\n",
        "p"
      ],
      "metadata": {
        "colab": {
          "base_uri": "https://localhost:8080/"
        },
        "id": "3pC-SKgECrT5",
        "outputId": "40acb411-218f-41a3-a23c-2bc3d38b7723"
      },
      "execution_count": 29,
      "outputs": [
        {
          "output_type": "execute_result",
          "data": {
            "text/plain": [
              "array([2.06249928, 2.51830108])"
            ]
          },
          "metadata": {},
          "execution_count": 29
        }
      ]
    },
    {
      "cell_type": "code",
      "source": [
        "fig,ax = plt.subplots()\n",
        "plt.axvline(x=p[0],color='orange')\n",
        "plt.axvline(x=p[1],color='green')\n",
        "\n",
        "_ = plt.hist(x,color='lightgray')"
      ],
      "metadata": {
        "colab": {
          "base_uri": "https://localhost:8080/",
          "height": 430
        },
        "id": "H2NQ_juqDyl_",
        "outputId": "cf4739de-0216-402f-bbe8-cd5a51dd8d0a"
      },
      "execution_count": 30,
      "outputs": [
        {
          "output_type": "display_data",
          "data": {
            "text/plain": [
              "<Figure size 640x480 with 1 Axes>"
            ],
            "image/png": "[encoded data removed]"
          },
          "metadata": {}
        }
      ]
    },
    {
      "cell_type": "code",
      "source": [
        "np.quantile(x,[.95,.99])"
      ],
      "metadata": {
        "colab": {
          "base_uri": "https://localhost:8080/"
        },
        "id": "zVA2GFCsEEmd",
        "outputId": "a02e35c9-e462-414f-b10b-a049da43f2e0"
      },
      "execution_count": 31,
      "outputs": [
        {
          "output_type": "execute_result",
          "data": {
            "text/plain": [
              "array([2.06249928, 2.51830108])"
            ]
          },
          "metadata": {},
          "execution_count": 31
        }
      ]
    },
    {
      "cell_type": "markdown",
      "source": [
        "## Quartiles\n",
        "### Quartiles as the name suggests are the quantiles that divide distribution into quarters by splitting them at 25th, median 50th, 75th percentile"
      ],
      "metadata": {
        "id": "auR8fINREmcu"
      }
    },
    {
      "cell_type": "code",
      "source": [
        "q = np.percentile(x,[25,50,75])\n",
        "q"
      ],
      "metadata": {
        "colab": {
          "base_uri": "https://localhost:8080/"
        },
        "id": "WIezEvrYEX9-",
        "outputId": "252960e3-5c4d-4e47-ae91-9cbd3fd6b15e"
      },
      "execution_count": 32,
      "outputs": [
        {
          "output_type": "execute_result",
          "data": {
            "text/plain": [
              "array([0.32494046, 0.69873651, 1.19431522])"
            ]
          },
          "metadata": {},
          "execution_count": 32
        }
      ]
    },
    {
      "cell_type": "code",
      "source": [
        "fig,ax = plt.subplots()\n",
        "plt.axvline(q[0],color='orange')\n",
        "plt.axvline(q[1],color='green')\n",
        "plt.axvline(q[2], color='purple')\n",
        "\n",
        "_ = ax.hist(x,color='lightgray')"
      ],
      "metadata": {
        "colab": {
          "base_uri": "https://localhost:8080/",
          "height": 430
        },
        "id": "xhHjihH0E6YD",
        "outputId": "448813b1-d7f5-45c9-c78a-dc2b901b4f01"
      },
      "execution_count": 33,
      "outputs": [
        {
          "output_type": "display_data",
          "data": {
            "text/plain": [
              "<Figure size 640x480 with 1 Axes>"
            ],
            "image/png": "[encoded data removed]"
          },
          "metadata": {}
        }
      ]
    },
    {
      "cell_type": "markdown",
      "source": [
        "##Deciles\n",
        "### deciles divide the distribution into ten evenly-sized segments"
      ],
      "metadata": {
        "id": "mNSL03SsFqGs"
      }
    },
    {
      "cell_type": "code",
      "source": [
        "d = np.percentile(x,range(10,100,10))\n",
        "d"
      ],
      "metadata": {
        "colab": {
          "base_uri": "https://localhost:8080/"
        },
        "id": "GV9VQitpFHiX",
        "outputId": "ea5a5550-bd91-4a83-fd61-da0eb4f5ed2f"
      },
      "execution_count": 34,
      "outputs": [
        {
          "output_type": "execute_result",
          "data": {
            "text/plain": [
              "array([0.11871856, 0.24991108, 0.3992659 , 0.53290322, 0.69873651,\n",
              "       0.86771624, 1.08994827, 1.30781239, 1.75782249])"
            ]
          },
          "metadata": {},
          "execution_count": 34
        }
      ]
    },
    {
      "cell_type": "code",
      "source": [
        "fig,ax = plt.subplots()\n",
        "[plt.axvline(i, color='cornflowerblue') for i in d]\n",
        "_ = plt.hist(x,color='lightgray')"
      ],
      "metadata": {
        "colab": {
          "base_uri": "https://localhost:8080/",
          "height": 430
        },
        "id": "LTNrouiWF0-x",
        "outputId": "043782b0-db10-420c-8cb5-79962cf854ca"
      },
      "execution_count": 35,
      "outputs": [
        {
          "output_type": "display_data",
          "data": {
            "text/plain": [
              "<Figure size 640x480 with 1 Axes>"
            ],
            "image/png": "[encoded data removed]"
          },
          "metadata": {}
        }
      ]
    },
    {
      "cell_type": "code",
      "source": [],
      "metadata": {
        "id": "qCkhOB5SGH1R"
      },
      "execution_count": null,
      "outputs": []
    }
  ]
}