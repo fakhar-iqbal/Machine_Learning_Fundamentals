{
  "nbformat": 4,
  "nbformat_minor": 0,
  "metadata": {
    "colab": {
      "provenance": [],
      "authorship_tag": "ABX9TyPiIeHEHc+EeyulfmRiZ79N",
      "include_colab_link": true
    },
    "kernelspec": {
      "name": "python3",
      "display_name": "Python 3"
    },
    "language_info": {
      "name": "python"
    }
  },
  "cells": [
    {
      "cell_type": "markdown",
      "metadata": {
        "id": "view-in-github",
        "colab_type": "text"
      },
      "source": [
        "<a href=\"https://colab.research.google.com/github/fakhar-iqbal/Machine_Learning_Fundamentals/blob/main/Probability.ipynb\" target=\"_parent\"><img src=\"https://colab.research.google.com/assets/colab-badge.svg\" alt=\"Open In Colab\"/></a>"
      ]
    },
    {
      "cell_type": "code",
      "execution_count": 1,
      "metadata": {
        "id": "NYc2tIOvEvQZ"
      },
      "outputs": [],
      "source": [
        "import numpy as np\n",
        "import matplotlib.pyplot as plt\n",
        "import scipy.stats as st\n",
        "import seaborn as sns"
      ]
    },
    {
      "cell_type": "markdown",
      "source": [
        "##**The Law of Large Numbers**"
      ],
      "metadata": {
        "id": "zFLzApXEHRWW"
      }
    },
    {
      "cell_type": "code",
      "source": [
        "ns = np.array([2,4,8,16,32,64,128,256,512,1024,2048,4096])\n"
      ],
      "metadata": {
        "id": "VChAoYyqE8ji"
      },
      "execution_count": 2,
      "outputs": []
    },
    {
      "cell_type": "code",
      "source": [
        "np.random.seed(42)"
      ],
      "metadata": {
        "id": "LBb8uaQgFVQ1"
      },
      "execution_count": 3,
      "outputs": []
    },
    {
      "cell_type": "code",
      "source": [
        "np.random.binomial(1,0.5)"
      ],
      "metadata": {
        "colab": {
          "base_uri": "https://localhost:8080/"
        },
        "id": "W6oa3EXoFctb",
        "outputId": "f6d53e97-5895-4faf-db38-94ce4939aa43"
      },
      "execution_count": 4,
      "outputs": [
        {
          "output_type": "execute_result",
          "data": {
            "text/plain": [
              "0"
            ]
          },
          "metadata": {},
          "execution_count": 4
        }
      ]
    },
    {
      "cell_type": "code",
      "source": [
        "head_counts = [np.random.binomial(n,0.5) for n in ns]\n",
        "head_counts"
      ],
      "metadata": {
        "colab": {
          "base_uri": "https://localhost:8080/"
        },
        "id": "o5QVkcvYFvxV",
        "outputId": "fd479035-4f56-45c4-8530-207776b3cb9c"
      },
      "execution_count": 5,
      "outputs": [
        {
          "output_type": "execute_result",
          "data": {
            "text/plain": [
              "[2, 3, 4, 6, 13, 27, 54, 136, 258, 509, 1038, 2094]"
            ]
          },
          "metadata": {},
          "execution_count": 5
        }
      ]
    },
    {
      "cell_type": "code",
      "source": [
        "proportion_head = head_counts/ns\n",
        "\n",
        "proportion_head"
      ],
      "metadata": {
        "colab": {
          "base_uri": "https://localhost:8080/"
        },
        "id": "kHCafbL_F7p-",
        "outputId": "d1775ae0-3d68-4038-fba8-41e34a32424b"
      },
      "execution_count": 6,
      "outputs": [
        {
          "output_type": "execute_result",
          "data": {
            "text/plain": [
              "array([1.        , 0.75      , 0.5       , 0.375     , 0.40625   ,\n",
              "       0.421875  , 0.421875  , 0.53125   , 0.50390625, 0.49707031,\n",
              "       0.50683594, 0.51123047])"
            ]
          },
          "metadata": {},
          "execution_count": 6
        }
      ]
    },
    {
      "cell_type": "code",
      "source": [
        "fig,ax = plt.subplots()\n",
        "\n",
        "plt.xlabel('number of coin flips in experiment')\n",
        "plt.ylabel('proportion of flips that are head')\n",
        "\n",
        "plt.axhline(0.5,color='orange')\n",
        "_ = ax.scatter(ns,proportion_head)"
      ],
      "metadata": {
        "colab": {
          "base_uri": "https://localhost:8080/",
          "height": 449
        },
        "id": "BxhUjiuBGR7Q",
        "outputId": "24da2917-bdf5-463a-d0b0-be5f773c7bb2"
      },
      "execution_count": 7,
      "outputs": [
        {
          "output_type": "display_data",
          "data": {
            "text/plain": [
              "<Figure size 640x480 with 1 Axes>"
            ],
            "image/png": "[encoded data removed]"
          },
          "metadata": {}
        }
      ]
    },
    {
      "cell_type": "markdown",
      "source": [
        "##**Statistics**"
      ],
      "metadata": {
        "id": "eC440nfwH12H"
      }
    },
    {
      "cell_type": "markdown",
      "source": [
        "The field of statistics applies probability theory to make inference with a quantifiable degree of confidence"
      ],
      "metadata": {
        "id": "Ubuacu-0H30A"
      }
    },
    {
      "cell_type": "code",
      "source": [
        "n_exp = 1000\n",
        "head_count = np.random.binomial(5,0.5,n_exp)"
      ],
      "metadata": {
        "id": "B-qi-4LfGrw-"
      },
      "execution_count": 8,
      "outputs": []
    },
    {
      "cell_type": "markdown",
      "source": [
        "we can plot the results of our experiments to create a probability distribution"
      ],
      "metadata": {
        "id": "cxcc8BirIONT"
      }
    },
    {
      "cell_type": "code",
      "source": [
        "heads,event_count = np.unique(head_count,return_counts=True)\n"
      ],
      "metadata": {
        "id": "GAJ512CuIIkU"
      },
      "execution_count": 9,
      "outputs": []
    },
    {
      "cell_type": "code",
      "source": [
        "heads"
      ],
      "metadata": {
        "colab": {
          "base_uri": "https://localhost:8080/"
        },
        "id": "ywYv4wUyKBVd",
        "outputId": "02cb14ac-40f7-4a8f-d49c-429d45865e33"
      },
      "execution_count": 10,
      "outputs": [
        {
          "output_type": "execute_result",
          "data": {
            "text/plain": [
              "array([0, 1, 2, 3, 4, 5])"
            ]
          },
          "metadata": {},
          "execution_count": 10
        }
      ]
    },
    {
      "cell_type": "code",
      "source": [
        "event_count"
      ],
      "metadata": {
        "colab": {
          "base_uri": "https://localhost:8080/"
        },
        "id": "dQlgVU5zKB2d",
        "outputId": "f8525715-a705-4fda-e217-5048ea09b1cb"
      },
      "execution_count": 11,
      "outputs": [
        {
          "output_type": "execute_result",
          "data": {
            "text/plain": [
              "array([ 33, 181, 285, 313, 160,  28])"
            ]
          },
          "metadata": {},
          "execution_count": 11
        }
      ]
    },
    {
      "cell_type": "code",
      "source": [
        "event_prob = event_count/n_exp"
      ],
      "metadata": {
        "id": "DbwPpYk8KP81"
      },
      "execution_count": 12,
      "outputs": []
    },
    {
      "cell_type": "code",
      "source": [
        "plt.bar(heads,event_prob,color='mediumpurple')\n",
        "plt.xlabel(\"head flips(out of 5)\")\n",
        "_ = plt.ylabel('event probability')"
      ],
      "metadata": {
        "colab": {
          "base_uri": "https://localhost:8080/",
          "height": 449
        },
        "id": "5KAULDrDKgo7",
        "outputId": "0fe55aba-7b3a-4f4c-87a7-f6bc4f862527"
      },
      "execution_count": 13,
      "outputs": [
        {
          "output_type": "display_data",
          "data": {
            "text/plain": [
              "<Figure size 640x480 with 1 Axes>"
            ],
            "image/png": "[encoded data removed]"
          },
          "metadata": {}
        }
      ]
    },
    {
      "cell_type": "markdown",
      "source": [
        "##**Expected Value**"
      ],
      "metadata": {
        "id": "cTh40hDbjQgy"
      }
    },
    {
      "cell_type": "code",
      "source": [
        "from math import factorial"
      ],
      "metadata": {
        "id": "KL_3q59xMRhu"
      },
      "execution_count": 14,
      "outputs": []
    },
    {
      "cell_type": "code",
      "source": [
        "def coinflip_prob(n,k):\n",
        "  n_choose_k = factorial(n)/(factorial(k)*factorial(n-k))\n",
        "  return n_choose_k/2**n"
      ],
      "metadata": {
        "id": "075d9tkMjkSF"
      },
      "execution_count": 15,
      "outputs": []
    },
    {
      "cell_type": "code",
      "source": [
        "coinflip_prob(5,0)"
      ],
      "metadata": {
        "colab": {
          "base_uri": "https://localhost:8080/"
        },
        "id": "PXa8YG5NkMjG",
        "outputId": "cfd125d4-ffe3-423d-f125-4a13e7920cfa"
      },
      "execution_count": 16,
      "outputs": [
        {
          "output_type": "execute_result",
          "data": {
            "text/plain": [
              "0.03125"
            ]
          },
          "metadata": {},
          "execution_count": 16
        }
      ]
    },
    {
      "cell_type": "code",
      "source": [
        "P = [coinflip_prob(5,x) for x in range(6)]\n",
        "P"
      ],
      "metadata": {
        "colab": {
          "base_uri": "https://localhost:8080/"
        },
        "id": "Ya81pksekPcU",
        "outputId": "417ed969-83a1-4873-a21a-2672d48b1cc5"
      },
      "execution_count": 17,
      "outputs": [
        {
          "output_type": "execute_result",
          "data": {
            "text/plain": [
              "[0.03125, 0.15625, 0.3125, 0.3125, 0.15625, 0.03125]"
            ]
          },
          "metadata": {},
          "execution_count": 17
        }
      ]
    },
    {
      "cell_type": "code",
      "source": [
        "E = sum([P[x]*x for x in range(6)])\n",
        "E"
      ],
      "metadata": {
        "colab": {
          "base_uri": "https://localhost:8080/"
        },
        "id": "BwLbAwaxlHoh",
        "outputId": "bfb41266-72ab-4ff1-848c-ca82d2f2e3ca"
      },
      "execution_count": 18,
      "outputs": [
        {
          "output_type": "execute_result",
          "data": {
            "text/plain": [
              "2.5"
            ]
          },
          "metadata": {},
          "execution_count": 18
        }
      ]
    },
    {
      "cell_type": "code",
      "source": [
        "coinflip_prob(1,1)"
      ],
      "metadata": {
        "colab": {
          "base_uri": "https://localhost:8080/"
        },
        "id": "3s3i-iyYlUrV",
        "outputId": "0f4b4fdb-cd7e-446c-86df-8efbd790c9b7"
      },
      "execution_count": 19,
      "outputs": [
        {
          "output_type": "execute_result",
          "data": {
            "text/plain": [
              "0.5"
            ]
          },
          "metadata": {},
          "execution_count": 19
        }
      ]
    },
    {
      "cell_type": "code",
      "source": [
        "x = st.skewnorm.rvs(0,size=1000)  #first argument is skewness. 0 means no skew\n"
      ],
      "metadata": {
        "id": "6LZqCb9qmAeN"
      },
      "execution_count": 20,
      "outputs": []
    },
    {
      "cell_type": "code",
      "source": [
        "fig,ax = plt.subplots()\n",
        "plt.axvline(x= np.mean(x),color='orange')\n",
        "plt.axvline(x = np.median(x), color='green')\n",
        "_ = plt.hist(x,color='lightgray')\n",
        "\n",
        "##mode typically applies to PMFs, but this is PDFs"
      ],
      "metadata": {
        "colab": {
          "base_uri": "https://localhost:8080/",
          "height": 430
        },
        "id": "OTKdIVVpASVm",
        "outputId": "74fdee5e-db68-4941-da2d-9a06664beef2"
      },
      "execution_count": 21,
      "outputs": [
        {
          "output_type": "display_data",
          "data": {
            "text/plain": [
              "<Figure size 640x480 with 1 Axes>"
            ],
            "image/png": "[encoded data removed]"
          },
          "metadata": {}
        }
      ]
    },
    {
      "cell_type": "markdown",
      "source": [
        "skewed disribution"
      ],
      "metadata": {
        "id": "rkpQcR5gBb8R"
      }
    },
    {
      "cell_type": "code",
      "source": [
        "x = st.skewnorm.rvs(10,size=1000)\n"
      ],
      "metadata": {
        "id": "uVdNM_uoA0eu"
      },
      "execution_count": 22,
      "outputs": []
    },
    {
      "cell_type": "code",
      "source": [
        "x"
      ],
      "metadata": {
        "colab": {
          "base_uri": "https://localhost:8080/"
        },
        "id": "OZnF2aN9ymPl",
        "outputId": "cf3a47ed-1134-4f04-de7c-810de4cc4e2d"
      },
      "execution_count": 23,
      "outputs": [
        {
          "output_type": "execute_result",
          "data": {
            "text/plain": [
              "array([ 5.53931525e-01,  1.75589950e+00,  4.56687784e-01,  1.98529279e-01,\n",
              "        4.47570325e-02,  2.52043572e+00,  2.26939879e-01,  9.83204552e-01,\n",
              "        1.83826154e-01,  1.71632461e+00,  7.67456010e-02,  1.02479525e+00,\n",
              "        9.76019874e-01,  4.66135530e-01,  2.15079461e-01,  5.90593068e-01,\n",
              "        1.64499700e+00,  3.09929934e-01,  1.69764012e+00,  6.31690521e-01,\n",
              "        4.41582588e-01,  3.54591705e-01,  3.52272349e-01,  2.03592135e+00,\n",
              "        3.17290793e-01,  8.67759442e-01,  5.31215395e-02,  1.38005663e+00,\n",
              "        1.18823332e-01,  1.81223865e+00,  1.12367001e+00,  1.31822325e-02,\n",
              "        1.06432997e+00,  3.16835972e-01,  1.71556751e+00,  9.72445560e-01,\n",
              "        1.65822702e+00,  4.14224603e-01,  3.38707083e-01,  3.37908633e-01,\n",
              "        2.01783787e+00,  1.65567788e+00,  2.11144470e+00,  1.89132670e-01,\n",
              "        2.33029923e-01,  1.57974239e+00,  1.56700783e+00,  1.29847763e+00,\n",
              "        3.75779426e-01,  1.00944489e+00,  4.77399600e-01,  8.79171460e-01,\n",
              "        6.19778151e-01,  6.79051075e-01,  5.97753702e-01,  8.78318727e-01,\n",
              "        9.70416474e-01,  1.09280701e-01,  1.17554545e+00,  5.25704304e-01,\n",
              "        8.53242212e-01,  1.70539127e-01,  1.10183073e+00,  1.73702245e-01,\n",
              "        5.73548622e-01,  4.02933147e-01,  1.09752269e+00,  6.56524098e-01,\n",
              "        3.69578225e-01,  3.78765517e-01,  8.02630164e-01,  7.17739425e-01,\n",
              "        5.46082440e-01,  1.32199877e+00,  7.72477162e-01,  4.71809667e-01,\n",
              "        2.18586173e+00,  7.28675907e-01,  1.04474998e-01,  7.86570415e-01,\n",
              "        8.37328564e-01,  6.40285620e-01,  1.38233226e-01,  2.05929995e-01,\n",
              "        2.19710304e+00,  2.09270901e+00,  7.87317740e-01,  3.66825238e-01,\n",
              "        2.74024547e+00,  4.43887170e-01,  7.42159074e-01,  1.36531578e+00,\n",
              "        3.68877137e-01,  4.65627836e-01,  2.09498014e-01,  2.06202487e+00,\n",
              "        6.84797695e-01,  2.44742250e-02,  4.66635988e-01,  4.00641863e+00,\n",
              "        1.93511598e+00,  1.78683959e+00,  2.43299963e-01,  3.23678503e-01,\n",
              "        1.00622260e-01,  4.35072412e-01,  4.00926331e-01,  2.34085419e-01,\n",
              "        1.34896776e+00,  7.14811187e-01,  2.82243487e-01,  1.26444435e+00,\n",
              "        3.89479883e-01,  1.17759886e+00,  6.73502670e-01,  3.78419631e-01,\n",
              "        6.26882482e-01,  6.70085612e-01,  5.32948031e-01,  1.83029564e+00,\n",
              "        1.83392795e-01,  7.19896240e-01,  1.92069040e-01,  1.28352859e+00,\n",
              "        5.30635479e-01,  7.63620184e-01,  2.28201776e-01,  2.24226569e-01,\n",
              "        6.51615352e-02,  2.17516823e-01,  2.00983219e-02,  2.59666443e-01,\n",
              "        1.45293454e+00,  9.97699038e-01,  9.31660993e-01,  3.01233967e-01,\n",
              "        7.96517750e-01,  1.02626665e+00,  8.77677919e-01,  1.50400058e+00,\n",
              "        4.76652800e-01,  3.61025757e-01,  1.66611823e+00,  4.67396810e-01,\n",
              "        1.02935187e+00,  3.41768570e-01,  5.77900054e-01,  4.27401849e-01,\n",
              "        2.81431298e-01,  1.05110158e+00,  1.38282746e-01,  2.93368541e+00,\n",
              "        2.13829003e-01,  1.74964983e+00,  1.25128310e+00,  6.90535085e-01,\n",
              "        6.81680730e-01,  1.57022535e+00,  1.00198389e+00,  1.67785626e+00,\n",
              "        9.18316981e-01,  2.59212640e-01,  1.24111339e+00,  1.08225409e+00,\n",
              "        8.93222334e-01,  4.17463529e-01,  5.21446130e-01,  9.74811741e-01,\n",
              "        1.15649234e+00,  2.21438400e-01,  3.81712154e-01,  7.55547953e-01,\n",
              "        1.61104062e+00,  3.97141039e-01,  1.94228723e+00,  1.77973367e-01,\n",
              "        1.32694068e+00,  1.98604027e+00,  9.42230185e-01,  1.24291619e-01,\n",
              "        1.30780800e+00,  6.98103573e-01,  5.97310576e-01,  9.43741867e-02,\n",
              "        3.98289871e-01,  1.42928630e+00,  1.04249825e+00,  1.75498948e-01,\n",
              "        1.62250688e+00,  1.16245833e+00,  6.70595543e-02,  3.83610165e-02,\n",
              "        9.33204729e-01,  2.32263091e+00,  1.34078849e+00,  5.52237627e-01,\n",
              "       -1.24889024e-01,  1.36418628e-01,  1.15267771e+00,  7.99276326e-02,\n",
              "        4.97233598e-02,  1.26746878e+00,  4.96040202e-01,  1.18602721e-01,\n",
              "        1.98426030e+00,  8.59219947e-01,  4.09760142e-01,  1.92534790e+00,\n",
              "        4.17783567e-01,  1.26989118e+00,  2.14527159e-01,  1.60230087e+00,\n",
              "        1.02873280e+00,  4.05768175e-01,  9.09196361e-02,  1.17935822e+00,\n",
              "        1.37878610e+00,  1.37041515e+00,  5.88570528e-01,  9.75600572e-01,\n",
              "        1.55965060e+00,  2.74882884e+00,  5.00432179e-01,  5.40237209e-01,\n",
              "        1.41022184e+00,  6.02524497e-01,  5.93650014e-01,  1.22614423e+00,\n",
              "        1.92799004e+00,  4.18258438e-01,  1.11750888e-01,  4.21138254e-01,\n",
              "        3.48216132e-01,  1.14084852e-01,  2.39018381e+00,  7.95901510e-01,\n",
              "        3.36713957e-01,  1.25991798e+00, -2.18449077e-02,  5.39850283e-01,\n",
              "        2.89411093e-01,  1.47576398e-01,  9.60173668e-01,  2.74132581e-01,\n",
              "        6.27562053e-01,  2.32401671e-01,  7.44407171e-01,  2.52919720e-01,\n",
              "        8.03844056e-01,  2.08107183e+00,  1.22304412e+00,  5.45173854e-02,\n",
              "        4.12995812e-01,  1.23044073e+00,  1.43830577e+00,  6.87885017e-01,\n",
              "        2.41317945e-01,  7.60476364e-01,  1.62486294e+00,  8.31986333e-01,\n",
              "        4.07295773e-01,  2.48015615e-01,  1.10046218e+00,  4.17300596e-01,\n",
              "        3.90495664e-01,  3.03420293e-01,  1.87542552e-01,  4.95011113e-01,\n",
              "        1.60563179e+00,  2.57023264e-01,  1.76506254e+00,  4.78872176e-02,\n",
              "        1.05813121e-01,  7.94160408e-01,  1.20611430e+00,  1.62394230e+00,\n",
              "        4.83292715e-02,  1.60933976e+00,  7.73768150e-01,  1.82029712e+00,\n",
              "        7.35177087e-01,  3.50546030e-01,  1.94221071e-01,  2.77705456e-01,\n",
              "        1.25762528e+00,  7.01898263e-02,  1.79027314e+00,  1.30185742e+00,\n",
              "        5.44573928e-02,  2.86139945e-01, -2.92242406e-02,  1.22086181e+00,\n",
              "        1.82802890e+00,  1.04331381e-01,  1.91827376e+00,  8.97287447e-01,\n",
              "        1.05281680e-01,  4.39573420e-01,  7.36733266e-01,  1.17043181e+00,\n",
              "        1.09580834e+00,  5.21951562e-01,  1.42025820e-01,  5.84171590e-01,\n",
              "        8.52662049e-01,  7.73812517e-01,  1.77573161e+00,  1.15347664e+00,\n",
              "        7.32214462e-01,  3.83815360e-01,  1.31600215e+00,  7.04534739e-01,\n",
              "        4.28431327e-01,  1.83746765e+00,  1.04198387e+00,  3.59085086e-01,\n",
              "        1.44261316e-01,  1.35576113e+00,  5.49203755e-01,  2.13142987e-01,\n",
              "        2.17454439e-01,  9.40103692e-01,  9.98248827e-01,  1.54372703e+00,\n",
              "        5.41624731e-01,  6.22791801e-01,  5.84073723e-01,  3.35595242e-01,\n",
              "        1.08090428e-01,  6.26974140e-01,  1.98751862e+00,  1.49073967e+00,\n",
              "       -8.35412475e-04,  2.44652102e-01,  1.12976795e-01,  3.71565309e-02,\n",
              "        1.61610437e+00,  1.61407716e+00,  3.00942792e-02,  4.02171967e-01,\n",
              "        9.41263117e-01,  9.82466592e-01,  5.59810180e-01,  2.65891952e-01,\n",
              "        9.04149901e-01,  1.95364751e+00,  6.06607896e-02,  5.68818353e-01,\n",
              "        2.78980436e-01,  2.05944015e-01,  6.65469253e-01,  7.18074844e-01,\n",
              "        1.61338948e-01,  8.67960201e-01,  8.31794695e-01,  2.55156566e-01,\n",
              "        2.88399304e+00,  4.47283531e-01,  9.34864502e-01,  1.64478545e+00,\n",
              "        1.17889317e+00,  6.13613576e-02,  1.25738684e+00,  3.20005251e-01,\n",
              "        6.02216930e-01,  5.01386204e-01,  4.83543184e-01,  8.73877828e-01,\n",
              "        1.19169640e+00,  1.66414692e+00,  4.17578615e-01,  1.32753036e-01,\n",
              "       -2.00398557e-03,  4.84746547e-01,  1.09456716e+00,  5.89244188e-01,\n",
              "        1.35877235e+00,  6.76031533e-01,  1.01469402e+00,  6.99794405e-01,\n",
              "        1.46043006e+00,  4.68368025e-01,  1.15091298e+00,  4.78951402e-01,\n",
              "        1.00126311e+00,  4.68882628e-01,  1.18240846e+00,  3.87348067e-01,\n",
              "        8.23965408e-01,  1.35974069e+00,  9.57107435e-01,  8.18013453e-01,\n",
              "        8.47066543e-01,  1.81425917e+00,  3.68269939e-01,  7.35011326e-01,\n",
              "        2.39810074e+00,  8.56011474e-01,  1.76493053e+00,  1.92002162e+00,\n",
              "        8.18360424e-01,  2.02959229e+00,  6.69741908e-01,  4.91977360e-01,\n",
              "        2.08501346e-01,  3.14853671e-01,  1.23121818e-01,  1.17602594e+00,\n",
              "        9.36591541e-01,  7.35956040e-01,  7.19663686e-01,  5.42025758e-01,\n",
              "        8.10670134e-01,  3.36939417e-01,  1.15211336e+00,  1.22573223e+00,\n",
              "        1.73833842e+00,  1.33066815e+00,  7.36497816e-01,  1.82851273e+00,\n",
              "        1.46365838e+00,  5.69782906e-01,  6.99369452e-01,  5.38407703e-01,\n",
              "        1.28293763e+00,  8.37794037e-01,  1.36318116e+00,  8.09019136e-01,\n",
              "        1.45684126e-01,  9.31238517e-01,  6.56693881e-01,  1.28517955e+00,\n",
              "        8.03002131e-01,  3.79745111e-02,  5.72144087e-01,  1.88086963e+00,\n",
              "        1.12632059e+00,  1.95213104e+00,  1.42962864e+00,  7.11788459e-02,\n",
              "        1.14524075e+00,  1.28325259e+00,  3.28400106e-01,  9.25476600e-01,\n",
              "       -1.70838388e-01,  2.94293176e+00,  1.71901480e+00,  1.12299640e+00,\n",
              "        1.69435580e-01,  6.14543259e-01,  4.55464968e-01,  5.10985312e-01,\n",
              "        2.76913913e-01,  1.85440427e+00,  7.07254366e-01,  3.17641058e-01,\n",
              "        6.56340055e-01,  9.44246321e-01,  3.89064161e-01,  2.50384951e-01,\n",
              "        9.59887056e-01,  5.66943516e-01,  1.17171999e+00,  1.34087078e+00,\n",
              "        1.37660638e-01,  1.72373513e-02,  8.24550390e-01,  1.13790561e+00,\n",
              "        6.56161563e-01,  1.98069462e+00,  8.45018788e-01,  5.74694751e-01,\n",
              "        1.18729378e-01,  7.35760883e-01,  2.27745402e-01,  9.20741963e-01,\n",
              "        7.41850104e-01,  6.10118725e-01,  1.11290329e+00,  1.33863819e+00,\n",
              "        1.10484447e+00,  3.74509194e-02,  7.24242992e-02,  5.87524519e-01,\n",
              "        6.49145623e-01, -1.20555584e-01,  2.02633895e+00,  9.68933187e-01,\n",
              "        1.63126645e+00,  1.51618138e+00,  3.74017981e-01,  1.92139815e-01,\n",
              "        4.74454434e-01,  2.26349319e-01,  1.46209987e+00,  2.51827951e+00,\n",
              "        1.12295889e+00,  3.15602573e-01,  1.08096943e+00,  1.22193470e+00,\n",
              "        1.56308809e+00,  9.28250400e-01,  1.24560346e+00,  1.05281124e+00,\n",
              "        2.94723069e-01,  1.06915484e+00,  1.18621160e-01,  9.50668374e-01,\n",
              "        9.65270076e-01,  8.97109363e-01,  4.66676125e-01,  4.32698501e-01,\n",
              "        1.73285323e+00,  4.65396610e-02,  1.17159484e+00,  2.73538877e-01,\n",
              "        2.12491945e+00,  9.71570223e-01,  4.00396611e-01,  5.14472526e-01,\n",
              "        1.65827385e-01,  8.65197455e-01,  1.13166298e+00,  2.27503857e+00,\n",
              "        1.93180595e-01,  9.10254814e-01,  1.41985064e+00,  1.49562118e-01,\n",
              "        1.02252551e+00,  5.75925571e-01,  6.16498520e-02,  4.96740818e-01,\n",
              "        9.17643232e-01,  7.90628515e-01,  9.77034832e-01,  1.65285530e+00,\n",
              "        1.65704768e+00,  5.91065643e-01,  1.43971779e+00,  1.39970385e+00,\n",
              "        1.52432981e+00,  9.81545514e-02,  2.94972916e-01,  1.75586827e+00,\n",
              "        7.96225874e-01,  2.22382357e-01,  8.27408193e-01,  1.32589849e+00,\n",
              "        1.02498310e+00,  1.62310456e+00,  2.87686864e-01,  1.42525584e+00,\n",
              "        5.81988694e-01,  1.92113403e-01,  7.19430219e-01,  3.34490240e-01,\n",
              "        4.01407463e-01, -8.96855815e-02,  5.50643752e-01,  9.35774127e-02,\n",
              "        1.00777842e-01,  2.15041558e+00,  5.14745007e-01,  9.07174599e-01,\n",
              "        1.11702084e+00,  1.76102236e+00,  1.75746695e+00,  1.22976590e+00,\n",
              "        7.64869032e-01,  2.15231825e+00,  5.75572068e-01,  1.80092585e-01,\n",
              "        3.31579056e-01,  1.52631013e-01,  2.50416661e-01,  1.24369494e+00,\n",
              "        1.33505675e+00,  1.81169454e+00,  1.57535677e+00,  9.54666514e-01,\n",
              "        5.14410624e-01,  7.56557452e-01,  5.32835995e-01,  8.01922478e-01,\n",
              "        2.16994612e+00,  1.20217167e+00,  1.45165139e-01,  1.04158297e+00,\n",
              "        1.03996630e+00,  6.01384246e-01,  8.80453840e-01, -6.48008677e-02,\n",
              "        8.71871259e-01,  1.96609739e-01,  1.51793732e+00,  7.17254567e-01,\n",
              "        4.13326932e-02,  1.28298259e-01,  2.04630250e+00,  1.51418759e+00,\n",
              "        4.13459946e-01,  1.38578143e+00,  2.36764657e+00,  3.08579512e-01,\n",
              "        5.37479265e-01,  6.73593753e-01,  1.07019686e-01,  6.36681404e-02,\n",
              "        4.21356405e-01,  2.43541111e+00,  6.67219269e-01,  8.72484577e-02,\n",
              "        1.67548387e-01,  2.12388610e+00,  7.38087282e-01,  4.07152856e-01,\n",
              "        1.87635082e+00,  1.07649830e+00,  5.27438687e-01,  8.57074167e-02,\n",
              "        8.62638699e-01,  1.27825817e-02,  1.32112112e+00,  7.50261364e-01,\n",
              "        4.68049895e-01,  1.84904282e-01,  5.48647606e-01,  5.10247828e-01,\n",
              "        1.85680983e+00,  9.45944535e-01,  2.86178534e-01,  1.29364750e+00,\n",
              "        4.52191459e-01,  1.04781416e+00,  2.86998049e-01,  1.11760483e+00,\n",
              "        5.42214731e-01,  1.53306396e-01,  2.20612257e+00,  9.53866040e-01,\n",
              "        6.87658907e-01,  1.29708957e+00,  1.31580483e+00,  3.41028883e-01,\n",
              "        9.77886809e-03,  5.88870233e-01,  1.95197736e-01,  1.64842831e+00,\n",
              "        4.99237228e-01,  1.21110358e+00,  1.98345890e-01,  7.91032462e-01,\n",
              "        3.37939962e-01,  2.62634718e-01,  5.24526025e-01,  1.29841669e+00,\n",
              "        1.26245141e-02,  5.28314939e-01,  2.78877435e+00,  2.07151302e+00,\n",
              "        9.68228891e-01,  5.07084445e-01, -1.35655585e-01,  1.09996303e+00,\n",
              "        1.80557713e+00,  2.07189122e+00,  2.39808203e-01,  1.13415782e+00,\n",
              "        1.16703082e-01,  1.44515920e+00,  3.25193513e-01,  1.72834022e-01,\n",
              "        4.41600770e-01,  1.79023240e-01,  5.87878015e-02, -4.72674388e-02,\n",
              "        1.80855023e-01,  1.00118954e+00,  6.29297203e-01,  1.22705798e+00,\n",
              "        9.27074734e-01,  2.01991602e+00,  1.00910785e+00,  1.48433534e+00,\n",
              "        4.19540397e-01,  2.56177972e+00,  4.43613408e-01,  8.80136562e-03,\n",
              "        1.00895850e+00,  6.71345612e-01,  1.56446231e+00,  6.04121989e-01,\n",
              "        8.32298303e-01,  1.58953868e+00,  2.86048534e-01,  3.07679106e-01,\n",
              "        4.35095896e-01,  5.78296288e-01,  5.94206183e-01,  2.09245550e+00,\n",
              "        7.31336262e-01, -5.93005420e-02,  3.98132502e-01,  4.73729320e-01,\n",
              "        1.07937959e+00,  7.58779853e-01, -1.12574657e-01,  9.20387441e-02,\n",
              "        5.20594465e-01,  1.32790201e+00,  3.90076243e-01,  3.42713421e-02,\n",
              "        5.63207753e-01,  5.37870871e-01,  1.09665234e+00,  7.67166075e-01,\n",
              "        1.64492491e+00,  1.83205863e+00,  4.14908893e-01,  3.82243129e-01,\n",
              "        8.33144745e-01,  4.56522396e-01,  1.30782996e+00,  2.29515462e+00,\n",
              "        4.51721282e-01,  2.37399706e+00,  9.11478735e-01,  1.82755781e+00,\n",
              "        4.61467618e-01,  1.05419281e+00,  3.35053484e-01,  2.13365066e+00,\n",
              "        1.82787628e+00,  1.10091720e+00,  1.50671837e+00,  1.94253498e+00,\n",
              "        5.30833089e-02,  1.32031493e+00,  2.15931965e+00,  1.52308715e+00,\n",
              "        6.97138279e-01,  8.38555010e-01,  7.05640236e-02,  8.33202188e-02,\n",
              "        2.25706209e-01,  1.63735454e+00,  6.93847825e-01,  1.13149942e+00,\n",
              "        1.40650262e+00,  3.69719557e-01,  6.73658311e-01,  1.45355211e+00,\n",
              "        1.06521243e+00,  5.86400555e-02,  3.90190327e-01,  1.47656008e+00,\n",
              "        4.31838591e-01,  2.40295599e+00,  1.83884523e+00,  6.20178879e-02,\n",
              "        5.37302966e-01,  1.58305064e-01,  1.66064372e-01,  1.22755348e+00,\n",
              "        1.25143426e-01,  5.81957367e-01,  2.26824197e+00,  1.21048508e+00,\n",
              "        1.03242248e+00, -5.37625178e-03,  3.12761634e-01,  9.46678037e-01,\n",
              "        3.67717413e-01,  9.00938992e-01,  3.55351006e-01,  1.27570291e+00,\n",
              "        3.99684203e-01,  1.34933426e-01,  1.33832189e+00,  2.63488032e-01,\n",
              "        9.44938191e-01,  4.53964161e-01,  8.67687442e-01,  9.78194448e-01,\n",
              "        2.13506962e+00,  1.22676708e+00,  1.91024457e+00,  1.13881483e+00,\n",
              "        5.21674281e-02,  1.16836902e+00,  5.90597695e-01,  8.22135048e-01,\n",
              "        1.18769463e+00,  5.01711605e-01,  1.00202292e+00,  6.20649456e-01,\n",
              "        2.34651404e+00,  1.68818145e+00,  1.25217661e+00,  1.15648177e+00,\n",
              "        9.96164830e-01,  1.13062167e+00,  3.76445426e-01,  9.59783711e-02,\n",
              "        8.41335327e-01,  6.22258151e-01,  2.20233446e+00,  1.31197807e-01,\n",
              "        6.69576289e-01,  8.12216012e-01,  8.10327856e-01,  1.12529777e+00,\n",
              "        1.27458379e+00,  4.96626082e-01,  4.06087239e-02, -9.01704009e-02,\n",
              "        3.47255884e-02,  3.42872260e-01,  6.94975914e-01,  7.00180381e-01,\n",
              "        8.66877446e-01,  5.65087334e-01,  1.18718069e+00,  8.79677864e-01,\n",
              "        1.41118472e+00,  5.21501534e-01,  2.05670027e+00,  1.23498563e-01,\n",
              "        1.92379724e+00,  8.17662649e-01,  8.96570254e-01,  6.87304916e-01,\n",
              "        1.42608185e+00,  5.87293735e-01,  4.39754102e-01,  6.84800862e-01,\n",
              "        1.96352402e-01,  8.23853114e-01,  3.51868054e-01, -2.44850818e-02,\n",
              "        2.85376627e-01,  2.46798125e-01,  3.23851331e-01,  1.73706645e-01,\n",
              "        4.13471723e-01,  1.68865005e-01,  1.00749847e+00, -1.03379216e-01,\n",
              "        7.43559844e-01,  9.47689784e-01,  1.18795103e-01,  2.08246073e-01,\n",
              "        6.18119488e-01,  4.51810370e-01,  3.81289556e-01,  6.10414456e-01,\n",
              "        4.47100256e-01,  7.59524792e-01,  2.18617129e-01,  5.76756555e-01,\n",
              "       -2.42303483e-02,  2.16975813e+00,  1.84179379e-01,  2.12172082e+00,\n",
              "        2.10791854e-01,  7.52645038e-01,  3.15218750e-01,  2.63930270e-01,\n",
              "        1.25830105e+00,  1.26732201e+00,  6.63902317e-01,  7.53200618e-01,\n",
              "        2.26633174e-01,  3.40545434e-01,  1.08925537e+00,  7.05662334e-01,\n",
              "        1.08955902e+00,  7.11100760e-01, -1.75023788e-02, -2.32749181e-02,\n",
              "        1.41766823e-01,  3.94628587e-02,  1.27150942e+00,  5.82955424e-02,\n",
              "        1.13700534e+00,  4.48932734e-01,  3.24181311e-01,  1.15351205e+00,\n",
              "        4.96909710e-01,  7.80107550e-01,  2.39363782e+00,  1.68926430e-01,\n",
              "        1.12541722e+00,  1.99012829e-01,  5.22481832e-01,  8.59490913e-01,\n",
              "        1.30680755e+00,  1.10454909e+00,  8.48875957e-01,  3.33244223e-01,\n",
              "        5.18146010e-01,  4.57582306e-01,  9.41065868e-01,  2.68295645e-01,\n",
              "        9.61091860e-01,  1.30160439e+00,  8.45477082e-01,  7.75256213e-01,\n",
              "        8.22285862e-02,  2.93283952e-01,  3.81968448e-01,  1.29732036e+00,\n",
              "        5.17015140e-01,  3.53962179e-02,  1.48931654e+00,  1.25032670e+00,\n",
              "        3.20374972e-01,  2.08649184e+00,  1.01569939e+00,  1.61139459e-01,\n",
              "        3.46465001e+00,  2.41430044e+00,  1.08624608e-01,  9.46848402e-02,\n",
              "        1.09085652e+00,  1.74626249e+00,  1.62729236e+00,  1.80771580e+00,\n",
              "        6.26999341e-01,  2.64376416e-01,  5.15363268e-01,  1.01585720e+00,\n",
              "        1.03526707e+00,  2.30272447e+00,  7.35449752e-01,  8.29049353e-01,\n",
              "        2.11256343e+00,  1.91449621e-01,  8.18189653e-01,  2.61427803e-02,\n",
              "        5.34271851e-01,  1.55187416e-01,  5.04568376e-01,  1.27155567e+00,\n",
              "        6.59504241e-01,  5.68027335e-01,  3.20243212e-01,  2.08497202e-01,\n",
              "        8.30572041e-01,  2.08970335e-01,  2.15246498e+00,  6.95173121e-02,\n",
              "        1.33537136e+00,  1.45708351e+00,  4.73174332e-01,  3.01972589e-01,\n",
              "        1.22315044e+00,  4.86486758e-01,  7.42025100e-01,  1.92980099e+00,\n",
              "       -4.60579185e-02,  2.15939986e+00,  2.09769991e-01, -4.96636687e-02,\n",
              "        1.94114294e-01, -5.55151240e-02,  7.42118549e-01,  8.57423669e-01,\n",
              "        1.25691775e-01,  4.23568137e-02,  1.08824396e+00,  1.27188799e+00,\n",
              "        7.63834384e-01,  4.70901992e-01,  9.98363747e-01,  5.92098369e-01,\n",
              "        7.13884180e-01,  7.54004350e-01,  1.99315911e+00,  5.47076784e-01,\n",
              "        1.82446851e+00,  1.10269893e+00,  2.17427075e+00,  4.01736389e-01,\n",
              "        1.21804567e-01,  2.96063212e-01,  1.20563169e+00,  1.26378052e+00,\n",
              "        7.36219696e-01,  5.78229040e-01,  3.87521432e-01,  9.45598438e-01,\n",
              "       -2.78287495e-02,  1.27986879e+00,  5.56828129e-01,  4.50156459e-01,\n",
              "        2.44515351e-01,  2.13175123e-01, -7.09611810e-03,  4.49768421e-01])"
            ]
          },
          "metadata": {},
          "execution_count": 23
        }
      ]
    },
    {
      "cell_type": "code",
      "source": [
        "fig,ax = plt.subplots()\n",
        "plt.axvline(x= np.mean(x),color='orange')\n",
        "plt.axvline(x = np.median(x), color='green')\n",
        "_ = plt.hist(x,color='lightgray')"
      ],
      "metadata": {
        "colab": {
          "base_uri": "https://localhost:8080/",
          "height": 430
        },
        "id": "27m3xS_kBhsb",
        "outputId": "21e921b0-5ae3-4ea5-f115-56e499e40c02"
      },
      "execution_count": 24,
      "outputs": [
        {
          "output_type": "display_data",
          "data": {
            "text/plain": [
              "<Figure size 640x480 with 1 Axes>"
            ],
            "image/png": "[encoded data removed]"
          },
          "metadata": {}
        }
      ]
    },
    {
      "cell_type": "markdown",
      "source": [
        "##Quantiles\n",
        "\n",
        "### The median, which divides a distribution in two at its midpoint, is most well known example of quantile"
      ],
      "metadata": {
        "id": "Sbh9sf9MCVxx"
      }
    },
    {
      "cell_type": "code",
      "source": [
        "np.median(x)"
      ],
      "metadata": {
        "colab": {
          "base_uri": "https://localhost:8080/"
        },
        "id": "2QBdoiW8BmeJ",
        "outputId": "f9346377-d4f9-4094-a821-20b0df12682c"
      },
      "execution_count": 25,
      "outputs": [
        {
          "output_type": "execute_result",
          "data": {
            "text/plain": [
              "0.6987365121323832"
            ]
          },
          "metadata": {},
          "execution_count": 25
        }
      ]
    },
    {
      "cell_type": "code",
      "source": [
        "np.quantile(x,0.5)"
      ],
      "metadata": {
        "colab": {
          "base_uri": "https://localhost:8080/"
        },
        "id": "KQuEZpnJCisf",
        "outputId": "ff2906c4-7edf-4b14-84f9-dc915d713412"
      },
      "execution_count": 26,
      "outputs": [
        {
          "output_type": "execute_result",
          "data": {
            "text/plain": [
              "0.6987365121323832"
            ]
          },
          "metadata": {},
          "execution_count": 26
        }
      ]
    },
    {
      "cell_type": "markdown",
      "source": [
        "##Percentile\n",
        "### Percentiles divide the distribution at any point outof one hundred. eg if we'd like to identify a threshold of top 5% of a distribution, we cut it at the 95% percentile."
      ],
      "metadata": {
        "id": "GDDiePZLDUz_"
      }
    },
    {
      "cell_type": "code",
      "source": [
        "p = np.percentile(x,[95,99])\n",
        "p"
      ],
      "metadata": {
        "colab": {
          "base_uri": "https://localhost:8080/"
        },
        "id": "3pC-SKgECrT5",
        "outputId": "e02bf9d7-49ea-4ff7-a33a-3960b6b23c5d"
      },
      "execution_count": 27,
      "outputs": [
        {
          "output_type": "execute_result",
          "data": {
            "text/plain": [
              "array([2.06249928, 2.51830108])"
            ]
          },
          "metadata": {},
          "execution_count": 27
        }
      ]
    },
    {
      "cell_type": "code",
      "source": [
        "fig,ax = plt.subplots()\n",
        "plt.axvline(x=p[0],color='orange')\n",
        "plt.axvline(x=p[1],color='green')\n",
        "\n",
        "_ = plt.hist(x,color='lightgray')"
      ],
      "metadata": {
        "colab": {
          "base_uri": "https://localhost:8080/",
          "height": 430
        },
        "id": "H2NQ_juqDyl_",
        "outputId": "ff4886eb-dd5d-467c-c498-c1bd3ee6776c"
      },
      "execution_count": 28,
      "outputs": [
        {
          "output_type": "display_data",
          "data": {
            "text/plain": [
              "<Figure size 640x480 with 1 Axes>"
            ],
            "image/png": "[encoded data removed]"
          },
          "metadata": {}
        }
      ]
    },
    {
      "cell_type": "code",
      "source": [
        "np.quantile(x,[.95,.99])"
      ],
      "metadata": {
        "colab": {
          "base_uri": "https://localhost:8080/"
        },
        "id": "zVA2GFCsEEmd",
        "outputId": "be32fcfb-59f3-4c79-dca8-998e14793934"
      },
      "execution_count": 29,
      "outputs": [
        {
          "output_type": "execute_result",
          "data": {
            "text/plain": [
              "array([2.06249928, 2.51830108])"
            ]
          },
          "metadata": {},
          "execution_count": 29
        }
      ]
    },
    {
      "cell_type": "markdown",
      "source": [
        "## Quartiles\n",
        "### Quartiles as the name suggests are the quantiles that divide distribution into quarters by splitting them at 25th, median 50th, 75th percentile"
      ],
      "metadata": {
        "id": "auR8fINREmcu"
      }
    },
    {
      "cell_type": "code",
      "source": [
        "q = np.percentile(x,[25,50,75])\n",
        "q"
      ],
      "metadata": {
        "colab": {
          "base_uri": "https://localhost:8080/"
        },
        "id": "WIezEvrYEX9-",
        "outputId": "f95a2ca2-a905-42cf-f286-51f8617e5747"
      },
      "execution_count": 30,
      "outputs": [
        {
          "output_type": "execute_result",
          "data": {
            "text/plain": [
              "array([0.32494046, 0.69873651, 1.19431522])"
            ]
          },
          "metadata": {},
          "execution_count": 30
        }
      ]
    },
    {
      "cell_type": "code",
      "source": [
        "fig,ax = plt.subplots()\n",
        "plt.axvline(q[0],color='orange')\n",
        "plt.axvline(q[1],color='green')\n",
        "plt.axvline(q[2], color='purple')\n",
        "\n",
        "_ = ax.hist(x,color='lightgray')"
      ],
      "metadata": {
        "colab": {
          "base_uri": "https://localhost:8080/",
          "height": 430
        },
        "id": "xhHjihH0E6YD",
        "outputId": "07d80095-52cc-4553-f338-5ef1a5451872"
      },
      "execution_count": 31,
      "outputs": [
        {
          "output_type": "display_data",
          "data": {
            "text/plain": [
              "<Figure size 640x480 with 1 Axes>"
            ],
            "image/png": "[encoded data removed]"
          },
          "metadata": {}
        }
      ]
    },
    {
      "cell_type": "markdown",
      "source": [
        "##Deciles\n",
        "### deciles divide the distribution into ten evenly-sized segments"
      ],
      "metadata": {
        "id": "mNSL03SsFqGs"
      }
    },
    {
      "cell_type": "code",
      "source": [
        "d = np.percentile(x,range(10,100,10))\n",
        "d"
      ],
      "metadata": {
        "colab": {
          "base_uri": "https://localhost:8080/"
        },
        "id": "GV9VQitpFHiX",
        "outputId": "3287e89d-f522-4630-e6e4-0b3c6392753e"
      },
      "execution_count": 32,
      "outputs": [
        {
          "output_type": "execute_result",
          "data": {
            "text/plain": [
              "array([0.11871856, 0.24991108, 0.3992659 , 0.53290322, 0.69873651,\n",
              "       0.86771624, 1.08994827, 1.30781239, 1.75782249])"
            ]
          },
          "metadata": {},
          "execution_count": 32
        }
      ]
    },
    {
      "cell_type": "code",
      "source": [
        "fig,ax = plt.subplots()\n",
        "[plt.axvline(i, color='cornflowerblue') for i in d]\n",
        "_ = plt.hist(x,color='lightgray')"
      ],
      "metadata": {
        "colab": {
          "base_uri": "https://localhost:8080/",
          "height": 430
        },
        "id": "LTNrouiWF0-x",
        "outputId": "378174cc-a3dc-44e4-c4b0-2280b54485d0"
      },
      "execution_count": 33,
      "outputs": [
        {
          "output_type": "display_data",
          "data": {
            "text/plain": [
              "<Figure size 640x480 with 1 Axes>"
            ],
            "image/png": "[encoded data removed]"
          },
          "metadata": {}
        }
      ]
    },
    {
      "cell_type": "markdown",
      "source": [
        "##**The Box and Whiskers plot**"
      ],
      "metadata": {
        "id": "g9NPlX3ByRjB"
      }
    },
    {
      "cell_type": "code",
      "source": [
        "sns.set(style='whitegrid')"
      ],
      "metadata": {
        "id": "qCkhOB5SGH1R"
      },
      "execution_count": 34,
      "outputs": []
    },
    {
      "cell_type": "code",
      "source": [
        "_ = sns.boxplot(x=x)"
      ],
      "metadata": {
        "colab": {
          "base_uri": "https://localhost:8080/",
          "height": 434
        },
        "id": "qsx3uHqvyfIC",
        "outputId": "c1bf6399-6e39-4b7c-d298-25d7340ba7eb"
      },
      "execution_count": 35,
      "outputs": [
        {
          "output_type": "display_data",
          "data": {
            "text/plain": [
              "<Figure size 640x480 with 1 Axes>"
            ],
            "image/png": "[encoded data removed]"
          },
          "metadata": {}
        }
      ]
    },
    {
      "cell_type": "markdown",
      "source": [
        "###Box edges and the median are determined by teh quartiles"
      ],
      "metadata": {
        "id": "V-ZH1JwGzCyw"
      }
    },
    {
      "cell_type": "code",
      "source": [
        "q"
      ],
      "metadata": {
        "colab": {
          "base_uri": "https://localhost:8080/"
        },
        "id": "4S52XZPQyyij",
        "outputId": "a00380cf-78b2-4857-b855-d86059e9fa41"
      },
      "execution_count": 36,
      "outputs": [
        {
          "output_type": "execute_result",
          "data": {
            "text/plain": [
              "array([0.32494046, 0.69873651, 1.19431522])"
            ]
          },
          "metadata": {},
          "execution_count": 36
        }
      ]
    },
    {
      "cell_type": "markdown",
      "source": [
        "###Box edges define the inter-quartiles range IQR"
      ],
      "metadata": {
        "id": "nqGkM_sdzW14"
      }
    },
    {
      "cell_type": "code",
      "source": [
        "iqr = 1.194-0.325"
      ],
      "metadata": {
        "id": "DVHee8GYzJb2"
      },
      "execution_count": 37,
      "outputs": []
    },
    {
      "cell_type": "markdown",
      "source": [
        "Whisker lengths are determined by furthest data points within 1.5 X IQR of the box edges."
      ],
      "metadata": {
        "id": "QNH9QPH0zwpK"
      }
    },
    {
      "cell_type": "markdown",
      "source": [
        "### In this case, the lower whisker could stretch as far down (to the left) as:"
      ],
      "metadata": {
        "id": "fTmUFHrY0Ee6"
      }
    },
    {
      "cell_type": "code",
      "source": [
        "0.325 - 1.5*iqr"
      ],
      "metadata": {
        "colab": {
          "base_uri": "https://localhost:8080/"
        },
        "id": "TO8vMdTnzjjM",
        "outputId": "96f0d69a-221d-4293-aeaa-b054be7f9482"
      },
      "execution_count": 38,
      "outputs": [
        {
          "output_type": "execute_result",
          "data": {
            "text/plain": [
              "-0.9785000000000001"
            ]
          },
          "metadata": {},
          "execution_count": 38
        }
      ]
    },
    {
      "cell_type": "markdown",
      "source": [
        "### The lowest value is inside of that so whisker is plotted where that lowest value is:"
      ],
      "metadata": {
        "id": "tYbcS12d0Xxu"
      }
    },
    {
      "cell_type": "code",
      "source": [
        "np.min(x)"
      ],
      "metadata": {
        "colab": {
          "base_uri": "https://localhost:8080/"
        },
        "id": "wPhSXb1w0RBU",
        "outputId": "4c3a5014-ba86-4c8c-c5cf-0213b16eaa44"
      },
      "execution_count": 39,
      "outputs": [
        {
          "output_type": "execute_result",
          "data": {
            "text/plain": [
              "-0.17083838831568182"
            ]
          },
          "metadata": {},
          "execution_count": 39
        }
      ]
    },
    {
      "cell_type": "markdown",
      "source": [
        "### The upper whisker could stretch as far up (to the right):"
      ],
      "metadata": {
        "id": "H6upsbc60pvI"
      }
    },
    {
      "cell_type": "code",
      "source": [
        "1.194  + 1.5*iqr"
      ],
      "metadata": {
        "colab": {
          "base_uri": "https://localhost:8080/"
        },
        "id": "lPIDEwgO0kU2",
        "outputId": "500fc239-6016-4bc7-ee63-1a457d9f43a6"
      },
      "execution_count": 40,
      "outputs": [
        {
          "output_type": "execute_result",
          "data": {
            "text/plain": [
              "2.4975"
            ]
          },
          "metadata": {},
          "execution_count": 40
        }
      ]
    },
    {
      "cell_type": "code",
      "source": [
        "np.max(x)"
      ],
      "metadata": {
        "colab": {
          "base_uri": "https://localhost:8080/"
        },
        "id": "x3rCIL4l012g",
        "outputId": "eaea4741-7e57-4ef9-ca80-a3080a72d983"
      },
      "execution_count": 41,
      "outputs": [
        {
          "output_type": "execute_result",
          "data": {
            "text/plain": [
              "4.0064186272069575"
            ]
          },
          "metadata": {},
          "execution_count": 41
        }
      ]
    },
    {
      "cell_type": "markdown",
      "source": [
        "## There are several values beyond that threshold in teh distribution. those are called outliers and are plotted individually:"
      ],
      "metadata": {
        "id": "tR6x5smS1FXN"
      }
    },
    {
      "cell_type": "code",
      "source": [
        "x.sort()"
      ],
      "metadata": {
        "id": "CO3uTpnj03RL"
      },
      "execution_count": 42,
      "outputs": []
    },
    {
      "cell_type": "code",
      "source": [
        "x[-15:]"
      ],
      "metadata": {
        "colab": {
          "base_uri": "https://localhost:8080/"
        },
        "id": "rb2Hz-k41QWj",
        "outputId": "fc0a2e56-9f2c-4c36-8ca1-ac91e531278e"
      },
      "execution_count": 43,
      "outputs": [
        {
          "output_type": "execute_result",
          "data": {
            "text/plain": [
              "array([2.39810074, 2.40295599, 2.41430044, 2.43541111, 2.51827951,\n",
              "       2.52043572, 2.56177972, 2.74024547, 2.74882884, 2.78877435,\n",
              "       2.88399304, 2.93368541, 2.94293176, 3.46465001, 4.00641863])"
            ]
          },
          "metadata": {},
          "execution_count": 43
        }
      ]
    },
    {
      "cell_type": "markdown",
      "source": [
        "## Useful for examining distributions on their own, box-and-whisker plot are hlpful for comparing the distribution"
      ],
      "metadata": {
        "id": "ejsZEGIA2ABW"
      }
    },
    {
      "cell_type": "code",
      "source": [
        "iris = sns.load_dataset('iris')\n",
        "iris"
      ],
      "metadata": {
        "colab": {
          "base_uri": "https://localhost:8080/",
          "height": 423
        },
        "id": "f6UiA1Y01V7Z",
        "outputId": "8e6919ba-5425-4eb9-ab6a-7e76fb11c62d"
      },
      "execution_count": 44,
      "outputs": [
        {
          "output_type": "execute_result",
          "data": {
            "text/plain": [
              "     sepal_length  sepal_width  petal_length  petal_width    species\n",
              "0             5.1          3.5           1.4          0.2     setosa\n",
              "1             4.9          3.0           1.4          0.2     setosa\n",
              "2             4.7          3.2           1.3          0.2     setosa\n",
              "3             4.6          3.1           1.5          0.2     setosa\n",
              "4             5.0          3.6           1.4          0.2     setosa\n",
              "..            ...          ...           ...          ...        ...\n",
              "145           6.7          3.0           5.2          2.3  virginica\n",
              "146           6.3          2.5           5.0          1.9  virginica\n",
              "147           6.5          3.0           5.2          2.0  virginica\n",
              "148           6.2          3.4           5.4          2.3  virginica\n",
              "149           5.9          3.0           5.1          1.8  virginica\n",
              "\n",
              "[150 rows x 5 columns]"
            ],
            "text/html": [
              "\n",
              "  <div id=\"df-44018117-e5a1-405f-a150-9295c8c2417a\" class=\"colab-df-container\">\n",
              "    <div>\n",
              "<style scoped>\n",
              "    .dataframe tbody tr th:only-of-type {\n",
              "        vertical-align: middle;\n",
              "    }\n",
              "\n",
              "    .dataframe tbody tr th {\n",
              "        vertical-align: top;\n",
              "    }\n",
              "\n",
              "    .dataframe thead th {\n",
              "        text-align: right;\n",
              "    }\n",
              "</style>\n",
              "<table border=\"1\" class=\"dataframe\">\n",
              "  <thead>\n",
              "    <tr style=\"text-align: right;\">\n",
              "      <th></th>\n",
              "      <th>sepal_length</th>\n",
              "      <th>sepal_width</th>\n",
              "      <th>petal_length</th>\n",
              "      <th>petal_width</th>\n",
              "      <th>species</th>\n",
              "    </tr>\n",
              "  </thead>\n",
              "  <tbody>\n",
              "    <tr>\n",
              "      <th>0</th>\n",
              "      <td>5.1</td>\n",
              "      <td>3.5</td>\n",
              "      <td>1.4</td>\n",
              "      <td>0.2</td>\n",
              "      <td>setosa</td>\n",
              "    </tr>\n",
              "    <tr>\n",
              "      <th>1</th>\n",
              "      <td>4.9</td>\n",
              "      <td>3.0</td>\n",
              "      <td>1.4</td>\n",
              "      <td>0.2</td>\n",
              "      <td>setosa</td>\n",
              "    </tr>\n",
              "    <tr>\n",
              "      <th>2</th>\n",
              "      <td>4.7</td>\n",
              "      <td>3.2</td>\n",
              "      <td>1.3</td>\n",
              "      <td>0.2</td>\n",
              "      <td>setosa</td>\n",
              "    </tr>\n",
              "    <tr>\n",
              "      <th>3</th>\n",
              "      <td>4.6</td>\n",
              "      <td>3.1</td>\n",
              "      <td>1.5</td>\n",
              "      <td>0.2</td>\n",
              "      <td>setosa</td>\n",
              "    </tr>\n",
              "    <tr>\n",
              "      <th>4</th>\n",
              "      <td>5.0</td>\n",
              "      <td>3.6</td>\n",
              "      <td>1.4</td>\n",
              "      <td>0.2</td>\n",
              "      <td>setosa</td>\n",
              "    </tr>\n",
              "    <tr>\n",
              "      <th>...</th>\n",
              "      <td>...</td>\n",
              "      <td>...</td>\n",
              "      <td>...</td>\n",
              "      <td>...</td>\n",
              "      <td>...</td>\n",
              "    </tr>\n",
              "    <tr>\n",
              "      <th>145</th>\n",
              "      <td>6.7</td>\n",
              "      <td>3.0</td>\n",
              "      <td>5.2</td>\n",
              "      <td>2.3</td>\n",
              "      <td>virginica</td>\n",
              "    </tr>\n",
              "    <tr>\n",
              "      <th>146</th>\n",
              "      <td>6.3</td>\n",
              "      <td>2.5</td>\n",
              "      <td>5.0</td>\n",
              "      <td>1.9</td>\n",
              "      <td>virginica</td>\n",
              "    </tr>\n",
              "    <tr>\n",
              "      <th>147</th>\n",
              "      <td>6.5</td>\n",
              "      <td>3.0</td>\n",
              "      <td>5.2</td>\n",
              "      <td>2.0</td>\n",
              "      <td>virginica</td>\n",
              "    </tr>\n",
              "    <tr>\n",
              "      <th>148</th>\n",
              "      <td>6.2</td>\n",
              "      <td>3.4</td>\n",
              "      <td>5.4</td>\n",
              "      <td>2.3</td>\n",
              "      <td>virginica</td>\n",
              "    </tr>\n",
              "    <tr>\n",
              "      <th>149</th>\n",
              "      <td>5.9</td>\n",
              "      <td>3.0</td>\n",
              "      <td>5.1</td>\n",
              "      <td>1.8</td>\n",
              "      <td>virginica</td>\n",
              "    </tr>\n",
              "  </tbody>\n",
              "</table>\n",
              "<p>150 rows × 5 columns</p>\n",
              "</div>\n",
              "    <div class=\"colab-df-buttons\">\n",
              "\n",
              "  <div class=\"colab-df-container\">\n",
              "    <button class=\"colab-df-convert\" onclick=\"convertToInteractive('df-44018117-e5a1-405f-a150-9295c8c2417a')\"\n",
              "            title=\"Convert this dataframe to an interactive table.\"\n",
              "            style=\"display:none;\">\n",
              "\n",
              "  <svg xmlns=\"http://www.w3.org/2000/svg\" height=\"24px\" viewBox=\"0 -960 960 960\">\n",
              "    <path d=\"M120-120v-720h720v720H120Zm60-500h600v-160H180v160Zm220 220h160v-160H400v160Zm0 220h160v-160H400v160ZM180-400h160v-160H180v160Zm440 0h160v-160H620v160ZM180-180h160v-160H180v160Zm440 0h160v-160H620v160Z\"/>\n",
              "  </svg>\n",
              "    </button>\n",
              "\n",
              "  <style>\n",
              "    .colab-df-container {\n",
              "      display:flex;\n",
              "      gap: 12px;\n",
              "    }\n",
              "\n",
              "    .colab-df-convert {\n",
              "      background-color: #E8F0FE;\n",
              "      border: none;\n",
              "      border-radius: 50%;\n",
              "      cursor: pointer;\n",
              "      display: none;\n",
              "      fill: #1967D2;\n",
              "      height: 32px;\n",
              "      padding: 0 0 0 0;\n",
              "      width: 32px;\n",
              "    }\n",
              "\n",
              "    .colab-df-convert:hover {\n",
              "      background-color: #E2EBFA;\n",
              "      box-shadow: 0px 1px 2px rgba(60, 64, 67, 0.3), 0px 1px 3px 1px rgba(60, 64, 67, 0.15);\n",
              "      fill: #174EA6;\n",
              "    }\n",
              "\n",
              "    .colab-df-buttons div {\n",
              "      margin-bottom: 4px;\n",
              "    }\n",
              "\n",
              "    [theme=dark] .colab-df-convert {\n",
              "      background-color: #3B4455;\n",
              "      fill: #D2E3FC;\n",
              "    }\n",
              "\n",
              "    [theme=dark] .colab-df-convert:hover {\n",
              "      background-color: #434B5C;\n",
              "      box-shadow: 0px 1px 3px 1px rgba(0, 0, 0, 0.15);\n",
              "      filter: drop-shadow(0px 1px 2px rgba(0, 0, 0, 0.3));\n",
              "      fill: #FFFFFF;\n",
              "    }\n",
              "  </style>\n",
              "\n",
              "    <script>\n",
              "      const buttonEl =\n",
              "        document.querySelector('#df-44018117-e5a1-405f-a150-9295c8c2417a button.colab-df-convert');\n",
              "      buttonEl.style.display =\n",
              "        google.colab.kernel.accessAllowed ? 'block' : 'none';\n",
              "\n",
              "      async function convertToInteractive(key) {\n",
              "        const element = document.querySelector('#df-44018117-e5a1-405f-a150-9295c8c2417a');\n",
              "        const dataTable =\n",
              "          await google.colab.kernel.invokeFunction('convertToInteractive',\n",
              "                                                    [key], {});\n",
              "        if (!dataTable) return;\n",
              "\n",
              "        const docLinkHtml = 'Like what you see? Visit the ' +\n",
              "          '<a target=\"_blank\" href=https://colab.research.google.com/notebooks/data_table.ipynb>data table notebook</a>'\n",
              "          + ' to learn more about interactive tables.';\n",
              "        element.innerHTML = '';\n",
              "        dataTable['output_type'] = 'display_data';\n",
              "        await google.colab.output.renderOutput(dataTable, element);\n",
              "        const docLink = document.createElement('div');\n",
              "        docLink.innerHTML = docLinkHtml;\n",
              "        element.appendChild(docLink);\n",
              "      }\n",
              "    </script>\n",
              "  </div>\n",
              "\n",
              "\n",
              "<div id=\"df-99508840-fe1e-4f77-8756-047c19527cc8\">\n",
              "  <button class=\"colab-df-quickchart\" onclick=\"quickchart('df-99508840-fe1e-4f77-8756-047c19527cc8')\"\n",
              "            title=\"Suggest charts\"\n",
              "            style=\"display:none;\">\n",
              "\n",
              "<svg xmlns=\"http://www.w3.org/2000/svg\" height=\"24px\"viewBox=\"0 0 24 24\"\n",
              "     width=\"24px\">\n",
              "    <g>\n",
              "        <path d=\"M19 3H5c-1.1 0-2 .9-2 2v14c0 1.1.9 2 2 2h14c1.1 0 2-.9 2-2V5c0-1.1-.9-2-2-2zM9 17H7v-7h2v7zm4 0h-2V7h2v10zm4 0h-2v-4h2v4z\"/>\n",
              "    </g>\n",
              "</svg>\n",
              "  </button>\n",
              "\n",
              "<style>\n",
              "  .colab-df-quickchart {\n",
              "      --bg-color: #E8F0FE;\n",
              "      --fill-color: #1967D2;\n",
              "      --hover-bg-color: #E2EBFA;\n",
              "      --hover-fill-color: #174EA6;\n",
              "      --disabled-fill-color: #AAA;\n",
              "      --disabled-bg-color: #DDD;\n",
              "  }\n",
              "\n",
              "  [theme=dark] .colab-df-quickchart {\n",
              "      --bg-color: #3B4455;\n",
              "      --fill-color: #D2E3FC;\n",
              "      --hover-bg-color: #434B5C;\n",
              "      --hover-fill-color: #FFFFFF;\n",
              "      --disabled-bg-color: #3B4455;\n",
              "      --disabled-fill-color: #666;\n",
              "  }\n",
              "\n",
              "  .colab-df-quickchart {\n",
              "    background-color: var(--bg-color);\n",
              "    border: none;\n",
              "    border-radius: 50%;\n",
              "    cursor: pointer;\n",
              "    display: none;\n",
              "    fill: var(--fill-color);\n",
              "    height: 32px;\n",
              "    padding: 0;\n",
              "    width: 32px;\n",
              "  }\n",
              "\n",
              "  .colab-df-quickchart:hover {\n",
              "    background-color: var(--hover-bg-color);\n",
              "    box-shadow: 0 1px 2px rgba(60, 64, 67, 0.3), 0 1px 3px 1px rgba(60, 64, 67, 0.15);\n",
              "    fill: var(--button-hover-fill-color);\n",
              "  }\n",
              "\n",
              "  .colab-df-quickchart-complete:disabled,\n",
              "  .colab-df-quickchart-complete:disabled:hover {\n",
              "    background-color: var(--disabled-bg-color);\n",
              "    fill: var(--disabled-fill-color);\n",
              "    box-shadow: none;\n",
              "  }\n",
              "\n",
              "  .colab-df-spinner {\n",
              "    border: 2px solid var(--fill-color);\n",
              "    border-color: transparent;\n",
              "    border-bottom-color: var(--fill-color);\n",
              "    animation:\n",
              "      spin 1s steps(1) infinite;\n",
              "  }\n",
              "\n",
              "  @keyframes spin {\n",
              "    0% {\n",
              "      border-color: transparent;\n",
              "      border-bottom-color: var(--fill-color);\n",
              "      border-left-color: var(--fill-color);\n",
              "    }\n",
              "    20% {\n",
              "      border-color: transparent;\n",
              "      border-left-color: var(--fill-color);\n",
              "      border-top-color: var(--fill-color);\n",
              "    }\n",
              "    30% {\n",
              "      border-color: transparent;\n",
              "      border-left-color: var(--fill-color);\n",
              "      border-top-color: var(--fill-color);\n",
              "      border-right-color: var(--fill-color);\n",
              "    }\n",
              "    40% {\n",
              "      border-color: transparent;\n",
              "      border-right-color: var(--fill-color);\n",
              "      border-top-color: var(--fill-color);\n",
              "    }\n",
              "    60% {\n",
              "      border-color: transparent;\n",
              "      border-right-color: var(--fill-color);\n",
              "    }\n",
              "    80% {\n",
              "      border-color: transparent;\n",
              "      border-right-color: var(--fill-color);\n",
              "      border-bottom-color: var(--fill-color);\n",
              "    }\n",
              "    90% {\n",
              "      border-color: transparent;\n",
              "      border-bottom-color: var(--fill-color);\n",
              "    }\n",
              "  }\n",
              "</style>\n",
              "\n",
              "  <script>\n",
              "    async function quickchart(key) {\n",
              "      const quickchartButtonEl =\n",
              "        document.querySelector('#' + key + ' button');\n",
              "      quickchartButtonEl.disabled = true;  // To prevent multiple clicks.\n",
              "      quickchartButtonEl.classList.add('colab-df-spinner');\n",
              "      try {\n",
              "        const charts = await google.colab.kernel.invokeFunction(\n",
              "            'suggestCharts', [key], {});\n",
              "      } catch (error) {\n",
              "        console.error('Error during call to suggestCharts:', error);\n",
              "      }\n",
              "      quickchartButtonEl.classList.remove('colab-df-spinner');\n",
              "      quickchartButtonEl.classList.add('colab-df-quickchart-complete');\n",
              "    }\n",
              "    (() => {\n",
              "      let quickchartButtonEl =\n",
              "        document.querySelector('#df-99508840-fe1e-4f77-8756-047c19527cc8 button');\n",
              "      quickchartButtonEl.style.display =\n",
              "        google.colab.kernel.accessAllowed ? 'block' : 'none';\n",
              "    })();\n",
              "  </script>\n",
              "</div>\n",
              "\n",
              "  <div id=\"id_18d43e0e-2040-4a63-b6e6-60f6a5ba8b88\">\n",
              "    <style>\n",
              "      .colab-df-generate {\n",
              "        background-color: #E8F0FE;\n",
              "        border: none;\n",
              "        border-radius: 50%;\n",
              "        cursor: pointer;\n",
              "        display: none;\n",
              "        fill: #1967D2;\n",
              "        height: 32px;\n",
              "        padding: 0 0 0 0;\n",
              "        width: 32px;\n",
              "      }\n",
              "\n",
              "      .colab-df-generate:hover {\n",
              "        background-color: #E2EBFA;\n",
              "        box-shadow: 0px 1px 2px rgba(60, 64, 67, 0.3), 0px 1px 3px 1px rgba(60, 64, 67, 0.15);\n",
              "        fill: #174EA6;\n",
              "      }\n",
              "\n",
              "      [theme=dark] .colab-df-generate {\n",
              "        background-color: #3B4455;\n",
              "        fill: #D2E3FC;\n",
              "      }\n",
              "\n",
              "      [theme=dark] .colab-df-generate:hover {\n",
              "        background-color: #434B5C;\n",
              "        box-shadow: 0px 1px 3px 1px rgba(0, 0, 0, 0.15);\n",
              "        filter: drop-shadow(0px 1px 2px rgba(0, 0, 0, 0.3));\n",
              "        fill: #FFFFFF;\n",
              "      }\n",
              "    </style>\n",
              "    <button class=\"colab-df-generate\" onclick=\"generateWithVariable('iris')\"\n",
              "            title=\"Generate code using this dataframe.\"\n",
              "            style=\"display:none;\">\n",
              "\n",
              "  <svg xmlns=\"http://www.w3.org/2000/svg\" height=\"24px\"viewBox=\"0 0 24 24\"\n",
              "       width=\"24px\">\n",
              "    <path d=\"M7,19H8.4L18.45,9,17,7.55,7,17.6ZM5,21V16.75L18.45,3.32a2,2,0,0,1,2.83,0l1.4,1.43a1.91,1.91,0,0,1,.58,1.4,1.91,1.91,0,0,1-.58,1.4L9.25,21ZM18.45,9,17,7.55Zm-12,3A5.31,5.31,0,0,0,4.9,8.1,5.31,5.31,0,0,0,1,6.5,5.31,5.31,0,0,0,4.9,4.9,5.31,5.31,0,0,0,6.5,1,5.31,5.31,0,0,0,8.1,4.9,5.31,5.31,0,0,0,12,6.5,5.46,5.46,0,0,0,6.5,12Z\"/>\n",
              "  </svg>\n",
              "    </button>\n",
              "    <script>\n",
              "      (() => {\n",
              "      const buttonEl =\n",
              "        document.querySelector('#id_18d43e0e-2040-4a63-b6e6-60f6a5ba8b88 button.colab-df-generate');\n",
              "      buttonEl.style.display =\n",
              "        google.colab.kernel.accessAllowed ? 'block' : 'none';\n",
              "\n",
              "      buttonEl.onclick = () => {\n",
              "        google.colab.notebook.generateWithVariable('iris');\n",
              "      }\n",
              "      })();\n",
              "    </script>\n",
              "  </div>\n",
              "\n",
              "    </div>\n",
              "  </div>\n"
            ],
            "application/vnd.google.colaboratory.intrinsic+json": {
              "type": "dataframe",
              "variable_name": "iris",
              "summary": "{\n  \"name\": \"iris\",\n  \"rows\": 150,\n  \"fields\": [\n    {\n      \"column\": \"sepal_length\",\n      \"properties\": {\n        \"dtype\": \"number\",\n        \"std\": 0.828066127977863,\n        \"min\": 4.3,\n        \"max\": 7.9,\n        \"samples\": [\n          6.2,\n          4.5,\n          5.6\n        ],\n        \"num_unique_values\": 35,\n        \"semantic_type\": \"\",\n        \"description\": \"\"\n      }\n    },\n    {\n      \"column\": \"sepal_width\",\n      \"properties\": {\n        \"dtype\": \"number\",\n        \"std\": 0.4358662849366982,\n        \"min\": 2.0,\n        \"max\": 4.4,\n        \"samples\": [\n          2.3,\n          4.0,\n          3.5\n        ],\n        \"num_unique_values\": 23,\n        \"semantic_type\": \"\",\n        \"description\": \"\"\n      }\n    },\n    {\n      \"column\": \"petal_length\",\n      \"properties\": {\n        \"dtype\": \"number\",\n        \"std\": 1.7652982332594662,\n        \"min\": 1.0,\n        \"max\": 6.9,\n        \"samples\": [\n          6.7,\n          3.8,\n          3.7\n        ],\n        \"num_unique_values\": 43,\n        \"semantic_type\": \"\",\n        \"description\": \"\"\n      }\n    },\n    {\n      \"column\": \"petal_width\",\n      \"properties\": {\n        \"dtype\": \"number\",\n        \"std\": 0.7622376689603465,\n        \"min\": 0.1,\n        \"max\": 2.5,\n        \"samples\": [\n          0.2,\n          1.2,\n          1.3\n        ],\n        \"num_unique_values\": 22,\n        \"semantic_type\": \"\",\n        \"description\": \"\"\n      }\n    },\n    {\n      \"column\": \"species\",\n      \"properties\": {\n        \"dtype\": \"category\",\n        \"samples\": [\n          \"setosa\",\n          \"versicolor\",\n          \"virginica\"\n        ],\n        \"num_unique_values\": 3,\n        \"semantic_type\": \"\",\n        \"description\": \"\"\n      }\n    }\n  ]\n}"
            }
          },
          "metadata": {},
          "execution_count": 44
        }
      ]
    },
    {
      "cell_type": "code",
      "source": [
        "_ = sns.boxplot(data=iris)"
      ],
      "metadata": {
        "colab": {
          "base_uri": "https://localhost:8080/",
          "height": 435
        },
        "id": "qWuTEkys2PGM",
        "outputId": "418ba8e0-a4e7-4580-8713-4031b3a12142"
      },
      "execution_count": 45,
      "outputs": [
        {
          "output_type": "display_data",
          "data": {
            "text/plain": [
              "<Figure size 640x480 with 1 Axes>"
            ],
            "image/png": "[encoded data removed]"
          },
          "metadata": {}
        }
      ]
    },
    {
      "cell_type": "code",
      "source": [
        "tips = sns.load_dataset('tips')\n"
      ],
      "metadata": {
        "id": "u9X9CVJ02W4S"
      },
      "execution_count": 46,
      "outputs": []
    },
    {
      "cell_type": "code",
      "source": [
        "tips"
      ],
      "metadata": {
        "colab": {
          "base_uri": "https://localhost:8080/",
          "height": 423
        },
        "id": "QFDgF9Gl20Oi",
        "outputId": "a8a80702-c10e-4988-8089-a4242855afed"
      },
      "execution_count": 47,
      "outputs": [
        {
          "output_type": "execute_result",
          "data": {
            "text/plain": [
              "     total_bill   tip     sex smoker   day    time  size\n",
              "0         16.99  1.01  Female     No   Sun  Dinner     2\n",
              "1         10.34  1.66    Male     No   Sun  Dinner     3\n",
              "2         21.01  3.50    Male     No   Sun  Dinner     3\n",
              "3         23.68  3.31    Male     No   Sun  Dinner     2\n",
              "4         24.59  3.61  Female     No   Sun  Dinner     4\n",
              "..          ...   ...     ...    ...   ...     ...   ...\n",
              "239       29.03  5.92    Male     No   Sat  Dinner     3\n",
              "240       27.18  2.00  Female    Yes   Sat  Dinner     2\n",
              "241       22.67  2.00    Male    Yes   Sat  Dinner     2\n",
              "242       17.82  1.75    Male     No   Sat  Dinner     2\n",
              "243       18.78  3.00  Female     No  Thur  Dinner     2\n",
              "\n",
              "[244 rows x 7 columns]"
            ],
            "text/html": [
              "\n",
              "  <div id=\"df-9edb782b-a391-4f4a-8690-a565fed47fc4\" class=\"colab-df-container\">\n",
              "    <div>\n",
              "<style scoped>\n",
              "    .dataframe tbody tr th:only-of-type {\n",
              "        vertical-align: middle;\n",
              "    }\n",
              "\n",
              "    .dataframe tbody tr th {\n",
              "        vertical-align: top;\n",
              "    }\n",
              "\n",
              "    .dataframe thead th {\n",
              "        text-align: right;\n",
              "    }\n",
              "</style>\n",
              "<table border=\"1\" class=\"dataframe\">\n",
              "  <thead>\n",
              "    <tr style=\"text-align: right;\">\n",
              "      <th></th>\n",
              "      <th>total_bill</th>\n",
              "      <th>tip</th>\n",
              "      <th>sex</th>\n",
              "      <th>smoker</th>\n",
              "      <th>day</th>\n",
              "      <th>time</th>\n",
              "      <th>size</th>\n",
              "    </tr>\n",
              "  </thead>\n",
              "  <tbody>\n",
              "    <tr>\n",
              "      <th>0</th>\n",
              "      <td>16.99</td>\n",
              "      <td>1.01</td>\n",
              "      <td>Female</td>\n",
              "      <td>No</td>\n",
              "      <td>Sun</td>\n",
              "      <td>Dinner</td>\n",
              "      <td>2</td>\n",
              "    </tr>\n",
              "    <tr>\n",
              "      <th>1</th>\n",
              "      <td>10.34</td>\n",
              "      <td>1.66</td>\n",
              "      <td>Male</td>\n",
              "      <td>No</td>\n",
              "      <td>Sun</td>\n",
              "      <td>Dinner</td>\n",
              "      <td>3</td>\n",
              "    </tr>\n",
              "    <tr>\n",
              "      <th>2</th>\n",
              "      <td>21.01</td>\n",
              "      <td>3.50</td>\n",
              "      <td>Male</td>\n",
              "      <td>No</td>\n",
              "      <td>Sun</td>\n",
              "      <td>Dinner</td>\n",
              "      <td>3</td>\n",
              "    </tr>\n",
              "    <tr>\n",
              "      <th>3</th>\n",
              "      <td>23.68</td>\n",
              "      <td>3.31</td>\n",
              "      <td>Male</td>\n",
              "      <td>No</td>\n",
              "      <td>Sun</td>\n",
              "      <td>Dinner</td>\n",
              "      <td>2</td>\n",
              "    </tr>\n",
              "    <tr>\n",
              "      <th>4</th>\n",
              "      <td>24.59</td>\n",
              "      <td>3.61</td>\n",
              "      <td>Female</td>\n",
              "      <td>No</td>\n",
              "      <td>Sun</td>\n",
              "      <td>Dinner</td>\n",
              "      <td>4</td>\n",
              "    </tr>\n",
              "    <tr>\n",
              "      <th>...</th>\n",
              "      <td>...</td>\n",
              "      <td>...</td>\n",
              "      <td>...</td>\n",
              "      <td>...</td>\n",
              "      <td>...</td>\n",
              "      <td>...</td>\n",
              "      <td>...</td>\n",
              "    </tr>\n",
              "    <tr>\n",
              "      <th>239</th>\n",
              "      <td>29.03</td>\n",
              "      <td>5.92</td>\n",
              "      <td>Male</td>\n",
              "      <td>No</td>\n",
              "      <td>Sat</td>\n",
              "      <td>Dinner</td>\n",
              "      <td>3</td>\n",
              "    </tr>\n",
              "    <tr>\n",
              "      <th>240</th>\n",
              "      <td>27.18</td>\n",
              "      <td>2.00</td>\n",
              "      <td>Female</td>\n",
              "      <td>Yes</td>\n",
              "      <td>Sat</td>\n",
              "      <td>Dinner</td>\n",
              "      <td>2</td>\n",
              "    </tr>\n",
              "    <tr>\n",
              "      <th>241</th>\n",
              "      <td>22.67</td>\n",
              "      <td>2.00</td>\n",
              "      <td>Male</td>\n",
              "      <td>Yes</td>\n",
              "      <td>Sat</td>\n",
              "      <td>Dinner</td>\n",
              "      <td>2</td>\n",
              "    </tr>\n",
              "    <tr>\n",
              "      <th>242</th>\n",
              "      <td>17.82</td>\n",
              "      <td>1.75</td>\n",
              "      <td>Male</td>\n",
              "      <td>No</td>\n",
              "      <td>Sat</td>\n",
              "      <td>Dinner</td>\n",
              "      <td>2</td>\n",
              "    </tr>\n",
              "    <tr>\n",
              "      <th>243</th>\n",
              "      <td>18.78</td>\n",
              "      <td>3.00</td>\n",
              "      <td>Female</td>\n",
              "      <td>No</td>\n",
              "      <td>Thur</td>\n",
              "      <td>Dinner</td>\n",
              "      <td>2</td>\n",
              "    </tr>\n",
              "  </tbody>\n",
              "</table>\n",
              "<p>244 rows × 7 columns</p>\n",
              "</div>\n",
              "    <div class=\"colab-df-buttons\">\n",
              "\n",
              "  <div class=\"colab-df-container\">\n",
              "    <button class=\"colab-df-convert\" onclick=\"convertToInteractive('df-9edb782b-a391-4f4a-8690-a565fed47fc4')\"\n",
              "            title=\"Convert this dataframe to an interactive table.\"\n",
              "            style=\"display:none;\">\n",
              "\n",
              "  <svg xmlns=\"http://www.w3.org/2000/svg\" height=\"24px\" viewBox=\"0 -960 960 960\">\n",
              "    <path d=\"M120-120v-720h720v720H120Zm60-500h600v-160H180v160Zm220 220h160v-160H400v160Zm0 220h160v-160H400v160ZM180-400h160v-160H180v160Zm440 0h160v-160H620v160ZM180-180h160v-160H180v160Zm440 0h160v-160H620v160Z\"/>\n",
              "  </svg>\n",
              "    </button>\n",
              "\n",
              "  <style>\n",
              "    .colab-df-container {\n",
              "      display:flex;\n",
              "      gap: 12px;\n",
              "    }\n",
              "\n",
              "    .colab-df-convert {\n",
              "      background-color: #E8F0FE;\n",
              "      border: none;\n",
              "      border-radius: 50%;\n",
              "      cursor: pointer;\n",
              "      display: none;\n",
              "      fill: #1967D2;\n",
              "      height: 32px;\n",
              "      padding: 0 0 0 0;\n",
              "      width: 32px;\n",
              "    }\n",
              "\n",
              "    .colab-df-convert:hover {\n",
              "      background-color: #E2EBFA;\n",
              "      box-shadow: 0px 1px 2px rgba(60, 64, 67, 0.3), 0px 1px 3px 1px rgba(60, 64, 67, 0.15);\n",
              "      fill: #174EA6;\n",
              "    }\n",
              "\n",
              "    .colab-df-buttons div {\n",
              "      margin-bottom: 4px;\n",
              "    }\n",
              "\n",
              "    [theme=dark] .colab-df-convert {\n",
              "      background-color: #3B4455;\n",
              "      fill: #D2E3FC;\n",
              "    }\n",
              "\n",
              "    [theme=dark] .colab-df-convert:hover {\n",
              "      background-color: #434B5C;\n",
              "      box-shadow: 0px 1px 3px 1px rgba(0, 0, 0, 0.15);\n",
              "      filter: drop-shadow(0px 1px 2px rgba(0, 0, 0, 0.3));\n",
              "      fill: #FFFFFF;\n",
              "    }\n",
              "  </style>\n",
              "\n",
              "    <script>\n",
              "      const buttonEl =\n",
              "        document.querySelector('#df-9edb782b-a391-4f4a-8690-a565fed47fc4 button.colab-df-convert');\n",
              "      buttonEl.style.display =\n",
              "        google.colab.kernel.accessAllowed ? 'block' : 'none';\n",
              "\n",
              "      async function convertToInteractive(key) {\n",
              "        const element = document.querySelector('#df-9edb782b-a391-4f4a-8690-a565fed47fc4');\n",
              "        const dataTable =\n",
              "          await google.colab.kernel.invokeFunction('convertToInteractive',\n",
              "                                                    [key], {});\n",
              "        if (!dataTable) return;\n",
              "\n",
              "        const docLinkHtml = 'Like what you see? Visit the ' +\n",
              "          '<a target=\"_blank\" href=https://colab.research.google.com/notebooks/data_table.ipynb>data table notebook</a>'\n",
              "          + ' to learn more about interactive tables.';\n",
              "        element.innerHTML = '';\n",
              "        dataTable['output_type'] = 'display_data';\n",
              "        await google.colab.output.renderOutput(dataTable, element);\n",
              "        const docLink = document.createElement('div');\n",
              "        docLink.innerHTML = docLinkHtml;\n",
              "        element.appendChild(docLink);\n",
              "      }\n",
              "    </script>\n",
              "  </div>\n",
              "\n",
              "\n",
              "<div id=\"df-565c0c06-937e-4650-a123-4169842229da\">\n",
              "  <button class=\"colab-df-quickchart\" onclick=\"quickchart('df-565c0c06-937e-4650-a123-4169842229da')\"\n",
              "            title=\"Suggest charts\"\n",
              "            style=\"display:none;\">\n",
              "\n",
              "<svg xmlns=\"http://www.w3.org/2000/svg\" height=\"24px\"viewBox=\"0 0 24 24\"\n",
              "     width=\"24px\">\n",
              "    <g>\n",
              "        <path d=\"M19 3H5c-1.1 0-2 .9-2 2v14c0 1.1.9 2 2 2h14c1.1 0 2-.9 2-2V5c0-1.1-.9-2-2-2zM9 17H7v-7h2v7zm4 0h-2V7h2v10zm4 0h-2v-4h2v4z\"/>\n",
              "    </g>\n",
              "</svg>\n",
              "  </button>\n",
              "\n",
              "<style>\n",
              "  .colab-df-quickchart {\n",
              "      --bg-color: #E8F0FE;\n",
              "      --fill-color: #1967D2;\n",
              "      --hover-bg-color: #E2EBFA;\n",
              "      --hover-fill-color: #174EA6;\n",
              "      --disabled-fill-color: #AAA;\n",
              "      --disabled-bg-color: #DDD;\n",
              "  }\n",
              "\n",
              "  [theme=dark] .colab-df-quickchart {\n",
              "      --bg-color: #3B4455;\n",
              "      --fill-color: #D2E3FC;\n",
              "      --hover-bg-color: #434B5C;\n",
              "      --hover-fill-color: #FFFFFF;\n",
              "      --disabled-bg-color: #3B4455;\n",
              "      --disabled-fill-color: #666;\n",
              "  }\n",
              "\n",
              "  .colab-df-quickchart {\n",
              "    background-color: var(--bg-color);\n",
              "    border: none;\n",
              "    border-radius: 50%;\n",
              "    cursor: pointer;\n",
              "    display: none;\n",
              "    fill: var(--fill-color);\n",
              "    height: 32px;\n",
              "    padding: 0;\n",
              "    width: 32px;\n",
              "  }\n",
              "\n",
              "  .colab-df-quickchart:hover {\n",
              "    background-color: var(--hover-bg-color);\n",
              "    box-shadow: 0 1px 2px rgba(60, 64, 67, 0.3), 0 1px 3px 1px rgba(60, 64, 67, 0.15);\n",
              "    fill: var(--button-hover-fill-color);\n",
              "  }\n",
              "\n",
              "  .colab-df-quickchart-complete:disabled,\n",
              "  .colab-df-quickchart-complete:disabled:hover {\n",
              "    background-color: var(--disabled-bg-color);\n",
              "    fill: var(--disabled-fill-color);\n",
              "    box-shadow: none;\n",
              "  }\n",
              "\n",
              "  .colab-df-spinner {\n",
              "    border: 2px solid var(--fill-color);\n",
              "    border-color: transparent;\n",
              "    border-bottom-color: var(--fill-color);\n",
              "    animation:\n",
              "      spin 1s steps(1) infinite;\n",
              "  }\n",
              "\n",
              "  @keyframes spin {\n",
              "    0% {\n",
              "      border-color: transparent;\n",
              "      border-bottom-color: var(--fill-color);\n",
              "      border-left-color: var(--fill-color);\n",
              "    }\n",
              "    20% {\n",
              "      border-color: transparent;\n",
              "      border-left-color: var(--fill-color);\n",
              "      border-top-color: var(--fill-color);\n",
              "    }\n",
              "    30% {\n",
              "      border-color: transparent;\n",
              "      border-left-color: var(--fill-color);\n",
              "      border-top-color: var(--fill-color);\n",
              "      border-right-color: var(--fill-color);\n",
              "    }\n",
              "    40% {\n",
              "      border-color: transparent;\n",
              "      border-right-color: var(--fill-color);\n",
              "      border-top-color: var(--fill-color);\n",
              "    }\n",
              "    60% {\n",
              "      border-color: transparent;\n",
              "      border-right-color: var(--fill-color);\n",
              "    }\n",
              "    80% {\n",
              "      border-color: transparent;\n",
              "      border-right-color: var(--fill-color);\n",
              "      border-bottom-color: var(--fill-color);\n",
              "    }\n",
              "    90% {\n",
              "      border-color: transparent;\n",
              "      border-bottom-color: var(--fill-color);\n",
              "    }\n",
              "  }\n",
              "</style>\n",
              "\n",
              "  <script>\n",
              "    async function quickchart(key) {\n",
              "      const quickchartButtonEl =\n",
              "        document.querySelector('#' + key + ' button');\n",
              "      quickchartButtonEl.disabled = true;  // To prevent multiple clicks.\n",
              "      quickchartButtonEl.classList.add('colab-df-spinner');\n",
              "      try {\n",
              "        const charts = await google.colab.kernel.invokeFunction(\n",
              "            'suggestCharts', [key], {});\n",
              "      } catch (error) {\n",
              "        console.error('Error during call to suggestCharts:', error);\n",
              "      }\n",
              "      quickchartButtonEl.classList.remove('colab-df-spinner');\n",
              "      quickchartButtonEl.classList.add('colab-df-quickchart-complete');\n",
              "    }\n",
              "    (() => {\n",
              "      let quickchartButtonEl =\n",
              "        document.querySelector('#df-565c0c06-937e-4650-a123-4169842229da button');\n",
              "      quickchartButtonEl.style.display =\n",
              "        google.colab.kernel.accessAllowed ? 'block' : 'none';\n",
              "    })();\n",
              "  </script>\n",
              "</div>\n",
              "\n",
              "  <div id=\"id_e09d550e-2ed2-4458-ac14-9b974c1687cf\">\n",
              "    <style>\n",
              "      .colab-df-generate {\n",
              "        background-color: #E8F0FE;\n",
              "        border: none;\n",
              "        border-radius: 50%;\n",
              "        cursor: pointer;\n",
              "        display: none;\n",
              "        fill: #1967D2;\n",
              "        height: 32px;\n",
              "        padding: 0 0 0 0;\n",
              "        width: 32px;\n",
              "      }\n",
              "\n",
              "      .colab-df-generate:hover {\n",
              "        background-color: #E2EBFA;\n",
              "        box-shadow: 0px 1px 2px rgba(60, 64, 67, 0.3), 0px 1px 3px 1px rgba(60, 64, 67, 0.15);\n",
              "        fill: #174EA6;\n",
              "      }\n",
              "\n",
              "      [theme=dark] .colab-df-generate {\n",
              "        background-color: #3B4455;\n",
              "        fill: #D2E3FC;\n",
              "      }\n",
              "\n",
              "      [theme=dark] .colab-df-generate:hover {\n",
              "        background-color: #434B5C;\n",
              "        box-shadow: 0px 1px 3px 1px rgba(0, 0, 0, 0.15);\n",
              "        filter: drop-shadow(0px 1px 2px rgba(0, 0, 0, 0.3));\n",
              "        fill: #FFFFFF;\n",
              "      }\n",
              "    </style>\n",
              "    <button class=\"colab-df-generate\" onclick=\"generateWithVariable('tips')\"\n",
              "            title=\"Generate code using this dataframe.\"\n",
              "            style=\"display:none;\">\n",
              "\n",
              "  <svg xmlns=\"http://www.w3.org/2000/svg\" height=\"24px\"viewBox=\"0 0 24 24\"\n",
              "       width=\"24px\">\n",
              "    <path d=\"M7,19H8.4L18.45,9,17,7.55,7,17.6ZM5,21V16.75L18.45,3.32a2,2,0,0,1,2.83,0l1.4,1.43a1.91,1.91,0,0,1,.58,1.4,1.91,1.91,0,0,1-.58,1.4L9.25,21ZM18.45,9,17,7.55Zm-12,3A5.31,5.31,0,0,0,4.9,8.1,5.31,5.31,0,0,0,1,6.5,5.31,5.31,0,0,0,4.9,4.9,5.31,5.31,0,0,0,6.5,1,5.31,5.31,0,0,0,8.1,4.9,5.31,5.31,0,0,0,12,6.5,5.46,5.46,0,0,0,6.5,12Z\"/>\n",
              "  </svg>\n",
              "    </button>\n",
              "    <script>\n",
              "      (() => {\n",
              "      const buttonEl =\n",
              "        document.querySelector('#id_e09d550e-2ed2-4458-ac14-9b974c1687cf button.colab-df-generate');\n",
              "      buttonEl.style.display =\n",
              "        google.colab.kernel.accessAllowed ? 'block' : 'none';\n",
              "\n",
              "      buttonEl.onclick = () => {\n",
              "        google.colab.notebook.generateWithVariable('tips');\n",
              "      }\n",
              "      })();\n",
              "    </script>\n",
              "  </div>\n",
              "\n",
              "    </div>\n",
              "  </div>\n"
            ],
            "application/vnd.google.colaboratory.intrinsic+json": {
              "type": "dataframe",
              "variable_name": "tips",
              "summary": "{\n  \"name\": \"tips\",\n  \"rows\": 244,\n  \"fields\": [\n    {\n      \"column\": \"total_bill\",\n      \"properties\": {\n        \"dtype\": \"number\",\n        \"std\": 8.902411954856856,\n        \"min\": 3.07,\n        \"max\": 50.81,\n        \"samples\": [\n          22.12,\n          20.23,\n          14.78\n        ],\n        \"num_unique_values\": 229,\n        \"semantic_type\": \"\",\n        \"description\": \"\"\n      }\n    },\n    {\n      \"column\": \"tip\",\n      \"properties\": {\n        \"dtype\": \"number\",\n        \"std\": 1.3836381890011822,\n        \"min\": 1.0,\n        \"max\": 10.0,\n        \"samples\": [\n          3.35,\n          1.5,\n          6.73\n        ],\n        \"num_unique_values\": 123,\n        \"semantic_type\": \"\",\n        \"description\": \"\"\n      }\n    },\n    {\n      \"column\": \"sex\",\n      \"properties\": {\n        \"dtype\": \"category\",\n        \"samples\": [\n          \"Male\",\n          \"Female\"\n        ],\n        \"num_unique_values\": 2,\n        \"semantic_type\": \"\",\n        \"description\": \"\"\n      }\n    },\n    {\n      \"column\": \"smoker\",\n      \"properties\": {\n        \"dtype\": \"category\",\n        \"samples\": [\n          \"Yes\",\n          \"No\"\n        ],\n        \"num_unique_values\": 2,\n        \"semantic_type\": \"\",\n        \"description\": \"\"\n      }\n    },\n    {\n      \"column\": \"day\",\n      \"properties\": {\n        \"dtype\": \"category\",\n        \"samples\": [\n          \"Sat\",\n          \"Fri\"\n        ],\n        \"num_unique_values\": 4,\n        \"semantic_type\": \"\",\n        \"description\": \"\"\n      }\n    },\n    {\n      \"column\": \"time\",\n      \"properties\": {\n        \"dtype\": \"category\",\n        \"samples\": [\n          \"Lunch\",\n          \"Dinner\"\n        ],\n        \"num_unique_values\": 2,\n        \"semantic_type\": \"\",\n        \"description\": \"\"\n      }\n    },\n    {\n      \"column\": \"size\",\n      \"properties\": {\n        \"dtype\": \"number\",\n        \"std\": 0,\n        \"min\": 1,\n        \"max\": 6,\n        \"samples\": [\n          2,\n          3\n        ],\n        \"num_unique_values\": 6,\n        \"semantic_type\": \"\",\n        \"description\": \"\"\n      }\n    }\n  ]\n}"
            }
          },
          "metadata": {},
          "execution_count": 47
        }
      ]
    },
    {
      "cell_type": "code",
      "source": [
        "_ = sns.boxplot(x='day',y='total_bill',hue='smoker',data=tips)"
      ],
      "metadata": {
        "colab": {
          "base_uri": "https://localhost:8080/",
          "height": 458
        },
        "id": "4djXdwiZ2ww8",
        "outputId": "fc2b798f-b571-4490-e92d-0d1521e17228"
      },
      "execution_count": 48,
      "outputs": [
        {
          "output_type": "display_data",
          "data": {
            "text/plain": [
              "<Figure size 640x480 with 1 Axes>"
            ],
            "image/png": "[encoded data removed]"
          },
          "metadata": {}
        }
      ]
    },
    {
      "cell_type": "markdown",
      "source": [
        "##**Measure of Dispersion**"
      ],
      "metadata": {
        "id": "-M8pz1uS624Z"
      }
    },
    {
      "cell_type": "markdown",
      "source": [
        "IQR is a relatively rare measure of the dispersion of values around the center of a distribution. The most widely-used are:\n",
        "\n",
        "* Variance,\n",
        "* Standard deviation, and\n",
        "* Standard error."
      ],
      "metadata": {
        "id": "ycWDnQNu66H5"
      }
    },
    {
      "cell_type": "markdown",
      "source": [
        "**Variance** (denoted with $\\sigma^2$) can be written using expected-value notation, but it's easier to understand without it:\n",
        "$$ \\sigma^2 = \\frac{\\sum_{i=1}^n (x_i-\\bar{x})^2}{n} $$"
      ],
      "metadata": {
        "id": "9FkboP8_69Ns"
      }
    },
    {
      "cell_type": "code",
      "source": [
        "xbar = np.mean(x)\n",
        "xbar"
      ],
      "metadata": {
        "colab": {
          "base_uri": "https://localhost:8080/"
        },
        "id": "iOEVeDIJ3yOY",
        "outputId": "f8f36687-01f6-4c85-d652-4bcb327cd05a"
      },
      "execution_count": 49,
      "outputs": [
        {
          "output_type": "execute_result",
          "data": {
            "text/plain": [
              "0.8219573880882259"
            ]
          },
          "metadata": {},
          "execution_count": 49
        }
      ]
    },
    {
      "cell_type": "code",
      "source": [
        "squared_differences = [(x_i - xbar)**2  for x_i in x]\n"
      ],
      "metadata": {
        "id": "WkdGClTY7YIp"
      },
      "execution_count": 50,
      "outputs": []
    },
    {
      "cell_type": "code",
      "source": [
        "squared_differences[:10]"
      ],
      "metadata": {
        "colab": {
          "base_uri": "https://localhost:8080/"
        },
        "id": "Ce6HpFx77oaK",
        "outputId": "fa2e2e7e-729e-434e-c994-49259e029200"
      },
      "execution_count": 51,
      "outputs": [
        {
          "output_type": "execute_result",
          "data": {
            "text/plain": [
              "[0.9856434536454379,\n",
              " 0.9170226052916489,\n",
              " 0.8965181282231266,\n",
              " 0.8883307031718269,\n",
              " 0.8733501430824243,\n",
              " 0.8562478309191935,\n",
              " 0.8319771034452769,\n",
              " 0.8310929040089835,\n",
              " 0.7863402041234238,\n",
              " 0.7766155393407362]"
            ]
          },
          "metadata": {},
          "execution_count": 51
        }
      ]
    },
    {
      "cell_type": "code",
      "source": [
        "sigma_sq = sum(squared_differences)/len(x)\n",
        "sigma_sq"
      ],
      "metadata": {
        "colab": {
          "base_uri": "https://localhost:8080/"
        },
        "id": "7kU_8NM_7sBV",
        "outputId": "1f70c08a-5c40-4e35-c9bc-5f27a1255acd"
      },
      "execution_count": 52,
      "outputs": [
        {
          "output_type": "execute_result",
          "data": {
            "text/plain": [
              "0.39813585982250543"
            ]
          },
          "metadata": {},
          "execution_count": 52
        }
      ]
    },
    {
      "cell_type": "code",
      "source": [
        "np.var(x)"
      ],
      "metadata": {
        "colab": {
          "base_uri": "https://localhost:8080/"
        },
        "id": "PRzFpDE373nL",
        "outputId": "49f1ca23-352b-45de-cc81-a426d001f0c1"
      },
      "execution_count": 53,
      "outputs": [
        {
          "output_type": "execute_result",
          "data": {
            "text/plain": [
              "0.3981358598225057"
            ]
          },
          "metadata": {},
          "execution_count": 53
        }
      ]
    },
    {
      "cell_type": "markdown",
      "source": [
        "##Standard Deviation"
      ],
      "metadata": {
        "id": "57-4QM-L8uZu"
      }
    },
    {
      "cell_type": "markdown",
      "source": [
        "A straightforward derivative of variance is **standard deviation** (denoted with $\\sigma$), which is convenient because its units are on the same scale as the values in the distribution:\n",
        "$$ \\sigma = \\sqrt{\\sigma^2} $$"
      ],
      "metadata": {
        "id": "6r_Baktm84I_"
      }
    },
    {
      "cell_type": "code",
      "source": [
        "sigma=  sigma_sq **(1/2)\n",
        "sigma"
      ],
      "metadata": {
        "colab": {
          "base_uri": "https://localhost:8080/"
        },
        "id": "GYXY0KKV8Dy4",
        "outputId": "6d947684-79c3-41fd-ed72-1c3315a57cef"
      },
      "execution_count": 54,
      "outputs": [
        {
          "output_type": "execute_result",
          "data": {
            "text/plain": [
              "0.6309800787841923"
            ]
          },
          "metadata": {},
          "execution_count": 54
        }
      ]
    },
    {
      "cell_type": "code",
      "source": [
        "np.std(x)"
      ],
      "metadata": {
        "colab": {
          "base_uri": "https://localhost:8080/"
        },
        "id": "SUihcp8B89Eo",
        "outputId": "c75755bd-69d7-41b2-c1f2-d22c21877168"
      },
      "execution_count": 55,
      "outputs": [
        {
          "output_type": "execute_result",
          "data": {
            "text/plain": [
              "0.6309800787841925"
            ]
          },
          "metadata": {},
          "execution_count": 55
        }
      ]
    },
    {
      "cell_type": "code",
      "source": [
        "fig,ax = plt.subplots()\n",
        "\n",
        "plt.axvline(x = xbar,color='red')\n",
        "plt.axvline(x=xbar+sigma,color='purple')\n",
        "plt.axvline(x=xbar-sigma,color='purple')\n",
        "_ = plt.hist(x,color='lightgray')"
      ],
      "metadata": {
        "colab": {
          "base_uri": "https://localhost:8080/",
          "height": 434
        },
        "id": "fudYlfns8-Cy",
        "outputId": "13f7f305-b446-4332-82a6-01efc403b7c5"
      },
      "execution_count": 56,
      "outputs": [
        {
          "output_type": "display_data",
          "data": {
            "text/plain": [
              "<Figure size 640x480 with 1 Axes>"
            ],
            "image/png": "[encoded data removed]"
          },
          "metadata": {}
        }
      ]
    },
    {
      "cell_type": "markdown",
      "source": [
        "##Standard Error"
      ],
      "metadata": {
        "id": "0dqVuJKt-gKl"
      }
    },
    {
      "cell_type": "markdown",
      "source": [
        "A further derivation of standard deviation is **standard error**, which is denoted with $\\sigma_\\bar{x}$:\n",
        "$$ \\sigma_\\bar{x} = \\frac{\\sigma}{\\sqrt{n}} $$"
      ],
      "metadata": {
        "id": "ZEOhgodA-jI8"
      }
    },
    {
      "cell_type": "code",
      "source": [
        "sigma/(len(x)**(1/2))"
      ],
      "metadata": {
        "colab": {
          "base_uri": "https://localhost:8080/"
        },
        "id": "-5wxk4xc9ozw",
        "outputId": "3c3c4740-ae8f-4fa8-9d1c-9a8edb3931f3"
      },
      "execution_count": 57,
      "outputs": [
        {
          "output_type": "execute_result",
          "data": {
            "text/plain": [
              "0.019953342071505353"
            ]
          },
          "metadata": {},
          "execution_count": 57
        }
      ]
    },
    {
      "cell_type": "code",
      "source": [
        "st.sem(x)  ## defaults to 1 degree of freedom  (n-1)"
      ],
      "metadata": {
        "colab": {
          "base_uri": "https://localhost:8080/"
        },
        "id": "BaS9Xeei-qpL",
        "outputId": "07171b38-997f-4c01-c0a6-6f69c43b4133"
      },
      "execution_count": 58,
      "outputs": [
        {
          "output_type": "execute_result",
          "data": {
            "text/plain": [
              "0.01996332623128527"
            ]
          },
          "metadata": {},
          "execution_count": 58
        }
      ]
    },
    {
      "cell_type": "code",
      "source": [
        "st.sem(x,ddof=0)"
      ],
      "metadata": {
        "colab": {
          "base_uri": "https://localhost:8080/"
        },
        "id": "bkMeFz9V_IkD",
        "outputId": "bdc314a8-60f4-446d-9967-5403393f6c8d"
      },
      "execution_count": 59,
      "outputs": [
        {
          "output_type": "execute_result",
          "data": {
            "text/plain": [
              "0.01995334207150536"
            ]
          },
          "metadata": {},
          "execution_count": 59
        }
      ]
    },
    {
      "cell_type": "markdown",
      "source": [
        "Standard error enables us to compare whether the means of two distributions differ *significantly*, a focus of *Intro to Stats*."
      ],
      "metadata": {
        "id": "S3x06W9r_poV"
      }
    },
    {
      "cell_type": "markdown",
      "source": [
        "##**Measure of Covariance**"
      ],
      "metadata": {
        "id": "vS-xn9nrl_Fb"
      }
    },
    {
      "cell_type": "markdown",
      "source": [
        "If we have two vectors of the same length, $x$ and $y$, where each element of $x$ is paired with the corresponding element of $y$, **covariance** provides a measure of how related the variables are to each other:\n",
        "$$ \\text{cov}(x, y) = \\frac{\\sum_{i=1}^n (x_i - \\bar{x})(y_i - \\bar{y}) }{n} $$"
      ],
      "metadata": {
        "id": "lJLxeIoXmCLJ"
      }
    },
    {
      "cell_type": "code",
      "source": [
        "iris"
      ],
      "metadata": {
        "colab": {
          "base_uri": "https://localhost:8080/",
          "height": 423
        },
        "id": "ZPsGilTK_Mc4",
        "outputId": "a2dfbd2c-eb7b-4317-fdec-0092300f2d27"
      },
      "execution_count": 60,
      "outputs": [
        {
          "output_type": "execute_result",
          "data": {
            "text/plain": [
              "     sepal_length  sepal_width  petal_length  petal_width    species\n",
              "0             5.1          3.5           1.4          0.2     setosa\n",
              "1             4.9          3.0           1.4          0.2     setosa\n",
              "2             4.7          3.2           1.3          0.2     setosa\n",
              "3             4.6          3.1           1.5          0.2     setosa\n",
              "4             5.0          3.6           1.4          0.2     setosa\n",
              "..            ...          ...           ...          ...        ...\n",
              "145           6.7          3.0           5.2          2.3  virginica\n",
              "146           6.3          2.5           5.0          1.9  virginica\n",
              "147           6.5          3.0           5.2          2.0  virginica\n",
              "148           6.2          3.4           5.4          2.3  virginica\n",
              "149           5.9          3.0           5.1          1.8  virginica\n",
              "\n",
              "[150 rows x 5 columns]"
            ],
            "text/html": [
              "\n",
              "  <div id=\"df-2c62fc6b-9b86-4763-8412-756faedf8c68\" class=\"colab-df-container\">\n",
              "    <div>\n",
              "<style scoped>\n",
              "    .dataframe tbody tr th:only-of-type {\n",
              "        vertical-align: middle;\n",
              "    }\n",
              "\n",
              "    .dataframe tbody tr th {\n",
              "        vertical-align: top;\n",
              "    }\n",
              "\n",
              "    .dataframe thead th {\n",
              "        text-align: right;\n",
              "    }\n",
              "</style>\n",
              "<table border=\"1\" class=\"dataframe\">\n",
              "  <thead>\n",
              "    <tr style=\"text-align: right;\">\n",
              "      <th></th>\n",
              "      <th>sepal_length</th>\n",
              "      <th>sepal_width</th>\n",
              "      <th>petal_length</th>\n",
              "      <th>petal_width</th>\n",
              "      <th>species</th>\n",
              "    </tr>\n",
              "  </thead>\n",
              "  <tbody>\n",
              "    <tr>\n",
              "      <th>0</th>\n",
              "      <td>5.1</td>\n",
              "      <td>3.5</td>\n",
              "      <td>1.4</td>\n",
              "      <td>0.2</td>\n",
              "      <td>setosa</td>\n",
              "    </tr>\n",
              "    <tr>\n",
              "      <th>1</th>\n",
              "      <td>4.9</td>\n",
              "      <td>3.0</td>\n",
              "      <td>1.4</td>\n",
              "      <td>0.2</td>\n",
              "      <td>setosa</td>\n",
              "    </tr>\n",
              "    <tr>\n",
              "      <th>2</th>\n",
              "      <td>4.7</td>\n",
              "      <td>3.2</td>\n",
              "      <td>1.3</td>\n",
              "      <td>0.2</td>\n",
              "      <td>setosa</td>\n",
              "    </tr>\n",
              "    <tr>\n",
              "      <th>3</th>\n",
              "      <td>4.6</td>\n",
              "      <td>3.1</td>\n",
              "      <td>1.5</td>\n",
              "      <td>0.2</td>\n",
              "      <td>setosa</td>\n",
              "    </tr>\n",
              "    <tr>\n",
              "      <th>4</th>\n",
              "      <td>5.0</td>\n",
              "      <td>3.6</td>\n",
              "      <td>1.4</td>\n",
              "      <td>0.2</td>\n",
              "      <td>setosa</td>\n",
              "    </tr>\n",
              "    <tr>\n",
              "      <th>...</th>\n",
              "      <td>...</td>\n",
              "      <td>...</td>\n",
              "      <td>...</td>\n",
              "      <td>...</td>\n",
              "      <td>...</td>\n",
              "    </tr>\n",
              "    <tr>\n",
              "      <th>145</th>\n",
              "      <td>6.7</td>\n",
              "      <td>3.0</td>\n",
              "      <td>5.2</td>\n",
              "      <td>2.3</td>\n",
              "      <td>virginica</td>\n",
              "    </tr>\n",
              "    <tr>\n",
              "      <th>146</th>\n",
              "      <td>6.3</td>\n",
              "      <td>2.5</td>\n",
              "      <td>5.0</td>\n",
              "      <td>1.9</td>\n",
              "      <td>virginica</td>\n",
              "    </tr>\n",
              "    <tr>\n",
              "      <th>147</th>\n",
              "      <td>6.5</td>\n",
              "      <td>3.0</td>\n",
              "      <td>5.2</td>\n",
              "      <td>2.0</td>\n",
              "      <td>virginica</td>\n",
              "    </tr>\n",
              "    <tr>\n",
              "      <th>148</th>\n",
              "      <td>6.2</td>\n",
              "      <td>3.4</td>\n",
              "      <td>5.4</td>\n",
              "      <td>2.3</td>\n",
              "      <td>virginica</td>\n",
              "    </tr>\n",
              "    <tr>\n",
              "      <th>149</th>\n",
              "      <td>5.9</td>\n",
              "      <td>3.0</td>\n",
              "      <td>5.1</td>\n",
              "      <td>1.8</td>\n",
              "      <td>virginica</td>\n",
              "    </tr>\n",
              "  </tbody>\n",
              "</table>\n",
              "<p>150 rows × 5 columns</p>\n",
              "</div>\n",
              "    <div class=\"colab-df-buttons\">\n",
              "\n",
              "  <div class=\"colab-df-container\">\n",
              "    <button class=\"colab-df-convert\" onclick=\"convertToInteractive('df-2c62fc6b-9b86-4763-8412-756faedf8c68')\"\n",
              "            title=\"Convert this dataframe to an interactive table.\"\n",
              "            style=\"display:none;\">\n",
              "\n",
              "  <svg xmlns=\"http://www.w3.org/2000/svg\" height=\"24px\" viewBox=\"0 -960 960 960\">\n",
              "    <path d=\"M120-120v-720h720v720H120Zm60-500h600v-160H180v160Zm220 220h160v-160H400v160Zm0 220h160v-160H400v160ZM180-400h160v-160H180v160Zm440 0h160v-160H620v160ZM180-180h160v-160H180v160Zm440 0h160v-160H620v160Z\"/>\n",
              "  </svg>\n",
              "    </button>\n",
              "\n",
              "  <style>\n",
              "    .colab-df-container {\n",
              "      display:flex;\n",
              "      gap: 12px;\n",
              "    }\n",
              "\n",
              "    .colab-df-convert {\n",
              "      background-color: #E8F0FE;\n",
              "      border: none;\n",
              "      border-radius: 50%;\n",
              "      cursor: pointer;\n",
              "      display: none;\n",
              "      fill: #1967D2;\n",
              "      height: 32px;\n",
              "      padding: 0 0 0 0;\n",
              "      width: 32px;\n",
              "    }\n",
              "\n",
              "    .colab-df-convert:hover {\n",
              "      background-color: #E2EBFA;\n",
              "      box-shadow: 0px 1px 2px rgba(60, 64, 67, 0.3), 0px 1px 3px 1px rgba(60, 64, 67, 0.15);\n",
              "      fill: #174EA6;\n",
              "    }\n",
              "\n",
              "    .colab-df-buttons div {\n",
              "      margin-bottom: 4px;\n",
              "    }\n",
              "\n",
              "    [theme=dark] .colab-df-convert {\n",
              "      background-color: #3B4455;\n",
              "      fill: #D2E3FC;\n",
              "    }\n",
              "\n",
              "    [theme=dark] .colab-df-convert:hover {\n",
              "      background-color: #434B5C;\n",
              "      box-shadow: 0px 1px 3px 1px rgba(0, 0, 0, 0.15);\n",
              "      filter: drop-shadow(0px 1px 2px rgba(0, 0, 0, 0.3));\n",
              "      fill: #FFFFFF;\n",
              "    }\n",
              "  </style>\n",
              "\n",
              "    <script>\n",
              "      const buttonEl =\n",
              "        document.querySelector('#df-2c62fc6b-9b86-4763-8412-756faedf8c68 button.colab-df-convert');\n",
              "      buttonEl.style.display =\n",
              "        google.colab.kernel.accessAllowed ? 'block' : 'none';\n",
              "\n",
              "      async function convertToInteractive(key) {\n",
              "        const element = document.querySelector('#df-2c62fc6b-9b86-4763-8412-756faedf8c68');\n",
              "        const dataTable =\n",
              "          await google.colab.kernel.invokeFunction('convertToInteractive',\n",
              "                                                    [key], {});\n",
              "        if (!dataTable) return;\n",
              "\n",
              "        const docLinkHtml = 'Like what you see? Visit the ' +\n",
              "          '<a target=\"_blank\" href=https://colab.research.google.com/notebooks/data_table.ipynb>data table notebook</a>'\n",
              "          + ' to learn more about interactive tables.';\n",
              "        element.innerHTML = '';\n",
              "        dataTable['output_type'] = 'display_data';\n",
              "        await google.colab.output.renderOutput(dataTable, element);\n",
              "        const docLink = document.createElement('div');\n",
              "        docLink.innerHTML = docLinkHtml;\n",
              "        element.appendChild(docLink);\n",
              "      }\n",
              "    </script>\n",
              "  </div>\n",
              "\n",
              "\n",
              "<div id=\"df-12e3cfe7-ca49-45ed-a4db-751cdf09409a\">\n",
              "  <button class=\"colab-df-quickchart\" onclick=\"quickchart('df-12e3cfe7-ca49-45ed-a4db-751cdf09409a')\"\n",
              "            title=\"Suggest charts\"\n",
              "            style=\"display:none;\">\n",
              "\n",
              "<svg xmlns=\"http://www.w3.org/2000/svg\" height=\"24px\"viewBox=\"0 0 24 24\"\n",
              "     width=\"24px\">\n",
              "    <g>\n",
              "        <path d=\"M19 3H5c-1.1 0-2 .9-2 2v14c0 1.1.9 2 2 2h14c1.1 0 2-.9 2-2V5c0-1.1-.9-2-2-2zM9 17H7v-7h2v7zm4 0h-2V7h2v10zm4 0h-2v-4h2v4z\"/>\n",
              "    </g>\n",
              "</svg>\n",
              "  </button>\n",
              "\n",
              "<style>\n",
              "  .colab-df-quickchart {\n",
              "      --bg-color: #E8F0FE;\n",
              "      --fill-color: #1967D2;\n",
              "      --hover-bg-color: #E2EBFA;\n",
              "      --hover-fill-color: #174EA6;\n",
              "      --disabled-fill-color: #AAA;\n",
              "      --disabled-bg-color: #DDD;\n",
              "  }\n",
              "\n",
              "  [theme=dark] .colab-df-quickchart {\n",
              "      --bg-color: #3B4455;\n",
              "      --fill-color: #D2E3FC;\n",
              "      --hover-bg-color: #434B5C;\n",
              "      --hover-fill-color: #FFFFFF;\n",
              "      --disabled-bg-color: #3B4455;\n",
              "      --disabled-fill-color: #666;\n",
              "  }\n",
              "\n",
              "  .colab-df-quickchart {\n",
              "    background-color: var(--bg-color);\n",
              "    border: none;\n",
              "    border-radius: 50%;\n",
              "    cursor: pointer;\n",
              "    display: none;\n",
              "    fill: var(--fill-color);\n",
              "    height: 32px;\n",
              "    padding: 0;\n",
              "    width: 32px;\n",
              "  }\n",
              "\n",
              "  .colab-df-quickchart:hover {\n",
              "    background-color: var(--hover-bg-color);\n",
              "    box-shadow: 0 1px 2px rgba(60, 64, 67, 0.3), 0 1px 3px 1px rgba(60, 64, 67, 0.15);\n",
              "    fill: var(--button-hover-fill-color);\n",
              "  }\n",
              "\n",
              "  .colab-df-quickchart-complete:disabled,\n",
              "  .colab-df-quickchart-complete:disabled:hover {\n",
              "    background-color: var(--disabled-bg-color);\n",
              "    fill: var(--disabled-fill-color);\n",
              "    box-shadow: none;\n",
              "  }\n",
              "\n",
              "  .colab-df-spinner {\n",
              "    border: 2px solid var(--fill-color);\n",
              "    border-color: transparent;\n",
              "    border-bottom-color: var(--fill-color);\n",
              "    animation:\n",
              "      spin 1s steps(1) infinite;\n",
              "  }\n",
              "\n",
              "  @keyframes spin {\n",
              "    0% {\n",
              "      border-color: transparent;\n",
              "      border-bottom-color: var(--fill-color);\n",
              "      border-left-color: var(--fill-color);\n",
              "    }\n",
              "    20% {\n",
              "      border-color: transparent;\n",
              "      border-left-color: var(--fill-color);\n",
              "      border-top-color: var(--fill-color);\n",
              "    }\n",
              "    30% {\n",
              "      border-color: transparent;\n",
              "      border-left-color: var(--fill-color);\n",
              "      border-top-color: var(--fill-color);\n",
              "      border-right-color: var(--fill-color);\n",
              "    }\n",
              "    40% {\n",
              "      border-color: transparent;\n",
              "      border-right-color: var(--fill-color);\n",
              "      border-top-color: var(--fill-color);\n",
              "    }\n",
              "    60% {\n",
              "      border-color: transparent;\n",
              "      border-right-color: var(--fill-color);\n",
              "    }\n",
              "    80% {\n",
              "      border-color: transparent;\n",
              "      border-right-color: var(--fill-color);\n",
              "      border-bottom-color: var(--fill-color);\n",
              "    }\n",
              "    90% {\n",
              "      border-color: transparent;\n",
              "      border-bottom-color: var(--fill-color);\n",
              "    }\n",
              "  }\n",
              "</style>\n",
              "\n",
              "  <script>\n",
              "    async function quickchart(key) {\n",
              "      const quickchartButtonEl =\n",
              "        document.querySelector('#' + key + ' button');\n",
              "      quickchartButtonEl.disabled = true;  // To prevent multiple clicks.\n",
              "      quickchartButtonEl.classList.add('colab-df-spinner');\n",
              "      try {\n",
              "        const charts = await google.colab.kernel.invokeFunction(\n",
              "            'suggestCharts', [key], {});\n",
              "      } catch (error) {\n",
              "        console.error('Error during call to suggestCharts:', error);\n",
              "      }\n",
              "      quickchartButtonEl.classList.remove('colab-df-spinner');\n",
              "      quickchartButtonEl.classList.add('colab-df-quickchart-complete');\n",
              "    }\n",
              "    (() => {\n",
              "      let quickchartButtonEl =\n",
              "        document.querySelector('#df-12e3cfe7-ca49-45ed-a4db-751cdf09409a button');\n",
              "      quickchartButtonEl.style.display =\n",
              "        google.colab.kernel.accessAllowed ? 'block' : 'none';\n",
              "    })();\n",
              "  </script>\n",
              "</div>\n",
              "\n",
              "  <div id=\"id_36d9719a-fcd9-4308-ac9b-e13b10e447a4\">\n",
              "    <style>\n",
              "      .colab-df-generate {\n",
              "        background-color: #E8F0FE;\n",
              "        border: none;\n",
              "        border-radius: 50%;\n",
              "        cursor: pointer;\n",
              "        display: none;\n",
              "        fill: #1967D2;\n",
              "        height: 32px;\n",
              "        padding: 0 0 0 0;\n",
              "        width: 32px;\n",
              "      }\n",
              "\n",
              "      .colab-df-generate:hover {\n",
              "        background-color: #E2EBFA;\n",
              "        box-shadow: 0px 1px 2px rgba(60, 64, 67, 0.3), 0px 1px 3px 1px rgba(60, 64, 67, 0.15);\n",
              "        fill: #174EA6;\n",
              "      }\n",
              "\n",
              "      [theme=dark] .colab-df-generate {\n",
              "        background-color: #3B4455;\n",
              "        fill: #D2E3FC;\n",
              "      }\n",
              "\n",
              "      [theme=dark] .colab-df-generate:hover {\n",
              "        background-color: #434B5C;\n",
              "        box-shadow: 0px 1px 3px 1px rgba(0, 0, 0, 0.15);\n",
              "        filter: drop-shadow(0px 1px 2px rgba(0, 0, 0, 0.3));\n",
              "        fill: #FFFFFF;\n",
              "      }\n",
              "    </style>\n",
              "    <button class=\"colab-df-generate\" onclick=\"generateWithVariable('iris')\"\n",
              "            title=\"Generate code using this dataframe.\"\n",
              "            style=\"display:none;\">\n",
              "\n",
              "  <svg xmlns=\"http://www.w3.org/2000/svg\" height=\"24px\"viewBox=\"0 0 24 24\"\n",
              "       width=\"24px\">\n",
              "    <path d=\"M7,19H8.4L18.45,9,17,7.55,7,17.6ZM5,21V16.75L18.45,3.32a2,2,0,0,1,2.83,0l1.4,1.43a1.91,1.91,0,0,1,.58,1.4,1.91,1.91,0,0,1-.58,1.4L9.25,21ZM18.45,9,17,7.55Zm-12,3A5.31,5.31,0,0,0,4.9,8.1,5.31,5.31,0,0,0,1,6.5,5.31,5.31,0,0,0,4.9,4.9,5.31,5.31,0,0,0,6.5,1,5.31,5.31,0,0,0,8.1,4.9,5.31,5.31,0,0,0,12,6.5,5.46,5.46,0,0,0,6.5,12Z\"/>\n",
              "  </svg>\n",
              "    </button>\n",
              "    <script>\n",
              "      (() => {\n",
              "      const buttonEl =\n",
              "        document.querySelector('#id_36d9719a-fcd9-4308-ac9b-e13b10e447a4 button.colab-df-generate');\n",
              "      buttonEl.style.display =\n",
              "        google.colab.kernel.accessAllowed ? 'block' : 'none';\n",
              "\n",
              "      buttonEl.onclick = () => {\n",
              "        google.colab.notebook.generateWithVariable('iris');\n",
              "      }\n",
              "      })();\n",
              "    </script>\n",
              "  </div>\n",
              "\n",
              "    </div>\n",
              "  </div>\n"
            ],
            "application/vnd.google.colaboratory.intrinsic+json": {
              "type": "dataframe",
              "variable_name": "iris",
              "summary": "{\n  \"name\": \"iris\",\n  \"rows\": 150,\n  \"fields\": [\n    {\n      \"column\": \"sepal_length\",\n      \"properties\": {\n        \"dtype\": \"number\",\n        \"std\": 0.828066127977863,\n        \"min\": 4.3,\n        \"max\": 7.9,\n        \"samples\": [\n          6.2,\n          4.5,\n          5.6\n        ],\n        \"num_unique_values\": 35,\n        \"semantic_type\": \"\",\n        \"description\": \"\"\n      }\n    },\n    {\n      \"column\": \"sepal_width\",\n      \"properties\": {\n        \"dtype\": \"number\",\n        \"std\": 0.4358662849366982,\n        \"min\": 2.0,\n        \"max\": 4.4,\n        \"samples\": [\n          2.3,\n          4.0,\n          3.5\n        ],\n        \"num_unique_values\": 23,\n        \"semantic_type\": \"\",\n        \"description\": \"\"\n      }\n    },\n    {\n      \"column\": \"petal_length\",\n      \"properties\": {\n        \"dtype\": \"number\",\n        \"std\": 1.7652982332594662,\n        \"min\": 1.0,\n        \"max\": 6.9,\n        \"samples\": [\n          6.7,\n          3.8,\n          3.7\n        ],\n        \"num_unique_values\": 43,\n        \"semantic_type\": \"\",\n        \"description\": \"\"\n      }\n    },\n    {\n      \"column\": \"petal_width\",\n      \"properties\": {\n        \"dtype\": \"number\",\n        \"std\": 0.7622376689603465,\n        \"min\": 0.1,\n        \"max\": 2.5,\n        \"samples\": [\n          0.2,\n          1.2,\n          1.3\n        ],\n        \"num_unique_values\": 22,\n        \"semantic_type\": \"\",\n        \"description\": \"\"\n      }\n    },\n    {\n      \"column\": \"species\",\n      \"properties\": {\n        \"dtype\": \"category\",\n        \"samples\": [\n          \"setosa\",\n          \"versicolor\",\n          \"virginica\"\n        ],\n        \"num_unique_values\": 3,\n        \"semantic_type\": \"\",\n        \"description\": \"\"\n      }\n    }\n  ]\n}"
            }
          },
          "metadata": {},
          "execution_count": 60
        }
      ]
    },
    {
      "cell_type": "code",
      "source": [
        "type(iris)"
      ],
      "metadata": {
        "colab": {
          "base_uri": "https://localhost:8080/"
        },
        "id": "rYD-qfatmHE6",
        "outputId": "d0fe8b1e-e492-4379-dabf-aa31c8ad40dc"
      },
      "execution_count": 62,
      "outputs": [
        {
          "output_type": "execute_result",
          "data": {
            "text/plain": [
              "pandas.core.frame.DataFrame"
            ]
          },
          "metadata": {},
          "execution_count": 62
        }
      ]
    },
    {
      "cell_type": "code",
      "source": [
        "x = iris.sepal_length\n",
        "y = iris.petal_length"
      ],
      "metadata": {
        "id": "PGBeODk2mK0z"
      },
      "execution_count": 63,
      "outputs": []
    },
    {
      "cell_type": "code",
      "source": [
        "_ = sns.scatterplot(x=x,y=y)"
      ],
      "metadata": {
        "colab": {
          "base_uri": "https://localhost:8080/",
          "height": 458
        },
        "id": "u_FYnJVZm7An",
        "outputId": "f99fcaaf-e6bc-45ca-f119-1818a224c416"
      },
      "execution_count": 65,
      "outputs": [
        {
          "output_type": "display_data",
          "data": {
            "text/plain": [
              "<Figure size 640x480 with 1 Axes>"
            ],
            "image/png": "[encoded data removed]"
          },
          "metadata": {}
        }
      ]
    },
    {
      "cell_type": "code",
      "source": [
        "n = len(x)\n",
        "n"
      ],
      "metadata": {
        "colab": {
          "base_uri": "https://localhost:8080/"
        },
        "id": "OSq63MhHnA21",
        "outputId": "f71f15d4-00ee-4759-983b-6c660345f674"
      },
      "execution_count": 66,
      "outputs": [
        {
          "output_type": "execute_result",
          "data": {
            "text/plain": [
              "150"
            ]
          },
          "metadata": {},
          "execution_count": 66
        }
      ]
    },
    {
      "cell_type": "code",
      "source": [
        "xbar = sum(x)/n\n",
        "ybar = sum(y)/n"
      ],
      "metadata": {
        "id": "QQiMfCvnnQvJ"
      },
      "execution_count": 67,
      "outputs": []
    },
    {
      "cell_type": "code",
      "source": [
        "cov = []\n",
        "for nm in range(n):\n",
        "  cov.append((y[nm]-ybar)*(x[nm]-xbar))"
      ],
      "metadata": {
        "id": "As5NnJwxnX6j"
      },
      "execution_count": 68,
      "outputs": []
    },
    {
      "cell_type": "code",
      "source": [
        "covariance = sum(cov)/n\n",
        "covariance"
      ],
      "metadata": {
        "colab": {
          "base_uri": "https://localhost:8080/"
        },
        "id": "MTucNtU1oT1c",
        "outputId": "b2f8ec98-be1e-443a-87b1-1f89695b6477"
      },
      "execution_count": 70,
      "outputs": [
        {
          "output_type": "execute_result",
          "data": {
            "text/plain": [
              "1.2658199999999995"
            ]
          },
          "metadata": {},
          "execution_count": 70
        }
      ]
    },
    {
      "cell_type": "markdown",
      "source": [
        "## The Numpy cov() method returns covariance matrix, 2 x 2, bcz x and y together describes a 2d space:"
      ],
      "metadata": {
        "id": "agFUM5CbpFTm"
      }
    },
    {
      "cell_type": "code",
      "source": [
        "np.cov(x,y,ddof=0)"
      ],
      "metadata": {
        "colab": {
          "base_uri": "https://localhost:8080/"
        },
        "id": "pmBu3AIDoVG4",
        "outputId": "8bf3e164-f94b-47cc-92a2-3ca2f59ae824"
      },
      "execution_count": 71,
      "outputs": [
        {
          "output_type": "execute_result",
          "data": {
            "text/plain": [
              "array([[0.68112222, 1.26582   ],\n",
              "       [1.26582   , 3.09550267]])"
            ]
          },
          "metadata": {},
          "execution_count": 71
        }
      ]
    },
    {
      "cell_type": "markdown",
      "source": [
        "### The diagonal elemnts,,, represent the variance of x and y respectively"
      ],
      "metadata": {
        "id": "Vn8pyoQ5pwpV"
      }
    },
    {
      "cell_type": "code",
      "source": [
        "np.var(x)"
      ],
      "metadata": {
        "colab": {
          "base_uri": "https://localhost:8080/"
        },
        "id": "QRFUk8FSpiRh",
        "outputId": "3b611295-52d6-4cc3-e0b7-48fdb607c4d1"
      },
      "execution_count": 72,
      "outputs": [
        {
          "output_type": "execute_result",
          "data": {
            "text/plain": [
              "0.6811222222222223"
            ]
          },
          "metadata": {},
          "execution_count": 72
        }
      ]
    },
    {
      "cell_type": "code",
      "source": [
        "np.var(y)"
      ],
      "metadata": {
        "colab": {
          "base_uri": "https://localhost:8080/"
        },
        "id": "FWeljIU9qCkv",
        "outputId": "b42abb29-421c-4291-d0ee-c69146530109"
      },
      "execution_count": 73,
      "outputs": [
        {
          "output_type": "execute_result",
          "data": {
            "text/plain": [
              "3.0955026666666665"
            ]
          },
          "metadata": {},
          "execution_count": 73
        }
      ]
    },
    {
      "cell_type": "markdown",
      "source": [
        "If covariance is positive it means there is a directly proportional relation bw them. if its negative, it means they are inversely proportional.\n",
        "### the less related they are, the closer their variance is to zero"
      ],
      "metadata": {
        "id": "J3JVaJCuqupG"
      }
    },
    {
      "cell_type": "code",
      "source": [
        "_ = sns.scatterplot(x=iris.sepal_length,y= iris.sepal_width)"
      ],
      "metadata": {
        "colab": {
          "base_uri": "https://localhost:8080/",
          "height": 461
        },
        "id": "39KAvQaBqDXk",
        "outputId": "60a5108d-e0f9-4ae3-b992-d41e63aaa4c4"
      },
      "execution_count": 76,
      "outputs": [
        {
          "output_type": "display_data",
          "data": {
            "text/plain": [
              "<Figure size 640x480 with 1 Axes>"
            ],
            "image/png": "[encoded data removed]"
          },
          "metadata": {}
        }
      ]
    },
    {
      "cell_type": "code",
      "source": [
        "np.cov(iris.sepal_length, iris.sepal_width)"
      ],
      "metadata": {
        "colab": {
          "base_uri": "https://localhost:8080/"
        },
        "id": "d2o_UvG9rIum",
        "outputId": "ebbd4dda-5394-433b-cc78-aa3e38a7eb22"
      },
      "execution_count": 77,
      "outputs": [
        {
          "output_type": "execute_result",
          "data": {
            "text/plain": [
              "array([[ 0.68569351, -0.042434  ],\n",
              "       [-0.042434  ,  0.18997942]])"
            ]
          },
          "metadata": {},
          "execution_count": 77
        }
      ]
    },
    {
      "cell_type": "code",
      "source": [],
      "metadata": {
        "id": "nwD17vK_rmfK"
      },
      "execution_count": null,
      "outputs": []
    }
  ]
}